{
 "cells": [
  {
   "cell_type": "markdown",
   "metadata": {},
   "source": [
    "**Анализ оттока клиентов банка \"Метанпром\"**"
   ]
  },
  {
   "cell_type": "markdown",
   "metadata": {},
   "source": [
    "**Презентация:** https://disk.yandex.ru/i/rceVLHv4K7OQUA\n",
    "\n",
    "**Дашборд:** https://public.tableau.com/views/_16893628903740/Dashboard12?:language=en-US&:display_count=n&:origin=viz_share_link"
   ]
  },
  {
   "cell_type": "markdown",
   "metadata": {},
   "source": [
    "**Цель:**\n",
    "\n",
    "Проанализировать клиентов регионального банка и выделить сегменты клиентов, которые склонны уходить из банка и дать рекомендации по их удержанию."
   ]
  },
  {
   "cell_type": "markdown",
   "metadata": {},
   "source": [
    "**Задачи:**\n",
    "\n",
    "1. Провести исследовательский анализ данных.\n",
    "2. Выделить сегменты клиентов, которые склонны уходить из банка.\n",
    "3. Сформулировать и проверить статистические гипотезы.\n",
    "4. Дать рекомендации по удержанию клиентов."
   ]
  },
  {
   "cell_type": "markdown",
   "metadata": {},
   "source": [
    "**Шаг 1.** Загрузим библиотеки и посмотрим на данные.\n",
    "\n",
    "**Шаг 2.** Предобработаем данные.\n",
    "\n",
    "**Шаг 3.** Проведем исследовательский анализ данных.\n",
    "\n",
    "**Шаг 4.** Проверим гипотезы:\n",
    "- гипотеза различия дохода между теми клиентами, которые ушли и теми, которые остались;\n",
    "- гипотеза о различии активности клиентов, которые ушли с теми, которые остались;\n",
    "- гипотеза о различии количества используемых банковских продуктов клиентов которые ушли, с теми, которые остались.\n",
    "\n",
    "**Шаг 5.** Составим высокоотточные сегменты клиентов, которые склонны уходить из банка.\n",
    "\n",
    "**Шаг 6.** Итоговые выводы и рекомендации для отдела маркетинга."
   ]
  },
  {
   "cell_type": "markdown",
   "metadata": {},
   "source": [
    "**Описание данных**\n",
    "\n",
    "Датасет содержит данные о клиентах банка \"Метанпром\". Банк располагается в Ярославле и областных городах: Ростов Великий и Рыбинск.\n",
    "\n",
    "Колонки:\n",
    "- **userid** - идентификатор пользователя,\n",
    "- **score** - баллы кредитного скоринга,\n",
    "- **City** - город,\n",
    "- **Gender** - пол,\n",
    "- **Age** - возраст,\n",
    "- **equity** - количество баллов собственности,\n",
    "- **Balance** - баланс на счёте,\n",
    "- **Products** - количество продуктов, которыми пользуется клиент,\n",
    "- **Credit_Card** - есть ли кредитная карта,\n",
    "- **last_activity** - активный клиент,\n",
    "- **estimated_salary** - заработная плата клиента,\n",
    "- **Churn** - ушёл или нет."
   ]
  },
  {
   "cell_type": "markdown",
   "metadata": {},
   "source": [
    "**1. Загрузим библиотеки и посмотрим на данные**"
   ]
  },
  {
   "cell_type": "code",
   "execution_count": 1,
   "metadata": {},
   "outputs": [],
   "source": [
    "# Импортируем библиотеки\n",
    "import pandas as pd\n",
    "import matplotlib.pyplot as plt\n",
    "import matplotlib.ticker as ticker\n",
    "import seaborn as sns\n",
    "import numpy as np\n",
    "import warnings\n",
    "import scipy.stats as st\n",
    "import math as mth"
   ]
  },
  {
   "cell_type": "code",
   "execution_count": 2,
   "metadata": {},
   "outputs": [
    {
     "data": {
      "text/html": [
       "<div>\n",
       "<style scoped>\n",
       "    .dataframe tbody tr th:only-of-type {\n",
       "        vertical-align: middle;\n",
       "    }\n",
       "\n",
       "    .dataframe tbody tr th {\n",
       "        vertical-align: top;\n",
       "    }\n",
       "\n",
       "    .dataframe thead th {\n",
       "        text-align: right;\n",
       "    }\n",
       "</style>\n",
       "<table border=\"1\" class=\"dataframe\">\n",
       "  <thead>\n",
       "    <tr style=\"text-align: right;\">\n",
       "      <th></th>\n",
       "      <th>USERID</th>\n",
       "      <th>score</th>\n",
       "      <th>city</th>\n",
       "      <th>gender</th>\n",
       "      <th>age</th>\n",
       "      <th>equity</th>\n",
       "      <th>balance</th>\n",
       "      <th>products</th>\n",
       "      <th>credit_card</th>\n",
       "      <th>last_activity</th>\n",
       "      <th>EST_SALARY</th>\n",
       "      <th>churn</th>\n",
       "    </tr>\n",
       "  </thead>\n",
       "  <tbody>\n",
       "    <tr>\n",
       "      <th>0</th>\n",
       "      <td>183012</td>\n",
       "      <td>850.0</td>\n",
       "      <td>Рыбинск</td>\n",
       "      <td>Ж</td>\n",
       "      <td>25.0</td>\n",
       "      <td>1</td>\n",
       "      <td>59214.82</td>\n",
       "      <td>2</td>\n",
       "      <td>0</td>\n",
       "      <td>1</td>\n",
       "      <td>75719.14</td>\n",
       "      <td>1</td>\n",
       "    </tr>\n",
       "    <tr>\n",
       "      <th>1</th>\n",
       "      <td>146556</td>\n",
       "      <td>861.0</td>\n",
       "      <td>Рыбинск</td>\n",
       "      <td>Ж</td>\n",
       "      <td>37.0</td>\n",
       "      <td>5</td>\n",
       "      <td>850594.33</td>\n",
       "      <td>3</td>\n",
       "      <td>1</td>\n",
       "      <td>0</td>\n",
       "      <td>86621.77</td>\n",
       "      <td>0</td>\n",
       "    </tr>\n",
       "    <tr>\n",
       "      <th>2</th>\n",
       "      <td>120722</td>\n",
       "      <td>892.0</td>\n",
       "      <td>Рыбинск</td>\n",
       "      <td>Ж</td>\n",
       "      <td>30.0</td>\n",
       "      <td>0</td>\n",
       "      <td>NaN</td>\n",
       "      <td>1</td>\n",
       "      <td>1</td>\n",
       "      <td>1</td>\n",
       "      <td>107683.34</td>\n",
       "      <td>0</td>\n",
       "    </tr>\n",
       "    <tr>\n",
       "      <th>3</th>\n",
       "      <td>225363</td>\n",
       "      <td>866.0</td>\n",
       "      <td>Ярославль</td>\n",
       "      <td>Ж</td>\n",
       "      <td>51.0</td>\n",
       "      <td>5</td>\n",
       "      <td>1524746.26</td>\n",
       "      <td>2</td>\n",
       "      <td>0</td>\n",
       "      <td>1</td>\n",
       "      <td>174423.53</td>\n",
       "      <td>1</td>\n",
       "    </tr>\n",
       "    <tr>\n",
       "      <th>4</th>\n",
       "      <td>157978</td>\n",
       "      <td>730.0</td>\n",
       "      <td>Ярославль</td>\n",
       "      <td>М</td>\n",
       "      <td>34.0</td>\n",
       "      <td>5</td>\n",
       "      <td>174.00</td>\n",
       "      <td>1</td>\n",
       "      <td>1</td>\n",
       "      <td>0</td>\n",
       "      <td>67353.16</td>\n",
       "      <td>1</td>\n",
       "    </tr>\n",
       "    <tr>\n",
       "      <th>...</th>\n",
       "      <td>...</td>\n",
       "      <td>...</td>\n",
       "      <td>...</td>\n",
       "      <td>...</td>\n",
       "      <td>...</td>\n",
       "      <td>...</td>\n",
       "      <td>...</td>\n",
       "      <td>...</td>\n",
       "      <td>...</td>\n",
       "      <td>...</td>\n",
       "      <td>...</td>\n",
       "      <td>...</td>\n",
       "    </tr>\n",
       "    <tr>\n",
       "      <th>9995</th>\n",
       "      <td>120553</td>\n",
       "      <td>814.0</td>\n",
       "      <td>Рыбинск</td>\n",
       "      <td>М</td>\n",
       "      <td>27.0</td>\n",
       "      <td>1</td>\n",
       "      <td>78144.65</td>\n",
       "      <td>1</td>\n",
       "      <td>0</td>\n",
       "      <td>1</td>\n",
       "      <td>18943.64</td>\n",
       "      <td>0</td>\n",
       "    </tr>\n",
       "    <tr>\n",
       "      <th>9996</th>\n",
       "      <td>139170</td>\n",
       "      <td>894.0</td>\n",
       "      <td>Ярославль</td>\n",
       "      <td>М</td>\n",
       "      <td>46.0</td>\n",
       "      <td>0</td>\n",
       "      <td>NaN</td>\n",
       "      <td>1</td>\n",
       "      <td>1</td>\n",
       "      <td>0</td>\n",
       "      <td>196898.29</td>\n",
       "      <td>0</td>\n",
       "    </tr>\n",
       "    <tr>\n",
       "      <th>9997</th>\n",
       "      <td>115639</td>\n",
       "      <td>903.0</td>\n",
       "      <td>Ярославль</td>\n",
       "      <td>М</td>\n",
       "      <td>24.0</td>\n",
       "      <td>0</td>\n",
       "      <td>NaN</td>\n",
       "      <td>2</td>\n",
       "      <td>1</td>\n",
       "      <td>1</td>\n",
       "      <td>108905.09</td>\n",
       "      <td>0</td>\n",
       "    </tr>\n",
       "    <tr>\n",
       "      <th>9998</th>\n",
       "      <td>148700</td>\n",
       "      <td>777.0</td>\n",
       "      <td>Ярославль</td>\n",
       "      <td>Ж</td>\n",
       "      <td>68.0</td>\n",
       "      <td>3</td>\n",
       "      <td>865457.97</td>\n",
       "      <td>3</td>\n",
       "      <td>0</td>\n",
       "      <td>1</td>\n",
       "      <td>86874.90</td>\n",
       "      <td>0</td>\n",
       "    </tr>\n",
       "    <tr>\n",
       "      <th>9999</th>\n",
       "      <td>96267</td>\n",
       "      <td>828.0</td>\n",
       "      <td>Рыбинск</td>\n",
       "      <td>Ж</td>\n",
       "      <td>58.0</td>\n",
       "      <td>3</td>\n",
       "      <td>1180886.70</td>\n",
       "      <td>4</td>\n",
       "      <td>0</td>\n",
       "      <td>1</td>\n",
       "      <td>21422.37</td>\n",
       "      <td>0</td>\n",
       "    </tr>\n",
       "  </tbody>\n",
       "</table>\n",
       "<p>10000 rows × 12 columns</p>\n",
       "</div>"
      ],
      "text/plain": [
       "      USERID  score       city gender   age  equity     balance  products  \\\n",
       "0     183012  850.0    Рыбинск      Ж  25.0       1    59214.82         2   \n",
       "1     146556  861.0    Рыбинск      Ж  37.0       5   850594.33         3   \n",
       "2     120722  892.0    Рыбинск      Ж  30.0       0         NaN         1   \n",
       "3     225363  866.0  Ярославль      Ж  51.0       5  1524746.26         2   \n",
       "4     157978  730.0  Ярославль      М  34.0       5      174.00         1   \n",
       "...      ...    ...        ...    ...   ...     ...         ...       ...   \n",
       "9995  120553  814.0    Рыбинск      М  27.0       1    78144.65         1   \n",
       "9996  139170  894.0  Ярославль      М  46.0       0         NaN         1   \n",
       "9997  115639  903.0  Ярославль      М  24.0       0         NaN         2   \n",
       "9998  148700  777.0  Ярославль      Ж  68.0       3   865457.97         3   \n",
       "9999   96267  828.0    Рыбинск      Ж  58.0       3  1180886.70         4   \n",
       "\n",
       "      credit_card  last_activity  EST_SALARY  churn  \n",
       "0               0              1    75719.14      1  \n",
       "1               1              0    86621.77      0  \n",
       "2               1              1   107683.34      0  \n",
       "3               0              1   174423.53      1  \n",
       "4               1              0    67353.16      1  \n",
       "...           ...            ...         ...    ...  \n",
       "9995            0              1    18943.64      0  \n",
       "9996            1              0   196898.29      0  \n",
       "9997            1              1   108905.09      0  \n",
       "9998            0              1    86874.90      0  \n",
       "9999            0              1    21422.37      0  \n",
       "\n",
       "[10000 rows x 12 columns]"
      ]
     },
     "execution_count": 2,
     "metadata": {},
     "output_type": "execute_result"
    }
   ],
   "source": [
    "# Загрузим датасет и посмотрим на данные\n",
    "data = pd.read_csv('https://code.s3.yandex.net/datasets/bank_scrooge.csv')\n",
    "data"
   ]
  },
  {
   "cell_type": "code",
   "execution_count": 3,
   "metadata": {},
   "outputs": [
    {
     "name": "stdout",
     "output_type": "stream",
     "text": [
      "<class 'pandas.core.frame.DataFrame'>\n",
      "RangeIndex: 10000 entries, 0 to 9999\n",
      "Data columns (total 12 columns):\n",
      " #   Column         Non-Null Count  Dtype  \n",
      "---  ------         --------------  -----  \n",
      " 0   USERID         10000 non-null  int64  \n",
      " 1   score          10000 non-null  float64\n",
      " 2   city           10000 non-null  object \n",
      " 3   gender         10000 non-null  object \n",
      " 4   age            9974 non-null   float64\n",
      " 5   equity         10000 non-null  int64  \n",
      " 6   balance        7705 non-null   float64\n",
      " 7   products       10000 non-null  int64  \n",
      " 8   credit_card    10000 non-null  int64  \n",
      " 9   last_activity  10000 non-null  int64  \n",
      " 10  EST_SALARY     10000 non-null  float64\n",
      " 11  churn          10000 non-null  int64  \n",
      "dtypes: float64(4), int64(6), object(2)\n",
      "memory usage: 937.6+ KB\n"
     ]
    }
   ],
   "source": [
    "data.info()"
   ]
  },
  {
   "cell_type": "code",
   "execution_count": 4,
   "metadata": {},
   "outputs": [
    {
     "data": {
      "text/html": [
       "<div>\n",
       "<style scoped>\n",
       "    .dataframe tbody tr th:only-of-type {\n",
       "        vertical-align: middle;\n",
       "    }\n",
       "\n",
       "    .dataframe tbody tr th {\n",
       "        vertical-align: top;\n",
       "    }\n",
       "\n",
       "    .dataframe thead th {\n",
       "        text-align: right;\n",
       "    }\n",
       "</style>\n",
       "<table border=\"1\" class=\"dataframe\">\n",
       "  <thead>\n",
       "    <tr style=\"text-align: right;\">\n",
       "      <th></th>\n",
       "      <th>USERID</th>\n",
       "      <th>score</th>\n",
       "      <th>city</th>\n",
       "      <th>gender</th>\n",
       "      <th>age</th>\n",
       "      <th>equity</th>\n",
       "      <th>balance</th>\n",
       "      <th>products</th>\n",
       "      <th>credit_card</th>\n",
       "      <th>last_activity</th>\n",
       "      <th>EST_SALARY</th>\n",
       "      <th>churn</th>\n",
       "    </tr>\n",
       "  </thead>\n",
       "  <tbody>\n",
       "    <tr>\n",
       "      <th>0</th>\n",
       "      <td>183012</td>\n",
       "      <td>850.0</td>\n",
       "      <td>Рыбинск</td>\n",
       "      <td>Ж</td>\n",
       "      <td>25.0</td>\n",
       "      <td>1</td>\n",
       "      <td>59214.82</td>\n",
       "      <td>2</td>\n",
       "      <td>0</td>\n",
       "      <td>1</td>\n",
       "      <td>75719.14</td>\n",
       "      <td>1</td>\n",
       "    </tr>\n",
       "    <tr>\n",
       "      <th>1</th>\n",
       "      <td>146556</td>\n",
       "      <td>861.0</td>\n",
       "      <td>Рыбинск</td>\n",
       "      <td>Ж</td>\n",
       "      <td>37.0</td>\n",
       "      <td>5</td>\n",
       "      <td>850594.33</td>\n",
       "      <td>3</td>\n",
       "      <td>1</td>\n",
       "      <td>0</td>\n",
       "      <td>86621.77</td>\n",
       "      <td>0</td>\n",
       "    </tr>\n",
       "    <tr>\n",
       "      <th>2</th>\n",
       "      <td>120722</td>\n",
       "      <td>892.0</td>\n",
       "      <td>Рыбинск</td>\n",
       "      <td>Ж</td>\n",
       "      <td>30.0</td>\n",
       "      <td>0</td>\n",
       "      <td>NaN</td>\n",
       "      <td>1</td>\n",
       "      <td>1</td>\n",
       "      <td>1</td>\n",
       "      <td>107683.34</td>\n",
       "      <td>0</td>\n",
       "    </tr>\n",
       "    <tr>\n",
       "      <th>3</th>\n",
       "      <td>225363</td>\n",
       "      <td>866.0</td>\n",
       "      <td>Ярославль</td>\n",
       "      <td>Ж</td>\n",
       "      <td>51.0</td>\n",
       "      <td>5</td>\n",
       "      <td>1524746.26</td>\n",
       "      <td>2</td>\n",
       "      <td>0</td>\n",
       "      <td>1</td>\n",
       "      <td>174423.53</td>\n",
       "      <td>1</td>\n",
       "    </tr>\n",
       "    <tr>\n",
       "      <th>4</th>\n",
       "      <td>157978</td>\n",
       "      <td>730.0</td>\n",
       "      <td>Ярославль</td>\n",
       "      <td>М</td>\n",
       "      <td>34.0</td>\n",
       "      <td>5</td>\n",
       "      <td>174.00</td>\n",
       "      <td>1</td>\n",
       "      <td>1</td>\n",
       "      <td>0</td>\n",
       "      <td>67353.16</td>\n",
       "      <td>1</td>\n",
       "    </tr>\n",
       "  </tbody>\n",
       "</table>\n",
       "</div>"
      ],
      "text/plain": [
       "   USERID  score       city gender   age  equity     balance  products  \\\n",
       "0  183012  850.0    Рыбинск      Ж  25.0       1    59214.82         2   \n",
       "1  146556  861.0    Рыбинск      Ж  37.0       5   850594.33         3   \n",
       "2  120722  892.0    Рыбинск      Ж  30.0       0         NaN         1   \n",
       "3  225363  866.0  Ярославль      Ж  51.0       5  1524746.26         2   \n",
       "4  157978  730.0  Ярославль      М  34.0       5      174.00         1   \n",
       "\n",
       "   credit_card  last_activity  EST_SALARY  churn  \n",
       "0            0              1    75719.14      1  \n",
       "1            1              0    86621.77      0  \n",
       "2            1              1   107683.34      0  \n",
       "3            0              1   174423.53      1  \n",
       "4            1              0    67353.16      1  "
      ]
     },
     "execution_count": 4,
     "metadata": {},
     "output_type": "execute_result"
    }
   ],
   "source": [
    "data.head()"
   ]
  },
  {
   "cell_type": "code",
   "execution_count": 5,
   "metadata": {},
   "outputs": [
    {
     "name": "stdout",
     "output_type": "stream",
     "text": [
      "Количество дубликатов: 0\n",
      "Доля дубликатов: 0.0\n"
     ]
    }
   ],
   "source": [
    "print('Количество дубликатов:', data.duplicated().sum())\n",
    "print('Доля дубликатов:', data.duplicated().sum() / len(data) * 100)"
   ]
  },
  {
   "cell_type": "code",
   "execution_count": 6,
   "metadata": {},
   "outputs": [
    {
     "name": "stdout",
     "output_type": "stream",
     "text": [
      "['Рыбинск' 'Ярославль' 'Ростов']\n",
      "['Ж' 'М']\n"
     ]
    }
   ],
   "source": [
    "# Проверим неявные дубликаты\n",
    "print(data['city'].unique())\n",
    "print(data['gender'].unique())"
   ]
  },
  {
   "cell_type": "markdown",
   "metadata": {},
   "source": [
    "**Вывод**\n",
    "\n",
    "Импортировали библиотеки и посмотрели на данные. Датасет имеет 10 тысяч строк и 12 столбцов, есть пропуски в столбцах age и balance. Также есть стобцы с неправильными типами данных. Дубликатов нет."
   ]
  },
  {
   "cell_type": "markdown",
   "metadata": {},
   "source": [
    "**2. Предобработаем данные**"
   ]
  },
  {
   "cell_type": "code",
   "execution_count": 7,
   "metadata": {},
   "outputs": [
    {
     "data": {
      "text/html": [
       "<div>\n",
       "<style scoped>\n",
       "    .dataframe tbody tr th:only-of-type {\n",
       "        vertical-align: middle;\n",
       "    }\n",
       "\n",
       "    .dataframe tbody tr th {\n",
       "        vertical-align: top;\n",
       "    }\n",
       "\n",
       "    .dataframe thead th {\n",
       "        text-align: right;\n",
       "    }\n",
       "</style>\n",
       "<table border=\"1\" class=\"dataframe\">\n",
       "  <thead>\n",
       "    <tr style=\"text-align: right;\">\n",
       "      <th></th>\n",
       "      <th>user_id</th>\n",
       "      <th>score</th>\n",
       "      <th>city</th>\n",
       "      <th>gender</th>\n",
       "      <th>age</th>\n",
       "      <th>equity</th>\n",
       "      <th>balance</th>\n",
       "      <th>products</th>\n",
       "      <th>credit_card</th>\n",
       "      <th>last_activity</th>\n",
       "      <th>est_salary</th>\n",
       "      <th>churn</th>\n",
       "    </tr>\n",
       "  </thead>\n",
       "  <tbody>\n",
       "    <tr>\n",
       "      <th>0</th>\n",
       "      <td>183012</td>\n",
       "      <td>850.0</td>\n",
       "      <td>Рыбинск</td>\n",
       "      <td>Ж</td>\n",
       "      <td>25.0</td>\n",
       "      <td>1</td>\n",
       "      <td>59214.82</td>\n",
       "      <td>2</td>\n",
       "      <td>0</td>\n",
       "      <td>1</td>\n",
       "      <td>75719.14</td>\n",
       "      <td>1</td>\n",
       "    </tr>\n",
       "    <tr>\n",
       "      <th>1</th>\n",
       "      <td>146556</td>\n",
       "      <td>861.0</td>\n",
       "      <td>Рыбинск</td>\n",
       "      <td>Ж</td>\n",
       "      <td>37.0</td>\n",
       "      <td>5</td>\n",
       "      <td>850594.33</td>\n",
       "      <td>3</td>\n",
       "      <td>1</td>\n",
       "      <td>0</td>\n",
       "      <td>86621.77</td>\n",
       "      <td>0</td>\n",
       "    </tr>\n",
       "    <tr>\n",
       "      <th>2</th>\n",
       "      <td>120722</td>\n",
       "      <td>892.0</td>\n",
       "      <td>Рыбинск</td>\n",
       "      <td>Ж</td>\n",
       "      <td>30.0</td>\n",
       "      <td>0</td>\n",
       "      <td>NaN</td>\n",
       "      <td>1</td>\n",
       "      <td>1</td>\n",
       "      <td>1</td>\n",
       "      <td>107683.34</td>\n",
       "      <td>0</td>\n",
       "    </tr>\n",
       "    <tr>\n",
       "      <th>3</th>\n",
       "      <td>225363</td>\n",
       "      <td>866.0</td>\n",
       "      <td>Ярославль</td>\n",
       "      <td>Ж</td>\n",
       "      <td>51.0</td>\n",
       "      <td>5</td>\n",
       "      <td>1524746.26</td>\n",
       "      <td>2</td>\n",
       "      <td>0</td>\n",
       "      <td>1</td>\n",
       "      <td>174423.53</td>\n",
       "      <td>1</td>\n",
       "    </tr>\n",
       "    <tr>\n",
       "      <th>4</th>\n",
       "      <td>157978</td>\n",
       "      <td>730.0</td>\n",
       "      <td>Ярославль</td>\n",
       "      <td>М</td>\n",
       "      <td>34.0</td>\n",
       "      <td>5</td>\n",
       "      <td>174.00</td>\n",
       "      <td>1</td>\n",
       "      <td>1</td>\n",
       "      <td>0</td>\n",
       "      <td>67353.16</td>\n",
       "      <td>1</td>\n",
       "    </tr>\n",
       "    <tr>\n",
       "      <th>...</th>\n",
       "      <td>...</td>\n",
       "      <td>...</td>\n",
       "      <td>...</td>\n",
       "      <td>...</td>\n",
       "      <td>...</td>\n",
       "      <td>...</td>\n",
       "      <td>...</td>\n",
       "      <td>...</td>\n",
       "      <td>...</td>\n",
       "      <td>...</td>\n",
       "      <td>...</td>\n",
       "      <td>...</td>\n",
       "    </tr>\n",
       "    <tr>\n",
       "      <th>9995</th>\n",
       "      <td>120553</td>\n",
       "      <td>814.0</td>\n",
       "      <td>Рыбинск</td>\n",
       "      <td>М</td>\n",
       "      <td>27.0</td>\n",
       "      <td>1</td>\n",
       "      <td>78144.65</td>\n",
       "      <td>1</td>\n",
       "      <td>0</td>\n",
       "      <td>1</td>\n",
       "      <td>18943.64</td>\n",
       "      <td>0</td>\n",
       "    </tr>\n",
       "    <tr>\n",
       "      <th>9996</th>\n",
       "      <td>139170</td>\n",
       "      <td>894.0</td>\n",
       "      <td>Ярославль</td>\n",
       "      <td>М</td>\n",
       "      <td>46.0</td>\n",
       "      <td>0</td>\n",
       "      <td>NaN</td>\n",
       "      <td>1</td>\n",
       "      <td>1</td>\n",
       "      <td>0</td>\n",
       "      <td>196898.29</td>\n",
       "      <td>0</td>\n",
       "    </tr>\n",
       "    <tr>\n",
       "      <th>9997</th>\n",
       "      <td>115639</td>\n",
       "      <td>903.0</td>\n",
       "      <td>Ярославль</td>\n",
       "      <td>М</td>\n",
       "      <td>24.0</td>\n",
       "      <td>0</td>\n",
       "      <td>NaN</td>\n",
       "      <td>2</td>\n",
       "      <td>1</td>\n",
       "      <td>1</td>\n",
       "      <td>108905.09</td>\n",
       "      <td>0</td>\n",
       "    </tr>\n",
       "    <tr>\n",
       "      <th>9998</th>\n",
       "      <td>148700</td>\n",
       "      <td>777.0</td>\n",
       "      <td>Ярославль</td>\n",
       "      <td>Ж</td>\n",
       "      <td>68.0</td>\n",
       "      <td>3</td>\n",
       "      <td>865457.97</td>\n",
       "      <td>3</td>\n",
       "      <td>0</td>\n",
       "      <td>1</td>\n",
       "      <td>86874.90</td>\n",
       "      <td>0</td>\n",
       "    </tr>\n",
       "    <tr>\n",
       "      <th>9999</th>\n",
       "      <td>96267</td>\n",
       "      <td>828.0</td>\n",
       "      <td>Рыбинск</td>\n",
       "      <td>Ж</td>\n",
       "      <td>58.0</td>\n",
       "      <td>3</td>\n",
       "      <td>1180886.70</td>\n",
       "      <td>4</td>\n",
       "      <td>0</td>\n",
       "      <td>1</td>\n",
       "      <td>21422.37</td>\n",
       "      <td>0</td>\n",
       "    </tr>\n",
       "  </tbody>\n",
       "</table>\n",
       "<p>10000 rows × 12 columns</p>\n",
       "</div>"
      ],
      "text/plain": [
       "      user_id  score       city gender   age  equity     balance  products  \\\n",
       "0      183012  850.0    Рыбинск      Ж  25.0       1    59214.82         2   \n",
       "1      146556  861.0    Рыбинск      Ж  37.0       5   850594.33         3   \n",
       "2      120722  892.0    Рыбинск      Ж  30.0       0         NaN         1   \n",
       "3      225363  866.0  Ярославль      Ж  51.0       5  1524746.26         2   \n",
       "4      157978  730.0  Ярославль      М  34.0       5      174.00         1   \n",
       "...       ...    ...        ...    ...   ...     ...         ...       ...   \n",
       "9995   120553  814.0    Рыбинск      М  27.0       1    78144.65         1   \n",
       "9996   139170  894.0  Ярославль      М  46.0       0         NaN         1   \n",
       "9997   115639  903.0  Ярославль      М  24.0       0         NaN         2   \n",
       "9998   148700  777.0  Ярославль      Ж  68.0       3   865457.97         3   \n",
       "9999    96267  828.0    Рыбинск      Ж  58.0       3  1180886.70         4   \n",
       "\n",
       "      credit_card  last_activity  est_salary  churn  \n",
       "0               0              1    75719.14      1  \n",
       "1               1              0    86621.77      0  \n",
       "2               1              1   107683.34      0  \n",
       "3               0              1   174423.53      1  \n",
       "4               1              0    67353.16      1  \n",
       "...           ...            ...         ...    ...  \n",
       "9995            0              1    18943.64      0  \n",
       "9996            1              0   196898.29      0  \n",
       "9997            1              1   108905.09      0  \n",
       "9998            0              1    86874.90      0  \n",
       "9999            0              1    21422.37      0  \n",
       "\n",
       "[10000 rows x 12 columns]"
      ]
     },
     "execution_count": 7,
     "metadata": {},
     "output_type": "execute_result"
    }
   ],
   "source": [
    "# Приведем названия столбцов к единому стилю \n",
    "data.columns = [col.lower() for col in data.columns]\n",
    "data =  data.rename(columns = {'userid' : 'user_id'})\n",
    "data"
   ]
  },
  {
   "cell_type": "code",
   "execution_count": 8,
   "metadata": {},
   "outputs": [
    {
     "name": "stdout",
     "output_type": "stream",
     "text": [
      "<class 'pandas.core.frame.DataFrame'>\n",
      "RangeIndex: 10000 entries, 0 to 9999\n",
      "Data columns (total 12 columns):\n",
      " #   Column         Non-Null Count  Dtype  \n",
      "---  ------         --------------  -----  \n",
      " 0   user_id        10000 non-null  int64  \n",
      " 1   score          10000 non-null  float64\n",
      " 2   city           10000 non-null  object \n",
      " 3   gender         10000 non-null  object \n",
      " 4   age            9974 non-null   Int64  \n",
      " 5   equity         10000 non-null  int64  \n",
      " 6   balance        7705 non-null   float64\n",
      " 7   products       10000 non-null  int64  \n",
      " 8   credit_card    10000 non-null  int64  \n",
      " 9   last_activity  10000 non-null  int64  \n",
      " 10  est_salary     10000 non-null  float64\n",
      " 11  churn          10000 non-null  int64  \n",
      "dtypes: Int64(1), float64(3), int64(6), object(2)\n",
      "memory usage: 947.4+ KB\n"
     ]
    }
   ],
   "source": [
    "# Приведем столбец age к типу данных int\n",
    "data['age'] = data['age'].astype('Int64')\n",
    "data.info()"
   ]
  },
  {
   "cell_type": "code",
   "execution_count": 9,
   "metadata": {},
   "outputs": [
    {
     "name": "stdout",
     "output_type": "stream",
     "text": [
      "Количество пропусков в столбце age: 26\n",
      "Доля пропусков в столбце age, %: 0.26\n",
      "Количество пропусков в столбце balance: 2295\n",
      "Доля пропусков в столбце balance, %: 22.95\n"
     ]
    }
   ],
   "source": [
    "# Посчитаем количество пропусков и долю пропусков в столбцах age и balance\n",
    "print('Количество пропусков в столбце age:', data['age'].isna().sum())\n",
    "print('Доля пропусков в столбце age, %:', round(data['age'].isna().sum()/len(data), 4) * 100)\n",
    "\n",
    "print('Количество пропусков в столбце balance:', data['balance'].isna().sum())\n",
    "print('Доля пропусков в столбце balance, %:', round(data['balance'].isna().sum()/len(data), 4) * 100)"
   ]
  },
  {
   "cell_type": "code",
   "execution_count": 10,
   "metadata": {},
   "outputs": [
    {
     "data": {
      "text/html": [
       "<div>\n",
       "<style scoped>\n",
       "    .dataframe tbody tr th:only-of-type {\n",
       "        vertical-align: middle;\n",
       "    }\n",
       "\n",
       "    .dataframe tbody tr th {\n",
       "        vertical-align: top;\n",
       "    }\n",
       "\n",
       "    .dataframe thead th {\n",
       "        text-align: right;\n",
       "    }\n",
       "</style>\n",
       "<table border=\"1\" class=\"dataframe\">\n",
       "  <thead>\n",
       "    <tr style=\"text-align: right;\">\n",
       "      <th></th>\n",
       "      <th>user_id</th>\n",
       "      <th>score</th>\n",
       "      <th>city</th>\n",
       "      <th>gender</th>\n",
       "      <th>age</th>\n",
       "      <th>equity</th>\n",
       "      <th>balance</th>\n",
       "      <th>products</th>\n",
       "      <th>credit_card</th>\n",
       "      <th>last_activity</th>\n",
       "      <th>est_salary</th>\n",
       "      <th>churn</th>\n",
       "    </tr>\n",
       "  </thead>\n",
       "  <tbody>\n",
       "    <tr>\n",
       "      <th>0</th>\n",
       "      <td>183012</td>\n",
       "      <td>850.0</td>\n",
       "      <td>Рыбинск</td>\n",
       "      <td>Ж</td>\n",
       "      <td>25</td>\n",
       "      <td>1</td>\n",
       "      <td>59214.82</td>\n",
       "      <td>2</td>\n",
       "      <td>0</td>\n",
       "      <td>1</td>\n",
       "      <td>75719.14</td>\n",
       "      <td>1</td>\n",
       "    </tr>\n",
       "    <tr>\n",
       "      <th>1</th>\n",
       "      <td>146556</td>\n",
       "      <td>861.0</td>\n",
       "      <td>Рыбинск</td>\n",
       "      <td>Ж</td>\n",
       "      <td>37</td>\n",
       "      <td>5</td>\n",
       "      <td>850594.33</td>\n",
       "      <td>3</td>\n",
       "      <td>1</td>\n",
       "      <td>0</td>\n",
       "      <td>86621.77</td>\n",
       "      <td>0</td>\n",
       "    </tr>\n",
       "    <tr>\n",
       "      <th>2</th>\n",
       "      <td>120722</td>\n",
       "      <td>892.0</td>\n",
       "      <td>Рыбинск</td>\n",
       "      <td>Ж</td>\n",
       "      <td>30</td>\n",
       "      <td>0</td>\n",
       "      <td>NaN</td>\n",
       "      <td>1</td>\n",
       "      <td>1</td>\n",
       "      <td>1</td>\n",
       "      <td>107683.34</td>\n",
       "      <td>0</td>\n",
       "    </tr>\n",
       "    <tr>\n",
       "      <th>3</th>\n",
       "      <td>225363</td>\n",
       "      <td>866.0</td>\n",
       "      <td>Ярославль</td>\n",
       "      <td>Ж</td>\n",
       "      <td>51</td>\n",
       "      <td>5</td>\n",
       "      <td>1524746.26</td>\n",
       "      <td>2</td>\n",
       "      <td>0</td>\n",
       "      <td>1</td>\n",
       "      <td>174423.53</td>\n",
       "      <td>1</td>\n",
       "    </tr>\n",
       "    <tr>\n",
       "      <th>4</th>\n",
       "      <td>157978</td>\n",
       "      <td>730.0</td>\n",
       "      <td>Ярославль</td>\n",
       "      <td>М</td>\n",
       "      <td>34</td>\n",
       "      <td>5</td>\n",
       "      <td>174.00</td>\n",
       "      <td>1</td>\n",
       "      <td>1</td>\n",
       "      <td>0</td>\n",
       "      <td>67353.16</td>\n",
       "      <td>1</td>\n",
       "    </tr>\n",
       "    <tr>\n",
       "      <th>...</th>\n",
       "      <td>...</td>\n",
       "      <td>...</td>\n",
       "      <td>...</td>\n",
       "      <td>...</td>\n",
       "      <td>...</td>\n",
       "      <td>...</td>\n",
       "      <td>...</td>\n",
       "      <td>...</td>\n",
       "      <td>...</td>\n",
       "      <td>...</td>\n",
       "      <td>...</td>\n",
       "      <td>...</td>\n",
       "    </tr>\n",
       "    <tr>\n",
       "      <th>9969</th>\n",
       "      <td>120553</td>\n",
       "      <td>814.0</td>\n",
       "      <td>Рыбинск</td>\n",
       "      <td>М</td>\n",
       "      <td>27</td>\n",
       "      <td>1</td>\n",
       "      <td>78144.65</td>\n",
       "      <td>1</td>\n",
       "      <td>0</td>\n",
       "      <td>1</td>\n",
       "      <td>18943.64</td>\n",
       "      <td>0</td>\n",
       "    </tr>\n",
       "    <tr>\n",
       "      <th>9970</th>\n",
       "      <td>139170</td>\n",
       "      <td>894.0</td>\n",
       "      <td>Ярославль</td>\n",
       "      <td>М</td>\n",
       "      <td>46</td>\n",
       "      <td>0</td>\n",
       "      <td>NaN</td>\n",
       "      <td>1</td>\n",
       "      <td>1</td>\n",
       "      <td>0</td>\n",
       "      <td>196898.29</td>\n",
       "      <td>0</td>\n",
       "    </tr>\n",
       "    <tr>\n",
       "      <th>9971</th>\n",
       "      <td>115639</td>\n",
       "      <td>903.0</td>\n",
       "      <td>Ярославль</td>\n",
       "      <td>М</td>\n",
       "      <td>24</td>\n",
       "      <td>0</td>\n",
       "      <td>NaN</td>\n",
       "      <td>2</td>\n",
       "      <td>1</td>\n",
       "      <td>1</td>\n",
       "      <td>108905.09</td>\n",
       "      <td>0</td>\n",
       "    </tr>\n",
       "    <tr>\n",
       "      <th>9972</th>\n",
       "      <td>148700</td>\n",
       "      <td>777.0</td>\n",
       "      <td>Ярославль</td>\n",
       "      <td>Ж</td>\n",
       "      <td>68</td>\n",
       "      <td>3</td>\n",
       "      <td>865457.97</td>\n",
       "      <td>3</td>\n",
       "      <td>0</td>\n",
       "      <td>1</td>\n",
       "      <td>86874.90</td>\n",
       "      <td>0</td>\n",
       "    </tr>\n",
       "    <tr>\n",
       "      <th>9973</th>\n",
       "      <td>96267</td>\n",
       "      <td>828.0</td>\n",
       "      <td>Рыбинск</td>\n",
       "      <td>Ж</td>\n",
       "      <td>58</td>\n",
       "      <td>3</td>\n",
       "      <td>1180886.70</td>\n",
       "      <td>4</td>\n",
       "      <td>0</td>\n",
       "      <td>1</td>\n",
       "      <td>21422.37</td>\n",
       "      <td>0</td>\n",
       "    </tr>\n",
       "  </tbody>\n",
       "</table>\n",
       "<p>9974 rows × 12 columns</p>\n",
       "</div>"
      ],
      "text/plain": [
       "      user_id  score       city gender  age  equity     balance  products  \\\n",
       "0      183012  850.0    Рыбинск      Ж   25       1    59214.82         2   \n",
       "1      146556  861.0    Рыбинск      Ж   37       5   850594.33         3   \n",
       "2      120722  892.0    Рыбинск      Ж   30       0         NaN         1   \n",
       "3      225363  866.0  Ярославль      Ж   51       5  1524746.26         2   \n",
       "4      157978  730.0  Ярославль      М   34       5      174.00         1   \n",
       "...       ...    ...        ...    ...  ...     ...         ...       ...   \n",
       "9969   120553  814.0    Рыбинск      М   27       1    78144.65         1   \n",
       "9970   139170  894.0  Ярославль      М   46       0         NaN         1   \n",
       "9971   115639  903.0  Ярославль      М   24       0         NaN         2   \n",
       "9972   148700  777.0  Ярославль      Ж   68       3   865457.97         3   \n",
       "9973    96267  828.0    Рыбинск      Ж   58       3  1180886.70         4   \n",
       "\n",
       "      credit_card  last_activity  est_salary  churn  \n",
       "0               0              1    75719.14      1  \n",
       "1               1              0    86621.77      0  \n",
       "2               1              1   107683.34      0  \n",
       "3               0              1   174423.53      1  \n",
       "4               1              0    67353.16      1  \n",
       "...           ...            ...         ...    ...  \n",
       "9969            0              1    18943.64      0  \n",
       "9970            1              0   196898.29      0  \n",
       "9971            1              1   108905.09      0  \n",
       "9972            0              1    86874.90      0  \n",
       "9973            0              1    21422.37      0  \n",
       "\n",
       "[9974 rows x 12 columns]"
      ]
     },
     "execution_count": 10,
     "metadata": {},
     "output_type": "execute_result"
    }
   ],
   "source": [
    "# Удалим пропуски в столбце age т.к. невозможно подставить правильный возраст, и их доля меньше 1%, это никак не повлияет на анализ\n",
    "data.drop(data[data['age'].isna()].index, inplace = True)\n",
    "data = data.reset_index(drop = True)\n",
    "data"
   ]
  },
  {
   "cell_type": "markdown",
   "metadata": {},
   "source": [
    "Количество пропусков в столбце balance - 2295, Доля пропусков - 23%. Это слишком много для того, чтобы их просто убрать. \n",
    "В теории можно заменить пропуски средним или медианной значением, но думаю это будет не корректно, это все таки баланс на счете, он индивидуальный.\n",
    "\n",
    "Попробуем исследовать эти пропуски и возможно просто оставим их."
   ]
  },
  {
   "cell_type": "code",
   "execution_count": 11,
   "metadata": {},
   "outputs": [
    {
     "data": {
      "text/plain": [
       "count        7695.00\n",
       "mean       827245.59\n",
       "std       1980327.41\n",
       "min             0.00\n",
       "25%        295698.71\n",
       "50%        524295.33\n",
       "75%        980051.21\n",
       "max     119113552.01\n",
       "Name: balance, dtype: float64"
      ]
     },
     "execution_count": 11,
     "metadata": {},
     "output_type": "execute_result"
    }
   ],
   "source": [
    "pd.set_option(\"display.float_format\", \"{:.2f}\".format)\n",
    "data['balance'].describe()"
   ]
  },
  {
   "cell_type": "code",
   "execution_count": 12,
   "metadata": {},
   "outputs": [
    {
     "data": {
      "text/plain": [
       "0    2266\n",
       "1      13\n",
       "Name: churn, dtype: int64"
      ]
     },
     "execution_count": 12,
     "metadata": {},
     "output_type": "execute_result"
    }
   ],
   "source": [
    "# Cвязаны ли пропуски с оттоком клиента из банка\n",
    "\n",
    "data[data['balance'].isna()]['churn'].value_counts()"
   ]
  },
  {
   "cell_type": "code",
   "execution_count": 13,
   "metadata": {},
   "outputs": [
    {
     "data": {
      "text/plain": [
       "Ярославль    1458\n",
       "Рыбинск       586\n",
       "Ростов        235\n",
       "Name: city, dtype: int64"
      ]
     },
     "execution_count": 13,
     "metadata": {},
     "output_type": "execute_result"
    }
   ],
   "source": [
    "# Cвязаны ли пропуски с городом в котором находится банк\n",
    "\n",
    "data[data['balance'].isna()]['city'].value_counts()"
   ]
  },
  {
   "cell_type": "code",
   "execution_count": 14,
   "metadata": {},
   "outputs": [
    {
     "data": {
      "text/plain": [
       "М    1272\n",
       "Ж    1007\n",
       "Name: gender, dtype: int64"
      ]
     },
     "execution_count": 14,
     "metadata": {},
     "output_type": "execute_result"
    }
   ],
   "source": [
    "# Cвязаны ли пропуски с гендером\n",
    "\n",
    "data[data['balance'].isna()]['gender'].value_counts()"
   ]
  },
  {
   "cell_type": "markdown",
   "metadata": {},
   "source": [
    "Пропуски не могут быть нулевым значением, потому что нулевые значения присутствуют. Они не связаны с тем, ушел ли клиент или нет, а также не связаны с гендером.\n",
    "\n",
    "Зафиксировано большое количество пропусков в Ярославле, но как-то это связать с другими пропусками мы не можем.\n",
    "\n",
    "Мы не можем определить почему произошли пропуски, поэтому оставим эти данные как есть."
   ]
  },
  {
   "cell_type": "code",
   "execution_count": 15,
   "metadata": {},
   "outputs": [
    {
     "data": {
      "text/html": [
       "<div>\n",
       "<style scoped>\n",
       "    .dataframe tbody tr th:only-of-type {\n",
       "        vertical-align: middle;\n",
       "    }\n",
       "\n",
       "    .dataframe tbody tr th {\n",
       "        vertical-align: top;\n",
       "    }\n",
       "\n",
       "    .dataframe thead th {\n",
       "        text-align: right;\n",
       "    }\n",
       "</style>\n",
       "<table border=\"1\" class=\"dataframe\">\n",
       "  <thead>\n",
       "    <tr style=\"text-align: right;\">\n",
       "      <th></th>\n",
       "      <th>user_id</th>\n",
       "      <th>score</th>\n",
       "      <th>age</th>\n",
       "      <th>equity</th>\n",
       "      <th>balance</th>\n",
       "      <th>products</th>\n",
       "      <th>credit_card</th>\n",
       "      <th>last_activity</th>\n",
       "      <th>est_salary</th>\n",
       "      <th>churn</th>\n",
       "    </tr>\n",
       "  </thead>\n",
       "  <tbody>\n",
       "    <tr>\n",
       "      <th>count</th>\n",
       "      <td>9974.00</td>\n",
       "      <td>9974.00</td>\n",
       "      <td>9974.00</td>\n",
       "      <td>9974.00</td>\n",
       "      <td>7695.00</td>\n",
       "      <td>9974.00</td>\n",
       "      <td>9974.00</td>\n",
       "      <td>9974.00</td>\n",
       "      <td>9974.00</td>\n",
       "      <td>9974.00</td>\n",
       "    </tr>\n",
       "    <tr>\n",
       "      <th>mean</th>\n",
       "      <td>171755.22</td>\n",
       "      <td>848.68</td>\n",
       "      <td>42.73</td>\n",
       "      <td>2.63</td>\n",
       "      <td>827245.59</td>\n",
       "      <td>1.87</td>\n",
       "      <td>0.68</td>\n",
       "      <td>0.52</td>\n",
       "      <td>147786.81</td>\n",
       "      <td>0.18</td>\n",
       "    </tr>\n",
       "    <tr>\n",
       "      <th>std</th>\n",
       "      <td>33695.53</td>\n",
       "      <td>65.40</td>\n",
       "      <td>12.18</td>\n",
       "      <td>1.98</td>\n",
       "      <td>1980327.41</td>\n",
       "      <td>0.79</td>\n",
       "      <td>0.47</td>\n",
       "      <td>0.50</td>\n",
       "      <td>139285.51</td>\n",
       "      <td>0.39</td>\n",
       "    </tr>\n",
       "    <tr>\n",
       "      <th>min</th>\n",
       "      <td>94561.00</td>\n",
       "      <td>642.00</td>\n",
       "      <td>18.00</td>\n",
       "      <td>0.00</td>\n",
       "      <td>0.00</td>\n",
       "      <td>0.00</td>\n",
       "      <td>0.00</td>\n",
       "      <td>0.00</td>\n",
       "      <td>2546.30</td>\n",
       "      <td>0.00</td>\n",
       "    </tr>\n",
       "    <tr>\n",
       "      <th>25%</th>\n",
       "      <td>142760.00</td>\n",
       "      <td>802.00</td>\n",
       "      <td>33.00</td>\n",
       "      <td>0.00</td>\n",
       "      <td>295698.71</td>\n",
       "      <td>1.00</td>\n",
       "      <td>0.00</td>\n",
       "      <td>0.00</td>\n",
       "      <td>75251.66</td>\n",
       "      <td>0.00</td>\n",
       "    </tr>\n",
       "    <tr>\n",
       "      <th>50%</th>\n",
       "      <td>172643.00</td>\n",
       "      <td>853.00</td>\n",
       "      <td>40.00</td>\n",
       "      <td>3.00</td>\n",
       "      <td>524295.33</td>\n",
       "      <td>2.00</td>\n",
       "      <td>1.00</td>\n",
       "      <td>1.00</td>\n",
       "      <td>119626.79</td>\n",
       "      <td>0.00</td>\n",
       "    </tr>\n",
       "    <tr>\n",
       "      <th>75%</th>\n",
       "      <td>201163.75</td>\n",
       "      <td>900.00</td>\n",
       "      <td>51.00</td>\n",
       "      <td>4.00</td>\n",
       "      <td>980051.21</td>\n",
       "      <td>2.00</td>\n",
       "      <td>1.00</td>\n",
       "      <td>1.00</td>\n",
       "      <td>174499.81</td>\n",
       "      <td>0.00</td>\n",
       "    </tr>\n",
       "    <tr>\n",
       "      <th>max</th>\n",
       "      <td>229145.00</td>\n",
       "      <td>1000.00</td>\n",
       "      <td>86.00</td>\n",
       "      <td>9.00</td>\n",
       "      <td>119113552.01</td>\n",
       "      <td>5.00</td>\n",
       "      <td>1.00</td>\n",
       "      <td>1.00</td>\n",
       "      <td>1395064.45</td>\n",
       "      <td>1.00</td>\n",
       "    </tr>\n",
       "  </tbody>\n",
       "</table>\n",
       "</div>"
      ],
      "text/plain": [
       "        user_id   score     age  equity      balance  products  credit_card  \\\n",
       "count   9974.00 9974.00 9974.00 9974.00      7695.00   9974.00      9974.00   \n",
       "mean  171755.22  848.68   42.73    2.63    827245.59      1.87         0.68   \n",
       "std    33695.53   65.40   12.18    1.98   1980327.41      0.79         0.47   \n",
       "min    94561.00  642.00   18.00    0.00         0.00      0.00         0.00   \n",
       "25%   142760.00  802.00   33.00    0.00    295698.71      1.00         0.00   \n",
       "50%   172643.00  853.00   40.00    3.00    524295.33      2.00         1.00   \n",
       "75%   201163.75  900.00   51.00    4.00    980051.21      2.00         1.00   \n",
       "max   229145.00 1000.00   86.00    9.00 119113552.01      5.00         1.00   \n",
       "\n",
       "       last_activity  est_salary   churn  \n",
       "count        9974.00     9974.00 9974.00  \n",
       "mean            0.52   147786.81    0.18  \n",
       "std             0.50   139285.51    0.39  \n",
       "min             0.00     2546.30    0.00  \n",
       "25%             0.00    75251.66    0.00  \n",
       "50%             1.00   119626.79    0.00  \n",
       "75%             1.00   174499.81    0.00  \n",
       "max             1.00  1395064.45    1.00  "
      ]
     },
     "execution_count": 15,
     "metadata": {},
     "output_type": "execute_result"
    }
   ],
   "source": [
    "pd.set_option(\"display.float_format\", \"{:.2f}\".format)\n",
    "data.describe()"
   ]
  },
  {
   "cell_type": "markdown",
   "metadata": {},
   "source": [
    "В целом, пости все столбцы нормально распределены. Есть большие выбросы в максимальном значении баланса, но думаю это связано с тем, что это баланс очень богатых клиентов."
   ]
  },
  {
   "cell_type": "markdown",
   "metadata": {},
   "source": [
    "**Вывод**\n",
    "\n",
    "1. Привели название столбцов к единому стилю.\n",
    "2. Убрали пропуски в столбце age.\n",
    "3. Исследовали пропуски в столбце balance и оставили их без изменений."
   ]
  },
  {
   "cell_type": "markdown",
   "metadata": {},
   "source": [
    "**3. Исследовательский анализ данных**"
   ]
  },
  {
   "cell_type": "code",
   "execution_count": 16,
   "metadata": {},
   "outputs": [
    {
     "data": {
      "text/html": [
       "<div>\n",
       "<style scoped>\n",
       "    .dataframe tbody tr th:only-of-type {\n",
       "        vertical-align: middle;\n",
       "    }\n",
       "\n",
       "    .dataframe tbody tr th {\n",
       "        vertical-align: top;\n",
       "    }\n",
       "\n",
       "    .dataframe thead th {\n",
       "        text-align: right;\n",
       "    }\n",
       "</style>\n",
       "<table border=\"1\" class=\"dataframe\">\n",
       "  <thead>\n",
       "    <tr style=\"text-align: right;\">\n",
       "      <th></th>\n",
       "      <th>count</th>\n",
       "      <th>mean</th>\n",
       "      <th>std</th>\n",
       "      <th>min</th>\n",
       "      <th>25%</th>\n",
       "      <th>50%</th>\n",
       "      <th>75%</th>\n",
       "      <th>max</th>\n",
       "    </tr>\n",
       "  </thead>\n",
       "  <tbody>\n",
       "    <tr>\n",
       "      <th>user_id</th>\n",
       "      <td>9974.00</td>\n",
       "      <td>171755.22</td>\n",
       "      <td>33695.53</td>\n",
       "      <td>94561.00</td>\n",
       "      <td>142760.00</td>\n",
       "      <td>172643.00</td>\n",
       "      <td>201163.75</td>\n",
       "      <td>229145.00</td>\n",
       "    </tr>\n",
       "    <tr>\n",
       "      <th>score</th>\n",
       "      <td>9974.00</td>\n",
       "      <td>848.68</td>\n",
       "      <td>65.40</td>\n",
       "      <td>642.00</td>\n",
       "      <td>802.00</td>\n",
       "      <td>853.00</td>\n",
       "      <td>900.00</td>\n",
       "      <td>1000.00</td>\n",
       "    </tr>\n",
       "    <tr>\n",
       "      <th>age</th>\n",
       "      <td>9974.00</td>\n",
       "      <td>42.73</td>\n",
       "      <td>12.18</td>\n",
       "      <td>18.00</td>\n",
       "      <td>33.00</td>\n",
       "      <td>40.00</td>\n",
       "      <td>51.00</td>\n",
       "      <td>86.00</td>\n",
       "    </tr>\n",
       "    <tr>\n",
       "      <th>equity</th>\n",
       "      <td>9974.00</td>\n",
       "      <td>2.63</td>\n",
       "      <td>1.98</td>\n",
       "      <td>0.00</td>\n",
       "      <td>0.00</td>\n",
       "      <td>3.00</td>\n",
       "      <td>4.00</td>\n",
       "      <td>9.00</td>\n",
       "    </tr>\n",
       "    <tr>\n",
       "      <th>balance</th>\n",
       "      <td>7695.00</td>\n",
       "      <td>827245.59</td>\n",
       "      <td>1980327.41</td>\n",
       "      <td>0.00</td>\n",
       "      <td>295698.71</td>\n",
       "      <td>524295.33</td>\n",
       "      <td>980051.22</td>\n",
       "      <td>119113552.01</td>\n",
       "    </tr>\n",
       "    <tr>\n",
       "      <th>products</th>\n",
       "      <td>9974.00</td>\n",
       "      <td>1.87</td>\n",
       "      <td>0.79</td>\n",
       "      <td>0.00</td>\n",
       "      <td>1.00</td>\n",
       "      <td>2.00</td>\n",
       "      <td>2.00</td>\n",
       "      <td>5.00</td>\n",
       "    </tr>\n",
       "    <tr>\n",
       "      <th>credit_card</th>\n",
       "      <td>9974.00</td>\n",
       "      <td>0.68</td>\n",
       "      <td>0.47</td>\n",
       "      <td>0.00</td>\n",
       "      <td>0.00</td>\n",
       "      <td>1.00</td>\n",
       "      <td>1.00</td>\n",
       "      <td>1.00</td>\n",
       "    </tr>\n",
       "    <tr>\n",
       "      <th>last_activity</th>\n",
       "      <td>9974.00</td>\n",
       "      <td>0.52</td>\n",
       "      <td>0.50</td>\n",
       "      <td>0.00</td>\n",
       "      <td>0.00</td>\n",
       "      <td>1.00</td>\n",
       "      <td>1.00</td>\n",
       "      <td>1.00</td>\n",
       "    </tr>\n",
       "    <tr>\n",
       "      <th>est_salary</th>\n",
       "      <td>9974.00</td>\n",
       "      <td>147786.81</td>\n",
       "      <td>139285.51</td>\n",
       "      <td>2546.30</td>\n",
       "      <td>75251.66</td>\n",
       "      <td>119626.80</td>\n",
       "      <td>174499.81</td>\n",
       "      <td>1395064.45</td>\n",
       "    </tr>\n",
       "    <tr>\n",
       "      <th>churn</th>\n",
       "      <td>9974.00</td>\n",
       "      <td>0.18</td>\n",
       "      <td>0.39</td>\n",
       "      <td>0.00</td>\n",
       "      <td>0.00</td>\n",
       "      <td>0.00</td>\n",
       "      <td>0.00</td>\n",
       "      <td>1.00</td>\n",
       "    </tr>\n",
       "  </tbody>\n",
       "</table>\n",
       "</div>"
      ],
      "text/plain": [
       "                count      mean        std      min       25%       50%  \\\n",
       "user_id       9974.00 171755.22   33695.53 94561.00 142760.00 172643.00   \n",
       "score         9974.00    848.68      65.40   642.00    802.00    853.00   \n",
       "age           9974.00     42.73      12.18    18.00     33.00     40.00   \n",
       "equity        9974.00      2.63       1.98     0.00      0.00      3.00   \n",
       "balance       7695.00 827245.59 1980327.41     0.00 295698.71 524295.33   \n",
       "products      9974.00      1.87       0.79     0.00      1.00      2.00   \n",
       "credit_card   9974.00      0.68       0.47     0.00      0.00      1.00   \n",
       "last_activity 9974.00      0.52       0.50     0.00      0.00      1.00   \n",
       "est_salary    9974.00 147786.81  139285.51  2546.30  75251.66 119626.80   \n",
       "churn         9974.00      0.18       0.39     0.00      0.00      0.00   \n",
       "\n",
       "                    75%          max  \n",
       "user_id       201163.75    229145.00  \n",
       "score            900.00      1000.00  \n",
       "age               51.00        86.00  \n",
       "equity             4.00         9.00  \n",
       "balance       980051.22 119113552.01  \n",
       "products           2.00         5.00  \n",
       "credit_card        1.00         1.00  \n",
       "last_activity      1.00         1.00  \n",
       "est_salary    174499.81   1395064.45  \n",
       "churn              0.00         1.00  "
      ]
     },
     "execution_count": 16,
     "metadata": {},
     "output_type": "execute_result"
    }
   ],
   "source": [
    "# Посмотрим статистику\n",
    "data.describe().T.round(2)"
   ]
  },
  {
   "cell_type": "code",
   "execution_count": 17,
   "metadata": {},
   "outputs": [
    {
     "data": {
      "text/html": [
       "<div>\n",
       "<style scoped>\n",
       "    .dataframe tbody tr th:only-of-type {\n",
       "        vertical-align: middle;\n",
       "    }\n",
       "\n",
       "    .dataframe tbody tr th {\n",
       "        vertical-align: top;\n",
       "    }\n",
       "\n",
       "    .dataframe thead th {\n",
       "        text-align: right;\n",
       "    }\n",
       "</style>\n",
       "<table border=\"1\" class=\"dataframe\">\n",
       "  <thead>\n",
       "    <tr style=\"text-align: right;\">\n",
       "      <th></th>\n",
       "      <th>mean</th>\n",
       "      <th>std</th>\n",
       "    </tr>\n",
       "  </thead>\n",
       "  <tbody>\n",
       "    <tr>\n",
       "      <th>user_id</th>\n",
       "      <td>171755.22</td>\n",
       "      <td>33695.53</td>\n",
       "    </tr>\n",
       "    <tr>\n",
       "      <th>score</th>\n",
       "      <td>848.68</td>\n",
       "      <td>65.40</td>\n",
       "    </tr>\n",
       "    <tr>\n",
       "      <th>gender</th>\n",
       "      <td>0.50</td>\n",
       "      <td>0.50</td>\n",
       "    </tr>\n",
       "    <tr>\n",
       "      <th>age</th>\n",
       "      <td>42.73</td>\n",
       "      <td>12.18</td>\n",
       "    </tr>\n",
       "    <tr>\n",
       "      <th>equity</th>\n",
       "      <td>2.63</td>\n",
       "      <td>1.98</td>\n",
       "    </tr>\n",
       "    <tr>\n",
       "      <th>balance</th>\n",
       "      <td>827245.59</td>\n",
       "      <td>1980327.41</td>\n",
       "    </tr>\n",
       "    <tr>\n",
       "      <th>products</th>\n",
       "      <td>1.87</td>\n",
       "      <td>0.79</td>\n",
       "    </tr>\n",
       "    <tr>\n",
       "      <th>credit_card</th>\n",
       "      <td>0.68</td>\n",
       "      <td>0.47</td>\n",
       "    </tr>\n",
       "    <tr>\n",
       "      <th>last_activity</th>\n",
       "      <td>0.52</td>\n",
       "      <td>0.50</td>\n",
       "    </tr>\n",
       "    <tr>\n",
       "      <th>est_salary</th>\n",
       "      <td>147786.81</td>\n",
       "      <td>139285.51</td>\n",
       "    </tr>\n",
       "    <tr>\n",
       "      <th>churn</th>\n",
       "      <td>0.18</td>\n",
       "      <td>0.39</td>\n",
       "    </tr>\n",
       "  </tbody>\n",
       "</table>\n",
       "</div>"
      ],
      "text/plain": [
       "                   mean        std\n",
       "user_id       171755.22   33695.53\n",
       "score            848.68      65.40\n",
       "gender             0.50       0.50\n",
       "age               42.73      12.18\n",
       "equity             2.63       1.98\n",
       "balance       827245.59 1980327.41\n",
       "products           1.87       0.79\n",
       "credit_card        0.68       0.47\n",
       "last_activity      0.52       0.50\n",
       "est_salary    147786.81  139285.51\n",
       "churn              0.18       0.39"
      ]
     },
     "execution_count": 17,
     "metadata": {},
     "output_type": "execute_result"
    }
   ],
   "source": [
    "# Посмотрим на средние и стандартные отклонения признаков\n",
    "gender = {'Ж' : 0, 'М' : 1}\n",
    "data_mean_std = data.replace({'gender' : gender}).agg(['mean', 'std']).T.round(2)\n",
    "data_mean_std"
   ]
  },
  {
   "cell_type": "markdown",
   "metadata": {},
   "source": [
    "Средний отток клиентов 18%."
   ]
  },
  {
   "cell_type": "code",
   "execution_count": 18,
   "metadata": {},
   "outputs": [
    {
     "data": {
      "image/png": "[encoded data removed]",
      "text/plain": [
       "<Figure size 360x360 with 1 Axes>"
      ]
     },
     "metadata": {},
     "output_type": "display_data"
    },
    {
     "data": {
      "image/png": "[encoded data removed]",
      "text/plain": [
       "<Figure size 360x360 with 1 Axes>"
      ]
     },
     "metadata": {},
     "output_type": "display_data"
    },
    {
     "data": {
      "image/png": "[encoded data removed]",
      "text/plain": [
       "<Figure size 360x360 with 1 Axes>"
      ]
     },
     "metadata": {},
     "output_type": "display_data"
    },
    {
     "data": {
      "image/png": "[encoded data removed]",
      "text/plain": [
       "<Figure size 360x360 with 1 Axes>"
      ]
     },
     "metadata": {},
     "output_type": "display_data"
    }
   ],
   "source": [
    "# Рассмотрим распределение количественных признаков\n",
    "df_quantitative = data[['score', 'age', 'balance', 'est_salary']]\n",
    "pd.set_option(\"display.float_format\", \"{:.2f}\".format)\n",
    "with sns.axes_style('darkgrid'):\n",
    "    for col in df_quantitative.columns:\n",
    "        A = data[col]\n",
    "        A_no_nan = A[~np.isnan(A)]\n",
    "    \n",
    "        sns.displot(A_no_nan, kde=False, bins=30)\n",
    "        plt.title(f'Распределение по \"{col}\"')\n",
    "        plt.xlabel([col])\n",
    "        plt.ylabel('Количество клиентов')\n",
    "        plt.show()"
   ]
  },
  {
   "cell_type": "markdown",
   "metadata": {},
   "source": [
    "**Промежуточный вывод.**\n",
    "\n",
    "В целом распределение выглядит нормально. Есть большие максимальные значения в зарплате и балансе. Скорее всего это богатые клиенты.\n",
    "\n",
    "Самое большое количество клиентов собрано по количеству баллов в промежутке от 750 до 950 и в возрасте от 25 до 45 лет."
   ]
  },
  {
   "cell_type": "code",
   "execution_count": 19,
   "metadata": {
    "scrolled": false
   },
   "outputs": [
    {
     "data": {
      "image/png": "[encoded data removed]",
      "text/plain": [
       "<Figure size 360x360 with 1 Axes>"
      ]
     },
     "metadata": {},
     "output_type": "display_data"
    },
    {
     "data": {
      "image/png": "[encoded data removed]",
      "text/plain": [
       "<Figure size 360x360 with 1 Axes>"
      ]
     },
     "metadata": {},
     "output_type": "display_data"
    },
    {
     "data": {
      "image/png": "[encoded data removed]",
      "text/plain": [
       "<Figure size 360x360 with 1 Axes>"
      ]
     },
     "metadata": {},
     "output_type": "display_data"
    },
    {
     "data": {
      "image/png": "[encoded data removed]",
      "text/plain": [
       "<Figure size 360x360 with 1 Axes>"
      ]
     },
     "metadata": {},
     "output_type": "display_data"
    },
    {
     "data": {
      "image/png": "[encoded data removed]",
      "text/plain": [
       "<Figure size 360x360 with 1 Axes>"
      ]
     },
     "metadata": {},
     "output_type": "display_data"
    },
    {
     "data": {
      "image/png": "[encoded data removed]",
      "text/plain": [
       "<Figure size 360x360 with 1 Axes>"
      ]
     },
     "metadata": {},
     "output_type": "display_data"
    },
    {
     "data": {
      "image/png": "[encoded data removed]",
      "text/plain": [
       "<Figure size 360x360 with 1 Axes>"
      ]
     },
     "metadata": {},
     "output_type": "display_data"
    }
   ],
   "source": [
    "# Рассмотрим распределение категориальных и дискретных признаков\n",
    "df_quantitative = data[['city', 'gender', 'equity', 'products', 'credit_card', 'last_activity', 'churn']]\n",
    "pd.set_option(\"display.float_format\", \"{:.2f}\".format)\n",
    "with sns.axes_style('darkgrid'):\n",
    "    for col in df_quantitative.columns:\n",
    "        sns.catplot(x=col, kind='count', palette=\"ch:.1\", data=data)\n",
    "        plt.title(f'Распределение по \"{col}\"')\n",
    "        plt.xlabel('')\n",
    "        plt.ylabel('Количество клиентов')\n",
    "        plt.grid(True, axis='y', linestyle='--')\n",
    "        plt.show()"
   ]
  },
  {
   "cell_type": "markdown",
   "metadata": {},
   "source": [
    "**Промежуточный вывод 2.**\n",
    "\n",
    "1. Больше всего клиентов в Ярославле - почти 6 тысяч, потом Рыбинск - чуть больше 2,5 тысяч, и Ростов - около 1,5 тысяч. \n",
    "\n",
    "Количество женщин и мужчин составляет 50% на 50%. \n",
    "\n",
    "Количество баллов собственности в большинстве своем находятся от 0 до 5.\n",
    "\n",
    "Клиенты чаще всего используют 1 или 2 продукта банка.\n",
    "\n",
    "Примерно у 30% клиентов есть кредитная карта.\n",
    "\n",
    "В банке примерно 50% на 50% активных и неактивных клиентов.\n",
    "\n",
    "Из банка ушло примерно 18% клиентов."
   ]
  },
  {
   "cell_type": "code",
   "execution_count": 20,
   "metadata": {},
   "outputs": [
    {
     "name": "stdout",
     "output_type": "stream",
     "text": [
      "Requirement already satisfied: phik in /opt/conda/lib/python3.9/site-packages (0.12.3)\n",
      "Requirement already satisfied: joblib>=0.14.1 in /opt/conda/lib/python3.9/site-packages (from phik) (1.1.0)\n",
      "Requirement already satisfied: scipy>=1.5.2 in /opt/conda/lib/python3.9/site-packages (from phik) (1.9.1)\n",
      "Requirement already satisfied: numpy>=1.18.0 in /opt/conda/lib/python3.9/site-packages (from phik) (1.21.1)\n",
      "Requirement already satisfied: pandas>=0.25.1 in /opt/conda/lib/python3.9/site-packages (from phik) (1.2.4)\n",
      "Requirement already satisfied: matplotlib>=2.2.3 in /opt/conda/lib/python3.9/site-packages (from phik) (3.3.4)\n",
      "Requirement already satisfied: python-dateutil>=2.1 in /opt/conda/lib/python3.9/site-packages (from matplotlib>=2.2.3->phik) (2.8.1)\n",
      "Requirement already satisfied: pillow>=6.2.0 in /opt/conda/lib/python3.9/site-packages (from matplotlib>=2.2.3->phik) (8.4.0)\n",
      "Requirement already satisfied: kiwisolver>=1.0.1 in /opt/conda/lib/python3.9/site-packages (from matplotlib>=2.2.3->phik) (1.4.4)\n",
      "Requirement already satisfied: cycler>=0.10 in /opt/conda/lib/python3.9/site-packages (from matplotlib>=2.2.3->phik) (0.11.0)\n",
      "Requirement already satisfied: pyparsing!=2.0.4,!=2.1.2,!=2.1.6,>=2.0.3 in /opt/conda/lib/python3.9/site-packages (from matplotlib>=2.2.3->phik) (2.4.7)\n",
      "Requirement already satisfied: pytz>=2017.3 in /opt/conda/lib/python3.9/site-packages (from pandas>=0.25.1->phik) (2021.1)\n",
      "Requirement already satisfied: six>=1.5 in /opt/conda/lib/python3.9/site-packages (from python-dateutil>=2.1->matplotlib>=2.2.3->phik) (1.16.0)\n",
      "interval columns not set, guessing: ['score', 'age', 'equity', 'balance', 'products', 'credit_card', 'last_activity', 'est_salary', 'churn']\n"
     ]
    },
    {
     "data": {
      "image/png": "[encoded data removed]",
      "text/plain": [
       "<Figure size 1080x576 with 2 Axes>"
      ]
     },
     "metadata": {
      "needs_background": "light"
     },
     "output_type": "display_data"
    }
   ],
   "source": [
    "# Построим корреляцию phik\n",
    "!pip install phik\n",
    "data_without_user = data.drop('user_id', axis = 1)\n",
    "import phik\n",
    "from phik.report import plot_correlation_matrix\n",
    "from phik import report\n",
    "phik_overview = data_without_user.phik_matrix()\n",
    "phik_overview\n",
    "plot_correlation_matrix(phik_overview.values, \n",
    "                        x_labels=phik_overview.columns, \n",
    "                        y_labels=phik_overview.index, \n",
    "                        vmin=0, vmax=1, color_map=\"Greens\", \n",
    "                        title=r\"correlation $\\phi_K$\", \n",
    "                        fontsize_factor=1.5, \n",
    "                        figsize=(15, 8))\n",
    "plt.tight_layout()"
   ]
  },
  {
   "cell_type": "code",
   "execution_count": 21,
   "metadata": {},
   "outputs": [
    {
     "name": "stdout",
     "output_type": "stream",
     "text": [
      "interval columns not set, guessing: ['score', 'age', 'equity', 'balance', 'products', 'credit_card', 'last_activity', 'est_salary', 'churn']\n"
     ]
    },
    {
     "data": {
      "text/plain": [
       "<AxesSubplot:title={'center':'Корреляция оттока клиентов'}>"
      ]
     },
     "execution_count": 21,
     "metadata": {},
     "output_type": "execute_result"
    },
    {
     "data": {
      "image/png": "[encoded data removed]",
      "text/plain": [
       "<Figure size 1080x720 with 2 Axes>"
      ]
     },
     "metadata": {
      "needs_background": "light"
     },
     "output_type": "display_data"
    }
   ],
   "source": [
    "plt.figure(figsize=(15, 10))\n",
    "plt.title('Корреляция оттока клиентов')\n",
    "sns.heatmap(data_without_user.phik_matrix().loc[:,['churn']].drop('churn').sort_values('churn'), annot=True, fmt=\".0%\", cmap=\"vlag\", center=0)"
   ]
  },
  {
   "cell_type": "code",
   "execution_count": 22,
   "metadata": {},
   "outputs": [
    {
     "name": "stdout",
     "output_type": "stream",
     "text": [
      "interval columns not set, guessing: ['score', 'age', 'equity', 'balance', 'products', 'credit_card', 'last_activity', 'est_salary', 'churn', 'city_Ростов', 'city_Рыбинск', 'city_Ярославль', 'gender_Ж', 'gender_М']\n"
     ]
    },
    {
     "data": {
      "image/png": "[encoded data removed]",
      "text/plain": [
       "<Figure size 1080x576 with 2 Axes>"
      ]
     },
     "metadata": {
      "needs_background": "light"
     },
     "output_type": "display_data"
    }
   ],
   "source": [
    "# Построим корреляцию phik с каждым городом и гендером отдельно\n",
    "import phik\n",
    "from phik.report import plot_correlation_matrix\n",
    "from phik import report\n",
    "data_binar = pd.get_dummies(data, columns=['city','gender'])\n",
    "data_binar_2 = pd.get_dummies(data_without_user, columns=['city','gender'])\n",
    "phik_overview = data_binar_2.phik_matrix()\n",
    "phik_overview\n",
    "plot_correlation_matrix(phik_overview.values, \n",
    "                        x_labels=phik_overview.columns, \n",
    "                        y_labels=phik_overview.index, \n",
    "                        vmin=0, vmax=1, color_map=\"Greens\", \n",
    "                        title=r\"correlation $\\phi_K$\", \n",
    "                        fontsize_factor=1.5, \n",
    "                        figsize=(15, 8))\n",
    "plt.tight_layout()"
   ]
  },
  {
   "cell_type": "markdown",
   "metadata": {},
   "source": [
    "**Промежуточный вывод 2.**\n",
    "\n",
    "В целом мы видим небольшую корреляцию между параметрами. Нас интересует столбец с оттоком клиентов churn. \n",
    "\n",
    "Выделяются соотношения:\n",
    "1. Оттока с количеством продуктов, которыми пользуется клиент;\n",
    "2. Оттока с количеством баллов собственности;\n",
    "3. Оттока со значением активного клиента."
   ]
  },
  {
   "cell_type": "markdown",
   "metadata": {},
   "source": [
    "Рассмотрим отток клиентов по разным признакам"
   ]
  },
  {
   "cell_type": "code",
   "execution_count": 23,
   "metadata": {},
   "outputs": [
    {
     "data": {
      "text/html": [
       "<div>\n",
       "<style scoped>\n",
       "    .dataframe tbody tr th:only-of-type {\n",
       "        vertical-align: middle;\n",
       "    }\n",
       "\n",
       "    .dataframe tbody tr th {\n",
       "        vertical-align: top;\n",
       "    }\n",
       "\n",
       "    .dataframe thead th {\n",
       "        text-align: right;\n",
       "    }\n",
       "</style>\n",
       "<table border=\"1\" class=\"dataframe\">\n",
       "  <thead>\n",
       "    <tr style=\"text-align: right;\">\n",
       "      <th></th>\n",
       "      <th>sum</th>\n",
       "      <th>count</th>\n",
       "      <th>%</th>\n",
       "    </tr>\n",
       "    <tr>\n",
       "      <th>city</th>\n",
       "      <th></th>\n",
       "      <th></th>\n",
       "      <th></th>\n",
       "    </tr>\n",
       "  </thead>\n",
       "  <tbody>\n",
       "    <tr>\n",
       "      <th>Ростов</th>\n",
       "      <td>265</td>\n",
       "      <td>1416</td>\n",
       "      <td>18.71</td>\n",
       "    </tr>\n",
       "    <tr>\n",
       "      <th>Рыбинск</th>\n",
       "      <td>437</td>\n",
       "      <td>2683</td>\n",
       "      <td>16.29</td>\n",
       "    </tr>\n",
       "    <tr>\n",
       "      <th>Ярославль</th>\n",
       "      <td>1117</td>\n",
       "      <td>5875</td>\n",
       "      <td>19.01</td>\n",
       "    </tr>\n",
       "  </tbody>\n",
       "</table>\n",
       "</div>"
      ],
      "text/plain": [
       "            sum  count     %\n",
       "city                        \n",
       "Ростов      265   1416 18.71\n",
       "Рыбинск     437   2683 16.29\n",
       "Ярославль  1117   5875 19.01"
      ]
     },
     "execution_count": 23,
     "metadata": {},
     "output_type": "execute_result"
    },
    {
     "data": {
      "image/png": "[encoded data removed]",
      "text/plain": [
       "<Figure size 1440x720 with 1 Axes>"
      ]
     },
     "metadata": {
      "needs_background": "light"
     },
     "output_type": "display_data"
    }
   ],
   "source": [
    "# Отток по городам\n",
    "city_churn = data.groupby('city')['churn'].agg(['sum', 'count'])\n",
    "city_churn['%'] = city_churn['sum'] / city_churn['count'] * 100\n",
    "\n",
    "city_churn['sum'].plot(kind = 'bar', figsize = (20,10), title = 'Количество ушедших клиентов по городам',\n",
    "                      xlabel = 'Город', ylabel = 'Количество ушедших клиентов')\n",
    "\n",
    "city_churn"
   ]
  },
  {
   "cell_type": "code",
   "execution_count": 24,
   "metadata": {},
   "outputs": [
    {
     "data": {
      "text/html": [
       "<div>\n",
       "<style scoped>\n",
       "    .dataframe tbody tr th:only-of-type {\n",
       "        vertical-align: middle;\n",
       "    }\n",
       "\n",
       "    .dataframe tbody tr th {\n",
       "        vertical-align: top;\n",
       "    }\n",
       "\n",
       "    .dataframe thead th {\n",
       "        text-align: right;\n",
       "    }\n",
       "</style>\n",
       "<table border=\"1\" class=\"dataframe\">\n",
       "  <thead>\n",
       "    <tr style=\"text-align: right;\">\n",
       "      <th></th>\n",
       "      <th>sum</th>\n",
       "      <th>count</th>\n",
       "      <th>%</th>\n",
       "    </tr>\n",
       "    <tr>\n",
       "      <th>gender</th>\n",
       "      <th></th>\n",
       "      <th></th>\n",
       "      <th></th>\n",
       "    </tr>\n",
       "  </thead>\n",
       "  <tbody>\n",
       "    <tr>\n",
       "      <th>Ж</th>\n",
       "      <td>636</td>\n",
       "      <td>4983</td>\n",
       "      <td>12.76</td>\n",
       "    </tr>\n",
       "    <tr>\n",
       "      <th>М</th>\n",
       "      <td>1183</td>\n",
       "      <td>4991</td>\n",
       "      <td>23.70</td>\n",
       "    </tr>\n",
       "  </tbody>\n",
       "</table>\n",
       "</div>"
      ],
      "text/plain": [
       "         sum  count     %\n",
       "gender                   \n",
       "Ж        636   4983 12.76\n",
       "М       1183   4991 23.70"
      ]
     },
     "execution_count": 24,
     "metadata": {},
     "output_type": "execute_result"
    },
    {
     "data": {
      "image/png": "[encoded data removed]",
      "text/plain": [
       "<Figure size 1440x720 with 1 Axes>"
      ]
     },
     "metadata": {
      "needs_background": "light"
     },
     "output_type": "display_data"
    }
   ],
   "source": [
    "# Отток по гендеру\n",
    "gender_churn = data.groupby('gender')['churn'].agg(['sum', 'count'])\n",
    "gender_churn['%'] = gender_churn['sum'] / gender_churn['count'] * 100\n",
    "\n",
    "gender_churn['sum'].plot(kind = 'bar', figsize = (20,10), title = 'Количество ушедших клиентов по гендеру',\n",
    "                      xlabel = 'Гендер', ylabel = 'Количество ушедших клиентов')\n",
    "\n",
    "gender_churn"
   ]
  },
  {
   "cell_type": "code",
   "execution_count": 25,
   "metadata": {},
   "outputs": [
    {
     "data": {
      "text/html": [
       "<div>\n",
       "<style scoped>\n",
       "    .dataframe tbody tr th:only-of-type {\n",
       "        vertical-align: middle;\n",
       "    }\n",
       "\n",
       "    .dataframe tbody tr th {\n",
       "        vertical-align: top;\n",
       "    }\n",
       "\n",
       "    .dataframe thead th {\n",
       "        text-align: right;\n",
       "    }\n",
       "</style>\n",
       "<table border=\"1\" class=\"dataframe\">\n",
       "  <thead>\n",
       "    <tr style=\"text-align: right;\">\n",
       "      <th></th>\n",
       "      <th>sum</th>\n",
       "      <th>count</th>\n",
       "      <th>%</th>\n",
       "    </tr>\n",
       "    <tr>\n",
       "      <th>age</th>\n",
       "      <th></th>\n",
       "      <th></th>\n",
       "      <th></th>\n",
       "    </tr>\n",
       "  </thead>\n",
       "  <tbody>\n",
       "    <tr>\n",
       "      <th>18</th>\n",
       "      <td>1</td>\n",
       "      <td>13</td>\n",
       "      <td>7.69</td>\n",
       "    </tr>\n",
       "    <tr>\n",
       "      <th>19</th>\n",
       "      <td>1</td>\n",
       "      <td>16</td>\n",
       "      <td>6.25</td>\n",
       "    </tr>\n",
       "    <tr>\n",
       "      <th>20</th>\n",
       "      <td>3</td>\n",
       "      <td>23</td>\n",
       "      <td>13.04</td>\n",
       "    </tr>\n",
       "    <tr>\n",
       "      <th>21</th>\n",
       "      <td>4</td>\n",
       "      <td>15</td>\n",
       "      <td>26.67</td>\n",
       "    </tr>\n",
       "    <tr>\n",
       "      <th>22</th>\n",
       "      <td>4</td>\n",
       "      <td>27</td>\n",
       "      <td>14.81</td>\n",
       "    </tr>\n",
       "    <tr>\n",
       "      <th>...</th>\n",
       "      <td>...</td>\n",
       "      <td>...</td>\n",
       "      <td>...</td>\n",
       "    </tr>\n",
       "    <tr>\n",
       "      <th>81</th>\n",
       "      <td>0</td>\n",
       "      <td>4</td>\n",
       "      <td>0.00</td>\n",
       "    </tr>\n",
       "    <tr>\n",
       "      <th>82</th>\n",
       "      <td>0</td>\n",
       "      <td>2</td>\n",
       "      <td>0.00</td>\n",
       "    </tr>\n",
       "    <tr>\n",
       "      <th>83</th>\n",
       "      <td>0</td>\n",
       "      <td>3</td>\n",
       "      <td>0.00</td>\n",
       "    </tr>\n",
       "    <tr>\n",
       "      <th>84</th>\n",
       "      <td>0</td>\n",
       "      <td>2</td>\n",
       "      <td>0.00</td>\n",
       "    </tr>\n",
       "    <tr>\n",
       "      <th>86</th>\n",
       "      <td>0</td>\n",
       "      <td>2</td>\n",
       "      <td>0.00</td>\n",
       "    </tr>\n",
       "  </tbody>\n",
       "</table>\n",
       "<p>68 rows × 3 columns</p>\n",
       "</div>"
      ],
      "text/plain": [
       "     sum  count     %\n",
       "age                  \n",
       "18     1     13  7.69\n",
       "19     1     16  6.25\n",
       "20     3     23 13.04\n",
       "21     4     15 26.67\n",
       "22     4     27 14.81\n",
       "..   ...    ...   ...\n",
       "81     0      4  0.00\n",
       "82     0      2  0.00\n",
       "83     0      3  0.00\n",
       "84     0      2  0.00\n",
       "86     0      2  0.00\n",
       "\n",
       "[68 rows x 3 columns]"
      ]
     },
     "execution_count": 25,
     "metadata": {},
     "output_type": "execute_result"
    },
    {
     "data": {
      "image/png": "[encoded data removed]",
      "text/plain": [
       "<Figure size 1440x720 with 1 Axes>"
      ]
     },
     "metadata": {
      "needs_background": "light"
     },
     "output_type": "display_data"
    }
   ],
   "source": [
    "# Отток по возрасту\n",
    "age_churn = data.groupby('age')['churn'].agg(['sum', 'count'])\n",
    "age_churn['%'] = age_churn['sum'] / age_churn['count'] * 100\n",
    "\n",
    "age_churn['sum'].plot(kind = 'bar', figsize = (20,10), title = 'Количество ушедших клиентов по возрасту',\n",
    "                      xlabel = 'Возраст', ylabel = 'Количество ушедших клиентов')\n",
    "\n",
    "age_churn"
   ]
  },
  {
   "cell_type": "code",
   "execution_count": 26,
   "metadata": {},
   "outputs": [
    {
     "data": {
      "text/html": [
       "<div>\n",
       "<style scoped>\n",
       "    .dataframe tbody tr th:only-of-type {\n",
       "        vertical-align: middle;\n",
       "    }\n",
       "\n",
       "    .dataframe tbody tr th {\n",
       "        vertical-align: top;\n",
       "    }\n",
       "\n",
       "    .dataframe thead th {\n",
       "        text-align: right;\n",
       "    }\n",
       "</style>\n",
       "<table border=\"1\" class=\"dataframe\">\n",
       "  <thead>\n",
       "    <tr style=\"text-align: right;\">\n",
       "      <th></th>\n",
       "      <th>sum</th>\n",
       "      <th>count</th>\n",
       "      <th>%</th>\n",
       "    </tr>\n",
       "    <tr>\n",
       "      <th>equity</th>\n",
       "      <th></th>\n",
       "      <th></th>\n",
       "      <th></th>\n",
       "    </tr>\n",
       "  </thead>\n",
       "  <tbody>\n",
       "    <tr>\n",
       "      <th>0</th>\n",
       "      <td>90</td>\n",
       "      <td>2576</td>\n",
       "      <td>3.49</td>\n",
       "    </tr>\n",
       "    <tr>\n",
       "      <th>1</th>\n",
       "      <td>93</td>\n",
       "      <td>773</td>\n",
       "      <td>12.03</td>\n",
       "    </tr>\n",
       "    <tr>\n",
       "      <th>2</th>\n",
       "      <td>166</td>\n",
       "      <td>1051</td>\n",
       "      <td>15.79</td>\n",
       "    </tr>\n",
       "    <tr>\n",
       "      <th>3</th>\n",
       "      <td>322</td>\n",
       "      <td>1541</td>\n",
       "      <td>20.90</td>\n",
       "    </tr>\n",
       "    <tr>\n",
       "      <th>4</th>\n",
       "      <td>464</td>\n",
       "      <td>1847</td>\n",
       "      <td>25.12</td>\n",
       "    </tr>\n",
       "    <tr>\n",
       "      <th>5</th>\n",
       "      <td>576</td>\n",
       "      <td>1915</td>\n",
       "      <td>30.08</td>\n",
       "    </tr>\n",
       "    <tr>\n",
       "      <th>6</th>\n",
       "      <td>58</td>\n",
       "      <td>161</td>\n",
       "      <td>36.02</td>\n",
       "    </tr>\n",
       "    <tr>\n",
       "      <th>7</th>\n",
       "      <td>37</td>\n",
       "      <td>80</td>\n",
       "      <td>46.25</td>\n",
       "    </tr>\n",
       "    <tr>\n",
       "      <th>8</th>\n",
       "      <td>6</td>\n",
       "      <td>17</td>\n",
       "      <td>35.29</td>\n",
       "    </tr>\n",
       "    <tr>\n",
       "      <th>9</th>\n",
       "      <td>7</td>\n",
       "      <td>13</td>\n",
       "      <td>53.85</td>\n",
       "    </tr>\n",
       "  </tbody>\n",
       "</table>\n",
       "</div>"
      ],
      "text/plain": [
       "        sum  count     %\n",
       "equity                  \n",
       "0        90   2576  3.49\n",
       "1        93    773 12.03\n",
       "2       166   1051 15.79\n",
       "3       322   1541 20.90\n",
       "4       464   1847 25.12\n",
       "5       576   1915 30.08\n",
       "6        58    161 36.02\n",
       "7        37     80 46.25\n",
       "8         6     17 35.29\n",
       "9         7     13 53.85"
      ]
     },
     "execution_count": 26,
     "metadata": {},
     "output_type": "execute_result"
    },
    {
     "data": {
      "image/png": "[encoded data removed]",
      "text/plain": [
       "<Figure size 1440x720 with 1 Axes>"
      ]
     },
     "metadata": {
      "needs_background": "light"
     },
     "output_type": "display_data"
    }
   ],
   "source": [
    "# Отток по количеству баллов\n",
    "equity_churn = data.groupby('equity')['churn'].agg(['sum', 'count'])\n",
    "equity_churn['%'] = equity_churn['sum'] / equity_churn['count'] * 100\n",
    "\n",
    "equity_churn['sum'].plot(kind = 'bar', figsize = (20,10), title = 'Количество ушедших клиентов по количеству баллов собственности',\n",
    "                      xlabel = 'Количество баллов собственности', ylabel = 'Количество ушедших клиентов')\n",
    "\n",
    "equity_churn"
   ]
  },
  {
   "cell_type": "code",
   "execution_count": 27,
   "metadata": {},
   "outputs": [
    {
     "data": {
      "text/html": [
       "<div>\n",
       "<style scoped>\n",
       "    .dataframe tbody tr th:only-of-type {\n",
       "        vertical-align: middle;\n",
       "    }\n",
       "\n",
       "    .dataframe tbody tr th {\n",
       "        vertical-align: top;\n",
       "    }\n",
       "\n",
       "    .dataframe thead th {\n",
       "        text-align: right;\n",
       "    }\n",
       "</style>\n",
       "<table border=\"1\" class=\"dataframe\">\n",
       "  <thead>\n",
       "    <tr style=\"text-align: right;\">\n",
       "      <th></th>\n",
       "      <th>sum</th>\n",
       "      <th>count</th>\n",
       "      <th>%</th>\n",
       "    </tr>\n",
       "    <tr>\n",
       "      <th>products</th>\n",
       "      <th></th>\n",
       "      <th></th>\n",
       "      <th></th>\n",
       "    </tr>\n",
       "  </thead>\n",
       "  <tbody>\n",
       "    <tr>\n",
       "      <th>0</th>\n",
       "      <td>1</td>\n",
       "      <td>1</td>\n",
       "      <td>100.00</td>\n",
       "    </tr>\n",
       "    <tr>\n",
       "      <th>1</th>\n",
       "      <td>235</td>\n",
       "      <td>3323</td>\n",
       "      <td>7.07</td>\n",
       "    </tr>\n",
       "    <tr>\n",
       "      <th>2</th>\n",
       "      <td>978</td>\n",
       "      <td>5119</td>\n",
       "      <td>19.11</td>\n",
       "    </tr>\n",
       "    <tr>\n",
       "      <th>3</th>\n",
       "      <td>297</td>\n",
       "      <td>1038</td>\n",
       "      <td>28.61</td>\n",
       "    </tr>\n",
       "    <tr>\n",
       "      <th>4</th>\n",
       "      <td>300</td>\n",
       "      <td>474</td>\n",
       "      <td>63.29</td>\n",
       "    </tr>\n",
       "    <tr>\n",
       "      <th>5</th>\n",
       "      <td>8</td>\n",
       "      <td>19</td>\n",
       "      <td>42.11</td>\n",
       "    </tr>\n",
       "  </tbody>\n",
       "</table>\n",
       "</div>"
      ],
      "text/plain": [
       "          sum  count      %\n",
       "products                   \n",
       "0           1      1 100.00\n",
       "1         235   3323   7.07\n",
       "2         978   5119  19.11\n",
       "3         297   1038  28.61\n",
       "4         300    474  63.29\n",
       "5           8     19  42.11"
      ]
     },
     "execution_count": 27,
     "metadata": {},
     "output_type": "execute_result"
    },
    {
     "data": {
      "image/png": "[encoded data removed]",
      "text/plain": [
       "<Figure size 1440x720 with 1 Axes>"
      ]
     },
     "metadata": {
      "needs_background": "light"
     },
     "output_type": "display_data"
    }
   ],
   "source": [
    "# Отток по количеству продуктов\n",
    "products_churn = data.groupby('products')['churn'].agg(['sum', 'count'])\n",
    "products_churn['%'] = products_churn['sum'] / products_churn['count'] * 100\n",
    "\n",
    "products_churn['%'].plot(kind = 'bar', figsize = (20,10), title = 'Количество ушедших клиентов по количеству продуктов',\n",
    "                      xlabel = 'Количество продуктов', ylabel = 'Количество ушедших клиентов')\n",
    "\n",
    "products_churn"
   ]
  },
  {
   "cell_type": "code",
   "execution_count": 28,
   "metadata": {},
   "outputs": [
    {
     "data": {
      "text/html": [
       "<div>\n",
       "<style scoped>\n",
       "    .dataframe tbody tr th:only-of-type {\n",
       "        vertical-align: middle;\n",
       "    }\n",
       "\n",
       "    .dataframe tbody tr th {\n",
       "        vertical-align: top;\n",
       "    }\n",
       "\n",
       "    .dataframe thead th {\n",
       "        text-align: right;\n",
       "    }\n",
       "</style>\n",
       "<table border=\"1\" class=\"dataframe\">\n",
       "  <thead>\n",
       "    <tr style=\"text-align: right;\">\n",
       "      <th></th>\n",
       "      <th>sum</th>\n",
       "      <th>count</th>\n",
       "      <th>%</th>\n",
       "    </tr>\n",
       "    <tr>\n",
       "      <th>credit_card</th>\n",
       "      <th></th>\n",
       "      <th></th>\n",
       "      <th></th>\n",
       "    </tr>\n",
       "  </thead>\n",
       "  <tbody>\n",
       "    <tr>\n",
       "      <th>0</th>\n",
       "      <td>816</td>\n",
       "      <td>3190</td>\n",
       "      <td>25.58</td>\n",
       "    </tr>\n",
       "    <tr>\n",
       "      <th>1</th>\n",
       "      <td>1003</td>\n",
       "      <td>6784</td>\n",
       "      <td>14.78</td>\n",
       "    </tr>\n",
       "  </tbody>\n",
       "</table>\n",
       "</div>"
      ],
      "text/plain": [
       "              sum  count     %\n",
       "credit_card                   \n",
       "0             816   3190 25.58\n",
       "1            1003   6784 14.78"
      ]
     },
     "execution_count": 28,
     "metadata": {},
     "output_type": "execute_result"
    },
    {
     "data": {
      "image/png": "[encoded data removed]",
      "text/plain": [
       "<Figure size 1440x720 with 1 Axes>"
      ]
     },
     "metadata": {
      "needs_background": "light"
     },
     "output_type": "display_data"
    }
   ],
   "source": [
    "# Отток по клиентам, которые имеют кредитную карту\n",
    "credit_churn = data.groupby('credit_card')['churn'].agg(['sum', 'count'])\n",
    "credit_churn['%'] = credit_churn['sum'] / credit_churn['count'] * 100\n",
    "\n",
    "credit_churn['sum'].plot(kind = 'bar', figsize = (20,10), title = 'Количество ушедших клиентов которые владеют кредитной картой',\n",
    "                      xlabel = 'Имеется ли кредитная карта', ylabel = 'Количество ушедших клиентов')\n",
    "\n",
    "credit_churn"
   ]
  },
  {
   "cell_type": "code",
   "execution_count": 29,
   "metadata": {},
   "outputs": [
    {
     "data": {
      "text/html": [
       "<div>\n",
       "<style scoped>\n",
       "    .dataframe tbody tr th:only-of-type {\n",
       "        vertical-align: middle;\n",
       "    }\n",
       "\n",
       "    .dataframe tbody tr th {\n",
       "        vertical-align: top;\n",
       "    }\n",
       "\n",
       "    .dataframe thead th {\n",
       "        text-align: right;\n",
       "    }\n",
       "</style>\n",
       "<table border=\"1\" class=\"dataframe\">\n",
       "  <thead>\n",
       "    <tr style=\"text-align: right;\">\n",
       "      <th></th>\n",
       "      <th>sum</th>\n",
       "      <th>count</th>\n",
       "      <th>%</th>\n",
       "    </tr>\n",
       "    <tr>\n",
       "      <th>last_activity</th>\n",
       "      <th></th>\n",
       "      <th></th>\n",
       "      <th></th>\n",
       "    </tr>\n",
       "  </thead>\n",
       "  <tbody>\n",
       "    <tr>\n",
       "      <th>0</th>\n",
       "      <td>542</td>\n",
       "      <td>4759</td>\n",
       "      <td>11.39</td>\n",
       "    </tr>\n",
       "    <tr>\n",
       "      <th>1</th>\n",
       "      <td>1277</td>\n",
       "      <td>5215</td>\n",
       "      <td>24.49</td>\n",
       "    </tr>\n",
       "  </tbody>\n",
       "</table>\n",
       "</div>"
      ],
      "text/plain": [
       "                sum  count     %\n",
       "last_activity                   \n",
       "0               542   4759 11.39\n",
       "1              1277   5215 24.49"
      ]
     },
     "execution_count": 29,
     "metadata": {},
     "output_type": "execute_result"
    },
    {
     "data": {
      "image/png": "[encoded data removed]",
      "text/plain": [
       "<Figure size 1440x720 with 1 Axes>"
      ]
     },
     "metadata": {
      "needs_background": "light"
     },
     "output_type": "display_data"
    }
   ],
   "source": [
    "# Отток по активности клиента\n",
    "activity_churn = data.groupby('last_activity')['churn'].agg(['sum', 'count'])\n",
    "activity_churn['%'] = activity_churn['sum'] / activity_churn['count'] * 100\n",
    "\n",
    "activity_churn['sum'].plot(kind = 'bar', figsize = (20,10), title = 'Количество ушедших клиентов по активности клиента',\n",
    "                      xlabel = 'Активность клиента', ylabel = 'Количество ушедших клиентов')\n",
    "\n",
    "activity_churn"
   ]
  },
  {
   "cell_type": "markdown",
   "metadata": {},
   "source": [
    "**Вывод**\n",
    "\n",
    "1. Больше всего клиентов в Ярославле - почти 6 тысяч, а также самый большой отток клиентов - больше 1 тысячи человек (19% оттока). Рыбинск имеет чуть больше 2,5 тысяч клиентов, из них 437 отточных клиентов (16,3% оттока) и в Ростове около 1,5 тысяч клиентов, отточных клиентов 265 (18,7% оттока).\n",
    "2. Количество женщин и мужчин составляет 50% на 50%. Отток клиентов мужчин составляет 23,7% от общего числа клиентов мужчин, у женщин - 12,8% от общего числа клиентов женщин.\n",
    "3. Количество ушедших клиентов по возрасту разбросаны в диапазоне от 25 до 60 лет с пиковыми значениями в 29-38 лет.\n",
    "4. Количество баллов собственности в большинстве своем находятся от 0 до 5. Есть зависимость, что чем больше количество баллов собственности у клиентов, тем больший % оттока.\n",
    "5. Клиенты чаще всего используют 1 или 2 продукта банка. Так же как и с количеством баллов собственности. Чем больше продуктов банка используют клиенты - тем больший % оттока. Исключение - клиенты с 5 продуктами.\n",
    "6. Примерно у 30% клиентов есть кредитная карта и отток таких клиентов составляет примерно 25,6% от количества клиентов с кредитной картой. Отток клиентов, у которых нет кредитной карты составляет 14,8% от общего количества клиентов без кредитной карты.\n",
    "7. В банке примерно 50% на 50% активных и неактивных клиентов. Отток активных клиентов составляет 11,4% от общего числа активных клиентов, не активных - 24,5% от общего числа неактивных клиентов.\n",
    "9. Из банка ушло примерно 18% клиентов."
   ]
  },
  {
   "cell_type": "markdown",
   "metadata": {},
   "source": [
    "**Шаг 4. Проверим гипотезы**"
   ]
  },
  {
   "cell_type": "markdown",
   "metadata": {},
   "source": [
    "1. Гипотеза различия дохода между теми клиентами, которые ушли и теми, которые остались."
   ]
  },
  {
   "cell_type": "markdown",
   "metadata": {},
   "source": [
    "Сформулируем нулевую и альтернативную гипотезу.\n",
    "\n",
    "H0: Между группами \"ушел\" и \"остался\" нет различия в доходах.\n",
    "\n",
    "H1: Между группами \"ушел\" и \"остался\" есть различие в доходах."
   ]
  },
  {
   "cell_type": "code",
   "execution_count": 30,
   "metadata": {},
   "outputs": [
    {
     "data": {
      "text/html": [
       "<div>\n",
       "<style scoped>\n",
       "    .dataframe tbody tr th:only-of-type {\n",
       "        vertical-align: middle;\n",
       "    }\n",
       "\n",
       "    .dataframe tbody tr th {\n",
       "        vertical-align: top;\n",
       "    }\n",
       "\n",
       "    .dataframe thead th {\n",
       "        text-align: right;\n",
       "    }\n",
       "</style>\n",
       "<table border=\"1\" class=\"dataframe\">\n",
       "  <thead>\n",
       "    <tr style=\"text-align: right;\">\n",
       "      <th></th>\n",
       "      <th>mean</th>\n",
       "      <th>median</th>\n",
       "      <th>std</th>\n",
       "    </tr>\n",
       "    <tr>\n",
       "      <th>churn</th>\n",
       "      <th></th>\n",
       "      <th></th>\n",
       "      <th></th>\n",
       "    </tr>\n",
       "  </thead>\n",
       "  <tbody>\n",
       "    <tr>\n",
       "      <th>0</th>\n",
       "      <td>147674.64</td>\n",
       "      <td>118227.60</td>\n",
       "      <td>142684.41</td>\n",
       "    </tr>\n",
       "    <tr>\n",
       "      <th>1</th>\n",
       "      <td>148289.70</td>\n",
       "      <td>125395.22</td>\n",
       "      <td>122932.16</td>\n",
       "    </tr>\n",
       "  </tbody>\n",
       "</table>\n",
       "</div>"
      ],
      "text/plain": [
       "           mean    median       std\n",
       "churn                              \n",
       "0     147674.64 118227.60 142684.41\n",
       "1     148289.70 125395.22 122932.16"
      ]
     },
     "execution_count": 30,
     "metadata": {},
     "output_type": "execute_result"
    }
   ],
   "source": [
    "# Посмотрим данные по доходам клиентам в разбивке по оттоку\n",
    "data.groupby('churn')['est_salary'].agg(['mean','median','std']).round(2)"
   ]
  },
  {
   "cell_type": "code",
   "execution_count": 31,
   "metadata": {},
   "outputs": [
    {
     "name": "stdout",
     "output_type": "stream",
     "text": [
      "alpha: 0.05\n",
      "p-value: 0.8515799588935961\n",
      "Не получилось отвергнуть нулевую гипотезу\n"
     ]
    }
   ],
   "source": [
    "results = st.ttest_ind(\n",
    "    data[data['churn'] == 0]['est_salary'],\n",
    "    data[data['churn'] == 1]['est_salary'], equal_var = False)\n",
    "\n",
    "alpha = .05\n",
    "print('alpha:', alpha)\n",
    "print ('p-value:', results.pvalue) \n",
    "if results.pvalue < alpha:\n",
    "    print ('Отвергаем нулевую гипотезу')\n",
    "else:\n",
    "    print ('Не получилось отвергнуть нулевую гипотезу')"
   ]
  },
  {
   "cell_type": "markdown",
   "metadata": {},
   "source": [
    "**Вывод**\n",
    "\n",
    "Нулевую гипотезу не отвергаем. Между группами \"ушел\" и \"остался\" статистически значимых различий доходов нет."
   ]
  },
  {
   "cell_type": "markdown",
   "metadata": {},
   "source": [
    "2. Гипотеза о различии активности клиентов, которые ушли с теми, которые остались."
   ]
  },
  {
   "cell_type": "markdown",
   "metadata": {},
   "source": [
    "Сформулируем нулевую и альтернативную гипотезу.\n",
    "\n",
    "H0: Между группами \"ушел\" и \"остался\" нет различий в активности.\n",
    "\n",
    "H1: Между группами \"ушел\" и \"остался\" есть различия в активности."
   ]
  },
  {
   "cell_type": "code",
   "execution_count": 32,
   "metadata": {},
   "outputs": [
    {
     "data": {
      "text/html": [
       "<div>\n",
       "<style scoped>\n",
       "    .dataframe tbody tr th:only-of-type {\n",
       "        vertical-align: middle;\n",
       "    }\n",
       "\n",
       "    .dataframe tbody tr th {\n",
       "        vertical-align: top;\n",
       "    }\n",
       "\n",
       "    .dataframe thead th {\n",
       "        text-align: right;\n",
       "    }\n",
       "</style>\n",
       "<table border=\"1\" class=\"dataframe\">\n",
       "  <thead>\n",
       "    <tr style=\"text-align: right;\">\n",
       "      <th></th>\n",
       "      <th>mean</th>\n",
       "      <th>std</th>\n",
       "    </tr>\n",
       "    <tr>\n",
       "      <th>churn</th>\n",
       "      <th></th>\n",
       "      <th></th>\n",
       "    </tr>\n",
       "  </thead>\n",
       "  <tbody>\n",
       "    <tr>\n",
       "      <th>0</th>\n",
       "      <td>0.48</td>\n",
       "      <td>0.50</td>\n",
       "    </tr>\n",
       "    <tr>\n",
       "      <th>1</th>\n",
       "      <td>0.70</td>\n",
       "      <td>0.46</td>\n",
       "    </tr>\n",
       "  </tbody>\n",
       "</table>\n",
       "</div>"
      ],
      "text/plain": [
       "       mean  std\n",
       "churn           \n",
       "0      0.48 0.50\n",
       "1      0.70 0.46"
      ]
     },
     "execution_count": 32,
     "metadata": {},
     "output_type": "execute_result"
    }
   ],
   "source": [
    "# Посмотрим данные по активности клиентов в разбивке по оттоку\n",
    "data.groupby('churn')['last_activity'].agg(['mean','std']).round(2)"
   ]
  },
  {
   "cell_type": "code",
   "execution_count": 33,
   "metadata": {},
   "outputs": [
    {
     "name": "stdout",
     "output_type": "stream",
     "text": [
      "alpha: 0.05\n",
      "p-value: 8.100190763155924e-70\n",
      "Отвергаем нулевую гипотезу\n"
     ]
    }
   ],
   "source": [
    "results = st.ttest_ind(\n",
    "    data[data['churn'] == 0]['last_activity'],\n",
    "    data[data['churn'] == 1]['last_activity'], equal_var = False)\n",
    "\n",
    "alpha = .05\n",
    "print('alpha:', alpha)\n",
    "print ('p-value:', results.pvalue) \n",
    "if results.pvalue < alpha:\n",
    "    print ('Отвергаем нулевую гипотезу')\n",
    "else:\n",
    "    print ('Не получилось отвергнуть нулевую гипотезу')"
   ]
  },
  {
   "cell_type": "markdown",
   "metadata": {},
   "source": [
    "**Вывод**\n",
    "\n",
    "Нулевую гипотезу отвергаем. Между группами \"ушел\" и \"остался\" есть статистически значимые различия в активности клиента."
   ]
  },
  {
   "cell_type": "markdown",
   "metadata": {},
   "source": [
    "3. Гипотеза о различии количества используемых банковских продуктов клиентов которые ушли, с теми, которые остались"
   ]
  },
  {
   "cell_type": "markdown",
   "metadata": {},
   "source": [
    "Сформулируем нулевую и альтернативную гипотезу.\n",
    "\n",
    "H0: Между группами \"ушел\" и \"остался\" нет различий в количестве продуктов, которые используют клиенты.\n",
    "\n",
    "H1: Между группами \"ушел\" и \"остался\" есть различия в количестве продуктов, которые используют клиенты."
   ]
  },
  {
   "cell_type": "code",
   "execution_count": 34,
   "metadata": {},
   "outputs": [
    {
     "data": {
      "text/html": [
       "<div>\n",
       "<style scoped>\n",
       "    .dataframe tbody tr th:only-of-type {\n",
       "        vertical-align: middle;\n",
       "    }\n",
       "\n",
       "    .dataframe tbody tr th {\n",
       "        vertical-align: top;\n",
       "    }\n",
       "\n",
       "    .dataframe thead th {\n",
       "        text-align: right;\n",
       "    }\n",
       "</style>\n",
       "<table border=\"1\" class=\"dataframe\">\n",
       "  <thead>\n",
       "    <tr style=\"text-align: right;\">\n",
       "      <th></th>\n",
       "      <th>mean</th>\n",
       "      <th>std</th>\n",
       "    </tr>\n",
       "    <tr>\n",
       "      <th>churn</th>\n",
       "      <th></th>\n",
       "      <th></th>\n",
       "    </tr>\n",
       "  </thead>\n",
       "  <tbody>\n",
       "    <tr>\n",
       "      <th>0</th>\n",
       "      <td>1.76</td>\n",
       "      <td>0.71</td>\n",
       "    </tr>\n",
       "    <tr>\n",
       "      <th>1</th>\n",
       "      <td>2.38</td>\n",
       "      <td>0.92</td>\n",
       "    </tr>\n",
       "  </tbody>\n",
       "</table>\n",
       "</div>"
      ],
      "text/plain": [
       "       mean  std\n",
       "churn           \n",
       "0      1.76 0.71\n",
       "1      2.38 0.92"
      ]
     },
     "execution_count": 34,
     "metadata": {},
     "output_type": "execute_result"
    }
   ],
   "source": [
    "# Посмотрим данные по активности клиентов в разбивке по оттоку\n",
    "data.groupby('churn')['products'].agg(['mean','std']).round(2)"
   ]
  },
  {
   "cell_type": "code",
   "execution_count": 35,
   "metadata": {},
   "outputs": [
    {
     "name": "stdout",
     "output_type": "stream",
     "text": [
      "alpha: 0.05\n",
      "p-value: 7.537464337201273e-138\n",
      "Отвергаем нулевую гипотезу\n"
     ]
    }
   ],
   "source": [
    "results = st.ttest_ind(\n",
    "    data[data['churn'] == 0]['products'],\n",
    "    data[data['churn'] == 1]['products'], equal_var = False)\n",
    "\n",
    "alpha = .05\n",
    "print('alpha:', alpha)\n",
    "print ('p-value:', results.pvalue) \n",
    "if results.pvalue < alpha:\n",
    "    print ('Отвергаем нулевую гипотезу')\n",
    "else:\n",
    "    print ('Не получилось отвергнуть нулевую гипотезу')"
   ]
  },
  {
   "cell_type": "markdown",
   "metadata": {},
   "source": [
    "**Вывод**\n",
    "\n",
    "Нулевую гипотезу отвергаем. Между группами \"ушел\" и \"остался\" есть статистически значимые различия в количестве продуктов, которые используют."
   ]
  },
  {
   "cell_type": "markdown",
   "metadata": {},
   "source": [
    "**Шаг 5.** Составим высокоотточные сегменты клиентов, которые склонны уходить из банка."
   ]
  },
  {
   "cell_type": "markdown",
   "metadata": {},
   "source": [
    "**Сегмент 1. Доля отточных клиентов 64,5%.**\n",
    "\n",
    "**Характеристики:**\n",
    "- гендер: мужской;\n",
    "- количество баллов собственности: больше или равно 4;\n",
    "- баллы кредитного скоринга: больше или равно 830;\n",
    "- количество продуктов, которыми пользуется клиент: больше 1;\n",
    "- активный клиент: нет."
   ]
  },
  {
   "cell_type": "code",
   "execution_count": 36,
   "metadata": {},
   "outputs": [
    {
     "name": "stdout",
     "output_type": "stream",
     "text": [
      "\u001b[1mСегмент 1\u001b[0m\n",
      "Общее количество клиентов: 609\n",
      "Количество отточных клиентов: 393\n",
      "Доля отточных клиентов: 64.5320197044335\n"
     ]
    }
   ],
   "source": [
    "# Вывод данных по сегменту\n",
    "print('\\033[1mСегмент 1\\033[0m')\n",
    "print ('Общее количество клиентов:', data_binar.query('gender_М == 1 and equity >= 4 and score >= 830 and products > 1 \\\n",
    "                                and last_activity == 1')['user_id'].count())\n",
    "\n",
    "print ('Количество отточных клиентов:', data_binar.query('gender_М == 1 and churn==1 and equity >= 4 and score >= 830 \\\n",
    "                                    and products > 1 and last_activity == 1')['user_id'].count())\n",
    "\n",
    "print ('Доля отточных клиентов:', data_binar.query('churn==1 and gender_М == 1 and churn==1 and equity >= 4 \\\n",
    "                            and score >= 830 and products > 1 and last_activity == 1')['user_id'].count() / \n",
    "       data_binar.query('gender_М == 1 and equity >= 4 and score >= 830 and products > 1 \\\n",
    "                        and last_activity == 1')['user_id'].count() * 100)"
   ]
  },
  {
   "cell_type": "markdown",
   "metadata": {},
   "source": [
    "**Сегмент 2. Доля отточных клиентов 60,4%.**\n",
    "\n",
    "**Характеристики:**\n",
    "- возраст: больше или равен 29 и меньше или равен 37;\n",
    "- количество баллов собственности: больше или равно 3;\n",
    "- баллы кредитного скоринга: больше или равно 830;\n",
    "- активный клиент: нет."
   ]
  },
  {
   "cell_type": "code",
   "execution_count": 37,
   "metadata": {},
   "outputs": [
    {
     "name": "stdout",
     "output_type": "stream",
     "text": [
      "\u001b[1mСегмент 2\u001b[0m\n",
      "Общее количество клиентов: 631\n",
      "Количество отточных клиентов: 381\n",
      "Доля отточных клиентов: 60.38034865293186\n"
     ]
    }
   ],
   "source": [
    "# Вывод данных по сегменту\n",
    "print('\\033[1mСегмент 2\\033[0m')\n",
    "print ('Общее количество клиентов:', data_binar.query('age >= 29 and age <= 37 and last_activity == 1 \\\n",
    "                                and equity >= 3 and score >= 830')['user_id'].count())\n",
    "\n",
    "print ('Количество отточных клиентов:', data_binar.query('churn==1 and age >= 29 and age <= 37 and last_activity == 1 \\\n",
    "                                and equity >= 3 and score >= 830')['user_id'].count())\n",
    "\n",
    "print ('Доля отточных клиентов:', data_binar.query('churn==1 and age >= 29 and age <= 37 and last_activity == 1 \\\n",
    "                            and equity >= 3 and score >= 830')['user_id'].count() / \n",
    "                                  data_binar.query('age >= 29 and age <= 37 and last_activity == 1 \\\n",
    "                                and equity >= 3 and score >= 830')['user_id'].count() * 100)"
   ]
  },
  {
   "cell_type": "markdown",
   "metadata": {},
   "source": [
    "**Сегмент 3. Доля отточных клиентов 59,8%.**\n",
    "\n",
    "**Характеристики:**\n",
    "- кредитная карта: есть;\n",
    "- количество продуктов, которыми пользуется клиент: больше 1;\n",
    "- баллы кредитного скоринга: больше 850;\n",
    "- активный клиент: нет."
   ]
  },
  {
   "cell_type": "code",
   "execution_count": 38,
   "metadata": {},
   "outputs": [
    {
     "name": "stdout",
     "output_type": "stream",
     "text": [
      "\u001b[1mСегмент 3\u001b[0m\n",
      "Общее количество клиентов: 761\n",
      "Количество отточных клиентов: 455\n",
      "Доля отточных клиентов: 59.78975032851511\n"
     ]
    }
   ],
   "source": [
    "# Вывод данных по сегменту\n",
    "print('\\033[1mСегмент 3\\033[0m')\n",
    "print ('Общее количество клиентов:', data_binar.query('score > 850 and last_activity == 1 \\\n",
    "                                and credit_card == 0 and products > 1')['user_id'].count())\n",
    "\n",
    "print ('Количество отточных клиентов:', data_binar.query('churn==1 and score > 850 \\\n",
    "                                and last_activity == 1 and credit_card == 0  and products > 1')['user_id'].count())\n",
    "\n",
    "print ('Доля отточных клиентов:', data_binar.query('churn==1 and score > 850 and last_activity == 1 \\\n",
    "                            and credit_card == 0  and products > 1')['user_id'].count() / \n",
    "                                  data_binar.query('score > 850 and last_activity == 1 \\\n",
    "                            and credit_card == 0  and products > 1')['user_id'].count() * 100)"
   ]
  },
  {
   "cell_type": "markdown",
   "metadata": {},
   "source": [
    "**Сегмент 4. Доля отточных клиентов 59,6%.**\n",
    "\n",
    "**Характеристики:**\n",
    "- количество баллов собственности: больше или равно 5;\n",
    "- количество продуктов, которыми пользуется клиент: больше или равно 2;\n",
    "- баллы кредитного скоринга: больше или равно 850;\n",
    "- активный клиент: нет."
   ]
  },
  {
   "cell_type": "code",
   "execution_count": 39,
   "metadata": {},
   "outputs": [
    {
     "name": "stdout",
     "output_type": "stream",
     "text": [
      "\u001b[1mСегмент 4\u001b[0m\n",
      "Общее количество клиентов: 636\n",
      "Количество отточных клиентов: 379\n",
      "Доля отточных клиентов: 59.59119496855346\n"
     ]
    }
   ],
   "source": [
    "# Вывод данных по сегменту\n",
    "print('\\033[1mСегмент 4\\033[0m')\n",
    "print ('Общее количество клиентов:', data_binar.query('score >= 850 and equity >= 5 \\\n",
    "                                and products >= 2 and last_activity == 1')['user_id'].count())\n",
    "\n",
    "print ('Количество отточных клиентов:', data_binar.query('churn==1 and score >= 850 and equity >= 5 \\\n",
    "                                and products >= 2 and last_activity == 1')['user_id'].count())\n",
    "\n",
    "print ('Доля отточных клиентов:', data_binar.query('churn==1 and score >= 850 and equity >= 5 \\\n",
    "                            and products >= 2 and last_activity == 1')['user_id'].count() / \n",
    "                                  data_binar.query('score >= 850 and equity >= 5 \\\n",
    "                            and products >= 2 and last_activity == 1')['user_id'].count() * 100)"
   ]
  },
  {
   "cell_type": "markdown",
   "metadata": {},
   "source": [
    "**Сегмент 5. Доля отточных клиентов 54,2%.**\n",
    "\n",
    "**Характеристики:**\n",
    "- гендер: мужской;\n",
    "- количество баллов собственности: больше 3;\n",
    "- количество продуктов, которыми пользуется клиент: больше 1;\n",
    "- кредитная карта: есть;\n",
    "- баллы кредитного скоринга: больше или равно 800."
   ]
  },
  {
   "cell_type": "code",
   "execution_count": 40,
   "metadata": {},
   "outputs": [
    {
     "name": "stdout",
     "output_type": "stream",
     "text": [
      "\u001b[1mСегмент 5\u001b[0m\n",
      "Общее количество клиентов: 618\n",
      "Количество отточных клиентов: 335\n",
      "Доля отточных клиентов: 54.20711974110033\n"
     ]
    }
   ],
   "source": [
    "# Вывод данных по сегменту\n",
    "print('\\033[1mСегмент 5\\033[0m')\n",
    "print ('Общее количество клиентов:', data_binar.query('equity > 3 and gender_М == 1 and products > 1 \\\n",
    "                                and credit_card == 0 and score >= 800')['user_id'].count())\n",
    "\n",
    "print ('Количество отточных клиентов:', data_binar.query('churn==1 and equity > 3 and gender_М == 1 and products > 1 \\\n",
    "                                and credit_card == 0 and score >= 800')['user_id'].count())\n",
    "\n",
    "print ('Доля отточных клиентов:', data_binar.query('churn==1 and equity > 3 and gender_М == 1 and products > 1 \\\n",
    "                                and credit_card == 0 and score >= 800')['user_id'].count() / \n",
    "                                  data_binar.query('equity > 3 and gender_М == 1 and products > 1 \\\n",
    "                                and credit_card == 0 and score >= 800')['user_id'].count() * 100)"
   ]
  },
  {
   "cell_type": "markdown",
   "metadata": {},
   "source": [
    "**Сегмент 6. Доля отточных клиентов 43,7%.**\n",
    "\n",
    "**Характеристики:**\n",
    "- город: Ярославль;\n",
    "- гендер: мужской;\n",
    "- количество баллов собственности: больше 4."
   ]
  },
  {
   "cell_type": "code",
   "execution_count": 41,
   "metadata": {},
   "outputs": [
    {
     "name": "stdout",
     "output_type": "stream",
     "text": [
      "\u001b[1mСегмент 6\u001b[0m\n",
      "Общее количество клиентов: 671\n",
      "Количество отточных клиентов: 293\n",
      "Доля отточных клиентов: 43.666169895678095\n"
     ]
    }
   ],
   "source": [
    "# Вывод данных по сегменту\n",
    "print('\\033[1mСегмент 6\\033[0m')\n",
    "print ('Общее количество клиентов:', data_binar.query('city_Ярославль == 1 and gender_М == 1 \\\n",
    "                                    and equity > 4')['user_id'].count())\n",
    "\n",
    "print ('Количество отточных клиентов:', data_binar.query('churn==1 and city_Ярославль == 1 and gender_М == 1 \\\n",
    "                                    and equity > 4')['user_id'].count())\n",
    "\n",
    "print ('Доля отточных клиентов:', data_binar.query('churn==1 and city_Ярославль == 1 and gender_М == 1 \\\n",
    "                                    and equity > 4')['user_id'].count() / \n",
    "                                  data_binar.query('city_Ярославль == 1 and gender_М == 1 \\\n",
    "                                    and equity > 4')['user_id'].count() * 100)"
   ]
  },
  {
   "cell_type": "markdown",
   "metadata": {},
   "source": [
    "**Шаг 6.** Итоговые выводы и рекомендации для отдела маркетинга."
   ]
  },
  {
   "cell_type": "markdown",
   "metadata": {},
   "source": [
    "**Итоговый вывод.**\n",
    "\n",
    "Проанализировав всех клиентов банка можно сказать, что:\n",
    "- больше всего клиентов в Ярославле - почти 6 тысяч, в Рыбинске чуть больше 2,5 тысяч, в Ростове около 1,5 тысяч;\n",
    "- количество клиентов женщин и мужчин составляет по 50%;\n",
    "- самое больше количество клиентов в возрасте от 30 до 60 лет;\n",
    "- количество баллов собственности в большинстве своем находятся в значениях от 0 до 5;\n",
    "- клиенты чаще всего пользуются 1 или 2 продуктами банка.\n",
    "- примерно у 30% клиентов есть кредитная карта;\n",
    "- активных клиентов банка примерно 50%;\n",
    "- отток клиентов из банка составляет примерно 18%.\n",
    "\n",
    "Проанализировав отток клиентов из банка можно сказать, что:\n",
    "- самый большой отток клиентов в Ярославле - больше 1 тысячи (19% оттока от всех клиентов города Ярославль). Рыбинск - 437 отточных клиентов (16,3% оттока от всех клиентов города Рыбинск). Ростов - 265 отточных клиентов (18,7% оттока от всех клиентов города Ростов);\n",
    "- отток клиентов мужчин составляет 23,7% от общего числа клиентов мужчин, у женщин - 12,8% от общего числа клиентов женщин;\n",
    "- количество ушедших клиентов по возрасту разбросаны в диапазоне от 25 до 60 лет с пиковыми значениями в 29-38 лет и 52-58 лет;\n",
    "- есть зависимость, что чем больше количество баллов собственности у клиентов, тем больший % оттока;\n",
    "- чем больше продуктов банка используют клиенты - тем больший % оттока. Исключение - клиенты с 5 продуктами;\n",
    "- отток клиентов у которых есть кредитная карта составляет примерно 25,6% от количества клиентов с кредитной картой. Отток клиентов, у которых нет кредитной карты составляет 14,8% от общего количества клиентов без кредитной карты;\n",
    "- отток активных клиентов составляет 11,4% от общего числа активных клиентов, не активных - 24,5% от общего числа неактивных клиентов."
   ]
  },
  {
   "cell_type": "markdown",
   "metadata": {},
   "source": [
    "**Рекомендации для отдела маркетинга.**\n",
    "\n",
    "**Общие рекомендации.**\n",
    "\n",
    "1. Исследовать причины оттока и разработать меры для снижения оттока клиентов в городе Ярославль и оттока клиентов мужского пола.\n",
    "2. Уделить особое внимание клиентам в возрасте 29-38 и 52-58 лет. Провести анализ чтобы определить причины оттока и предложить меры для удержания клиентов.\n",
    "3. Разработать стратегию для удержания клиентов с высоким количеством баллов собственности. Возможно стоит предложить индивидуальные предложения для таких клиентов, чтобы увеличить их удовлетворенность услугами банка.\n",
    "4. Разработать меры по стимулированию клиентов использовать больше продуктов банка и повысить их лояльность.\n",
    "5. Для клиентов с кредитными картами предложить дополнительные преимущества и программы лояльности. Также проработать предложения для клиентов без кредитных карт.\n",
    "6. Сосредоточиться на удержании активных клиентов. Возможно разработать программы и акции, которые будут способствовать удержанию активных клиентов и повышению их лояльности.\n",
    "\n",
    "**По сегментам.** \n",
    "\n",
    "В целом они похожи друг на друга. Чаще всего характеристики клиента, который ушел из банка это:\n",
    "- мужчина;\n",
    "- возраст в районе 29-38 лет и 52-68 лет;\n",
    "- количеством баллов собственности больше 3;\n",
    "- использует больше 1 продукта в банке;\n",
    "- имеет кредитный скоринг больше 800;\n",
    "- не является активным клиентом.\n",
    "\n",
    "Рекомендую повышать активность клиентов:\n",
    "- информировать о новых продуктах банка;\n",
    "- предложить повышенный кэшбэк на мужские категории;\n",
    "- оформлять потребительский кредит на очень выгодных условиях;\n",
    "- улучшить условия для ипотечного кредита (для молодых клиентов);\n",
    "- улучшить условия пенсионной программы (для пожилых клиентов);\n",
    "- улучшить условия для дебетовой карты."
   ]
  }
 ],
 "metadata": {
  "ExecuteTimeLog": [
   {
    "duration": 1476,
    "start_time": "2023-07-12T06:14:04.338Z"
   },
   {
    "duration": 178,
    "start_time": "2023-07-12T06:14:45.318Z"
   },
   {
    "duration": 91,
    "start_time": "2023-07-12T06:15:24.647Z"
   },
   {
    "duration": 4,
    "start_time": "2023-07-12T06:15:28.428Z"
   },
   {
    "duration": 90,
    "start_time": "2023-07-12T06:15:28.773Z"
   },
   {
    "duration": 16,
    "start_time": "2023-07-12T06:16:03.035Z"
   },
   {
    "duration": 17,
    "start_time": "2023-07-12T06:16:20.108Z"
   },
   {
    "duration": 13,
    "start_time": "2023-07-12T06:16:26.624Z"
   },
   {
    "duration": 4,
    "start_time": "2023-07-12T06:21:18.582Z"
   },
   {
    "duration": 20,
    "start_time": "2023-07-12T06:21:21.932Z"
   },
   {
    "duration": 32,
    "start_time": "2023-07-12T06:22:14.659Z"
   },
   {
    "duration": 13,
    "start_time": "2023-07-12T06:22:47.434Z"
   },
   {
    "duration": 17,
    "start_time": "2023-07-12T06:29:17.261Z"
   },
   {
    "duration": 17,
    "start_time": "2023-07-12T06:30:12.688Z"
   },
   {
    "duration": 5,
    "start_time": "2023-07-12T06:33:06.140Z"
   },
   {
    "duration": 4,
    "start_time": "2023-07-12T06:33:26.583Z"
   },
   {
    "duration": 5,
    "start_time": "2023-07-12T06:33:36.708Z"
   },
   {
    "duration": 22,
    "start_time": "2023-07-12T06:34:02.313Z"
   },
   {
    "duration": 5,
    "start_time": "2023-07-12T06:34:05.081Z"
   },
   {
    "duration": 15,
    "start_time": "2023-07-12T06:34:54.407Z"
   },
   {
    "duration": 13,
    "start_time": "2023-07-12T06:35:22.805Z"
   },
   {
    "duration": 4,
    "start_time": "2023-07-12T06:35:33.427Z"
   },
   {
    "duration": 13,
    "start_time": "2023-07-12T06:35:40.374Z"
   },
   {
    "duration": 13,
    "start_time": "2023-07-12T06:39:41.449Z"
   },
   {
    "duration": 13,
    "start_time": "2023-07-12T06:39:52.971Z"
   },
   {
    "duration": 16,
    "start_time": "2023-07-12T06:40:02.571Z"
   },
   {
    "duration": 6,
    "start_time": "2023-07-12T06:40:07.304Z"
   },
   {
    "duration": 6,
    "start_time": "2023-07-12T06:40:16.044Z"
   },
   {
    "duration": 6,
    "start_time": "2023-07-12T06:40:21.494Z"
   },
   {
    "duration": 6,
    "start_time": "2023-07-12T06:40:25.396Z"
   },
   {
    "duration": 6,
    "start_time": "2023-07-12T06:40:31.738Z"
   },
   {
    "duration": 6,
    "start_time": "2023-07-12T06:40:47.549Z"
   },
   {
    "duration": 8,
    "start_time": "2023-07-12T06:41:09.334Z"
   },
   {
    "duration": 10,
    "start_time": "2023-07-12T06:47:21.108Z"
   },
   {
    "duration": 20,
    "start_time": "2023-07-12T06:47:30.772Z"
   },
   {
    "duration": 4,
    "start_time": "2023-07-12T06:48:39.035Z"
   },
   {
    "duration": 23,
    "start_time": "2023-07-12T06:48:51.716Z"
   },
   {
    "duration": 16,
    "start_time": "2023-07-12T06:49:07.572Z"
   },
   {
    "duration": 29,
    "start_time": "2023-07-12T06:49:44.156Z"
   },
   {
    "duration": 25,
    "start_time": "2023-07-12T06:51:15.804Z"
   },
   {
    "duration": 169,
    "start_time": "2023-07-12T06:58:04.798Z"
   },
   {
    "duration": 172,
    "start_time": "2023-07-12T06:58:16.249Z"
   },
   {
    "duration": 9,
    "start_time": "2023-07-12T06:59:08.176Z"
   },
   {
    "duration": 1212,
    "start_time": "2023-07-12T06:59:24.734Z"
   },
   {
    "duration": 133,
    "start_time": "2023-07-12T06:59:25.948Z"
   },
   {
    "duration": 14,
    "start_time": "2023-07-12T06:59:26.083Z"
   },
   {
    "duration": 16,
    "start_time": "2023-07-12T06:59:26.099Z"
   },
   {
    "duration": 17,
    "start_time": "2023-07-12T06:59:26.117Z"
   },
   {
    "duration": 24,
    "start_time": "2023-07-12T06:59:26.136Z"
   },
   {
    "duration": 26,
    "start_time": "2023-07-12T06:59:26.162Z"
   },
   {
    "duration": 13,
    "start_time": "2023-07-12T06:59:26.190Z"
   },
   {
    "duration": 28,
    "start_time": "2023-07-12T06:59:26.205Z"
   },
   {
    "duration": 35,
    "start_time": "2023-07-12T06:59:26.235Z"
   },
   {
    "duration": 9,
    "start_time": "2023-07-12T06:59:26.272Z"
   },
   {
    "duration": 10,
    "start_time": "2023-07-12T07:07:00.333Z"
   },
   {
    "duration": 9,
    "start_time": "2023-07-12T07:07:08.590Z"
   },
   {
    "duration": 278,
    "start_time": "2023-07-12T07:07:31.134Z"
   },
   {
    "duration": 193,
    "start_time": "2023-07-12T07:07:37.342Z"
   },
   {
    "duration": 116,
    "start_time": "2023-07-12T07:11:22.405Z"
   },
   {
    "duration": 45,
    "start_time": "2023-07-12T07:11:33.577Z"
   },
   {
    "duration": 7039,
    "start_time": "2023-07-12T07:11:41.921Z"
   },
   {
    "duration": 24,
    "start_time": "2023-07-12T07:19:41.141Z"
   },
   {
    "duration": 14,
    "start_time": "2023-07-12T07:23:03.863Z"
   },
   {
    "duration": 7362,
    "start_time": "2023-07-12T07:23:05.387Z"
   },
   {
    "duration": 30,
    "start_time": "2023-07-12T07:23:54.450Z"
   },
   {
    "duration": 11,
    "start_time": "2023-07-12T07:27:27.650Z"
   },
   {
    "duration": 9,
    "start_time": "2023-07-12T07:27:35.785Z"
   },
   {
    "duration": 11,
    "start_time": "2023-07-12T07:28:14.642Z"
   },
   {
    "duration": 17,
    "start_time": "2023-07-12T07:28:37.834Z"
   },
   {
    "duration": 16,
    "start_time": "2023-07-12T07:28:49.438Z"
   },
   {
    "duration": 41,
    "start_time": "2023-07-12T07:28:56.537Z"
   },
   {
    "duration": 9,
    "start_time": "2023-07-12T07:30:24.837Z"
   },
   {
    "duration": 13,
    "start_time": "2023-07-12T07:30:25.648Z"
   },
   {
    "duration": 10,
    "start_time": "2023-07-12T07:30:27.333Z"
   },
   {
    "duration": 9,
    "start_time": "2023-07-12T07:36:12.829Z"
   },
   {
    "duration": 10,
    "start_time": "2023-07-12T07:36:33.802Z"
   },
   {
    "duration": 19,
    "start_time": "2023-07-12T07:36:51.454Z"
   },
   {
    "duration": 9,
    "start_time": "2023-07-12T07:38:16.305Z"
   },
   {
    "duration": 4004,
    "start_time": "2023-07-12T07:40:56.878Z"
   },
   {
    "duration": 134,
    "start_time": "2023-07-12T07:42:45.158Z"
   },
   {
    "duration": 4015,
    "start_time": "2023-07-12T07:42:59.590Z"
   },
   {
    "duration": 4,
    "start_time": "2023-07-12T07:44:07.189Z"
   },
   {
    "duration": 5,
    "start_time": "2023-07-12T07:44:23.945Z"
   },
   {
    "duration": 6,
    "start_time": "2023-07-12T07:44:33.857Z"
   },
   {
    "duration": 15,
    "start_time": "2023-07-12T07:44:40.869Z"
   },
   {
    "duration": 10,
    "start_time": "2023-07-12T07:44:44.433Z"
   },
   {
    "duration": 5,
    "start_time": "2023-07-12T07:46:13.273Z"
   },
   {
    "duration": 5,
    "start_time": "2023-07-12T07:46:18.657Z"
   },
   {
    "duration": 11,
    "start_time": "2023-07-12T07:47:07.853Z"
   },
   {
    "duration": 223,
    "start_time": "2023-07-12T07:52:59.632Z"
   },
   {
    "duration": 10,
    "start_time": "2023-07-12T07:55:38.581Z"
   },
   {
    "duration": 19,
    "start_time": "2023-07-12T07:57:01.287Z"
   },
   {
    "duration": 2260,
    "start_time": "2023-07-12T07:57:54.450Z"
   },
   {
    "duration": 2188,
    "start_time": "2023-07-12T07:58:15.925Z"
   },
   {
    "duration": 28,
    "start_time": "2023-07-12T07:59:04.785Z"
   },
   {
    "duration": 17,
    "start_time": "2023-07-12T07:59:29.796Z"
   },
   {
    "duration": 33,
    "start_time": "2023-07-12T07:59:44.080Z"
   },
   {
    "duration": 16,
    "start_time": "2023-07-12T08:00:28.279Z"
   },
   {
    "duration": 28,
    "start_time": "2023-07-12T08:01:10.777Z"
   },
   {
    "duration": 22,
    "start_time": "2023-07-12T08:01:22.488Z"
   },
   {
    "duration": 22,
    "start_time": "2023-07-12T08:01:39.294Z"
   },
   {
    "duration": 30,
    "start_time": "2023-07-12T08:02:01.024Z"
   },
   {
    "duration": 35,
    "start_time": "2023-07-12T08:02:08.982Z"
   },
   {
    "duration": 33,
    "start_time": "2023-07-12T08:02:41.199Z"
   },
   {
    "duration": 27,
    "start_time": "2023-07-12T08:02:49.841Z"
   },
   {
    "duration": 2398,
    "start_time": "2023-07-12T08:05:39.552Z"
   },
   {
    "duration": 37,
    "start_time": "2023-07-12T08:05:52.085Z"
   },
   {
    "duration": 36,
    "start_time": "2023-07-12T08:06:41.640Z"
   },
   {
    "duration": 29,
    "start_time": "2023-07-12T08:07:19.601Z"
   },
   {
    "duration": 171,
    "start_time": "2023-07-12T08:08:56.736Z"
   },
   {
    "duration": 48,
    "start_time": "2023-07-12T08:09:20.456Z"
   },
   {
    "duration": 52,
    "start_time": "2023-07-12T08:09:42.849Z"
   },
   {
    "duration": 120,
    "start_time": "2023-07-12T08:11:14.126Z"
   },
   {
    "duration": 1253,
    "start_time": "2023-07-12T08:17:02.126Z"
   },
   {
    "duration": 106,
    "start_time": "2023-07-12T08:17:03.382Z"
   },
   {
    "duration": 11,
    "start_time": "2023-07-12T08:17:03.490Z"
   },
   {
    "duration": 12,
    "start_time": "2023-07-12T08:17:03.503Z"
   },
   {
    "duration": 16,
    "start_time": "2023-07-12T08:17:03.517Z"
   },
   {
    "duration": 28,
    "start_time": "2023-07-12T08:17:03.534Z"
   },
   {
    "duration": 27,
    "start_time": "2023-07-12T08:17:03.568Z"
   },
   {
    "duration": 12,
    "start_time": "2023-07-12T08:17:03.596Z"
   },
   {
    "duration": 6,
    "start_time": "2023-07-12T08:17:03.610Z"
   },
   {
    "duration": 31,
    "start_time": "2023-07-12T08:17:03.618Z"
   },
   {
    "duration": 12,
    "start_time": "2023-07-12T08:17:03.660Z"
   },
   {
    "duration": 1296,
    "start_time": "2023-07-12T08:20:20.843Z"
   },
   {
    "duration": 108,
    "start_time": "2023-07-12T08:20:22.141Z"
   },
   {
    "duration": 13,
    "start_time": "2023-07-12T08:20:22.251Z"
   },
   {
    "duration": 15,
    "start_time": "2023-07-12T08:20:22.266Z"
   },
   {
    "duration": 15,
    "start_time": "2023-07-12T08:20:22.284Z"
   },
   {
    "duration": 5,
    "start_time": "2023-07-12T08:20:22.300Z"
   },
   {
    "duration": 35,
    "start_time": "2023-07-12T08:20:22.306Z"
   },
   {
    "duration": 37,
    "start_time": "2023-07-12T08:20:22.343Z"
   },
   {
    "duration": 13,
    "start_time": "2023-07-12T08:20:22.391Z"
   },
   {
    "duration": 84,
    "start_time": "2023-07-12T08:20:22.406Z"
   },
   {
    "duration": 9,
    "start_time": "2023-07-12T08:20:22.492Z"
   },
   {
    "duration": 88,
    "start_time": "2023-07-12T08:20:22.503Z"
   },
   {
    "duration": 9,
    "start_time": "2023-07-12T08:21:14.206Z"
   },
   {
    "duration": 9,
    "start_time": "2023-07-12T08:21:35.782Z"
   },
   {
    "duration": 9,
    "start_time": "2023-07-12T08:21:41.979Z"
   },
   {
    "duration": 11,
    "start_time": "2023-07-12T08:22:02.556Z"
   },
   {
    "duration": 53,
    "start_time": "2023-07-12T08:26:14.701Z"
   },
   {
    "duration": 10,
    "start_time": "2023-07-12T08:26:50.907Z"
   },
   {
    "duration": 7,
    "start_time": "2023-07-12T08:27:01.948Z"
   },
   {
    "duration": 7,
    "start_time": "2023-07-12T08:28:43.619Z"
   },
   {
    "duration": 8,
    "start_time": "2023-07-12T08:28:50.773Z"
   },
   {
    "duration": 8,
    "start_time": "2023-07-12T08:29:02.427Z"
   },
   {
    "duration": 6,
    "start_time": "2023-07-12T08:33:14.273Z"
   },
   {
    "duration": 13,
    "start_time": "2023-07-12T08:34:12.080Z"
   },
   {
    "duration": 6,
    "start_time": "2023-07-12T08:34:40.174Z"
   },
   {
    "duration": 5,
    "start_time": "2023-07-12T08:34:45.564Z"
   },
   {
    "duration": 10,
    "start_time": "2023-07-12T08:35:25.108Z"
   },
   {
    "duration": 9,
    "start_time": "2023-07-12T08:36:35.258Z"
   },
   {
    "duration": 1279,
    "start_time": "2023-07-12T08:37:06.916Z"
   },
   {
    "duration": 131,
    "start_time": "2023-07-12T08:37:08.197Z"
   },
   {
    "duration": 13,
    "start_time": "2023-07-12T08:37:08.331Z"
   },
   {
    "duration": 14,
    "start_time": "2023-07-12T08:37:08.347Z"
   },
   {
    "duration": 28,
    "start_time": "2023-07-12T08:37:08.363Z"
   },
   {
    "duration": 5,
    "start_time": "2023-07-12T08:37:08.393Z"
   },
   {
    "duration": 45,
    "start_time": "2023-07-12T08:37:08.400Z"
   },
   {
    "duration": 30,
    "start_time": "2023-07-12T08:37:08.447Z"
   },
   {
    "duration": 7,
    "start_time": "2023-07-12T08:37:08.479Z"
   },
   {
    "duration": 23,
    "start_time": "2023-07-12T08:37:08.489Z"
   },
   {
    "duration": 8,
    "start_time": "2023-07-12T08:37:08.513Z"
   },
   {
    "duration": 53,
    "start_time": "2023-07-12T08:37:08.523Z"
   },
   {
    "duration": 27,
    "start_time": "2023-07-12T08:37:08.578Z"
   },
   {
    "duration": 32,
    "start_time": "2023-07-12T08:37:08.607Z"
   },
   {
    "duration": 84,
    "start_time": "2023-07-12T08:37:08.641Z"
   },
   {
    "duration": 7,
    "start_time": "2023-07-12T08:37:08.727Z"
   },
   {
    "duration": 28,
    "start_time": "2023-07-12T08:37:08.736Z"
   },
   {
    "duration": 19,
    "start_time": "2023-07-12T08:38:14.538Z"
   },
   {
    "duration": 9,
    "start_time": "2023-07-12T08:38:29.113Z"
   },
   {
    "duration": 1299,
    "start_time": "2023-07-12T08:38:35.989Z"
   },
   {
    "duration": 150,
    "start_time": "2023-07-12T08:38:37.291Z"
   },
   {
    "duration": 14,
    "start_time": "2023-07-12T08:38:37.443Z"
   },
   {
    "duration": 20,
    "start_time": "2023-07-12T08:38:37.459Z"
   },
   {
    "duration": 18,
    "start_time": "2023-07-12T08:38:37.481Z"
   },
   {
    "duration": 6,
    "start_time": "2023-07-12T08:38:37.501Z"
   },
   {
    "duration": 36,
    "start_time": "2023-07-12T08:38:37.509Z"
   },
   {
    "duration": 27,
    "start_time": "2023-07-12T08:38:37.559Z"
   },
   {
    "duration": 7,
    "start_time": "2023-07-12T08:38:37.588Z"
   },
   {
    "duration": 44,
    "start_time": "2023-07-12T08:38:37.598Z"
   },
   {
    "duration": 8,
    "start_time": "2023-07-12T08:38:37.644Z"
   },
   {
    "duration": 15,
    "start_time": "2023-07-12T08:38:37.654Z"
   },
   {
    "duration": 17,
    "start_time": "2023-07-12T08:38:37.670Z"
   },
   {
    "duration": 9,
    "start_time": "2023-07-12T08:38:37.689Z"
   },
   {
    "duration": 51,
    "start_time": "2023-07-12T08:38:37.699Z"
   },
   {
    "duration": 11,
    "start_time": "2023-07-12T08:38:37.752Z"
   },
   {
    "duration": 26,
    "start_time": "2023-07-12T08:38:37.765Z"
   },
   {
    "duration": 21,
    "start_time": "2023-07-12T08:38:59.773Z"
   },
   {
    "duration": 39,
    "start_time": "2023-07-12T08:52:20.401Z"
   },
   {
    "duration": 42,
    "start_time": "2023-07-12T08:52:47.840Z"
   },
   {
    "duration": 41,
    "start_time": "2023-07-12T08:52:51.583Z"
   },
   {
    "duration": 58,
    "start_time": "2023-07-12T08:58:22.342Z"
   },
   {
    "duration": 51,
    "start_time": "2023-07-12T08:58:58.989Z"
   },
   {
    "duration": 9,
    "start_time": "2023-07-12T08:59:23.382Z"
   },
   {
    "duration": 9,
    "start_time": "2023-07-12T08:59:24.174Z"
   },
   {
    "duration": 15,
    "start_time": "2023-07-12T08:59:24.559Z"
   },
   {
    "duration": 8,
    "start_time": "2023-07-12T08:59:24.789Z"
   },
   {
    "duration": 1221,
    "start_time": "2023-07-12T08:59:29.096Z"
   },
   {
    "duration": 101,
    "start_time": "2023-07-12T08:59:30.320Z"
   },
   {
    "duration": 13,
    "start_time": "2023-07-12T08:59:30.423Z"
   },
   {
    "duration": 48,
    "start_time": "2023-07-12T08:59:30.437Z"
   },
   {
    "duration": 51,
    "start_time": "2023-07-12T08:59:30.487Z"
   },
   {
    "duration": 33,
    "start_time": "2023-07-12T08:59:30.540Z"
   },
   {
    "duration": 58,
    "start_time": "2023-07-12T08:59:30.575Z"
   },
   {
    "duration": 57,
    "start_time": "2023-07-12T08:59:30.635Z"
   },
   {
    "duration": 21,
    "start_time": "2023-07-12T08:59:30.695Z"
   },
   {
    "duration": 52,
    "start_time": "2023-07-12T08:59:30.718Z"
   },
   {
    "duration": 11,
    "start_time": "2023-07-12T08:59:30.772Z"
   },
   {
    "duration": 35,
    "start_time": "2023-07-12T08:59:30.785Z"
   },
   {
    "duration": 33,
    "start_time": "2023-07-12T08:59:30.822Z"
   },
   {
    "duration": 21,
    "start_time": "2023-07-12T08:59:30.858Z"
   },
   {
    "duration": 75,
    "start_time": "2023-07-12T08:59:30.880Z"
   },
   {
    "duration": 50,
    "start_time": "2023-07-12T08:59:30.957Z"
   },
   {
    "duration": 66,
    "start_time": "2023-07-12T08:59:31.009Z"
   },
   {
    "duration": 40,
    "start_time": "2023-07-12T08:59:44.791Z"
   },
   {
    "duration": 40,
    "start_time": "2023-07-12T08:59:47.317Z"
   },
   {
    "duration": 52,
    "start_time": "2023-07-12T08:59:47.997Z"
   },
   {
    "duration": 62,
    "start_time": "2023-07-12T08:59:56.456Z"
   },
   {
    "duration": 391,
    "start_time": "2023-07-12T09:02:47.957Z"
   },
   {
    "duration": 19,
    "start_time": "2023-07-12T09:04:17.405Z"
   },
   {
    "duration": 251,
    "start_time": "2023-07-12T09:04:44.797Z"
   },
   {
    "duration": 884,
    "start_time": "2023-07-12T09:05:58.214Z"
   },
   {
    "duration": 1135,
    "start_time": "2023-07-12T09:07:33.333Z"
   },
   {
    "duration": 13,
    "start_time": "2023-07-12T09:13:50.827Z"
   },
   {
    "duration": 15,
    "start_time": "2023-07-12T09:15:18.214Z"
   },
   {
    "duration": 305,
    "start_time": "2023-07-12T09:16:06.670Z"
   },
   {
    "duration": 2489,
    "start_time": "2023-07-12T09:16:12.106Z"
   },
   {
    "duration": 2323,
    "start_time": "2023-07-12T09:17:31.058Z"
   },
   {
    "duration": 12,
    "start_time": "2023-07-12T09:28:00.672Z"
   },
   {
    "duration": 3211,
    "start_time": "2023-07-12T09:28:14.408Z"
   },
   {
    "duration": 2056,
    "start_time": "2023-07-12T09:28:26.263Z"
   },
   {
    "duration": 2119,
    "start_time": "2023-07-12T09:28:56.144Z"
   },
   {
    "duration": 2383,
    "start_time": "2023-07-12T09:29:12.527Z"
   },
   {
    "duration": 528,
    "start_time": "2023-07-12T09:30:29.503Z"
   },
   {
    "duration": 539,
    "start_time": "2023-07-12T09:30:46.152Z"
   },
   {
    "duration": 10,
    "start_time": "2023-07-12T09:30:54.895Z"
   },
   {
    "duration": 11,
    "start_time": "2023-07-12T09:30:57.836Z"
   },
   {
    "duration": 2229,
    "start_time": "2023-07-12T09:31:04.992Z"
   },
   {
    "duration": 2229,
    "start_time": "2023-07-12T09:32:51.960Z"
   },
   {
    "duration": 2229,
    "start_time": "2023-07-12T09:34:02.017Z"
   },
   {
    "duration": 15,
    "start_time": "2023-07-12T09:34:22.520Z"
   },
   {
    "duration": 2338,
    "start_time": "2023-07-12T09:34:40.711Z"
   },
   {
    "duration": 1228,
    "start_time": "2023-07-12T09:35:21.968Z"
   },
   {
    "duration": 126,
    "start_time": "2023-07-12T09:35:23.198Z"
   },
   {
    "duration": 15,
    "start_time": "2023-07-12T09:35:23.327Z"
   },
   {
    "duration": 14,
    "start_time": "2023-07-12T09:35:23.344Z"
   },
   {
    "duration": 20,
    "start_time": "2023-07-12T09:35:23.360Z"
   },
   {
    "duration": 6,
    "start_time": "2023-07-12T09:35:23.382Z"
   },
   {
    "duration": 33,
    "start_time": "2023-07-12T09:35:23.390Z"
   },
   {
    "duration": 13,
    "start_time": "2023-07-12T09:35:23.425Z"
   },
   {
    "duration": 9,
    "start_time": "2023-07-12T09:35:23.459Z"
   },
   {
    "duration": 35,
    "start_time": "2023-07-12T09:35:23.471Z"
   },
   {
    "duration": 9,
    "start_time": "2023-07-12T09:35:23.507Z"
   },
   {
    "duration": 128,
    "start_time": "2023-07-12T09:35:23.518Z"
   },
   {
    "duration": 92,
    "start_time": "2023-07-12T09:35:23.648Z"
   },
   {
    "duration": 7,
    "start_time": "2023-07-12T09:35:23.742Z"
   },
   {
    "duration": 55,
    "start_time": "2023-07-12T09:35:23.750Z"
   },
   {
    "duration": 39,
    "start_time": "2023-07-12T09:35:23.807Z"
   },
   {
    "duration": 61,
    "start_time": "2023-07-12T09:35:23.847Z"
   },
   {
    "duration": 968,
    "start_time": "2023-07-12T09:35:23.910Z"
   },
   {
    "duration": 2269,
    "start_time": "2023-07-12T09:35:24.880Z"
   },
   {
    "duration": 2409,
    "start_time": "2023-07-12T09:35:27.151Z"
   },
   {
    "duration": 2309,
    "start_time": "2023-07-12T09:35:38.201Z"
   },
   {
    "duration": 1256,
    "start_time": "2023-07-12T09:36:32.823Z"
   },
   {
    "duration": 124,
    "start_time": "2023-07-12T09:36:34.081Z"
   },
   {
    "duration": 14,
    "start_time": "2023-07-12T09:36:34.206Z"
   },
   {
    "duration": 13,
    "start_time": "2023-07-12T09:36:34.222Z"
   },
   {
    "duration": 18,
    "start_time": "2023-07-12T09:36:34.258Z"
   },
   {
    "duration": 7,
    "start_time": "2023-07-12T09:36:34.277Z"
   },
   {
    "duration": 23,
    "start_time": "2023-07-12T09:36:34.286Z"
   },
   {
    "duration": 13,
    "start_time": "2023-07-12T09:36:34.311Z"
   },
   {
    "duration": 40,
    "start_time": "2023-07-12T09:36:34.325Z"
   },
   {
    "duration": 25,
    "start_time": "2023-07-12T09:36:34.367Z"
   },
   {
    "duration": 8,
    "start_time": "2023-07-12T09:36:34.394Z"
   },
   {
    "duration": 8,
    "start_time": "2023-07-12T09:36:34.404Z"
   },
   {
    "duration": 7,
    "start_time": "2023-07-12T09:36:34.413Z"
   },
   {
    "duration": 43,
    "start_time": "2023-07-12T09:36:34.422Z"
   },
   {
    "duration": 60,
    "start_time": "2023-07-12T09:36:34.467Z"
   },
   {
    "duration": 68,
    "start_time": "2023-07-12T09:36:34.529Z"
   },
   {
    "duration": 75,
    "start_time": "2023-07-12T09:36:34.600Z"
   },
   {
    "duration": 918,
    "start_time": "2023-07-12T09:36:34.677Z"
   },
   {
    "duration": 2349,
    "start_time": "2023-07-12T09:36:35.596Z"
   },
   {
    "duration": 1238,
    "start_time": "2023-07-12T09:37:19.853Z"
   },
   {
    "duration": 138,
    "start_time": "2023-07-12T09:37:21.093Z"
   },
   {
    "duration": 14,
    "start_time": "2023-07-12T09:37:21.233Z"
   },
   {
    "duration": 24,
    "start_time": "2023-07-12T09:37:21.250Z"
   },
   {
    "duration": 38,
    "start_time": "2023-07-12T09:37:21.278Z"
   },
   {
    "duration": 13,
    "start_time": "2023-07-12T09:37:21.318Z"
   },
   {
    "duration": 28,
    "start_time": "2023-07-12T09:37:21.333Z"
   },
   {
    "duration": 12,
    "start_time": "2023-07-12T09:37:21.363Z"
   },
   {
    "duration": 6,
    "start_time": "2023-07-12T09:37:21.377Z"
   },
   {
    "duration": 36,
    "start_time": "2023-07-12T09:37:21.385Z"
   },
   {
    "duration": 9,
    "start_time": "2023-07-12T09:37:21.423Z"
   },
   {
    "duration": 36,
    "start_time": "2023-07-12T09:37:21.434Z"
   },
   {
    "duration": 38,
    "start_time": "2023-07-12T09:37:21.472Z"
   },
   {
    "duration": 15,
    "start_time": "2023-07-12T09:37:21.512Z"
   },
   {
    "duration": 49,
    "start_time": "2023-07-12T09:37:21.529Z"
   },
   {
    "duration": 40,
    "start_time": "2023-07-12T09:37:21.580Z"
   },
   {
    "duration": 66,
    "start_time": "2023-07-12T09:37:21.622Z"
   },
   {
    "duration": 897,
    "start_time": "2023-07-12T09:37:21.690Z"
   },
   {
    "duration": 2357,
    "start_time": "2023-07-12T09:37:22.589Z"
   },
   {
    "duration": 818,
    "start_time": "2023-07-12T09:38:46.036Z"
   },
   {
    "duration": 513,
    "start_time": "2023-07-12T09:44:36.204Z"
   },
   {
    "duration": 642,
    "start_time": "2023-07-12T09:45:47.768Z"
   },
   {
    "duration": 2028,
    "start_time": "2023-07-12T09:46:27.588Z"
   },
   {
    "duration": 37,
    "start_time": "2023-07-12T10:43:53.878Z"
   },
   {
    "duration": 45613,
    "start_time": "2023-07-12T10:50:32.873Z"
   },
   {
    "duration": 25,
    "start_time": "2023-07-12T10:51:23.296Z"
   },
   {
    "duration": 10,
    "start_time": "2023-07-12T10:51:55.087Z"
   },
   {
    "duration": 26,
    "start_time": "2023-07-12T10:52:05.717Z"
   },
   {
    "duration": 24,
    "start_time": "2023-07-12T10:55:29.277Z"
   },
   {
    "duration": 33,
    "start_time": "2023-07-12T10:57:10.555Z"
   },
   {
    "duration": 3082,
    "start_time": "2023-07-12T10:57:57.188Z"
   },
   {
    "duration": 3179,
    "start_time": "2023-07-12T10:58:37.187Z"
   },
   {
    "duration": 2270,
    "start_time": "2023-07-12T11:03:37.771Z"
   },
   {
    "duration": 2429,
    "start_time": "2023-07-12T11:04:23.938Z"
   },
   {
    "duration": 1257,
    "start_time": "2023-07-12T11:06:27.430Z"
   },
   {
    "duration": 129,
    "start_time": "2023-07-12T11:06:28.689Z"
   },
   {
    "duration": 13,
    "start_time": "2023-07-12T11:06:28.819Z"
   },
   {
    "duration": 13,
    "start_time": "2023-07-12T11:06:28.834Z"
   },
   {
    "duration": 28,
    "start_time": "2023-07-12T11:06:28.849Z"
   },
   {
    "duration": 5,
    "start_time": "2023-07-12T11:06:28.878Z"
   },
   {
    "duration": 24,
    "start_time": "2023-07-12T11:06:28.884Z"
   },
   {
    "duration": 13,
    "start_time": "2023-07-12T11:06:28.910Z"
   },
   {
    "duration": 12,
    "start_time": "2023-07-12T11:06:28.925Z"
   },
   {
    "duration": 35,
    "start_time": "2023-07-12T11:06:28.958Z"
   },
   {
    "duration": 8,
    "start_time": "2023-07-12T11:06:28.995Z"
   },
   {
    "duration": 15,
    "start_time": "2023-07-12T11:06:29.004Z"
   },
   {
    "duration": 7,
    "start_time": "2023-07-12T11:06:29.021Z"
   },
   {
    "duration": 14,
    "start_time": "2023-07-12T11:06:29.030Z"
   },
   {
    "duration": 72,
    "start_time": "2023-07-12T11:06:29.045Z"
   },
   {
    "duration": 39,
    "start_time": "2023-07-12T11:06:29.119Z"
   },
   {
    "duration": 61,
    "start_time": "2023-07-12T11:06:29.160Z"
   },
   {
    "duration": 912,
    "start_time": "2023-07-12T11:06:29.223Z"
   },
   {
    "duration": 140,
    "start_time": "2023-07-12T11:06:30.137Z"
   },
   {
    "duration": 0,
    "start_time": "2023-07-12T11:06:30.279Z"
   },
   {
    "duration": 27,
    "start_time": "2023-07-12T11:06:43.706Z"
   },
   {
    "duration": 2289,
    "start_time": "2023-07-12T11:07:05.649Z"
   },
   {
    "duration": 2227,
    "start_time": "2023-07-12T11:07:10.832Z"
   },
   {
    "duration": 2304,
    "start_time": "2023-07-12T11:07:16.736Z"
   },
   {
    "duration": 1642,
    "start_time": "2023-07-12T11:08:27.504Z"
   },
   {
    "duration": 1750,
    "start_time": "2023-07-12T11:09:36.697Z"
   },
   {
    "duration": 2193,
    "start_time": "2023-07-12T11:09:45.544Z"
   },
   {
    "duration": 3231,
    "start_time": "2023-07-12T11:11:01.465Z"
   },
   {
    "duration": 2167,
    "start_time": "2023-07-12T11:11:53.367Z"
   },
   {
    "duration": 2850,
    "start_time": "2023-07-12T11:11:55.536Z"
   },
   {
    "duration": 5,
    "start_time": "2023-07-12T11:22:34.889Z"
   },
   {
    "duration": 8,
    "start_time": "2023-07-12T11:22:53.843Z"
   },
   {
    "duration": 10,
    "start_time": "2023-07-12T11:23:48.059Z"
   },
   {
    "duration": 11,
    "start_time": "2023-07-12T11:23:57.195Z"
   },
   {
    "duration": 11,
    "start_time": "2023-07-12T11:24:35.824Z"
   },
   {
    "duration": 26,
    "start_time": "2023-07-12T11:25:22.390Z"
   },
   {
    "duration": 27,
    "start_time": "2023-07-12T11:25:31.852Z"
   },
   {
    "duration": 29,
    "start_time": "2023-07-12T11:26:21.157Z"
   },
   {
    "duration": 18,
    "start_time": "2023-07-12T11:26:32.389Z"
   },
   {
    "duration": 12,
    "start_time": "2023-07-12T11:26:40.491Z"
   },
   {
    "duration": 1818,
    "start_time": "2023-07-12T11:27:11.820Z"
   },
   {
    "duration": 11,
    "start_time": "2023-07-12T11:27:47.338Z"
   },
   {
    "duration": 12,
    "start_time": "2023-07-12T11:28:35.442Z"
   },
   {
    "duration": 13,
    "start_time": "2023-07-12T11:28:42.003Z"
   },
   {
    "duration": 12,
    "start_time": "2023-07-12T11:29:46.190Z"
   },
   {
    "duration": 13,
    "start_time": "2023-07-12T11:29:59.826Z"
   },
   {
    "duration": 13,
    "start_time": "2023-07-12T11:30:36.772Z"
   },
   {
    "duration": 11,
    "start_time": "2023-07-12T11:30:54.487Z"
   },
   {
    "duration": 11,
    "start_time": "2023-07-12T11:31:19.313Z"
   },
   {
    "duration": 32,
    "start_time": "2023-07-12T11:33:50.545Z"
   },
   {
    "duration": 245,
    "start_time": "2023-07-12T11:34:20.306Z"
   },
   {
    "duration": 170,
    "start_time": "2023-07-12T11:34:43.989Z"
   },
   {
    "duration": 95,
    "start_time": "2023-07-12T11:37:06.150Z"
   },
   {
    "duration": 4054,
    "start_time": "2023-07-12T11:51:09.147Z"
   },
   {
    "duration": 19,
    "start_time": "2023-07-12T11:52:51.388Z"
   },
   {
    "duration": 30,
    "start_time": "2023-07-12T11:53:34.133Z"
   },
   {
    "duration": 21,
    "start_time": "2023-07-12T11:53:41.549Z"
   },
   {
    "duration": 4150,
    "start_time": "2023-07-12T11:58:51.142Z"
   },
   {
    "duration": 4190,
    "start_time": "2023-07-12T11:59:02.692Z"
   },
   {
    "duration": 3916,
    "start_time": "2023-07-12T11:59:11.188Z"
   },
   {
    "duration": 3983,
    "start_time": "2023-07-12T11:59:32.157Z"
   },
   {
    "duration": 8,
    "start_time": "2023-07-12T12:02:27.761Z"
   },
   {
    "duration": 13,
    "start_time": "2023-07-12T12:02:35.161Z"
   },
   {
    "duration": 9,
    "start_time": "2023-07-12T12:04:02.308Z"
   },
   {
    "duration": 15,
    "start_time": "2023-07-12T12:04:07.599Z"
   },
   {
    "duration": 15,
    "start_time": "2023-07-12T12:04:52.539Z"
   },
   {
    "duration": 4467,
    "start_time": "2023-07-12T12:06:46.966Z"
   },
   {
    "duration": 4503,
    "start_time": "2023-07-12T12:07:21.543Z"
   },
   {
    "duration": 4638,
    "start_time": "2023-07-12T12:07:50.848Z"
   },
   {
    "duration": 158,
    "start_time": "2023-07-12T12:10:10.848Z"
   },
   {
    "duration": 136,
    "start_time": "2023-07-12T12:10:23.192Z"
   },
   {
    "duration": 137,
    "start_time": "2023-07-12T12:11:16.608Z"
   },
   {
    "duration": 1173,
    "start_time": "2023-07-12T12:11:25.108Z"
   },
   {
    "duration": 72,
    "start_time": "2023-07-12T12:11:26.284Z"
   },
   {
    "duration": 12,
    "start_time": "2023-07-12T12:11:26.357Z"
   },
   {
    "duration": 17,
    "start_time": "2023-07-12T12:11:26.371Z"
   },
   {
    "duration": 28,
    "start_time": "2023-07-12T12:11:26.390Z"
   },
   {
    "duration": 5,
    "start_time": "2023-07-12T12:11:26.420Z"
   },
   {
    "duration": 41,
    "start_time": "2023-07-12T12:11:26.426Z"
   },
   {
    "duration": 12,
    "start_time": "2023-07-12T12:11:26.469Z"
   },
   {
    "duration": 7,
    "start_time": "2023-07-12T12:11:26.483Z"
   },
   {
    "duration": 26,
    "start_time": "2023-07-12T12:11:26.491Z"
   },
   {
    "duration": 8,
    "start_time": "2023-07-12T12:11:26.519Z"
   },
   {
    "duration": 32,
    "start_time": "2023-07-12T12:11:26.528Z"
   },
   {
    "duration": 8,
    "start_time": "2023-07-12T12:11:26.562Z"
   },
   {
    "duration": 10,
    "start_time": "2023-07-12T12:11:26.573Z"
   },
   {
    "duration": 48,
    "start_time": "2023-07-12T12:11:26.585Z"
   },
   {
    "duration": 54,
    "start_time": "2023-07-12T12:11:26.634Z"
   },
   {
    "duration": 53,
    "start_time": "2023-07-12T12:11:26.690Z"
   },
   {
    "duration": 1590,
    "start_time": "2023-07-12T12:11:26.758Z"
   },
   {
    "duration": 2291,
    "start_time": "2023-07-12T12:11:28.350Z"
   },
   {
    "duration": 2187,
    "start_time": "2023-07-12T12:11:30.643Z"
   },
   {
    "duration": 2943,
    "start_time": "2023-07-12T12:11:32.832Z"
   },
   {
    "duration": 171,
    "start_time": "2023-07-12T12:11:35.777Z"
   },
   {
    "duration": 19,
    "start_time": "2023-07-12T12:11:35.949Z"
   },
   {
    "duration": 151,
    "start_time": "2023-07-12T12:12:50.301Z"
   },
   {
    "duration": 261,
    "start_time": "2023-07-12T12:14:41.382Z"
   },
   {
    "duration": 148,
    "start_time": "2023-07-12T12:14:50.801Z"
   },
   {
    "duration": 177,
    "start_time": "2023-07-12T12:14:56.398Z"
   },
   {
    "duration": 141,
    "start_time": "2023-07-12T12:15:00.646Z"
   },
   {
    "duration": 143,
    "start_time": "2023-07-12T12:15:04.891Z"
   },
   {
    "duration": 147,
    "start_time": "2023-07-12T12:15:10.041Z"
   },
   {
    "duration": 137,
    "start_time": "2023-07-12T12:15:33.094Z"
   },
   {
    "duration": 127,
    "start_time": "2023-07-12T12:16:20.799Z"
   },
   {
    "duration": 4425,
    "start_time": "2023-07-12T12:16:41.216Z"
   },
   {
    "duration": 134,
    "start_time": "2023-07-12T12:17:12.655Z"
   },
   {
    "duration": 12,
    "start_time": "2023-07-12T12:17:12.791Z"
   },
   {
    "duration": 134,
    "start_time": "2023-07-12T12:18:21.703Z"
   },
   {
    "duration": 140,
    "start_time": "2023-07-12T12:21:15.070Z"
   },
   {
    "duration": 1061,
    "start_time": "2023-07-12T12:21:56.503Z"
   },
   {
    "duration": 954,
    "start_time": "2023-07-12T12:22:28.928Z"
   },
   {
    "duration": 1013,
    "start_time": "2023-07-12T12:22:37.920Z"
   },
   {
    "duration": 220,
    "start_time": "2023-07-12T12:23:36.526Z"
   },
   {
    "duration": 189,
    "start_time": "2023-07-12T12:23:57.436Z"
   },
   {
    "duration": 184,
    "start_time": "2023-07-12T12:23:58.776Z"
   },
   {
    "duration": 1017,
    "start_time": "2023-07-12T12:23:59.744Z"
   },
   {
    "duration": 399,
    "start_time": "2023-07-12T12:24:02.015Z"
   },
   {
    "duration": 111619,
    "start_time": "2023-07-12T12:24:40.992Z"
   },
   {
    "duration": 183,
    "start_time": "2023-07-12T12:26:43.801Z"
   },
   {
    "duration": 187,
    "start_time": "2023-07-12T12:28:06.303Z"
   },
   {
    "duration": 181,
    "start_time": "2023-07-12T12:29:58.000Z"
   },
   {
    "duration": 117,
    "start_time": "2023-07-12T12:30:35.816Z"
   },
   {
    "duration": 132,
    "start_time": "2023-07-12T12:37:59.912Z"
   },
   {
    "duration": 189,
    "start_time": "2023-07-12T12:38:11.208Z"
   },
   {
    "duration": 187,
    "start_time": "2023-07-12T12:38:53.706Z"
   },
   {
    "duration": 253,
    "start_time": "2023-07-12T15:00:05.441Z"
   },
   {
    "duration": 201,
    "start_time": "2023-07-12T15:00:54.360Z"
   },
   {
    "duration": 200,
    "start_time": "2023-07-12T15:01:20.143Z"
   },
   {
    "duration": 213,
    "start_time": "2023-07-12T15:03:44.526Z"
   },
   {
    "duration": 207,
    "start_time": "2023-07-12T15:04:04.246Z"
   },
   {
    "duration": 208,
    "start_time": "2023-07-12T15:04:27.246Z"
   },
   {
    "duration": 211,
    "start_time": "2023-07-12T15:04:41.534Z"
   },
   {
    "duration": 203,
    "start_time": "2023-07-12T15:04:55.835Z"
   },
   {
    "duration": 183,
    "start_time": "2023-07-13T07:26:09.620Z"
   },
   {
    "duration": 1621,
    "start_time": "2023-07-13T07:31:48.423Z"
   },
   {
    "duration": 1646,
    "start_time": "2023-07-13T07:31:58.305Z"
   },
   {
    "duration": 1595,
    "start_time": "2023-07-13T07:32:56.657Z"
   },
   {
    "duration": 1617,
    "start_time": "2023-07-13T07:33:07.049Z"
   },
   {
    "duration": 778,
    "start_time": "2023-07-13T07:33:36.888Z"
   },
   {
    "duration": 815,
    "start_time": "2023-07-13T07:33:48.913Z"
   },
   {
    "duration": 805,
    "start_time": "2023-07-13T07:34:07.249Z"
   },
   {
    "duration": 805,
    "start_time": "2023-07-13T07:34:11.223Z"
   },
   {
    "duration": 823,
    "start_time": "2023-07-13T07:34:16.101Z"
   },
   {
    "duration": 785,
    "start_time": "2023-07-13T07:34:21.154Z"
   },
   {
    "duration": 854,
    "start_time": "2023-07-13T07:34:27.608Z"
   },
   {
    "duration": 805,
    "start_time": "2023-07-13T07:34:34.361Z"
   },
   {
    "duration": 781,
    "start_time": "2023-07-13T07:34:47.786Z"
   },
   {
    "duration": 6,
    "start_time": "2023-07-13T07:39:07.770Z"
   },
   {
    "duration": 13,
    "start_time": "2023-07-13T07:39:37.186Z"
   },
   {
    "duration": 10,
    "start_time": "2023-07-13T07:40:01.720Z"
   },
   {
    "duration": 10,
    "start_time": "2023-07-13T07:43:41.504Z"
   },
   {
    "duration": 14,
    "start_time": "2023-07-13T07:44:18.705Z"
   },
   {
    "duration": 12,
    "start_time": "2023-07-13T07:45:08.655Z"
   },
   {
    "duration": 9,
    "start_time": "2023-07-13T07:45:21.022Z"
   },
   {
    "duration": 13,
    "start_time": "2023-07-13T07:45:21.407Z"
   },
   {
    "duration": 1270,
    "start_time": "2023-07-13T07:45:29.224Z"
   },
   {
    "duration": 85,
    "start_time": "2023-07-13T07:45:30.496Z"
   },
   {
    "duration": 13,
    "start_time": "2023-07-13T07:45:30.583Z"
   },
   {
    "duration": 70,
    "start_time": "2023-07-13T07:45:30.598Z"
   },
   {
    "duration": 51,
    "start_time": "2023-07-13T07:45:30.671Z"
   },
   {
    "duration": 33,
    "start_time": "2023-07-13T07:45:30.724Z"
   },
   {
    "duration": 148,
    "start_time": "2023-07-13T07:45:30.759Z"
   },
   {
    "duration": 122,
    "start_time": "2023-07-13T07:45:30.909Z"
   },
   {
    "duration": 44,
    "start_time": "2023-07-13T07:45:31.033Z"
   },
   {
    "duration": 61,
    "start_time": "2023-07-13T07:45:31.079Z"
   },
   {
    "duration": 29,
    "start_time": "2023-07-13T07:45:31.142Z"
   },
   {
    "duration": 79,
    "start_time": "2023-07-13T07:45:31.174Z"
   },
   {
    "duration": 65,
    "start_time": "2023-07-13T07:45:31.255Z"
   },
   {
    "duration": 46,
    "start_time": "2023-07-13T07:45:31.323Z"
   },
   {
    "duration": 63,
    "start_time": "2023-07-13T07:45:31.371Z"
   },
   {
    "duration": 65,
    "start_time": "2023-07-13T07:45:31.437Z"
   },
   {
    "duration": 58,
    "start_time": "2023-07-13T07:45:31.504Z"
   },
   {
    "duration": 1696,
    "start_time": "2023-07-13T07:45:31.563Z"
   },
   {
    "duration": 2294,
    "start_time": "2023-07-13T07:45:33.261Z"
   },
   {
    "duration": 2118,
    "start_time": "2023-07-13T07:45:35.560Z"
   },
   {
    "duration": 2904,
    "start_time": "2023-07-13T07:45:37.680Z"
   },
   {
    "duration": 224,
    "start_time": "2023-07-13T07:45:40.586Z"
   },
   {
    "duration": 201,
    "start_time": "2023-07-13T07:45:40.812Z"
   },
   {
    "duration": 1048,
    "start_time": "2023-07-13T07:45:41.014Z"
   },
   {
    "duration": 225,
    "start_time": "2023-07-13T07:45:42.064Z"
   },
   {
    "duration": 206,
    "start_time": "2023-07-13T07:45:42.291Z"
   },
   {
    "duration": 186,
    "start_time": "2023-07-13T07:45:42.499Z"
   },
   {
    "duration": 193,
    "start_time": "2023-07-13T07:45:42.686Z"
   },
   {
    "duration": 12,
    "start_time": "2023-07-13T07:45:42.880Z"
   },
   {
    "duration": 10,
    "start_time": "2023-07-13T07:45:42.893Z"
   },
   {
    "duration": 16,
    "start_time": "2023-07-13T07:45:42.904Z"
   },
   {
    "duration": 10,
    "start_time": "2023-07-13T07:45:48.742Z"
   },
   {
    "duration": 10,
    "start_time": "2023-07-13T07:47:14.318Z"
   },
   {
    "duration": 9,
    "start_time": "2023-07-13T07:47:31.294Z"
   },
   {
    "duration": 13,
    "start_time": "2023-07-13T07:47:54.586Z"
   },
   {
    "duration": 10,
    "start_time": "2023-07-13T07:52:44.047Z"
   },
   {
    "duration": 12,
    "start_time": "2023-07-13T07:54:51.055Z"
   },
   {
    "duration": 11,
    "start_time": "2023-07-13T07:55:11.701Z"
   },
   {
    "duration": 9,
    "start_time": "2023-07-13T07:55:15.996Z"
   },
   {
    "duration": 9,
    "start_time": "2023-07-13T07:57:17.133Z"
   },
   {
    "duration": 11,
    "start_time": "2023-07-13T07:57:43.628Z"
   },
   {
    "duration": 11,
    "start_time": "2023-07-13T08:01:50.890Z"
   },
   {
    "duration": 13,
    "start_time": "2023-07-13T08:02:00.268Z"
   },
   {
    "duration": 24,
    "start_time": "2023-07-13T08:02:11.290Z"
   },
   {
    "duration": 132,
    "start_time": "2023-07-13T08:25:26.415Z"
   },
   {
    "duration": 32,
    "start_time": "2023-07-13T08:25:57.263Z"
   },
   {
    "duration": 49,
    "start_time": "2023-07-13T08:26:54.611Z"
   },
   {
    "duration": 26,
    "start_time": "2023-07-13T08:27:17.869Z"
   },
   {
    "duration": 25,
    "start_time": "2023-07-13T08:28:06.499Z"
   },
   {
    "duration": 27,
    "start_time": "2023-07-13T08:28:27.014Z"
   },
   {
    "duration": 33,
    "start_time": "2023-07-13T08:28:54.003Z"
   },
   {
    "duration": 22,
    "start_time": "2023-07-13T08:29:10.587Z"
   },
   {
    "duration": 21,
    "start_time": "2023-07-13T08:29:37.159Z"
   },
   {
    "duration": 16,
    "start_time": "2023-07-13T08:30:00.848Z"
   },
   {
    "duration": 22,
    "start_time": "2023-07-13T08:30:59.957Z"
   },
   {
    "duration": 17,
    "start_time": "2023-07-13T08:31:14.347Z"
   },
   {
    "duration": 17,
    "start_time": "2023-07-13T08:31:26.925Z"
   },
   {
    "duration": 19,
    "start_time": "2023-07-13T08:31:46.213Z"
   },
   {
    "duration": 21,
    "start_time": "2023-07-13T08:32:16.598Z"
   },
   {
    "duration": 18,
    "start_time": "2023-07-13T08:32:29.644Z"
   },
   {
    "duration": 19,
    "start_time": "2023-07-13T08:32:41.300Z"
   },
   {
    "duration": 25,
    "start_time": "2023-07-13T08:32:54.202Z"
   },
   {
    "duration": 18,
    "start_time": "2023-07-13T08:33:29.328Z"
   },
   {
    "duration": 20,
    "start_time": "2023-07-13T08:33:32.519Z"
   },
   {
    "duration": 19,
    "start_time": "2023-07-13T08:33:39.996Z"
   },
   {
    "duration": 20,
    "start_time": "2023-07-13T08:33:45.757Z"
   },
   {
    "duration": 20,
    "start_time": "2023-07-13T08:34:00.470Z"
   },
   {
    "duration": 20,
    "start_time": "2023-07-13T08:34:09.895Z"
   },
   {
    "duration": 26,
    "start_time": "2023-07-13T08:34:24.022Z"
   },
   {
    "duration": 19,
    "start_time": "2023-07-13T08:34:31.603Z"
   },
   {
    "duration": 21,
    "start_time": "2023-07-13T08:34:42.852Z"
   },
   {
    "duration": 17,
    "start_time": "2023-07-13T08:34:57.869Z"
   },
   {
    "duration": 120,
    "start_time": "2023-07-13T08:35:40.731Z"
   },
   {
    "duration": 16,
    "start_time": "2023-07-13T08:35:50.600Z"
   },
   {
    "duration": 18,
    "start_time": "2023-07-13T08:35:57.407Z"
   },
   {
    "duration": 19,
    "start_time": "2023-07-13T08:36:01.571Z"
   },
   {
    "duration": 18,
    "start_time": "2023-07-13T08:36:08.392Z"
   },
   {
    "duration": 21,
    "start_time": "2023-07-13T08:36:27.629Z"
   },
   {
    "duration": 19,
    "start_time": "2023-07-13T08:36:37.741Z"
   },
   {
    "duration": 19,
    "start_time": "2023-07-13T08:36:47.869Z"
   },
   {
    "duration": 20,
    "start_time": "2023-07-13T08:36:53.360Z"
   },
   {
    "duration": 20,
    "start_time": "2023-07-13T08:36:57.212Z"
   },
   {
    "duration": 22,
    "start_time": "2023-07-13T08:37:02.704Z"
   },
   {
    "duration": 20,
    "start_time": "2023-07-13T08:37:22.036Z"
   },
   {
    "duration": 19,
    "start_time": "2023-07-13T08:37:27.747Z"
   },
   {
    "duration": 21,
    "start_time": "2023-07-13T08:37:46.512Z"
   },
   {
    "duration": 20,
    "start_time": "2023-07-13T08:37:52.932Z"
   },
   {
    "duration": 22,
    "start_time": "2023-07-13T08:38:00.524Z"
   },
   {
    "duration": 22,
    "start_time": "2023-07-13T08:38:08.235Z"
   },
   {
    "duration": 64,
    "start_time": "2023-07-13T08:38:45.221Z"
   },
   {
    "duration": 19,
    "start_time": "2023-07-13T08:38:54.420Z"
   },
   {
    "duration": 26,
    "start_time": "2023-07-13T08:39:04.200Z"
   },
   {
    "duration": 18,
    "start_time": "2023-07-13T08:39:13.794Z"
   },
   {
    "duration": 21,
    "start_time": "2023-07-13T08:39:19.717Z"
   },
   {
    "duration": 23,
    "start_time": "2023-07-13T08:39:33.340Z"
   },
   {
    "duration": 19,
    "start_time": "2023-07-13T08:39:42.404Z"
   },
   {
    "duration": 22,
    "start_time": "2023-07-13T08:39:54.300Z"
   },
   {
    "duration": 18,
    "start_time": "2023-07-13T08:39:58.599Z"
   },
   {
    "duration": 21,
    "start_time": "2023-07-13T08:40:15.569Z"
   },
   {
    "duration": 32,
    "start_time": "2023-07-13T08:40:24.174Z"
   },
   {
    "duration": 29,
    "start_time": "2023-07-13T08:40:29.506Z"
   },
   {
    "duration": 25,
    "start_time": "2023-07-13T08:41:00.845Z"
   },
   {
    "duration": 19,
    "start_time": "2023-07-13T08:41:07.104Z"
   },
   {
    "duration": 19,
    "start_time": "2023-07-13T08:41:13.606Z"
   },
   {
    "duration": 17,
    "start_time": "2023-07-13T08:41:18.803Z"
   },
   {
    "duration": 131,
    "start_time": "2023-07-13T08:43:21.797Z"
   },
   {
    "duration": 18,
    "start_time": "2023-07-13T08:43:27.439Z"
   },
   {
    "duration": 18,
    "start_time": "2023-07-13T08:43:32.997Z"
   },
   {
    "duration": 19,
    "start_time": "2023-07-13T08:43:37.724Z"
   },
   {
    "duration": 19,
    "start_time": "2023-07-13T08:43:42.402Z"
   },
   {
    "duration": 18,
    "start_time": "2023-07-13T08:43:52.331Z"
   },
   {
    "duration": 19,
    "start_time": "2023-07-13T08:43:56.812Z"
   },
   {
    "duration": 20,
    "start_time": "2023-07-13T08:43:59.998Z"
   },
   {
    "duration": 18,
    "start_time": "2023-07-13T08:44:06.698Z"
   },
   {
    "duration": 18,
    "start_time": "2023-07-13T08:44:09.626Z"
   },
   {
    "duration": 18,
    "start_time": "2023-07-13T08:44:19.058Z"
   },
   {
    "duration": 21,
    "start_time": "2023-07-13T08:44:25.428Z"
   },
   {
    "duration": 19,
    "start_time": "2023-07-13T08:44:31.389Z"
   },
   {
    "duration": 19,
    "start_time": "2023-07-13T08:44:36.546Z"
   },
   {
    "duration": 23,
    "start_time": "2023-07-13T08:44:45.548Z"
   },
   {
    "duration": 18,
    "start_time": "2023-07-13T08:44:50.527Z"
   },
   {
    "duration": 20,
    "start_time": "2023-07-13T08:44:54.706Z"
   },
   {
    "duration": 19,
    "start_time": "2023-07-13T08:44:58.096Z"
   },
   {
    "duration": 20,
    "start_time": "2023-07-13T08:45:07.670Z"
   },
   {
    "duration": 19,
    "start_time": "2023-07-13T08:45:15.401Z"
   },
   {
    "duration": 22,
    "start_time": "2023-07-13T08:45:33.992Z"
   },
   {
    "duration": 22,
    "start_time": "2023-07-13T08:45:43.087Z"
   },
   {
    "duration": 19,
    "start_time": "2023-07-13T08:45:51.554Z"
   },
   {
    "duration": 20,
    "start_time": "2023-07-13T08:45:59.485Z"
   },
   {
    "duration": 19,
    "start_time": "2023-07-13T08:46:04.477Z"
   },
   {
    "duration": 20,
    "start_time": "2023-07-13T08:46:08.049Z"
   },
   {
    "duration": 20,
    "start_time": "2023-07-13T08:46:25.204Z"
   },
   {
    "duration": 20,
    "start_time": "2023-07-13T08:46:35.163Z"
   },
   {
    "duration": 30,
    "start_time": "2023-07-13T08:46:41.249Z"
   },
   {
    "duration": 20,
    "start_time": "2023-07-13T08:46:48.249Z"
   },
   {
    "duration": 19,
    "start_time": "2023-07-13T08:46:58.243Z"
   },
   {
    "duration": 20,
    "start_time": "2023-07-13T08:47:03.329Z"
   },
   {
    "duration": 22,
    "start_time": "2023-07-13T08:47:11.937Z"
   },
   {
    "duration": 21,
    "start_time": "2023-07-13T08:47:46.104Z"
   },
   {
    "duration": 18,
    "start_time": "2023-07-13T08:47:50.833Z"
   },
   {
    "duration": 18,
    "start_time": "2023-07-13T08:47:54.834Z"
   },
   {
    "duration": 18,
    "start_time": "2023-07-13T08:48:05.092Z"
   },
   {
    "duration": 21,
    "start_time": "2023-07-13T08:48:19.558Z"
   },
   {
    "duration": 23,
    "start_time": "2023-07-13T08:48:24.322Z"
   },
   {
    "duration": 25,
    "start_time": "2023-07-13T08:48:32.338Z"
   },
   {
    "duration": 32,
    "start_time": "2023-07-13T08:48:35.297Z"
   },
   {
    "duration": 26,
    "start_time": "2023-07-13T08:48:44.205Z"
   },
   {
    "duration": 22,
    "start_time": "2023-07-13T08:48:51.731Z"
   },
   {
    "duration": 21,
    "start_time": "2023-07-13T08:48:57.896Z"
   },
   {
    "duration": 20,
    "start_time": "2023-07-13T08:49:05.790Z"
   },
   {
    "duration": 26,
    "start_time": "2023-07-13T08:49:15.354Z"
   },
   {
    "duration": 22,
    "start_time": "2023-07-13T08:49:19.201Z"
   },
   {
    "duration": 21,
    "start_time": "2023-07-13T08:49:27.317Z"
   },
   {
    "duration": 25,
    "start_time": "2023-07-13T08:49:49.246Z"
   },
   {
    "duration": 88,
    "start_time": "2023-07-13T08:49:54.866Z"
   },
   {
    "duration": 23,
    "start_time": "2023-07-13T08:49:59.996Z"
   },
   {
    "duration": 22,
    "start_time": "2023-07-13T08:50:07.461Z"
   },
   {
    "duration": 22,
    "start_time": "2023-07-13T08:50:14.697Z"
   },
   {
    "duration": 23,
    "start_time": "2023-07-13T08:50:23.110Z"
   },
   {
    "duration": 23,
    "start_time": "2023-07-13T08:50:31.825Z"
   },
   {
    "duration": 27,
    "start_time": "2023-07-13T08:50:49.250Z"
   },
   {
    "duration": 21,
    "start_time": "2023-07-13T08:50:53.641Z"
   },
   {
    "duration": 27,
    "start_time": "2023-07-13T08:51:09.849Z"
   },
   {
    "duration": 34,
    "start_time": "2023-07-13T08:51:14.193Z"
   },
   {
    "duration": 27,
    "start_time": "2023-07-13T08:51:26.530Z"
   },
   {
    "duration": 27,
    "start_time": "2023-07-13T08:51:35.329Z"
   },
   {
    "duration": 31,
    "start_time": "2023-07-13T08:51:44.253Z"
   },
   {
    "duration": 24,
    "start_time": "2023-07-13T08:51:55.203Z"
   },
   {
    "duration": 23,
    "start_time": "2023-07-13T08:52:00.112Z"
   },
   {
    "duration": 28,
    "start_time": "2023-07-13T08:52:20.938Z"
   },
   {
    "duration": 20,
    "start_time": "2023-07-13T08:52:30.085Z"
   },
   {
    "duration": 21,
    "start_time": "2023-07-13T08:52:39.617Z"
   },
   {
    "duration": 22,
    "start_time": "2023-07-13T08:52:47.120Z"
   },
   {
    "duration": 23,
    "start_time": "2023-07-13T08:52:50.482Z"
   },
   {
    "duration": 20,
    "start_time": "2023-07-13T08:53:08.237Z"
   },
   {
    "duration": 23,
    "start_time": "2023-07-13T08:53:24.481Z"
   },
   {
    "duration": 24,
    "start_time": "2023-07-13T08:53:29.161Z"
   },
   {
    "duration": 21,
    "start_time": "2023-07-13T08:53:33.174Z"
   },
   {
    "duration": 21,
    "start_time": "2023-07-13T08:53:44.834Z"
   },
   {
    "duration": 30,
    "start_time": "2023-07-13T08:53:50.753Z"
   },
   {
    "duration": 21,
    "start_time": "2023-07-13T08:53:59.082Z"
   },
   {
    "duration": 21,
    "start_time": "2023-07-13T08:54:08.808Z"
   },
   {
    "duration": 33,
    "start_time": "2023-07-13T08:54:15.647Z"
   },
   {
    "duration": 25,
    "start_time": "2023-07-13T08:54:19.849Z"
   },
   {
    "duration": 31,
    "start_time": "2023-07-13T08:54:29.552Z"
   },
   {
    "duration": 28,
    "start_time": "2023-07-13T08:54:37.676Z"
   },
   {
    "duration": 22,
    "start_time": "2023-07-13T08:54:41.522Z"
   },
   {
    "duration": 22,
    "start_time": "2023-07-13T08:54:48.184Z"
   },
   {
    "duration": 31,
    "start_time": "2023-07-13T08:55:01.952Z"
   },
   {
    "duration": 24,
    "start_time": "2023-07-13T08:55:15.174Z"
   },
   {
    "duration": 21,
    "start_time": "2023-07-13T08:55:21.081Z"
   },
   {
    "duration": 23,
    "start_time": "2023-07-13T08:55:32.744Z"
   },
   {
    "duration": 19,
    "start_time": "2023-07-13T08:55:46.648Z"
   },
   {
    "duration": 19,
    "start_time": "2023-07-13T08:56:00.258Z"
   },
   {
    "duration": 111,
    "start_time": "2023-07-13T08:56:16.592Z"
   },
   {
    "duration": 20,
    "start_time": "2023-07-13T08:56:22.225Z"
   },
   {
    "duration": 18,
    "start_time": "2023-07-13T08:56:28.792Z"
   },
   {
    "duration": 20,
    "start_time": "2023-07-13T08:56:29.674Z"
   },
   {
    "duration": 19,
    "start_time": "2023-07-13T08:56:37.232Z"
   },
   {
    "duration": 19,
    "start_time": "2023-07-13T08:56:40.401Z"
   },
   {
    "duration": 19,
    "start_time": "2023-07-13T08:56:49.864Z"
   },
   {
    "duration": 19,
    "start_time": "2023-07-13T08:56:54.352Z"
   },
   {
    "duration": 19,
    "start_time": "2023-07-13T08:56:59.183Z"
   },
   {
    "duration": 19,
    "start_time": "2023-07-13T08:57:06.744Z"
   },
   {
    "duration": 62,
    "start_time": "2023-07-13T08:57:47.049Z"
   },
   {
    "duration": 24,
    "start_time": "2023-07-13T08:58:19.615Z"
   },
   {
    "duration": 28,
    "start_time": "2023-07-13T08:58:44.945Z"
   },
   {
    "duration": 21,
    "start_time": "2023-07-13T08:59:05.055Z"
   },
   {
    "duration": 23,
    "start_time": "2023-07-13T08:59:19.102Z"
   },
   {
    "duration": 20,
    "start_time": "2023-07-13T08:59:26.594Z"
   },
   {
    "duration": 20,
    "start_time": "2023-07-13T08:59:29.984Z"
   },
   {
    "duration": 21,
    "start_time": "2023-07-13T08:59:38.257Z"
   },
   {
    "duration": 20,
    "start_time": "2023-07-13T08:59:41.691Z"
   },
   {
    "duration": 20,
    "start_time": "2023-07-13T08:59:48.616Z"
   },
   {
    "duration": 23,
    "start_time": "2023-07-13T08:59:58.177Z"
   },
   {
    "duration": 22,
    "start_time": "2023-07-13T09:00:03.909Z"
   },
   {
    "duration": 22,
    "start_time": "2023-07-13T09:00:18.960Z"
   },
   {
    "duration": 29,
    "start_time": "2023-07-13T09:00:24.160Z"
   },
   {
    "duration": 29,
    "start_time": "2023-07-13T09:00:47.899Z"
   },
   {
    "duration": 26,
    "start_time": "2023-07-13T09:00:51.796Z"
   },
   {
    "duration": 26,
    "start_time": "2023-07-13T09:00:56.936Z"
   },
   {
    "duration": 22,
    "start_time": "2023-07-13T09:01:10.048Z"
   },
   {
    "duration": 23,
    "start_time": "2023-07-13T09:01:14.001Z"
   },
   {
    "duration": 20,
    "start_time": "2023-07-13T09:01:29.967Z"
   },
   {
    "duration": 24,
    "start_time": "2023-07-13T09:01:33.038Z"
   },
   {
    "duration": 19,
    "start_time": "2023-07-13T09:01:38.301Z"
   },
   {
    "duration": 21,
    "start_time": "2023-07-13T09:01:42.362Z"
   },
   {
    "duration": 21,
    "start_time": "2023-07-13T09:01:50.351Z"
   },
   {
    "duration": 20,
    "start_time": "2023-07-13T09:02:03.601Z"
   },
   {
    "duration": 23,
    "start_time": "2023-07-13T09:02:08.029Z"
   },
   {
    "duration": 22,
    "start_time": "2023-07-13T09:02:13.003Z"
   },
   {
    "duration": 22,
    "start_time": "2023-07-13T09:02:39.742Z"
   },
   {
    "duration": 26,
    "start_time": "2023-07-13T09:02:43.958Z"
   },
   {
    "duration": 30,
    "start_time": "2023-07-13T09:02:54.758Z"
   },
   {
    "duration": 42,
    "start_time": "2023-07-13T09:03:01.535Z"
   },
   {
    "duration": 19,
    "start_time": "2023-07-13T09:03:13.793Z"
   },
   {
    "duration": 19,
    "start_time": "2023-07-13T09:03:21.543Z"
   },
   {
    "duration": 19,
    "start_time": "2023-07-13T09:03:53.489Z"
   },
   {
    "duration": 22,
    "start_time": "2023-07-13T09:03:57.903Z"
   },
   {
    "duration": 22,
    "start_time": "2023-07-13T09:04:07.840Z"
   },
   {
    "duration": 29,
    "start_time": "2023-07-13T09:04:14.297Z"
   },
   {
    "duration": 24,
    "start_time": "2023-07-13T09:04:19.672Z"
   },
   {
    "duration": 23,
    "start_time": "2023-07-13T09:04:31.701Z"
   },
   {
    "duration": 21,
    "start_time": "2023-07-13T09:04:50.158Z"
   },
   {
    "duration": 22,
    "start_time": "2023-07-13T09:04:53.599Z"
   },
   {
    "duration": 21,
    "start_time": "2023-07-13T09:05:08.503Z"
   },
   {
    "duration": 18,
    "start_time": "2023-07-13T09:06:17.217Z"
   },
   {
    "duration": 33,
    "start_time": "2023-07-13T09:06:40.942Z"
   },
   {
    "duration": 23,
    "start_time": "2023-07-13T09:06:44.901Z"
   },
   {
    "duration": 28,
    "start_time": "2023-07-13T09:06:54.197Z"
   },
   {
    "duration": 22,
    "start_time": "2023-07-13T09:07:13.804Z"
   },
   {
    "duration": 21,
    "start_time": "2023-07-13T09:07:22.726Z"
   },
   {
    "duration": 21,
    "start_time": "2023-07-13T09:07:26.713Z"
   },
   {
    "duration": 28,
    "start_time": "2023-07-13T09:07:34.254Z"
   },
   {
    "duration": 23,
    "start_time": "2023-07-13T09:07:40.245Z"
   },
   {
    "duration": 31,
    "start_time": "2023-07-13T09:07:43.574Z"
   },
   {
    "duration": 23,
    "start_time": "2023-07-13T09:08:05.304Z"
   },
   {
    "duration": 22,
    "start_time": "2023-07-13T09:08:07.496Z"
   },
   {
    "duration": 23,
    "start_time": "2023-07-13T09:08:10.007Z"
   },
   {
    "duration": 25,
    "start_time": "2023-07-13T09:08:15.565Z"
   },
   {
    "duration": 27,
    "start_time": "2023-07-13T09:08:23.053Z"
   },
   {
    "duration": 34,
    "start_time": "2023-07-13T09:08:30.633Z"
   },
   {
    "duration": 32,
    "start_time": "2023-07-13T09:08:35.564Z"
   },
   {
    "duration": 24,
    "start_time": "2023-07-13T09:08:42.109Z"
   },
   {
    "duration": 25,
    "start_time": "2023-07-13T09:08:49.109Z"
   },
   {
    "duration": 22,
    "start_time": "2023-07-13T09:08:56.126Z"
   },
   {
    "duration": 23,
    "start_time": "2023-07-13T09:08:58.637Z"
   },
   {
    "duration": 23,
    "start_time": "2023-07-13T09:09:01.950Z"
   },
   {
    "duration": 22,
    "start_time": "2023-07-13T09:09:05.238Z"
   },
   {
    "duration": 23,
    "start_time": "2023-07-13T09:09:08.204Z"
   },
   {
    "duration": 24,
    "start_time": "2023-07-13T09:09:11.957Z"
   },
   {
    "duration": 24,
    "start_time": "2023-07-13T09:09:15.605Z"
   },
   {
    "duration": 22,
    "start_time": "2023-07-13T09:09:19.453Z"
   },
   {
    "duration": 23,
    "start_time": "2023-07-13T09:09:22.862Z"
   },
   {
    "duration": 22,
    "start_time": "2023-07-13T09:09:25.629Z"
   },
   {
    "duration": 24,
    "start_time": "2023-07-13T09:09:31.601Z"
   },
   {
    "duration": 21,
    "start_time": "2023-07-13T09:09:37.501Z"
   },
   {
    "duration": 21,
    "start_time": "2023-07-13T09:09:39.828Z"
   },
   {
    "duration": 23,
    "start_time": "2023-07-13T09:10:20.630Z"
   },
   {
    "duration": 22,
    "start_time": "2023-07-13T09:10:24.970Z"
   },
   {
    "duration": 38,
    "start_time": "2023-07-13T09:10:28.630Z"
   },
   {
    "duration": 37,
    "start_time": "2023-07-13T09:10:33.400Z"
   },
   {
    "duration": 21,
    "start_time": "2023-07-13T09:10:42.878Z"
   },
   {
    "duration": 14,
    "start_time": "2023-07-13T09:12:03.119Z"
   },
   {
    "duration": 13,
    "start_time": "2023-07-13T09:12:19.924Z"
   },
   {
    "duration": 15,
    "start_time": "2023-07-13T09:12:24.236Z"
   },
   {
    "duration": 14,
    "start_time": "2023-07-13T09:12:32.399Z"
   },
   {
    "duration": 14,
    "start_time": "2023-07-13T09:12:40.300Z"
   },
   {
    "duration": 15,
    "start_time": "2023-07-13T09:12:47.664Z"
   },
   {
    "duration": 12,
    "start_time": "2023-07-13T09:12:51.437Z"
   },
   {
    "duration": 18,
    "start_time": "2023-07-13T09:12:56.202Z"
   },
   {
    "duration": 15,
    "start_time": "2023-07-13T09:13:03.799Z"
   },
   {
    "duration": 15,
    "start_time": "2023-07-13T09:13:09.043Z"
   },
   {
    "duration": 14,
    "start_time": "2023-07-13T09:13:12.116Z"
   },
   {
    "duration": 17,
    "start_time": "2023-07-13T09:13:16.549Z"
   },
   {
    "duration": 14,
    "start_time": "2023-07-13T09:13:27.238Z"
   },
   {
    "duration": 14,
    "start_time": "2023-07-13T09:13:34.804Z"
   },
   {
    "duration": 14,
    "start_time": "2023-07-13T09:13:41.492Z"
   },
   {
    "duration": 15,
    "start_time": "2023-07-13T09:13:44.704Z"
   },
   {
    "duration": 14,
    "start_time": "2023-07-13T09:14:08.740Z"
   },
   {
    "duration": 15,
    "start_time": "2023-07-13T09:14:30.708Z"
   },
   {
    "duration": 14,
    "start_time": "2023-07-13T09:14:35.844Z"
   },
   {
    "duration": 44,
    "start_time": "2023-07-13T09:15:06.116Z"
   },
   {
    "duration": 37,
    "start_time": "2023-07-13T09:15:12.643Z"
   },
   {
    "duration": 15,
    "start_time": "2023-07-13T09:15:31.897Z"
   },
   {
    "duration": 18,
    "start_time": "2023-07-13T09:15:40.773Z"
   },
   {
    "duration": 14,
    "start_time": "2023-07-13T09:15:43.502Z"
   },
   {
    "duration": 22,
    "start_time": "2023-07-13T09:15:49.452Z"
   },
   {
    "duration": 33,
    "start_time": "2023-07-13T09:15:57.270Z"
   },
   {
    "duration": 22,
    "start_time": "2023-07-13T09:16:03.801Z"
   },
   {
    "duration": 18,
    "start_time": "2023-07-13T09:16:15.428Z"
   },
   {
    "duration": 14,
    "start_time": "2023-07-13T09:16:21.803Z"
   },
   {
    "duration": 15,
    "start_time": "2023-07-13T09:16:32.278Z"
   },
   {
    "duration": 15,
    "start_time": "2023-07-13T09:16:37.196Z"
   },
   {
    "duration": 14,
    "start_time": "2023-07-13T09:16:46.236Z"
   },
   {
    "duration": 19,
    "start_time": "2023-07-13T09:17:05.601Z"
   },
   {
    "duration": 14,
    "start_time": "2023-07-13T09:17:13.804Z"
   },
   {
    "duration": 13,
    "start_time": "2023-07-13T09:17:25.700Z"
   },
   {
    "duration": 17,
    "start_time": "2023-07-13T09:17:28.801Z"
   },
   {
    "duration": 18,
    "start_time": "2023-07-13T09:17:38.798Z"
   },
   {
    "duration": 74,
    "start_time": "2023-07-13T09:17:49.731Z"
   },
   {
    "duration": 20,
    "start_time": "2023-07-13T09:17:57.858Z"
   },
   {
    "duration": 15,
    "start_time": "2023-07-13T09:18:06.404Z"
   },
   {
    "duration": 14,
    "start_time": "2023-07-13T09:18:09.811Z"
   },
   {
    "duration": 17,
    "start_time": "2023-07-13T09:18:14.120Z"
   },
   {
    "duration": 19,
    "start_time": "2023-07-13T09:18:17.682Z"
   },
   {
    "duration": 17,
    "start_time": "2023-07-13T09:18:22.635Z"
   },
   {
    "duration": 19,
    "start_time": "2023-07-13T09:18:25.508Z"
   },
   {
    "duration": 19,
    "start_time": "2023-07-13T09:18:30.950Z"
   },
   {
    "duration": 24,
    "start_time": "2023-07-13T09:18:37.901Z"
   },
   {
    "duration": 18,
    "start_time": "2023-07-13T09:18:42.605Z"
   },
   {
    "duration": 16,
    "start_time": "2023-07-13T09:18:55.027Z"
   },
   {
    "duration": 21,
    "start_time": "2023-07-13T09:19:01.827Z"
   },
   {
    "duration": 14,
    "start_time": "2023-07-13T09:19:10.307Z"
   },
   {
    "duration": 19,
    "start_time": "2023-07-13T09:19:13.235Z"
   },
   {
    "duration": 27,
    "start_time": "2023-07-13T09:19:25.859Z"
   },
   {
    "duration": 16,
    "start_time": "2023-07-13T09:19:31.400Z"
   },
   {
    "duration": 21,
    "start_time": "2023-07-13T09:19:34.107Z"
   },
   {
    "duration": 14,
    "start_time": "2023-07-13T09:19:40.990Z"
   },
   {
    "duration": 21,
    "start_time": "2023-07-13T09:19:51.258Z"
   },
   {
    "duration": 15,
    "start_time": "2023-07-13T09:19:54.204Z"
   },
   {
    "duration": 13,
    "start_time": "2023-07-13T09:19:59.127Z"
   },
   {
    "duration": 21,
    "start_time": "2023-07-13T09:20:04.382Z"
   },
   {
    "duration": 16,
    "start_time": "2023-07-13T09:20:14.122Z"
   },
   {
    "duration": 20,
    "start_time": "2023-07-13T09:20:53.575Z"
   },
   {
    "duration": 16,
    "start_time": "2023-07-13T09:21:02.906Z"
   },
   {
    "duration": 11,
    "start_time": "2023-07-13T09:21:43.798Z"
   },
   {
    "duration": 12,
    "start_time": "2023-07-13T09:21:50.709Z"
   },
   {
    "duration": 10,
    "start_time": "2023-07-13T09:21:57.170Z"
   },
   {
    "duration": 18,
    "start_time": "2023-07-13T09:22:01.740Z"
   },
   {
    "duration": 12,
    "start_time": "2023-07-13T09:22:07.539Z"
   },
   {
    "duration": 16,
    "start_time": "2023-07-13T09:22:11.022Z"
   },
   {
    "duration": 13,
    "start_time": "2023-07-13T09:22:15.713Z"
   },
   {
    "duration": 13,
    "start_time": "2023-07-13T09:22:19.930Z"
   },
   {
    "duration": 12,
    "start_time": "2023-07-13T09:22:24.852Z"
   },
   {
    "duration": 12,
    "start_time": "2023-07-13T09:22:28.135Z"
   },
   {
    "duration": 14,
    "start_time": "2023-07-13T09:22:32.741Z"
   },
   {
    "duration": 11,
    "start_time": "2023-07-13T09:22:41.601Z"
   },
   {
    "duration": 13,
    "start_time": "2023-07-13T09:22:46.450Z"
   },
   {
    "duration": 12,
    "start_time": "2023-07-13T09:22:52.939Z"
   },
   {
    "duration": 13,
    "start_time": "2023-07-13T09:23:15.109Z"
   },
   {
    "duration": 12,
    "start_time": "2023-07-13T09:23:32.450Z"
   },
   {
    "duration": 12,
    "start_time": "2023-07-13T09:23:51.625Z"
   },
   {
    "duration": 14,
    "start_time": "2023-07-13T09:24:20.027Z"
   },
   {
    "duration": 12,
    "start_time": "2023-07-13T09:24:48.001Z"
   },
   {
    "duration": 13,
    "start_time": "2023-07-13T09:24:56.997Z"
   },
   {
    "duration": 12,
    "start_time": "2023-07-13T09:25:10.093Z"
   },
   {
    "duration": 13,
    "start_time": "2023-07-13T09:25:15.389Z"
   },
   {
    "duration": 13,
    "start_time": "2023-07-13T09:25:19.814Z"
   },
   {
    "duration": 13,
    "start_time": "2023-07-13T09:25:27.248Z"
   },
   {
    "duration": 13,
    "start_time": "2023-07-13T09:25:47.361Z"
   },
   {
    "duration": 13,
    "start_time": "2023-07-13T09:25:53.717Z"
   },
   {
    "duration": 15,
    "start_time": "2023-07-13T09:26:00.741Z"
   },
   {
    "duration": 13,
    "start_time": "2023-07-13T09:26:06.147Z"
   },
   {
    "duration": 13,
    "start_time": "2023-07-13T09:26:09.931Z"
   },
   {
    "duration": 14,
    "start_time": "2023-07-13T09:26:13.201Z"
   },
   {
    "duration": 14,
    "start_time": "2023-07-13T09:26:30.729Z"
   },
   {
    "duration": 14,
    "start_time": "2023-07-13T09:26:34.397Z"
   },
   {
    "duration": 15,
    "start_time": "2023-07-13T09:26:41.865Z"
   },
   {
    "duration": 13,
    "start_time": "2023-07-13T09:26:56.730Z"
   },
   {
    "duration": 13,
    "start_time": "2023-07-13T09:27:01.697Z"
   },
   {
    "duration": 14,
    "start_time": "2023-07-13T09:27:04.754Z"
   },
   {
    "duration": 14,
    "start_time": "2023-07-13T09:27:15.354Z"
   },
   {
    "duration": 12,
    "start_time": "2023-07-13T09:27:21.001Z"
   },
   {
    "duration": 13,
    "start_time": "2023-07-13T09:27:26.648Z"
   },
   {
    "duration": 13,
    "start_time": "2023-07-13T09:28:05.552Z"
   },
   {
    "duration": 16,
    "start_time": "2023-07-13T09:28:08.344Z"
   },
   {
    "duration": 14,
    "start_time": "2023-07-13T09:28:15.209Z"
   },
   {
    "duration": 12,
    "start_time": "2023-07-13T09:28:26.641Z"
   },
   {
    "duration": 14,
    "start_time": "2023-07-13T09:28:41.937Z"
   },
   {
    "duration": 13,
    "start_time": "2023-07-13T09:28:50.755Z"
   },
   {
    "duration": 15,
    "start_time": "2023-07-13T09:29:00.321Z"
   },
   {
    "duration": 15,
    "start_time": "2023-07-13T09:29:05.232Z"
   },
   {
    "duration": 15,
    "start_time": "2023-07-13T09:29:11.144Z"
   },
   {
    "duration": 15,
    "start_time": "2023-07-13T09:29:16.815Z"
   },
   {
    "duration": 14,
    "start_time": "2023-07-13T09:29:21.520Z"
   },
   {
    "duration": 13,
    "start_time": "2023-07-13T09:29:30.249Z"
   },
   {
    "duration": 13,
    "start_time": "2023-07-13T09:29:35.721Z"
   },
   {
    "duration": 14,
    "start_time": "2023-07-13T09:29:49.740Z"
   },
   {
    "duration": 15,
    "start_time": "2023-07-13T09:30:09.223Z"
   },
   {
    "duration": 13,
    "start_time": "2023-07-13T09:30:28.472Z"
   },
   {
    "duration": 17,
    "start_time": "2023-07-13T09:30:35.302Z"
   },
   {
    "duration": 14,
    "start_time": "2023-07-13T09:30:38.242Z"
   },
   {
    "duration": 12,
    "start_time": "2023-07-13T09:30:49.736Z"
   },
   {
    "duration": 13,
    "start_time": "2023-07-13T09:30:55.005Z"
   },
   {
    "duration": 14,
    "start_time": "2023-07-13T09:31:43.240Z"
   },
   {
    "duration": 13,
    "start_time": "2023-07-13T09:31:51.432Z"
   },
   {
    "duration": 19,
    "start_time": "2023-07-13T09:31:54.805Z"
   },
   {
    "duration": 13,
    "start_time": "2023-07-13T09:31:59.201Z"
   },
   {
    "duration": 18,
    "start_time": "2023-07-13T09:32:04.041Z"
   },
   {
    "duration": 17,
    "start_time": "2023-07-13T09:32:06.936Z"
   },
   {
    "duration": 14,
    "start_time": "2023-07-13T09:32:13.729Z"
   },
   {
    "duration": 14,
    "start_time": "2023-07-13T09:32:17.636Z"
   },
   {
    "duration": 13,
    "start_time": "2023-07-13T09:32:21.373Z"
   },
   {
    "duration": 15,
    "start_time": "2023-07-13T09:32:29.952Z"
   },
   {
    "duration": 16,
    "start_time": "2023-07-13T09:32:34.559Z"
   },
   {
    "duration": 16,
    "start_time": "2023-07-13T09:32:40.602Z"
   },
   {
    "duration": 13,
    "start_time": "2023-07-13T09:32:43.793Z"
   },
   {
    "duration": 13,
    "start_time": "2023-07-13T09:32:48.233Z"
   },
   {
    "duration": 24,
    "start_time": "2023-07-13T09:32:59.247Z"
   },
   {
    "duration": 13,
    "start_time": "2023-07-13T09:33:03.543Z"
   },
   {
    "duration": 14,
    "start_time": "2023-07-13T09:33:07.239Z"
   },
   {
    "duration": 16,
    "start_time": "2023-07-13T09:33:16.635Z"
   },
   {
    "duration": 16,
    "start_time": "2023-07-13T09:33:40.160Z"
   },
   {
    "duration": 14,
    "start_time": "2023-07-13T09:33:47.450Z"
   },
   {
    "duration": 12,
    "start_time": "2023-07-13T09:34:12.997Z"
   },
   {
    "duration": 17,
    "start_time": "2023-07-13T09:34:19.858Z"
   },
   {
    "duration": 12,
    "start_time": "2023-07-13T09:34:23.798Z"
   },
   {
    "duration": 20,
    "start_time": "2023-07-13T09:34:34.030Z"
   },
   {
    "duration": 17,
    "start_time": "2023-07-13T09:34:40.110Z"
   },
   {
    "duration": 14,
    "start_time": "2023-07-13T09:34:42.642Z"
   },
   {
    "duration": 14,
    "start_time": "2023-07-13T09:34:45.572Z"
   },
   {
    "duration": 13,
    "start_time": "2023-07-13T09:34:51.025Z"
   },
   {
    "duration": 15,
    "start_time": "2023-07-13T09:34:57.868Z"
   },
   {
    "duration": 14,
    "start_time": "2023-07-13T09:35:03.840Z"
   },
   {
    "duration": 16,
    "start_time": "2023-07-13T09:35:17.721Z"
   },
   {
    "duration": 14,
    "start_time": "2023-07-13T09:35:23.940Z"
   },
   {
    "duration": 27,
    "start_time": "2023-07-13T09:35:28.353Z"
   },
   {
    "duration": 15,
    "start_time": "2023-07-13T09:35:31.302Z"
   },
   {
    "duration": 25,
    "start_time": "2023-07-13T09:35:38.855Z"
   },
   {
    "duration": 16,
    "start_time": "2023-07-13T09:35:42.405Z"
   },
   {
    "duration": 17,
    "start_time": "2023-07-13T09:35:49.735Z"
   },
   {
    "duration": 14,
    "start_time": "2023-07-13T09:41:58.409Z"
   },
   {
    "duration": 12,
    "start_time": "2023-07-13T09:42:03.444Z"
   },
   {
    "duration": 20,
    "start_time": "2023-07-13T09:42:23.893Z"
   },
   {
    "duration": 22,
    "start_time": "2023-07-13T09:42:32.879Z"
   },
   {
    "duration": 15,
    "start_time": "2023-07-13T09:42:35.824Z"
   },
   {
    "duration": 22,
    "start_time": "2023-07-13T09:42:51.005Z"
   },
   {
    "duration": 25,
    "start_time": "2023-07-13T09:42:54.331Z"
   },
   {
    "duration": 21,
    "start_time": "2023-07-13T09:43:03.910Z"
   },
   {
    "duration": 13,
    "start_time": "2023-07-13T09:43:28.870Z"
   },
   {
    "duration": 16,
    "start_time": "2023-07-13T09:43:35.506Z"
   },
   {
    "duration": 18,
    "start_time": "2023-07-13T09:43:39.801Z"
   },
   {
    "duration": 13,
    "start_time": "2023-07-13T09:43:45.913Z"
   },
   {
    "duration": 14,
    "start_time": "2023-07-13T09:43:53.424Z"
   },
   {
    "duration": 14,
    "start_time": "2023-07-13T09:43:57.701Z"
   },
   {
    "duration": 14,
    "start_time": "2023-07-13T09:44:03.623Z"
   },
   {
    "duration": 13,
    "start_time": "2023-07-13T09:44:07.397Z"
   },
   {
    "duration": 13,
    "start_time": "2023-07-13T09:44:17.357Z"
   },
   {
    "duration": 16,
    "start_time": "2023-07-13T09:44:31.141Z"
   },
   {
    "duration": 14,
    "start_time": "2023-07-13T09:44:38.141Z"
   },
   {
    "duration": 14,
    "start_time": "2023-07-13T09:44:43.343Z"
   },
   {
    "duration": 14,
    "start_time": "2023-07-13T09:44:51.542Z"
   },
   {
    "duration": 15,
    "start_time": "2023-07-13T09:44:59.030Z"
   },
   {
    "duration": 14,
    "start_time": "2023-07-13T09:45:10.869Z"
   },
   {
    "duration": 16,
    "start_time": "2023-07-13T09:45:14.964Z"
   },
   {
    "duration": 14,
    "start_time": "2023-07-13T09:45:20.625Z"
   },
   {
    "duration": 13,
    "start_time": "2023-07-13T09:45:33.413Z"
   },
   {
    "duration": 13,
    "start_time": "2023-07-13T09:45:37.405Z"
   },
   {
    "duration": 16,
    "start_time": "2023-07-13T09:45:43.528Z"
   },
   {
    "duration": 14,
    "start_time": "2023-07-13T09:45:47.613Z"
   },
   {
    "duration": 14,
    "start_time": "2023-07-13T09:45:51.363Z"
   },
   {
    "duration": 13,
    "start_time": "2023-07-13T09:45:55.846Z"
   },
   {
    "duration": 16,
    "start_time": "2023-07-13T09:45:58.140Z"
   },
   {
    "duration": 18,
    "start_time": "2023-07-13T09:46:04.714Z"
   },
   {
    "duration": 19,
    "start_time": "2023-07-13T09:46:07.661Z"
   },
   {
    "duration": 14,
    "start_time": "2023-07-13T09:46:11.134Z"
   },
   {
    "duration": 13,
    "start_time": "2023-07-13T09:46:13.614Z"
   },
   {
    "duration": 14,
    "start_time": "2023-07-13T09:46:17.445Z"
   },
   {
    "duration": 18,
    "start_time": "2023-07-13T09:46:20.322Z"
   },
   {
    "duration": 14,
    "start_time": "2023-07-13T09:46:25.069Z"
   },
   {
    "duration": 15,
    "start_time": "2023-07-13T09:46:28.227Z"
   },
   {
    "duration": 15,
    "start_time": "2023-07-13T09:46:41.341Z"
   },
   {
    "duration": 14,
    "start_time": "2023-07-13T09:46:51.039Z"
   },
   {
    "duration": 14,
    "start_time": "2023-07-13T09:47:01.798Z"
   },
   {
    "duration": 17,
    "start_time": "2023-07-13T09:47:05.498Z"
   },
   {
    "duration": 20,
    "start_time": "2023-07-13T09:47:14.269Z"
   },
   {
    "duration": 13,
    "start_time": "2023-07-13T09:47:18.601Z"
   },
   {
    "duration": 14,
    "start_time": "2023-07-13T09:47:21.509Z"
   },
   {
    "duration": 12,
    "start_time": "2023-07-13T09:47:25.461Z"
   },
   {
    "duration": 15,
    "start_time": "2023-07-13T09:47:29.356Z"
   },
   {
    "duration": 17,
    "start_time": "2023-07-13T09:47:48.477Z"
   },
   {
    "duration": 19,
    "start_time": "2023-07-13T09:47:53.437Z"
   },
   {
    "duration": 16,
    "start_time": "2023-07-13T09:48:01.514Z"
   },
   {
    "duration": 15,
    "start_time": "2023-07-13T09:48:04.854Z"
   },
   {
    "duration": 14,
    "start_time": "2023-07-13T09:48:07.836Z"
   },
   {
    "duration": 12,
    "start_time": "2023-07-13T09:48:22.159Z"
   },
   {
    "duration": 12,
    "start_time": "2023-07-13T09:48:31.950Z"
   },
   {
    "duration": 17,
    "start_time": "2023-07-13T09:49:33.697Z"
   },
   {
    "duration": 20,
    "start_time": "2023-07-13T09:49:41.328Z"
   },
   {
    "duration": 15,
    "start_time": "2023-07-13T09:49:45.869Z"
   },
   {
    "duration": 13,
    "start_time": "2023-07-13T09:49:49.053Z"
   },
   {
    "duration": 11,
    "start_time": "2023-07-13T09:49:55.869Z"
   },
   {
    "duration": 11,
    "start_time": "2023-07-13T09:49:59.101Z"
   },
   {
    "duration": 12,
    "start_time": "2023-07-13T09:50:39.001Z"
   },
   {
    "duration": 16,
    "start_time": "2023-07-13T09:50:47.021Z"
   },
   {
    "duration": 19,
    "start_time": "2023-07-13T09:50:57.350Z"
   },
   {
    "duration": 15,
    "start_time": "2023-07-13T09:51:02.005Z"
   },
   {
    "duration": 13,
    "start_time": "2023-07-13T09:51:05.718Z"
   },
   {
    "duration": 16,
    "start_time": "2023-07-13T09:51:10.020Z"
   },
   {
    "duration": 16,
    "start_time": "2023-07-13T09:51:20.858Z"
   },
   {
    "duration": 12,
    "start_time": "2023-07-13T09:51:26.236Z"
   },
   {
    "duration": 12,
    "start_time": "2023-07-13T09:51:30.372Z"
   },
   {
    "duration": 12,
    "start_time": "2023-07-13T09:51:49.299Z"
   },
   {
    "duration": 19,
    "start_time": "2023-07-13T09:51:54.060Z"
   },
   {
    "duration": 14,
    "start_time": "2023-07-13T09:51:56.756Z"
   },
   {
    "duration": 14,
    "start_time": "2023-07-13T09:52:01.557Z"
   },
   {
    "duration": 15,
    "start_time": "2023-07-13T09:53:00.639Z"
   },
   {
    "duration": 13,
    "start_time": "2023-07-13T09:53:10.201Z"
   },
   {
    "duration": 12,
    "start_time": "2023-07-13T09:53:19.601Z"
   },
   {
    "duration": 13,
    "start_time": "2023-07-13T09:53:26.972Z"
   },
   {
    "duration": 1238,
    "start_time": "2023-07-13T09:55:17.753Z"
   },
   {
    "duration": 112,
    "start_time": "2023-07-13T09:55:18.993Z"
   },
   {
    "duration": 16,
    "start_time": "2023-07-13T09:55:19.108Z"
   },
   {
    "duration": 18,
    "start_time": "2023-07-13T09:55:19.126Z"
   },
   {
    "duration": 23,
    "start_time": "2023-07-13T09:55:19.163Z"
   },
   {
    "duration": 6,
    "start_time": "2023-07-13T09:55:19.188Z"
   },
   {
    "duration": 33,
    "start_time": "2023-07-13T09:55:19.196Z"
   },
   {
    "duration": 44,
    "start_time": "2023-07-13T09:55:19.232Z"
   },
   {
    "duration": 39,
    "start_time": "2023-07-13T09:55:19.279Z"
   },
   {
    "duration": 38,
    "start_time": "2023-07-13T09:55:19.320Z"
   },
   {
    "duration": 12,
    "start_time": "2023-07-13T09:55:19.363Z"
   },
   {
    "duration": 21,
    "start_time": "2023-07-13T09:55:19.377Z"
   },
   {
    "duration": 14,
    "start_time": "2023-07-13T09:55:19.400Z"
   },
   {
    "duration": 8,
    "start_time": "2023-07-13T09:55:19.417Z"
   },
   {
    "duration": 57,
    "start_time": "2023-07-13T09:55:19.427Z"
   },
   {
    "duration": 38,
    "start_time": "2023-07-13T09:55:19.486Z"
   },
   {
    "duration": 72,
    "start_time": "2023-07-13T09:55:19.526Z"
   },
   {
    "duration": 1805,
    "start_time": "2023-07-13T09:55:19.600Z"
   },
   {
    "duration": 2368,
    "start_time": "2023-07-13T09:55:21.407Z"
   },
   {
    "duration": 2400,
    "start_time": "2023-07-13T09:55:23.778Z"
   },
   {
    "duration": 3100,
    "start_time": "2023-07-13T09:55:26.182Z"
   },
   {
    "duration": 232,
    "start_time": "2023-07-13T09:55:29.284Z"
   },
   {
    "duration": 210,
    "start_time": "2023-07-13T09:55:29.518Z"
   },
   {
    "duration": 1134,
    "start_time": "2023-07-13T09:55:29.730Z"
   },
   {
    "duration": 257,
    "start_time": "2023-07-13T09:55:30.866Z"
   },
   {
    "duration": 224,
    "start_time": "2023-07-13T09:55:31.125Z"
   },
   {
    "duration": 207,
    "start_time": "2023-07-13T09:55:31.359Z"
   },
   {
    "duration": 214,
    "start_time": "2023-07-13T09:55:31.568Z"
   },
   {
    "duration": 12,
    "start_time": "2023-07-13T09:55:31.784Z"
   },
   {
    "duration": 11,
    "start_time": "2023-07-13T09:55:31.798Z"
   },
   {
    "duration": 31,
    "start_time": "2023-07-13T09:55:31.811Z"
   },
   {
    "duration": 24,
    "start_time": "2023-07-13T09:55:31.845Z"
   },
   {
    "duration": 29,
    "start_time": "2023-07-13T09:55:31.871Z"
   },
   {
    "duration": 17,
    "start_time": "2023-07-13T09:55:31.903Z"
   },
   {
    "duration": 66,
    "start_time": "2023-07-13T09:55:31.922Z"
   },
   {
    "duration": 26,
    "start_time": "2023-07-13T09:55:31.989Z"
   },
   {
    "duration": 47,
    "start_time": "2023-07-13T09:55:32.017Z"
   },
   {
    "duration": 30,
    "start_time": "2023-07-13T09:55:32.066Z"
   },
   {
    "duration": 11,
    "start_time": "2023-07-13T09:55:32.098Z"
   },
   {
    "duration": 114,
    "start_time": "2023-07-13T09:55:32.111Z"
   },
   {
    "duration": 19,
    "start_time": "2023-07-13T09:55:57.850Z"
   },
   {
    "duration": 15,
    "start_time": "2023-07-13T09:56:05.526Z"
   },
   {
    "duration": 15,
    "start_time": "2023-07-13T09:56:14.241Z"
   },
   {
    "duration": 13,
    "start_time": "2023-07-13T09:56:17.322Z"
   },
   {
    "duration": 18,
    "start_time": "2023-07-13T09:56:20.269Z"
   },
   {
    "duration": 15,
    "start_time": "2023-07-13T09:56:25.821Z"
   },
   {
    "duration": 12,
    "start_time": "2023-07-13T09:56:31.949Z"
   },
   {
    "duration": 20,
    "start_time": "2023-07-13T09:56:36.953Z"
   },
   {
    "duration": 12,
    "start_time": "2023-07-13T09:56:40.703Z"
   },
   {
    "duration": 13,
    "start_time": "2023-07-13T09:56:44.800Z"
   },
   {
    "duration": 17,
    "start_time": "2023-07-13T09:56:47.309Z"
   },
   {
    "duration": 15,
    "start_time": "2023-07-13T09:56:52.937Z"
   },
   {
    "duration": 13,
    "start_time": "2023-07-13T09:56:59.145Z"
   },
   {
    "duration": 12,
    "start_time": "2023-07-13T09:57:04.505Z"
   },
   {
    "duration": 16,
    "start_time": "2023-07-13T09:57:11.454Z"
   },
   {
    "duration": 16,
    "start_time": "2023-07-13T09:57:16.715Z"
   },
   {
    "duration": 13,
    "start_time": "2023-07-13T09:57:20.738Z"
   },
   {
    "duration": 17,
    "start_time": "2023-07-13T09:57:24.337Z"
   },
   {
    "duration": 15,
    "start_time": "2023-07-13T09:57:32.177Z"
   },
   {
    "duration": 13,
    "start_time": "2023-07-13T09:57:35.819Z"
   },
   {
    "duration": 12,
    "start_time": "2023-07-13T09:57:38.729Z"
   },
   {
    "duration": 14,
    "start_time": "2023-07-13T09:57:44.628Z"
   },
   {
    "duration": 18,
    "start_time": "2023-07-13T09:57:55.554Z"
   },
   {
    "duration": 13,
    "start_time": "2023-07-13T09:58:00.914Z"
   },
   {
    "duration": 12,
    "start_time": "2023-07-13T09:58:12.849Z"
   },
   {
    "duration": 13,
    "start_time": "2023-07-13T09:58:17.718Z"
   },
   {
    "duration": 15,
    "start_time": "2023-07-13T09:59:18.515Z"
   },
   {
    "duration": 17,
    "start_time": "2023-07-13T09:59:23.509Z"
   },
   {
    "duration": 14,
    "start_time": "2023-07-13T09:59:47.892Z"
   },
   {
    "duration": 23,
    "start_time": "2023-07-13T09:59:53.962Z"
   },
   {
    "duration": 131,
    "start_time": "2023-07-13T09:59:54.093Z"
   },
   {
    "duration": 12,
    "start_time": "2023-07-13T10:00:01.797Z"
   },
   {
    "duration": 14,
    "start_time": "2023-07-13T10:00:06.708Z"
   },
   {
    "duration": 11,
    "start_time": "2023-07-13T10:00:09.674Z"
   },
   {
    "duration": 12,
    "start_time": "2023-07-13T10:00:12.004Z"
   },
   {
    "duration": 14,
    "start_time": "2023-07-13T10:00:14.717Z"
   },
   {
    "duration": 13,
    "start_time": "2023-07-13T10:00:17.840Z"
   },
   {
    "duration": 15,
    "start_time": "2023-07-13T10:00:20.855Z"
   },
   {
    "duration": 17,
    "start_time": "2023-07-13T10:00:32.848Z"
   },
   {
    "duration": 13,
    "start_time": "2023-07-13T10:00:39.804Z"
   },
   {
    "duration": 16,
    "start_time": "2023-07-13T10:00:43.024Z"
   },
   {
    "duration": 15,
    "start_time": "2023-07-13T10:00:45.529Z"
   },
   {
    "duration": 15,
    "start_time": "2023-07-13T10:00:48.108Z"
   },
   {
    "duration": 13,
    "start_time": "2023-07-13T10:00:52.832Z"
   },
   {
    "duration": 13,
    "start_time": "2023-07-13T10:00:59.113Z"
   },
   {
    "duration": 15,
    "start_time": "2023-07-13T10:01:24.143Z"
   },
   {
    "duration": 13,
    "start_time": "2023-07-13T10:01:30.738Z"
   },
   {
    "duration": 15,
    "start_time": "2023-07-13T10:01:35.965Z"
   },
   {
    "duration": 12,
    "start_time": "2023-07-13T10:01:39.521Z"
   },
   {
    "duration": 15,
    "start_time": "2023-07-13T10:01:43.032Z"
   },
   {
    "duration": 15,
    "start_time": "2023-07-13T10:01:51.416Z"
   },
   {
    "duration": 14,
    "start_time": "2023-07-13T10:01:56.416Z"
   },
   {
    "duration": 13,
    "start_time": "2023-07-13T10:02:05.136Z"
   },
   {
    "duration": 12,
    "start_time": "2023-07-13T10:02:44.808Z"
   },
   {
    "duration": 14,
    "start_time": "2023-07-13T10:02:48.135Z"
   },
   {
    "duration": 13,
    "start_time": "2023-07-13T10:02:50.930Z"
   },
   {
    "duration": 15,
    "start_time": "2023-07-13T10:02:54.129Z"
   },
   {
    "duration": 14,
    "start_time": "2023-07-13T10:02:57.048Z"
   },
   {
    "duration": 15,
    "start_time": "2023-07-13T10:03:03.107Z"
   },
   {
    "duration": 12,
    "start_time": "2023-07-13T10:03:08.405Z"
   },
   {
    "duration": 20,
    "start_time": "2023-07-13T10:03:11.256Z"
   },
   {
    "duration": 13,
    "start_time": "2023-07-13T10:03:21.272Z"
   },
   {
    "duration": 11,
    "start_time": "2023-07-13T10:03:23.803Z"
   },
   {
    "duration": 12,
    "start_time": "2023-07-13T10:03:33.735Z"
   },
   {
    "duration": 13,
    "start_time": "2023-07-13T10:03:35.935Z"
   },
   {
    "duration": 15,
    "start_time": "2023-07-13T10:03:38.612Z"
   },
   {
    "duration": 15,
    "start_time": "2023-07-13T10:03:41.471Z"
   },
   {
    "duration": 14,
    "start_time": "2023-07-13T10:03:48.104Z"
   },
   {
    "duration": 21,
    "start_time": "2023-07-13T10:03:52.748Z"
   },
   {
    "duration": 16,
    "start_time": "2023-07-13T10:04:04.143Z"
   },
   {
    "duration": 12,
    "start_time": "2023-07-13T10:04:53.505Z"
   },
   {
    "duration": 19,
    "start_time": "2023-07-13T10:04:54.312Z"
   },
   {
    "duration": 13,
    "start_time": "2023-07-13T10:05:34.359Z"
   },
   {
    "duration": 11,
    "start_time": "2023-07-13T10:05:41.932Z"
   },
   {
    "duration": 11,
    "start_time": "2023-07-13T10:05:45.808Z"
   },
   {
    "duration": 14,
    "start_time": "2023-07-13T10:05:48.901Z"
   },
   {
    "duration": 11,
    "start_time": "2023-07-13T10:05:53.734Z"
   },
   {
    "duration": 10,
    "start_time": "2023-07-13T10:06:07.404Z"
   },
   {
    "duration": 10,
    "start_time": "2023-07-13T10:06:10.623Z"
   },
   {
    "duration": 12,
    "start_time": "2023-07-13T10:06:13.933Z"
   },
   {
    "duration": 14,
    "start_time": "2023-07-13T10:06:16.373Z"
   },
   {
    "duration": 77,
    "start_time": "2023-07-13T10:06:26.958Z"
   },
   {
    "duration": 13,
    "start_time": "2023-07-13T10:06:31.317Z"
   },
   {
    "duration": 16,
    "start_time": "2023-07-13T10:06:35.865Z"
   },
   {
    "duration": 18,
    "start_time": "2023-07-13T10:06:38.943Z"
   },
   {
    "duration": 14,
    "start_time": "2023-07-13T10:06:42.142Z"
   },
   {
    "duration": 13,
    "start_time": "2023-07-13T10:06:44.972Z"
   },
   {
    "duration": 12,
    "start_time": "2023-07-13T10:06:48.128Z"
   },
   {
    "duration": 11,
    "start_time": "2023-07-13T10:06:50.942Z"
   },
   {
    "duration": 11,
    "start_time": "2023-07-13T10:06:53.528Z"
   },
   {
    "duration": 11,
    "start_time": "2023-07-13T10:07:09.943Z"
   },
   {
    "duration": 13,
    "start_time": "2023-07-13T10:07:14.543Z"
   },
   {
    "duration": 12,
    "start_time": "2023-07-13T10:07:20.799Z"
   },
   {
    "duration": 14,
    "start_time": "2023-07-13T10:07:24.134Z"
   },
   {
    "duration": 22,
    "start_time": "2023-07-13T10:07:27.350Z"
   },
   {
    "duration": 14,
    "start_time": "2023-07-13T10:07:30.916Z"
   },
   {
    "duration": 13,
    "start_time": "2023-07-13T10:07:35.134Z"
   },
   {
    "duration": 69,
    "start_time": "2023-07-13T10:07:50.449Z"
   },
   {
    "duration": 11,
    "start_time": "2023-07-13T10:07:56.575Z"
   },
   {
    "duration": 14,
    "start_time": "2023-07-13T10:08:03.701Z"
   },
   {
    "duration": 11,
    "start_time": "2023-07-13T10:08:06.011Z"
   },
   {
    "duration": 12,
    "start_time": "2023-07-13T10:08:24.732Z"
   },
   {
    "duration": 21,
    "start_time": "2023-07-13T10:08:27.853Z"
   },
   {
    "duration": 11,
    "start_time": "2023-07-13T10:08:31.220Z"
   },
   {
    "duration": 11,
    "start_time": "2023-07-13T10:08:33.728Z"
   },
   {
    "duration": 13,
    "start_time": "2023-07-13T10:08:38.739Z"
   },
   {
    "duration": 14,
    "start_time": "2023-07-13T10:08:48.738Z"
   },
   {
    "duration": 20,
    "start_time": "2023-07-13T10:10:12.001Z"
   },
   {
    "duration": 22,
    "start_time": "2023-07-13T10:10:15.143Z"
   },
   {
    "duration": 27,
    "start_time": "2023-07-13T10:10:18.654Z"
   },
   {
    "duration": 19,
    "start_time": "2023-07-13T10:10:22.103Z"
   },
   {
    "duration": 20,
    "start_time": "2023-07-13T10:10:26.220Z"
   },
   {
    "duration": 13,
    "start_time": "2023-07-13T10:11:00.504Z"
   },
   {
    "duration": 14,
    "start_time": "2023-07-13T10:11:07.239Z"
   },
   {
    "duration": 14,
    "start_time": "2023-07-13T10:11:11.716Z"
   },
   {
    "duration": 14,
    "start_time": "2023-07-13T10:11:14.573Z"
   },
   {
    "duration": 15,
    "start_time": "2023-07-13T10:11:32.208Z"
   },
   {
    "duration": 14,
    "start_time": "2023-07-13T10:11:35.143Z"
   },
   {
    "duration": 13,
    "start_time": "2023-07-13T10:11:52.453Z"
   },
   {
    "duration": 19,
    "start_time": "2023-07-13T10:12:02.024Z"
   },
   {
    "duration": 13,
    "start_time": "2023-07-13T10:12:07.070Z"
   },
   {
    "duration": 14,
    "start_time": "2023-07-13T10:12:15.720Z"
   },
   {
    "duration": 14,
    "start_time": "2023-07-13T10:12:18.811Z"
   },
   {
    "duration": 15,
    "start_time": "2023-07-13T10:12:25.051Z"
   },
   {
    "duration": 14,
    "start_time": "2023-07-13T10:12:28.096Z"
   },
   {
    "duration": 14,
    "start_time": "2023-07-13T10:12:42.461Z"
   },
   {
    "duration": 18,
    "start_time": "2023-07-13T10:12:52.871Z"
   },
   {
    "duration": 19,
    "start_time": "2023-07-13T10:13:02.512Z"
   },
   {
    "duration": 15,
    "start_time": "2023-07-13T10:13:13.503Z"
   },
   {
    "duration": 21,
    "start_time": "2023-07-13T10:13:22.409Z"
   },
   {
    "duration": 22,
    "start_time": "2023-07-13T10:13:27.240Z"
   },
   {
    "duration": 14,
    "start_time": "2023-07-13T10:13:33.920Z"
   },
   {
    "duration": 18,
    "start_time": "2023-07-13T10:13:39.707Z"
   },
   {
    "duration": 15,
    "start_time": "2023-07-13T10:13:52.557Z"
   },
   {
    "duration": 18,
    "start_time": "2023-07-13T10:14:00.374Z"
   },
   {
    "duration": 15,
    "start_time": "2023-07-13T10:15:12.854Z"
   },
   {
    "duration": 14,
    "start_time": "2023-07-13T10:15:24.041Z"
   },
   {
    "duration": 13,
    "start_time": "2023-07-13T10:16:32.344Z"
   },
   {
    "duration": 13,
    "start_time": "2023-07-13T10:16:38.726Z"
   },
   {
    "duration": 13,
    "start_time": "2023-07-13T10:16:56.240Z"
   },
   {
    "duration": 14,
    "start_time": "2023-07-13T10:17:00.811Z"
   },
   {
    "duration": 18,
    "start_time": "2023-07-13T10:17:07.735Z"
   },
   {
    "duration": 19,
    "start_time": "2023-07-13T10:17:13.223Z"
   },
   {
    "duration": 20,
    "start_time": "2023-07-13T10:17:17.816Z"
   },
   {
    "duration": 19,
    "start_time": "2023-07-13T10:17:23.607Z"
   },
   {
    "duration": 16,
    "start_time": "2023-07-13T10:17:28.516Z"
   },
   {
    "duration": 21,
    "start_time": "2023-07-13T10:17:31.062Z"
   },
   {
    "duration": 19,
    "start_time": "2023-07-13T10:17:35.148Z"
   },
   {
    "duration": 13,
    "start_time": "2023-07-13T10:17:47.035Z"
   },
   {
    "duration": 14,
    "start_time": "2023-07-13T10:17:56.334Z"
   },
   {
    "duration": 19,
    "start_time": "2023-07-13T10:18:12.481Z"
   },
   {
    "duration": 20,
    "start_time": "2023-07-13T10:18:20.036Z"
   },
   {
    "duration": 16,
    "start_time": "2023-07-13T10:18:25.825Z"
   },
   {
    "duration": 18,
    "start_time": "2023-07-13T10:18:43.111Z"
   },
   {
    "duration": 15,
    "start_time": "2023-07-13T10:18:45.119Z"
   },
   {
    "duration": 13,
    "start_time": "2023-07-13T10:18:47.607Z"
   },
   {
    "duration": 18,
    "start_time": "2023-07-13T10:18:52.604Z"
   },
   {
    "duration": 18,
    "start_time": "2023-07-13T10:18:56.916Z"
   },
   {
    "duration": 16,
    "start_time": "2023-07-13T10:18:59.535Z"
   },
   {
    "duration": 17,
    "start_time": "2023-07-13T10:19:03.734Z"
   },
   {
    "duration": 16,
    "start_time": "2023-07-13T10:19:22.216Z"
   },
   {
    "duration": 18,
    "start_time": "2023-07-13T10:19:24.748Z"
   },
   {
    "duration": 18,
    "start_time": "2023-07-13T10:19:29.045Z"
   },
   {
    "duration": 17,
    "start_time": "2023-07-13T10:19:42.452Z"
   },
   {
    "duration": 24,
    "start_time": "2023-07-13T10:19:47.444Z"
   },
   {
    "duration": 27,
    "start_time": "2023-07-13T10:19:55.960Z"
   },
   {
    "duration": 20,
    "start_time": "2023-07-13T10:20:03.522Z"
   },
   {
    "duration": 17,
    "start_time": "2023-07-13T10:20:07.030Z"
   },
   {
    "duration": 14,
    "start_time": "2023-07-13T10:20:11.314Z"
   },
   {
    "duration": 22,
    "start_time": "2023-07-13T10:20:16.415Z"
   },
   {
    "duration": 29,
    "start_time": "2023-07-13T10:22:02.221Z"
   },
   {
    "duration": 29,
    "start_time": "2023-07-13T10:25:44.009Z"
   },
   {
    "duration": 36,
    "start_time": "2023-07-13T10:28:19.045Z"
   },
   {
    "duration": 26,
    "start_time": "2023-07-13T10:28:51.525Z"
   },
   {
    "duration": 34,
    "start_time": "2023-07-13T10:30:30.785Z"
   },
   {
    "duration": 30,
    "start_time": "2023-07-13T10:31:47.941Z"
   },
   {
    "duration": 165,
    "start_time": "2023-07-13T10:32:00.370Z"
   },
   {
    "duration": 35,
    "start_time": "2023-07-13T10:32:13.656Z"
   },
   {
    "duration": 27,
    "start_time": "2023-07-13T10:32:16.621Z"
   },
   {
    "duration": 27,
    "start_time": "2023-07-13T10:32:27.580Z"
   },
   {
    "duration": 34,
    "start_time": "2023-07-13T10:33:30.157Z"
   },
   {
    "duration": 26,
    "start_time": "2023-07-13T10:36:43.419Z"
   },
   {
    "duration": 26,
    "start_time": "2023-07-13T10:37:01.323Z"
   },
   {
    "duration": 32,
    "start_time": "2023-07-13T10:37:32.141Z"
   },
   {
    "duration": 31,
    "start_time": "2023-07-13T10:38:47.776Z"
   },
   {
    "duration": 34,
    "start_time": "2023-07-13T10:40:15.139Z"
   },
   {
    "duration": 34,
    "start_time": "2023-07-13T10:40:22.623Z"
   },
   {
    "duration": 31,
    "start_time": "2023-07-13T10:42:02.954Z"
   },
   {
    "duration": 24,
    "start_time": "2023-07-13T10:42:35.622Z"
   },
   {
    "duration": 36,
    "start_time": "2023-07-13T10:43:49.682Z"
   },
   {
    "duration": 31,
    "start_time": "2023-07-13T10:45:39.176Z"
   },
   {
    "duration": 25,
    "start_time": "2023-07-13T10:46:45.710Z"
   },
   {
    "duration": 24,
    "start_time": "2023-07-13T10:48:07.274Z"
   },
   {
    "duration": 23,
    "start_time": "2023-07-13T10:49:31.178Z"
   },
   {
    "duration": 21,
    "start_time": "2023-07-13T10:50:39.630Z"
   },
   {
    "duration": 35,
    "start_time": "2023-07-13T10:51:19.432Z"
   },
   {
    "duration": 30,
    "start_time": "2023-07-13T11:14:51.176Z"
   },
   {
    "duration": 31,
    "start_time": "2023-07-13T11:14:55.555Z"
   },
   {
    "duration": 23,
    "start_time": "2023-07-13T11:15:08.418Z"
   },
   {
    "duration": 23,
    "start_time": "2023-07-13T11:15:20.502Z"
   },
   {
    "duration": 30,
    "start_time": "2023-07-13T11:15:24.654Z"
   },
   {
    "duration": 27,
    "start_time": "2023-07-13T11:15:31.418Z"
   },
   {
    "duration": 23,
    "start_time": "2023-07-13T11:15:45.609Z"
   },
   {
    "duration": 33,
    "start_time": "2023-07-13T11:16:07.884Z"
   },
   {
    "duration": 26,
    "start_time": "2023-07-13T11:19:11.926Z"
   },
   {
    "duration": 22,
    "start_time": "2023-07-13T11:19:17.825Z"
   },
   {
    "duration": 35,
    "start_time": "2023-07-13T11:21:19.350Z"
   },
   {
    "duration": 22,
    "start_time": "2023-07-13T11:21:26.530Z"
   },
   {
    "duration": 34,
    "start_time": "2023-07-13T11:21:38.541Z"
   },
   {
    "duration": 1155,
    "start_time": "2023-07-13T11:54:49.020Z"
   },
   {
    "duration": 76,
    "start_time": "2023-07-13T11:54:50.177Z"
   },
   {
    "duration": 13,
    "start_time": "2023-07-13T11:54:50.255Z"
   },
   {
    "duration": 22,
    "start_time": "2023-07-13T11:54:50.269Z"
   },
   {
    "duration": 23,
    "start_time": "2023-07-13T11:54:50.294Z"
   },
   {
    "duration": 5,
    "start_time": "2023-07-13T11:54:50.319Z"
   },
   {
    "duration": 34,
    "start_time": "2023-07-13T11:54:50.326Z"
   },
   {
    "duration": 13,
    "start_time": "2023-07-13T11:54:50.362Z"
   },
   {
    "duration": 6,
    "start_time": "2023-07-13T11:54:50.377Z"
   },
   {
    "duration": 36,
    "start_time": "2023-07-13T11:54:50.385Z"
   },
   {
    "duration": 9,
    "start_time": "2023-07-13T11:54:50.422Z"
   },
   {
    "duration": 30,
    "start_time": "2023-07-13T11:54:50.432Z"
   },
   {
    "duration": 8,
    "start_time": "2023-07-13T11:54:50.464Z"
   },
   {
    "duration": 9,
    "start_time": "2023-07-13T11:54:50.475Z"
   },
   {
    "duration": 47,
    "start_time": "2023-07-13T11:54:50.485Z"
   },
   {
    "duration": 54,
    "start_time": "2023-07-13T11:54:50.533Z"
   },
   {
    "duration": 61,
    "start_time": "2023-07-13T11:54:50.589Z"
   },
   {
    "duration": 1592,
    "start_time": "2023-07-13T11:54:50.651Z"
   },
   {
    "duration": 2316,
    "start_time": "2023-07-13T11:54:52.245Z"
   },
   {
    "duration": 2186,
    "start_time": "2023-07-13T11:54:54.563Z"
   },
   {
    "duration": 2789,
    "start_time": "2023-07-13T11:54:56.751Z"
   },
   {
    "duration": 205,
    "start_time": "2023-07-13T11:54:59.542Z"
   },
   {
    "duration": 187,
    "start_time": "2023-07-13T11:54:59.749Z"
   },
   {
    "duration": 1069,
    "start_time": "2023-07-13T11:54:59.938Z"
   },
   {
    "duration": 247,
    "start_time": "2023-07-13T11:55:01.009Z"
   },
   {
    "duration": 213,
    "start_time": "2023-07-13T11:55:01.260Z"
   },
   {
    "duration": 191,
    "start_time": "2023-07-13T11:55:01.474Z"
   },
   {
    "duration": 198,
    "start_time": "2023-07-13T11:55:01.666Z"
   },
   {
    "duration": 13,
    "start_time": "2023-07-13T11:55:01.866Z"
   },
   {
    "duration": 40,
    "start_time": "2023-07-13T11:55:01.881Z"
   },
   {
    "duration": 90,
    "start_time": "2023-07-13T11:55:01.923Z"
   },
   {
    "duration": 37,
    "start_time": "2023-07-13T11:55:02.015Z"
   },
   {
    "duration": 38,
    "start_time": "2023-07-13T11:55:02.054Z"
   },
   {
    "duration": 29,
    "start_time": "2023-07-13T11:55:02.094Z"
   },
   {
    "duration": 55,
    "start_time": "2023-07-13T11:55:02.125Z"
   },
   {
    "duration": 38,
    "start_time": "2023-07-13T11:55:02.182Z"
   },
   {
    "duration": 67,
    "start_time": "2023-07-13T11:55:02.222Z"
   },
   {
    "duration": 38,
    "start_time": "2023-07-13T11:55:02.291Z"
   },
   {
    "duration": 66,
    "start_time": "2023-07-13T11:55:02.331Z"
   },
   {
    "duration": 19,
    "start_time": "2023-07-13T11:55:02.399Z"
   },
   {
    "duration": 110,
    "start_time": "2023-07-13T12:04:15.828Z"
   },
   {
    "duration": 15,
    "start_time": "2023-07-13T12:04:32.911Z"
   },
   {
    "duration": 859,
    "start_time": "2023-07-13T12:04:49.348Z"
   },
   {
    "duration": 652,
    "start_time": "2023-07-13T12:06:34.610Z"
   },
   {
    "duration": 953,
    "start_time": "2023-07-13T12:07:59.919Z"
   },
   {
    "duration": 1026,
    "start_time": "2023-07-13T12:08:44.807Z"
   },
   {
    "duration": 1181,
    "start_time": "2023-07-13T13:49:56.471Z"
   },
   {
    "duration": 68,
    "start_time": "2023-07-13T13:49:57.654Z"
   },
   {
    "duration": 15,
    "start_time": "2023-07-13T13:49:57.723Z"
   },
   {
    "duration": 19,
    "start_time": "2023-07-13T13:49:57.740Z"
   },
   {
    "duration": 51,
    "start_time": "2023-07-13T13:49:57.760Z"
   },
   {
    "duration": 5,
    "start_time": "2023-07-13T13:49:57.813Z"
   },
   {
    "duration": 26,
    "start_time": "2023-07-13T13:49:57.819Z"
   },
   {
    "duration": 14,
    "start_time": "2023-07-13T13:49:57.846Z"
   },
   {
    "duration": 8,
    "start_time": "2023-07-13T13:49:57.861Z"
   },
   {
    "duration": 30,
    "start_time": "2023-07-13T13:49:57.872Z"
   },
   {
    "duration": 8,
    "start_time": "2023-07-13T13:49:57.903Z"
   },
   {
    "duration": 12,
    "start_time": "2023-07-13T13:49:57.913Z"
   },
   {
    "duration": 6,
    "start_time": "2023-07-13T13:49:57.927Z"
   },
   {
    "duration": 29,
    "start_time": "2023-07-13T13:49:57.935Z"
   },
   {
    "duration": 40,
    "start_time": "2023-07-13T13:49:57.966Z"
   },
   {
    "duration": 55,
    "start_time": "2023-07-13T13:49:58.007Z"
   },
   {
    "duration": 58,
    "start_time": "2023-07-13T13:49:58.064Z"
   },
   {
    "duration": 1632,
    "start_time": "2023-07-13T13:49:58.124Z"
   },
   {
    "duration": 2303,
    "start_time": "2023-07-13T13:49:59.759Z"
   },
   {
    "duration": 2306,
    "start_time": "2023-07-13T13:50:02.064Z"
   },
   {
    "duration": 981,
    "start_time": "2023-07-13T13:50:04.371Z"
   },
   {
    "duration": 2866,
    "start_time": "2023-07-13T13:50:05.358Z"
   },
   {
    "duration": 217,
    "start_time": "2023-07-13T13:50:08.226Z"
   },
   {
    "duration": 288,
    "start_time": "2023-07-13T13:50:08.445Z"
   },
   {
    "duration": 957,
    "start_time": "2023-07-13T13:50:08.735Z"
   },
   {
    "duration": 238,
    "start_time": "2023-07-13T13:50:09.694Z"
   },
   {
    "duration": 217,
    "start_time": "2023-07-13T13:50:09.934Z"
   },
   {
    "duration": 194,
    "start_time": "2023-07-13T13:50:10.159Z"
   },
   {
    "duration": 199,
    "start_time": "2023-07-13T13:50:10.355Z"
   },
   {
    "duration": 14,
    "start_time": "2023-07-13T13:50:10.555Z"
   },
   {
    "duration": 9,
    "start_time": "2023-07-13T13:50:10.572Z"
   },
   {
    "duration": 14,
    "start_time": "2023-07-13T13:50:10.583Z"
   },
   {
    "duration": 15,
    "start_time": "2023-07-13T13:50:10.599Z"
   },
   {
    "duration": 11,
    "start_time": "2023-07-13T13:50:10.616Z"
   },
   {
    "duration": 36,
    "start_time": "2023-07-13T13:50:10.629Z"
   },
   {
    "duration": 23,
    "start_time": "2023-07-13T13:50:10.667Z"
   },
   {
    "duration": 21,
    "start_time": "2023-07-13T13:50:10.691Z"
   },
   {
    "duration": 57,
    "start_time": "2023-07-13T13:50:10.714Z"
   },
   {
    "duration": 20,
    "start_time": "2023-07-13T13:50:10.773Z"
   },
   {
    "duration": 24,
    "start_time": "2023-07-13T13:50:10.795Z"
   },
   {
    "duration": 19,
    "start_time": "2023-07-13T13:50:10.820Z"
   },
   {
    "duration": 69,
    "start_time": "2023-07-14T17:41:14.111Z"
   },
   {
    "duration": 1361,
    "start_time": "2023-07-14T17:41:34.023Z"
   },
   {
    "duration": 79,
    "start_time": "2023-07-14T17:41:35.386Z"
   },
   {
    "duration": 11,
    "start_time": "2023-07-14T17:41:35.467Z"
   },
   {
    "duration": 11,
    "start_time": "2023-07-14T17:41:35.480Z"
   },
   {
    "duration": 14,
    "start_time": "2023-07-14T17:41:35.493Z"
   },
   {
    "duration": 4,
    "start_time": "2023-07-14T17:41:35.509Z"
   },
   {
    "duration": 46,
    "start_time": "2023-07-14T17:41:35.514Z"
   },
   {
    "duration": 12,
    "start_time": "2023-07-14T17:41:35.562Z"
   },
   {
    "duration": 11,
    "start_time": "2023-07-14T17:41:35.575Z"
   },
   {
    "duration": 46,
    "start_time": "2023-07-14T17:41:35.588Z"
   },
   {
    "duration": 30,
    "start_time": "2023-07-14T17:41:35.635Z"
   },
   {
    "duration": 16,
    "start_time": "2023-07-14T17:41:35.666Z"
   },
   {
    "duration": 33,
    "start_time": "2023-07-14T17:41:35.684Z"
   },
   {
    "duration": 17,
    "start_time": "2023-07-14T17:41:35.720Z"
   },
   {
    "duration": 51,
    "start_time": "2023-07-14T17:41:35.739Z"
   },
   {
    "duration": 37,
    "start_time": "2023-07-14T17:41:35.792Z"
   },
   {
    "duration": 66,
    "start_time": "2023-07-14T17:41:35.830Z"
   },
   {
    "duration": 1644,
    "start_time": "2023-07-14T17:41:35.898Z"
   },
   {
    "duration": 2284,
    "start_time": "2023-07-14T17:41:37.543Z"
   },
   {
    "duration": 107,
    "start_time": "2023-07-14T17:41:39.828Z"
   },
   {
    "duration": 0,
    "start_time": "2023-07-14T17:41:39.937Z"
   },
   {
    "duration": 0,
    "start_time": "2023-07-14T17:41:39.938Z"
   },
   {
    "duration": 0,
    "start_time": "2023-07-14T17:41:39.940Z"
   },
   {
    "duration": 0,
    "start_time": "2023-07-14T17:41:39.942Z"
   },
   {
    "duration": 0,
    "start_time": "2023-07-14T17:41:39.943Z"
   },
   {
    "duration": 0,
    "start_time": "2023-07-14T17:41:39.944Z"
   },
   {
    "duration": 0,
    "start_time": "2023-07-14T17:41:39.960Z"
   },
   {
    "duration": 0,
    "start_time": "2023-07-14T17:41:39.962Z"
   },
   {
    "duration": 0,
    "start_time": "2023-07-14T17:41:39.963Z"
   },
   {
    "duration": 0,
    "start_time": "2023-07-14T17:41:39.964Z"
   },
   {
    "duration": 0,
    "start_time": "2023-07-14T17:41:39.965Z"
   },
   {
    "duration": 0,
    "start_time": "2023-07-14T17:41:39.967Z"
   },
   {
    "duration": 0,
    "start_time": "2023-07-14T17:41:39.968Z"
   },
   {
    "duration": 0,
    "start_time": "2023-07-14T17:41:39.970Z"
   },
   {
    "duration": 0,
    "start_time": "2023-07-14T17:41:39.971Z"
   },
   {
    "duration": 0,
    "start_time": "2023-07-14T17:41:39.973Z"
   },
   {
    "duration": 0,
    "start_time": "2023-07-14T17:41:39.974Z"
   },
   {
    "duration": 0,
    "start_time": "2023-07-14T17:41:39.976Z"
   },
   {
    "duration": 0,
    "start_time": "2023-07-14T17:41:39.978Z"
   },
   {
    "duration": 0,
    "start_time": "2023-07-14T17:41:39.979Z"
   },
   {
    "duration": 0,
    "start_time": "2023-07-14T17:41:39.981Z"
   },
   {
    "duration": 10,
    "start_time": "2023-07-14T17:42:22.923Z"
   },
   {
    "duration": 12,
    "start_time": "2023-07-14T17:42:32.903Z"
   },
   {
    "duration": 4849,
    "start_time": "2023-07-14T17:43:35.278Z"
   },
   {
    "duration": 1744,
    "start_time": "2023-07-14T17:44:04.376Z"
   },
   {
    "duration": 1014,
    "start_time": "2023-07-14T17:44:23.834Z"
   },
   {
    "duration": 809,
    "start_time": "2023-07-14T17:44:31.286Z"
   },
   {
    "duration": 2858,
    "start_time": "2023-07-14T17:44:39.941Z"
   },
   {
    "duration": 2638,
    "start_time": "2023-07-14T17:45:01.880Z"
   },
   {
    "duration": 1198,
    "start_time": "2023-07-14T17:45:17.981Z"
   },
   {
    "duration": 80,
    "start_time": "2023-07-14T17:45:19.181Z"
   },
   {
    "duration": 11,
    "start_time": "2023-07-14T17:45:19.263Z"
   },
   {
    "duration": 18,
    "start_time": "2023-07-14T17:45:19.275Z"
   },
   {
    "duration": 16,
    "start_time": "2023-07-14T17:45:19.295Z"
   },
   {
    "duration": 6,
    "start_time": "2023-07-14T17:45:19.313Z"
   },
   {
    "duration": 47,
    "start_time": "2023-07-14T17:45:19.320Z"
   },
   {
    "duration": 12,
    "start_time": "2023-07-14T17:45:19.369Z"
   },
   {
    "duration": 7,
    "start_time": "2023-07-14T17:45:19.383Z"
   },
   {
    "duration": 39,
    "start_time": "2023-07-14T17:45:19.392Z"
   },
   {
    "duration": 8,
    "start_time": "2023-07-14T17:45:19.432Z"
   },
   {
    "duration": 21,
    "start_time": "2023-07-14T17:45:19.442Z"
   },
   {
    "duration": 6,
    "start_time": "2023-07-14T17:45:19.465Z"
   },
   {
    "duration": 9,
    "start_time": "2023-07-14T17:45:19.474Z"
   },
   {
    "duration": 42,
    "start_time": "2023-07-14T17:45:19.484Z"
   },
   {
    "duration": 58,
    "start_time": "2023-07-14T17:45:19.527Z"
   },
   {
    "duration": 53,
    "start_time": "2023-07-14T17:45:19.587Z"
   },
   {
    "duration": 1602,
    "start_time": "2023-07-14T17:45:19.660Z"
   },
   {
    "duration": 2180,
    "start_time": "2023-07-14T17:45:21.264Z"
   },
   {
    "duration": 1983,
    "start_time": "2023-07-14T17:45:23.446Z"
   },
   {
    "duration": 802,
    "start_time": "2023-07-14T17:45:25.431Z"
   },
   {
    "duration": 2490,
    "start_time": "2023-07-14T17:45:26.235Z"
   },
   {
    "duration": 203,
    "start_time": "2023-07-14T17:45:28.727Z"
   },
   {
    "duration": 293,
    "start_time": "2023-07-14T17:45:28.932Z"
   },
   {
    "duration": 939,
    "start_time": "2023-07-14T17:45:29.227Z"
   },
   {
    "duration": 239,
    "start_time": "2023-07-14T17:45:30.168Z"
   },
   {
    "duration": 205,
    "start_time": "2023-07-14T17:45:30.409Z"
   },
   {
    "duration": 194,
    "start_time": "2023-07-14T17:45:30.617Z"
   },
   {
    "duration": 199,
    "start_time": "2023-07-14T17:45:30.813Z"
   },
   {
    "duration": 18,
    "start_time": "2023-07-14T17:45:31.014Z"
   },
   {
    "duration": 31,
    "start_time": "2023-07-14T17:45:31.034Z"
   },
   {
    "duration": 40,
    "start_time": "2023-07-14T17:45:31.067Z"
   },
   {
    "duration": 66,
    "start_time": "2023-07-14T17:45:31.109Z"
   },
   {
    "duration": 48,
    "start_time": "2023-07-14T17:45:31.177Z"
   },
   {
    "duration": 82,
    "start_time": "2023-07-14T17:45:31.227Z"
   },
   {
    "duration": 2268,
    "start_time": "2023-07-14T17:45:31.311Z"
   },
   {
    "duration": 0,
    "start_time": "2023-07-14T17:45:33.581Z"
   },
   {
    "duration": 0,
    "start_time": "2023-07-14T17:45:33.582Z"
   },
   {
    "duration": 0,
    "start_time": "2023-07-14T17:45:33.584Z"
   },
   {
    "duration": 0,
    "start_time": "2023-07-14T17:45:33.585Z"
   },
   {
    "duration": 0,
    "start_time": "2023-07-14T17:45:33.586Z"
   },
   {
    "duration": 2694,
    "start_time": "2023-07-14T17:47:21.343Z"
   },
   {
    "duration": 2689,
    "start_time": "2023-07-14T17:47:37.554Z"
   },
   {
    "duration": 1226,
    "start_time": "2023-07-14T17:49:24.955Z"
   },
   {
    "duration": 101,
    "start_time": "2023-07-14T17:49:26.183Z"
   },
   {
    "duration": 16,
    "start_time": "2023-07-14T17:49:26.286Z"
   },
   {
    "duration": 15,
    "start_time": "2023-07-14T17:49:26.304Z"
   },
   {
    "duration": 23,
    "start_time": "2023-07-14T17:49:26.322Z"
   },
   {
    "duration": 17,
    "start_time": "2023-07-14T17:49:26.361Z"
   },
   {
    "duration": 27,
    "start_time": "2023-07-14T17:49:26.380Z"
   },
   {
    "duration": 16,
    "start_time": "2023-07-14T17:49:26.409Z"
   },
   {
    "duration": 8,
    "start_time": "2023-07-14T17:49:26.427Z"
   },
   {
    "duration": 69,
    "start_time": "2023-07-14T17:49:26.437Z"
   },
   {
    "duration": 8,
    "start_time": "2023-07-14T17:49:26.508Z"
   },
   {
    "duration": 13,
    "start_time": "2023-07-14T17:49:26.518Z"
   },
   {
    "duration": 8,
    "start_time": "2023-07-14T17:49:26.533Z"
   },
   {
    "duration": 26,
    "start_time": "2023-07-14T17:49:26.544Z"
   },
   {
    "duration": 41,
    "start_time": "2023-07-14T17:49:26.572Z"
   },
   {
    "duration": 54,
    "start_time": "2023-07-14T17:49:26.614Z"
   },
   {
    "duration": 56,
    "start_time": "2023-07-14T17:49:26.673Z"
   },
   {
    "duration": 1742,
    "start_time": "2023-07-14T17:49:26.731Z"
   },
   {
    "duration": 2284,
    "start_time": "2023-07-14T17:49:28.475Z"
   },
   {
    "duration": 2096,
    "start_time": "2023-07-14T17:49:30.761Z"
   },
   {
    "duration": 842,
    "start_time": "2023-07-14T17:49:32.859Z"
   },
   {
    "duration": 2764,
    "start_time": "2023-07-14T17:49:33.703Z"
   },
   {
    "duration": 223,
    "start_time": "2023-07-14T17:49:36.469Z"
   },
   {
    "duration": 293,
    "start_time": "2023-07-14T17:49:36.693Z"
   },
   {
    "duration": 989,
    "start_time": "2023-07-14T17:49:36.989Z"
   },
   {
    "duration": 247,
    "start_time": "2023-07-14T17:49:37.981Z"
   },
   {
    "duration": 225,
    "start_time": "2023-07-14T17:49:38.229Z"
   },
   {
    "duration": 208,
    "start_time": "2023-07-14T17:49:38.455Z"
   },
   {
    "duration": 210,
    "start_time": "2023-07-14T17:49:38.664Z"
   },
   {
    "duration": 14,
    "start_time": "2023-07-14T17:49:38.876Z"
   },
   {
    "duration": 11,
    "start_time": "2023-07-14T17:49:38.891Z"
   },
   {
    "duration": 18,
    "start_time": "2023-07-14T17:49:38.903Z"
   },
   {
    "duration": 9,
    "start_time": "2023-07-14T17:49:38.922Z"
   },
   {
    "duration": 36,
    "start_time": "2023-07-14T17:49:38.933Z"
   },
   {
    "duration": 9,
    "start_time": "2023-07-14T17:49:38.971Z"
   },
   {
    "duration": 27,
    "start_time": "2023-07-14T17:49:38.982Z"
   },
   {
    "duration": 23,
    "start_time": "2023-07-14T17:49:39.011Z"
   },
   {
    "duration": 46,
    "start_time": "2023-07-14T17:49:39.036Z"
   },
   {
    "duration": 20,
    "start_time": "2023-07-14T17:49:39.084Z"
   },
   {
    "duration": 22,
    "start_time": "2023-07-14T17:49:39.106Z"
   },
   {
    "duration": 55,
    "start_time": "2023-07-14T17:49:39.132Z"
   },
   {
    "duration": 1256,
    "start_time": "2023-07-14T18:03:59.741Z"
   },
   {
    "duration": 86,
    "start_time": "2023-07-14T18:04:00.999Z"
   },
   {
    "duration": 13,
    "start_time": "2023-07-14T18:04:01.086Z"
   },
   {
    "duration": 41,
    "start_time": "2023-07-14T18:04:01.101Z"
   },
   {
    "duration": 38,
    "start_time": "2023-07-14T18:04:01.144Z"
   },
   {
    "duration": 26,
    "start_time": "2023-07-14T18:04:01.183Z"
   },
   {
    "duration": 63,
    "start_time": "2023-07-14T18:04:01.212Z"
   },
   {
    "duration": 55,
    "start_time": "2023-07-14T18:04:01.277Z"
   },
   {
    "duration": 45,
    "start_time": "2023-07-14T18:04:01.334Z"
   },
   {
    "duration": 66,
    "start_time": "2023-07-14T18:04:01.381Z"
   },
   {
    "duration": 41,
    "start_time": "2023-07-14T18:04:01.448Z"
   },
   {
    "duration": 59,
    "start_time": "2023-07-14T18:04:01.491Z"
   },
   {
    "duration": 29,
    "start_time": "2023-07-14T18:04:01.552Z"
   },
   {
    "duration": 25,
    "start_time": "2023-07-14T18:04:01.584Z"
   },
   {
    "duration": 84,
    "start_time": "2023-07-14T18:04:01.610Z"
   },
   {
    "duration": 41,
    "start_time": "2023-07-14T18:04:01.695Z"
   },
   {
    "duration": 64,
    "start_time": "2023-07-14T18:04:01.738Z"
   },
   {
    "duration": 1652,
    "start_time": "2023-07-14T18:04:01.804Z"
   },
   {
    "duration": 2284,
    "start_time": "2023-07-14T18:04:03.457Z"
   },
   {
    "duration": 1886,
    "start_time": "2023-07-14T18:04:05.743Z"
   },
   {
    "duration": 822,
    "start_time": "2023-07-14T18:04:07.631Z"
   },
   {
    "duration": 2528,
    "start_time": "2023-07-14T18:04:08.458Z"
   },
   {
    "duration": 205,
    "start_time": "2023-07-14T18:04:10.988Z"
   },
   {
    "duration": 280,
    "start_time": "2023-07-14T18:04:11.195Z"
   },
   {
    "duration": 927,
    "start_time": "2023-07-14T18:04:11.477Z"
   },
   {
    "duration": 222,
    "start_time": "2023-07-14T18:04:12.405Z"
   },
   {
    "duration": 199,
    "start_time": "2023-07-14T18:04:12.628Z"
   },
   {
    "duration": 187,
    "start_time": "2023-07-14T18:04:12.828Z"
   },
   {
    "duration": 213,
    "start_time": "2023-07-14T18:04:13.017Z"
   },
   {
    "duration": 11,
    "start_time": "2023-07-14T18:04:13.232Z"
   },
   {
    "duration": 22,
    "start_time": "2023-07-14T18:04:13.245Z"
   },
   {
    "duration": 17,
    "start_time": "2023-07-14T18:04:13.269Z"
   },
   {
    "duration": 9,
    "start_time": "2023-07-14T18:04:13.288Z"
   },
   {
    "duration": 31,
    "start_time": "2023-07-14T18:04:13.299Z"
   },
   {
    "duration": 21,
    "start_time": "2023-07-14T18:04:13.332Z"
   },
   {
    "duration": 29,
    "start_time": "2023-07-14T18:04:13.355Z"
   },
   {
    "duration": 20,
    "start_time": "2023-07-14T18:04:13.386Z"
   },
   {
    "duration": 19,
    "start_time": "2023-07-14T18:04:13.408Z"
   },
   {
    "duration": 43,
    "start_time": "2023-07-14T18:04:13.429Z"
   },
   {
    "duration": 20,
    "start_time": "2023-07-14T18:04:13.474Z"
   },
   {
    "duration": 18,
    "start_time": "2023-07-14T18:04:13.497Z"
   },
   {
    "duration": 1478,
    "start_time": "2023-07-14T19:04:37.970Z"
   },
   {
    "duration": 133,
    "start_time": "2023-07-14T19:04:39.450Z"
   },
   {
    "duration": 16,
    "start_time": "2023-07-14T19:04:39.589Z"
   },
   {
    "duration": 12,
    "start_time": "2023-07-14T19:04:39.607Z"
   },
   {
    "duration": 15,
    "start_time": "2023-07-14T19:04:39.622Z"
   },
   {
    "duration": 5,
    "start_time": "2023-07-14T19:04:39.639Z"
   },
   {
    "duration": 53,
    "start_time": "2023-07-14T19:04:39.657Z"
   },
   {
    "duration": 16,
    "start_time": "2023-07-14T19:04:39.712Z"
   },
   {
    "duration": 28,
    "start_time": "2023-07-14T19:04:39.730Z"
   },
   {
    "duration": 52,
    "start_time": "2023-07-14T19:04:39.761Z"
   },
   {
    "duration": 11,
    "start_time": "2023-07-14T19:04:39.815Z"
   },
   {
    "duration": 14,
    "start_time": "2023-07-14T19:04:39.828Z"
   },
   {
    "duration": 19,
    "start_time": "2023-07-14T19:04:39.844Z"
   },
   {
    "duration": 25,
    "start_time": "2023-07-14T19:04:39.871Z"
   },
   {
    "duration": 38,
    "start_time": "2023-07-14T19:04:39.898Z"
   },
   {
    "duration": 56,
    "start_time": "2023-07-14T19:04:39.937Z"
   },
   {
    "duration": 52,
    "start_time": "2023-07-14T19:04:39.997Z"
   },
   {
    "duration": 1796,
    "start_time": "2023-07-14T19:04:40.050Z"
   },
   {
    "duration": 2220,
    "start_time": "2023-07-14T19:04:41.847Z"
   },
   {
    "duration": 115,
    "start_time": "2023-07-14T19:04:44.072Z"
   },
   {
    "duration": 0,
    "start_time": "2023-07-14T19:04:44.189Z"
   },
   {
    "duration": 0,
    "start_time": "2023-07-14T19:04:44.191Z"
   },
   {
    "duration": 0,
    "start_time": "2023-07-14T19:04:44.192Z"
   },
   {
    "duration": 0,
    "start_time": "2023-07-14T19:04:44.194Z"
   },
   {
    "duration": 0,
    "start_time": "2023-07-14T19:04:44.195Z"
   },
   {
    "duration": 0,
    "start_time": "2023-07-14T19:04:44.197Z"
   },
   {
    "duration": 0,
    "start_time": "2023-07-14T19:04:44.198Z"
   },
   {
    "duration": 0,
    "start_time": "2023-07-14T19:04:44.200Z"
   },
   {
    "duration": 0,
    "start_time": "2023-07-14T19:04:44.202Z"
   },
   {
    "duration": 0,
    "start_time": "2023-07-14T19:04:44.204Z"
   },
   {
    "duration": 0,
    "start_time": "2023-07-14T19:04:44.205Z"
   },
   {
    "duration": 0,
    "start_time": "2023-07-14T19:04:44.207Z"
   },
   {
    "duration": 0,
    "start_time": "2023-07-14T19:04:44.209Z"
   },
   {
    "duration": 0,
    "start_time": "2023-07-14T19:04:44.210Z"
   },
   {
    "duration": 0,
    "start_time": "2023-07-14T19:04:44.212Z"
   },
   {
    "duration": 0,
    "start_time": "2023-07-14T19:04:44.213Z"
   },
   {
    "duration": 0,
    "start_time": "2023-07-14T19:04:44.215Z"
   },
   {
    "duration": 0,
    "start_time": "2023-07-14T19:04:44.263Z"
   },
   {
    "duration": 0,
    "start_time": "2023-07-14T19:04:44.265Z"
   },
   {
    "duration": 0,
    "start_time": "2023-07-14T19:04:44.266Z"
   },
   {
    "duration": 0,
    "start_time": "2023-07-14T19:04:44.266Z"
   },
   {
    "duration": 5751,
    "start_time": "2023-07-14T19:05:17.782Z"
   },
   {
    "duration": 1277,
    "start_time": "2023-07-14T19:05:32.075Z"
   },
   {
    "duration": 110,
    "start_time": "2023-07-14T19:05:33.358Z"
   },
   {
    "duration": 15,
    "start_time": "2023-07-14T19:05:33.479Z"
   },
   {
    "duration": 20,
    "start_time": "2023-07-14T19:05:33.496Z"
   },
   {
    "duration": 15,
    "start_time": "2023-07-14T19:05:33.518Z"
   },
   {
    "duration": 4,
    "start_time": "2023-07-14T19:05:33.535Z"
   },
   {
    "duration": 41,
    "start_time": "2023-07-14T19:05:33.541Z"
   },
   {
    "duration": 15,
    "start_time": "2023-07-14T19:05:33.583Z"
   },
   {
    "duration": 9,
    "start_time": "2023-07-14T19:05:33.599Z"
   },
   {
    "duration": 66,
    "start_time": "2023-07-14T19:05:33.611Z"
   },
   {
    "duration": 13,
    "start_time": "2023-07-14T19:05:33.680Z"
   },
   {
    "duration": 6,
    "start_time": "2023-07-14T19:05:33.696Z"
   },
   {
    "duration": 7,
    "start_time": "2023-07-14T19:05:33.704Z"
   },
   {
    "duration": 26,
    "start_time": "2023-07-14T19:05:33.712Z"
   },
   {
    "duration": 48,
    "start_time": "2023-07-14T19:05:33.740Z"
   },
   {
    "duration": 46,
    "start_time": "2023-07-14T19:05:33.790Z"
   },
   {
    "duration": 72,
    "start_time": "2023-07-14T19:05:33.838Z"
   },
   {
    "duration": 1771,
    "start_time": "2023-07-14T19:05:33.912Z"
   },
   {
    "duration": 2364,
    "start_time": "2023-07-14T19:05:35.685Z"
   },
   {
    "duration": 4517,
    "start_time": "2023-07-14T19:05:38.052Z"
   },
   {
    "duration": 879,
    "start_time": "2023-07-14T19:05:42.572Z"
   },
   {
    "duration": 2779,
    "start_time": "2023-07-14T19:05:43.456Z"
   },
   {
    "duration": 234,
    "start_time": "2023-07-14T19:05:46.237Z"
   },
   {
    "duration": 281,
    "start_time": "2023-07-14T19:05:46.473Z"
   },
   {
    "duration": 986,
    "start_time": "2023-07-14T19:05:46.756Z"
   },
   {
    "duration": 243,
    "start_time": "2023-07-14T19:05:47.743Z"
   },
   {
    "duration": 222,
    "start_time": "2023-07-14T19:05:47.989Z"
   },
   {
    "duration": 223,
    "start_time": "2023-07-14T19:05:48.216Z"
   },
   {
    "duration": 205,
    "start_time": "2023-07-14T19:05:48.442Z"
   },
   {
    "duration": 25,
    "start_time": "2023-07-14T19:05:48.648Z"
   },
   {
    "duration": 22,
    "start_time": "2023-07-14T19:05:48.679Z"
   },
   {
    "duration": 11,
    "start_time": "2023-07-14T19:05:48.702Z"
   },
   {
    "duration": 8,
    "start_time": "2023-07-14T19:05:48.715Z"
   },
   {
    "duration": 25,
    "start_time": "2023-07-14T19:05:48.725Z"
   },
   {
    "duration": 17,
    "start_time": "2023-07-14T19:05:48.752Z"
   },
   {
    "duration": 44,
    "start_time": "2023-07-14T19:05:48.773Z"
   },
   {
    "duration": 25,
    "start_time": "2023-07-14T19:05:48.819Z"
   },
   {
    "duration": 36,
    "start_time": "2023-07-14T19:05:48.845Z"
   },
   {
    "duration": 27,
    "start_time": "2023-07-14T19:05:48.883Z"
   },
   {
    "duration": 22,
    "start_time": "2023-07-14T19:05:48.912Z"
   },
   {
    "duration": 48,
    "start_time": "2023-07-14T19:05:48.936Z"
   }
  ],
  "kernelspec": {
   "display_name": "Python 3 (ipykernel)",
   "language": "python",
   "name": "python3"
  },
  "language_info": {
   "codemirror_mode": {
    "name": "ipython",
    "version": 3
   },
   "file_extension": ".py",
   "mimetype": "text/x-python",
   "name": "python",
   "nbconvert_exporter": "python",
   "pygments_lexer": "ipython3",
   "version": "3.9.5"
  },
  "toc": {
   "base_numbering": 1,
   "nav_menu": {},
   "number_sections": true,
   "sideBar": true,
   "skip_h1_title": true,
   "title_cell": "Table of Contents",
   "title_sidebar": "Contents",
   "toc_cell": false,
   "toc_position": {},
   "toc_section_display": true,
   "toc_window_display": false
  }
 },
 "nbformat": 4,
 "nbformat_minor": 2
}
