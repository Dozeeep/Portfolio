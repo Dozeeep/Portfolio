{
 "cells": [
  {
   "cell_type": "markdown",
   "metadata": {},
   "source": [
    "Коронавирус застал мир врасплох, изменив привычный порядок вещей. В свободное время жители городов больше не выходят на улицу, не посещают кафе и торговые центры. Зато стало больше времени для книг. Это заметили стартаперы — и бросились создавать приложения для тех, кто любит читать.\n",
    "\n",
    "Ваша компания решила быть на волне и купила крупный сервис для чтения книг по подписке. Ваша первая задача как аналитика — проанализировать базу данных.\n",
    "\n",
    "В ней — информация о книгах, издательствах, авторах, а также пользовательские обзоры книг. Эти данные помогут сформулировать ценностное предложение для нового продукта.\n",
    "\n",
    "**Описание данных:**\n",
    "1. **Таблица books.** Содержит данные о книгах:\n",
    "- book_id — идентификатор книги;\n",
    "- author_id — идентификатор автора;\n",
    "- title — название книги;\n",
    "- num_pages — количество страниц;\n",
    "- publication_date — дата публикации книги;\n",
    "- publisher_id — идентификатор издателя.\n",
    "2. **Таблица authors.** Содержит данные об авторах:\n",
    "- author_id — идентификатор автора;\n",
    "- author — имя автора.\n",
    "3. **Таблица publishers.** Содержит данные об издательствах:\n",
    "- publisher_id — идентификатор издательства;\n",
    "- publisher — название издательства;\n",
    "4. **Таблица ratings.** Содержит данные о пользовательских оценках книг:\n",
    "- rating_id — идентификатор оценки;\n",
    "- book_id — идентификатор книги;\n",
    "- username — имя пользователя, оставившего оценку;\n",
    "- rating — оценка книги.\n",
    "5. **Таблица reviews.** Содержит данные о пользовательских обзорах:\n",
    "- review_id — идентификатор обзора;\n",
    "- book_id — идентификатор книги;\n",
    "- username — имя автора обзора;\n",
    "- text — текст обзора.\n",
    "\n",
    "**Задания:**\n",
    "1. Посчитайте, сколько книг вышло после 1 января 2000 года.\n",
    "2. Для каждой книги посчитайте количество обзоров и среднюю оценку.\n",
    "3. Определите издательство, которое выпустило наибольшее число книг толще 50 страниц — так вы исключите из анализа брошюры.\n",
    "4. Определите автора с самой высокой средней оценкой книг — учитывайте только книги с 50 и более оценками.\n",
    "5. Посчитайте среднее количество обзоров от пользователей, которые поставили больше 48 оценок.\n",
    "\n",
    "**Шаг 1.** Загрузим библиотеки, получим доступ к базе данных и посмотрим на данные.\n",
    "\n",
    "**Шаг 2.** Выполним задания, сделав запросы.\n",
    "\n",
    "**Шаг 3.** Напишем общий вывод."
   ]
  },
  {
   "cell_type": "markdown",
   "metadata": {},
   "source": [
    "**Шаг 1. Загрузим библиотеки, получим доступ к базе данных и посмотрим на данные.**"
   ]
  },
  {
   "cell_type": "code",
   "execution_count": 41,
   "metadata": {},
   "outputs": [],
   "source": [
    "# импортируем библиотеки\n",
    "import pandas as pd\n",
    "from sqlalchemy import text, create_engine\n",
    "\n",
    "# устанавливаем параметры\n",
    "db_config = {'user': 'praktikum_student', # имя пользователя\n",
    "'pwd': 'Sdf4$2;d-d30pp', # пароль\n",
    "'host': 'rc1b-wcoijxj3yxfsf3fs.mdb.yandexcloud.net',\n",
    "'port': 6432, # порт подключения\n",
    "'db': 'data-analyst-final-project-db'} # название базы данных\n",
    "connection_string = 'postgresql://{user}:{pwd}@{host}:{port}/{db}'.format(**db_config)\n",
    "\n",
    "# сохраняем коннектор\n",
    "engine = create_engine(connection_string, connect_args={'sslmode':'require'})"
   ]
  },
  {
   "cell_type": "markdown",
   "metadata": {},
   "source": [
    "Посмотрим на таблицу **books**."
   ]
  },
  {
   "cell_type": "code",
   "execution_count": 42,
   "metadata": {
    "scrolled": false
   },
   "outputs": [
    {
     "data": {
      "text/html": [
       "<div>\n",
       "<style scoped>\n",
       "    .dataframe tbody tr th:only-of-type {\n",
       "        vertical-align: middle;\n",
       "    }\n",
       "\n",
       "    .dataframe tbody tr th {\n",
       "        vertical-align: top;\n",
       "    }\n",
       "\n",
       "    .dataframe thead th {\n",
       "        text-align: right;\n",
       "    }\n",
       "</style>\n",
       "<table border=\"1\" class=\"dataframe\">\n",
       "  <thead>\n",
       "    <tr style=\"text-align: right;\">\n",
       "      <th></th>\n",
       "      <th>book_id</th>\n",
       "      <th>author_id</th>\n",
       "      <th>title</th>\n",
       "      <th>num_pages</th>\n",
       "      <th>publication_date</th>\n",
       "      <th>publisher_id</th>\n",
       "    </tr>\n",
       "  </thead>\n",
       "  <tbody>\n",
       "    <tr>\n",
       "      <th>0</th>\n",
       "      <td>1</td>\n",
       "      <td>546</td>\n",
       "      <td>'Salem's Lot</td>\n",
       "      <td>594</td>\n",
       "      <td>2005-11-01</td>\n",
       "      <td>93</td>\n",
       "    </tr>\n",
       "    <tr>\n",
       "      <th>1</th>\n",
       "      <td>2</td>\n",
       "      <td>465</td>\n",
       "      <td>1 000 Places to See Before You Die</td>\n",
       "      <td>992</td>\n",
       "      <td>2003-05-22</td>\n",
       "      <td>336</td>\n",
       "    </tr>\n",
       "    <tr>\n",
       "      <th>2</th>\n",
       "      <td>3</td>\n",
       "      <td>407</td>\n",
       "      <td>13 Little Blue Envelopes (Little Blue Envelope...</td>\n",
       "      <td>322</td>\n",
       "      <td>2010-12-21</td>\n",
       "      <td>135</td>\n",
       "    </tr>\n",
       "    <tr>\n",
       "      <th>3</th>\n",
       "      <td>4</td>\n",
       "      <td>82</td>\n",
       "      <td>1491: New Revelations of the Americas Before C...</td>\n",
       "      <td>541</td>\n",
       "      <td>2006-10-10</td>\n",
       "      <td>309</td>\n",
       "    </tr>\n",
       "    <tr>\n",
       "      <th>4</th>\n",
       "      <td>5</td>\n",
       "      <td>125</td>\n",
       "      <td>1776</td>\n",
       "      <td>386</td>\n",
       "      <td>2006-07-04</td>\n",
       "      <td>268</td>\n",
       "    </tr>\n",
       "  </tbody>\n",
       "</table>\n",
       "</div>"
      ],
      "text/plain": [
       "   book_id  author_id                                              title  \\\n",
       "0        1        546                                       'Salem's Lot   \n",
       "1        2        465                 1 000 Places to See Before You Die   \n",
       "2        3        407  13 Little Blue Envelopes (Little Blue Envelope...   \n",
       "3        4         82  1491: New Revelations of the Americas Before C...   \n",
       "4        5        125                                               1776   \n",
       "\n",
       "   num_pages publication_date  publisher_id  \n",
       "0        594       2005-11-01            93  \n",
       "1        992       2003-05-22           336  \n",
       "2        322       2010-12-21           135  \n",
       "3        541       2006-10-10           309  \n",
       "4        386       2006-07-04           268  "
      ]
     },
     "metadata": {},
     "output_type": "display_data"
    },
    {
     "name": "stdout",
     "output_type": "stream",
     "text": [
      "<class 'pandas.core.frame.DataFrame'>\n",
      "RangeIndex: 5 entries, 0 to 4\n",
      "Data columns (total 6 columns):\n",
      " #   Column            Non-Null Count  Dtype \n",
      "---  ------            --------------  ----- \n",
      " 0   book_id           5 non-null      int64 \n",
      " 1   author_id         5 non-null      int64 \n",
      " 2   title             5 non-null      object\n",
      " 3   num_pages         5 non-null      int64 \n",
      " 4   publication_date  5 non-null      object\n",
      " 5   publisher_id      5 non-null      int64 \n",
      "dtypes: int64(4), object(2)\n",
      "memory usage: 368.0+ bytes\n"
     ]
    },
    {
     "data": {
      "text/plain": [
       "None"
      ]
     },
     "metadata": {},
     "output_type": "display_data"
    },
    {
     "data": {
      "text/plain": [
       "0"
      ]
     },
     "metadata": {},
     "output_type": "display_data"
    },
    {
     "data": {
      "text/html": [
       "<div>\n",
       "<style scoped>\n",
       "    .dataframe tbody tr th:only-of-type {\n",
       "        vertical-align: middle;\n",
       "    }\n",
       "\n",
       "    .dataframe tbody tr th {\n",
       "        vertical-align: top;\n",
       "    }\n",
       "\n",
       "    .dataframe thead th {\n",
       "        text-align: right;\n",
       "    }\n",
       "</style>\n",
       "<table border=\"1\" class=\"dataframe\">\n",
       "  <thead>\n",
       "    <tr style=\"text-align: right;\">\n",
       "      <th></th>\n",
       "      <th>count</th>\n",
       "    </tr>\n",
       "  </thead>\n",
       "  <tbody>\n",
       "    <tr>\n",
       "      <th>0</th>\n",
       "      <td>1000</td>\n",
       "    </tr>\n",
       "  </tbody>\n",
       "</table>\n",
       "</div>"
      ],
      "text/plain": [
       "   count\n",
       "0   1000"
      ]
     },
     "metadata": {},
     "output_type": "display_data"
    }
   ],
   "source": [
    "# Выведем первые 5 строк таблицы books и всю информацию\n",
    "books = '''SELECT * FROM books LIMIT 5'''\n",
    "desc_query = '''SELECT COUNT (*) FROM books'''\n",
    "con = engine.connect()\n",
    "display(pd.io.sql.read_sql(books, con=con))\n",
    "display(pd.io.sql.read_sql(books, con=con).info())\n",
    "display(pd.io.sql.read_sql(books, con=con).duplicated().sum())\n",
    "display(pd.io.sql.read_sql(desc_query, con=con))"
   ]
  },
  {
   "cell_type": "markdown",
   "metadata": {},
   "source": [
    "Данные выглядят нормально. Дубликатов нет. Имеет 6 столбцов. Количество строк - 1000."
   ]
  },
  {
   "cell_type": "markdown",
   "metadata": {},
   "source": [
    "Посмотрим на таблицу **authors**."
   ]
  },
  {
   "cell_type": "code",
   "execution_count": 43,
   "metadata": {},
   "outputs": [
    {
     "data": {
      "text/html": [
       "<div>\n",
       "<style scoped>\n",
       "    .dataframe tbody tr th:only-of-type {\n",
       "        vertical-align: middle;\n",
       "    }\n",
       "\n",
       "    .dataframe tbody tr th {\n",
       "        vertical-align: top;\n",
       "    }\n",
       "\n",
       "    .dataframe thead th {\n",
       "        text-align: right;\n",
       "    }\n",
       "</style>\n",
       "<table border=\"1\" class=\"dataframe\">\n",
       "  <thead>\n",
       "    <tr style=\"text-align: right;\">\n",
       "      <th></th>\n",
       "      <th>author_id</th>\n",
       "      <th>author</th>\n",
       "    </tr>\n",
       "  </thead>\n",
       "  <tbody>\n",
       "    <tr>\n",
       "      <th>0</th>\n",
       "      <td>1</td>\n",
       "      <td>A.S. Byatt</td>\n",
       "    </tr>\n",
       "    <tr>\n",
       "      <th>1</th>\n",
       "      <td>2</td>\n",
       "      <td>Aesop/Laura Harris/Laura Gibbs</td>\n",
       "    </tr>\n",
       "    <tr>\n",
       "      <th>2</th>\n",
       "      <td>3</td>\n",
       "      <td>Agatha Christie</td>\n",
       "    </tr>\n",
       "    <tr>\n",
       "      <th>3</th>\n",
       "      <td>4</td>\n",
       "      <td>Alan Brennert</td>\n",
       "    </tr>\n",
       "    <tr>\n",
       "      <th>4</th>\n",
       "      <td>5</td>\n",
       "      <td>Alan Moore/David   Lloyd</td>\n",
       "    </tr>\n",
       "  </tbody>\n",
       "</table>\n",
       "</div>"
      ],
      "text/plain": [
       "   author_id                          author\n",
       "0          1                      A.S. Byatt\n",
       "1          2  Aesop/Laura Harris/Laura Gibbs\n",
       "2          3                 Agatha Christie\n",
       "3          4                   Alan Brennert\n",
       "4          5        Alan Moore/David   Lloyd"
      ]
     },
     "metadata": {},
     "output_type": "display_data"
    },
    {
     "name": "stdout",
     "output_type": "stream",
     "text": [
      "<class 'pandas.core.frame.DataFrame'>\n",
      "RangeIndex: 5 entries, 0 to 4\n",
      "Data columns (total 2 columns):\n",
      " #   Column     Non-Null Count  Dtype \n",
      "---  ------     --------------  ----- \n",
      " 0   author_id  5 non-null      int64 \n",
      " 1   author     5 non-null      object\n",
      "dtypes: int64(1), object(1)\n",
      "memory usage: 208.0+ bytes\n"
     ]
    },
    {
     "data": {
      "text/plain": [
       "None"
      ]
     },
     "metadata": {},
     "output_type": "display_data"
    },
    {
     "data": {
      "text/plain": [
       "0"
      ]
     },
     "metadata": {},
     "output_type": "display_data"
    },
    {
     "data": {
      "text/html": [
       "<div>\n",
       "<style scoped>\n",
       "    .dataframe tbody tr th:only-of-type {\n",
       "        vertical-align: middle;\n",
       "    }\n",
       "\n",
       "    .dataframe tbody tr th {\n",
       "        vertical-align: top;\n",
       "    }\n",
       "\n",
       "    .dataframe thead th {\n",
       "        text-align: right;\n",
       "    }\n",
       "</style>\n",
       "<table border=\"1\" class=\"dataframe\">\n",
       "  <thead>\n",
       "    <tr style=\"text-align: right;\">\n",
       "      <th></th>\n",
       "      <th>count</th>\n",
       "    </tr>\n",
       "  </thead>\n",
       "  <tbody>\n",
       "    <tr>\n",
       "      <th>0</th>\n",
       "      <td>636</td>\n",
       "    </tr>\n",
       "  </tbody>\n",
       "</table>\n",
       "</div>"
      ],
      "text/plain": [
       "   count\n",
       "0    636"
      ]
     },
     "metadata": {},
     "output_type": "display_data"
    }
   ],
   "source": [
    "# Выведем первые 5 строк таблицы books и всю информацию\n",
    "authors = '''SELECT * FROM authors LIMIT 5'''\n",
    "desc_query1 = '''SELECT COUNT (*) FROM authors'''\n",
    "con = engine.connect()\n",
    "display(pd.io.sql.read_sql(authors, con=con))\n",
    "display(pd.io.sql.read_sql(authors, con=con).info())\n",
    "display(pd.io.sql.read_sql(authors, con=con).duplicated().sum())\n",
    "display(pd.io.sql.read_sql(desc_query1, con=con))"
   ]
  },
  {
   "cell_type": "markdown",
   "metadata": {},
   "source": [
    "Данные выглядят нормально. Дубликатов нет. Имеет 2 столбца. Количество строк - 636."
   ]
  },
  {
   "cell_type": "markdown",
   "metadata": {},
   "source": [
    "Посмотрим на таблицу **publishers**."
   ]
  },
  {
   "cell_type": "code",
   "execution_count": 44,
   "metadata": {},
   "outputs": [
    {
     "data": {
      "text/html": [
       "<div>\n",
       "<style scoped>\n",
       "    .dataframe tbody tr th:only-of-type {\n",
       "        vertical-align: middle;\n",
       "    }\n",
       "\n",
       "    .dataframe tbody tr th {\n",
       "        vertical-align: top;\n",
       "    }\n",
       "\n",
       "    .dataframe thead th {\n",
       "        text-align: right;\n",
       "    }\n",
       "</style>\n",
       "<table border=\"1\" class=\"dataframe\">\n",
       "  <thead>\n",
       "    <tr style=\"text-align: right;\">\n",
       "      <th></th>\n",
       "      <th>publisher_id</th>\n",
       "      <th>publisher</th>\n",
       "    </tr>\n",
       "  </thead>\n",
       "  <tbody>\n",
       "    <tr>\n",
       "      <th>0</th>\n",
       "      <td>1</td>\n",
       "      <td>Ace</td>\n",
       "    </tr>\n",
       "    <tr>\n",
       "      <th>1</th>\n",
       "      <td>2</td>\n",
       "      <td>Ace Book</td>\n",
       "    </tr>\n",
       "    <tr>\n",
       "      <th>2</th>\n",
       "      <td>3</td>\n",
       "      <td>Ace Books</td>\n",
       "    </tr>\n",
       "    <tr>\n",
       "      <th>3</th>\n",
       "      <td>4</td>\n",
       "      <td>Ace Hardcover</td>\n",
       "    </tr>\n",
       "    <tr>\n",
       "      <th>4</th>\n",
       "      <td>5</td>\n",
       "      <td>Addison Wesley Publishing Company</td>\n",
       "    </tr>\n",
       "  </tbody>\n",
       "</table>\n",
       "</div>"
      ],
      "text/plain": [
       "   publisher_id                          publisher\n",
       "0             1                                Ace\n",
       "1             2                           Ace Book\n",
       "2             3                          Ace Books\n",
       "3             4                      Ace Hardcover\n",
       "4             5  Addison Wesley Publishing Company"
      ]
     },
     "metadata": {},
     "output_type": "display_data"
    },
    {
     "name": "stdout",
     "output_type": "stream",
     "text": [
      "<class 'pandas.core.frame.DataFrame'>\n",
      "RangeIndex: 5 entries, 0 to 4\n",
      "Data columns (total 2 columns):\n",
      " #   Column        Non-Null Count  Dtype \n",
      "---  ------        --------------  ----- \n",
      " 0   publisher_id  5 non-null      int64 \n",
      " 1   publisher     5 non-null      object\n",
      "dtypes: int64(1), object(1)\n",
      "memory usage: 208.0+ bytes\n"
     ]
    },
    {
     "data": {
      "text/plain": [
       "None"
      ]
     },
     "metadata": {},
     "output_type": "display_data"
    },
    {
     "data": {
      "text/plain": [
       "0"
      ]
     },
     "metadata": {},
     "output_type": "display_data"
    },
    {
     "data": {
      "text/html": [
       "<div>\n",
       "<style scoped>\n",
       "    .dataframe tbody tr th:only-of-type {\n",
       "        vertical-align: middle;\n",
       "    }\n",
       "\n",
       "    .dataframe tbody tr th {\n",
       "        vertical-align: top;\n",
       "    }\n",
       "\n",
       "    .dataframe thead th {\n",
       "        text-align: right;\n",
       "    }\n",
       "</style>\n",
       "<table border=\"1\" class=\"dataframe\">\n",
       "  <thead>\n",
       "    <tr style=\"text-align: right;\">\n",
       "      <th></th>\n",
       "      <th>count</th>\n",
       "    </tr>\n",
       "  </thead>\n",
       "  <tbody>\n",
       "    <tr>\n",
       "      <th>0</th>\n",
       "      <td>340</td>\n",
       "    </tr>\n",
       "  </tbody>\n",
       "</table>\n",
       "</div>"
      ],
      "text/plain": [
       "   count\n",
       "0    340"
      ]
     },
     "metadata": {},
     "output_type": "display_data"
    }
   ],
   "source": [
    "# Выведем первые 5 строк таблицы books и всю информацию\n",
    "publishers = '''SELECT * FROM publishers LIMIT 5'''\n",
    "desc_query2 = '''SELECT COUNT (*) FROM publishers'''\n",
    "con = engine.connect()\n",
    "display(pd.io.sql.read_sql(publishers, con=con))\n",
    "display(pd.io.sql.read_sql(publishers, con=con).info())\n",
    "display(pd.io.sql.read_sql(publishers, con=con).duplicated().sum())\n",
    "display(pd.io.sql.read_sql(desc_query2, con=con))"
   ]
  },
  {
   "cell_type": "markdown",
   "metadata": {},
   "source": [
    "Данные выглядят нормально. Дубликатов нет. Имеет 2 столбца. Количество строк - 340."
   ]
  },
  {
   "cell_type": "markdown",
   "metadata": {},
   "source": [
    "Посмотрим на таблицу **ratings**."
   ]
  },
  {
   "cell_type": "code",
   "execution_count": 45,
   "metadata": {},
   "outputs": [
    {
     "data": {
      "text/html": [
       "<div>\n",
       "<style scoped>\n",
       "    .dataframe tbody tr th:only-of-type {\n",
       "        vertical-align: middle;\n",
       "    }\n",
       "\n",
       "    .dataframe tbody tr th {\n",
       "        vertical-align: top;\n",
       "    }\n",
       "\n",
       "    .dataframe thead th {\n",
       "        text-align: right;\n",
       "    }\n",
       "</style>\n",
       "<table border=\"1\" class=\"dataframe\">\n",
       "  <thead>\n",
       "    <tr style=\"text-align: right;\">\n",
       "      <th></th>\n",
       "      <th>rating_id</th>\n",
       "      <th>book_id</th>\n",
       "      <th>username</th>\n",
       "      <th>rating</th>\n",
       "    </tr>\n",
       "  </thead>\n",
       "  <tbody>\n",
       "    <tr>\n",
       "      <th>0</th>\n",
       "      <td>1</td>\n",
       "      <td>1</td>\n",
       "      <td>ryanfranco</td>\n",
       "      <td>4</td>\n",
       "    </tr>\n",
       "    <tr>\n",
       "      <th>1</th>\n",
       "      <td>2</td>\n",
       "      <td>1</td>\n",
       "      <td>grantpatricia</td>\n",
       "      <td>2</td>\n",
       "    </tr>\n",
       "    <tr>\n",
       "      <th>2</th>\n",
       "      <td>3</td>\n",
       "      <td>1</td>\n",
       "      <td>brandtandrea</td>\n",
       "      <td>5</td>\n",
       "    </tr>\n",
       "    <tr>\n",
       "      <th>3</th>\n",
       "      <td>4</td>\n",
       "      <td>2</td>\n",
       "      <td>lorichen</td>\n",
       "      <td>3</td>\n",
       "    </tr>\n",
       "    <tr>\n",
       "      <th>4</th>\n",
       "      <td>5</td>\n",
       "      <td>2</td>\n",
       "      <td>mariokeller</td>\n",
       "      <td>2</td>\n",
       "    </tr>\n",
       "  </tbody>\n",
       "</table>\n",
       "</div>"
      ],
      "text/plain": [
       "   rating_id  book_id       username  rating\n",
       "0          1        1     ryanfranco       4\n",
       "1          2        1  grantpatricia       2\n",
       "2          3        1   brandtandrea       5\n",
       "3          4        2       lorichen       3\n",
       "4          5        2    mariokeller       2"
      ]
     },
     "metadata": {},
     "output_type": "display_data"
    },
    {
     "name": "stdout",
     "output_type": "stream",
     "text": [
      "<class 'pandas.core.frame.DataFrame'>\n",
      "RangeIndex: 5 entries, 0 to 4\n",
      "Data columns (total 4 columns):\n",
      " #   Column     Non-Null Count  Dtype \n",
      "---  ------     --------------  ----- \n",
      " 0   rating_id  5 non-null      int64 \n",
      " 1   book_id    5 non-null      int64 \n",
      " 2   username   5 non-null      object\n",
      " 3   rating     5 non-null      int64 \n",
      "dtypes: int64(3), object(1)\n",
      "memory usage: 288.0+ bytes\n"
     ]
    },
    {
     "data": {
      "text/plain": [
       "None"
      ]
     },
     "metadata": {},
     "output_type": "display_data"
    },
    {
     "data": {
      "text/plain": [
       "0"
      ]
     },
     "metadata": {},
     "output_type": "display_data"
    },
    {
     "data": {
      "text/html": [
       "<div>\n",
       "<style scoped>\n",
       "    .dataframe tbody tr th:only-of-type {\n",
       "        vertical-align: middle;\n",
       "    }\n",
       "\n",
       "    .dataframe tbody tr th {\n",
       "        vertical-align: top;\n",
       "    }\n",
       "\n",
       "    .dataframe thead th {\n",
       "        text-align: right;\n",
       "    }\n",
       "</style>\n",
       "<table border=\"1\" class=\"dataframe\">\n",
       "  <thead>\n",
       "    <tr style=\"text-align: right;\">\n",
       "      <th></th>\n",
       "      <th>count</th>\n",
       "    </tr>\n",
       "  </thead>\n",
       "  <tbody>\n",
       "    <tr>\n",
       "      <th>0</th>\n",
       "      <td>6456</td>\n",
       "    </tr>\n",
       "  </tbody>\n",
       "</table>\n",
       "</div>"
      ],
      "text/plain": [
       "   count\n",
       "0   6456"
      ]
     },
     "metadata": {},
     "output_type": "display_data"
    }
   ],
   "source": [
    "# Выведем первые 5 строк таблицы books и всю информацию\n",
    "ratings = '''SELECT * FROM ratings LIMIT 5'''\n",
    "desc_query3 = '''SELECT COUNT (*) FROM ratings'''\n",
    "con = engine.connect()\n",
    "display(pd.io.sql.read_sql(ratings, con=con))\n",
    "display(pd.io.sql.read_sql(ratings, con=con).info())\n",
    "display(pd.io.sql.read_sql(ratings, con=con).duplicated().sum())\n",
    "display(pd.io.sql.read_sql(desc_query3, con=con))"
   ]
  },
  {
   "cell_type": "markdown",
   "metadata": {},
   "source": [
    "Данные выглядят нормально. Дубликатов нет. Имеет 4 столбца. Количество строк - 6456."
   ]
  },
  {
   "cell_type": "markdown",
   "metadata": {},
   "source": [
    "Посмотрим на таблицу **reviews**."
   ]
  },
  {
   "cell_type": "code",
   "execution_count": 46,
   "metadata": {},
   "outputs": [
    {
     "data": {
      "text/html": [
       "<div>\n",
       "<style scoped>\n",
       "    .dataframe tbody tr th:only-of-type {\n",
       "        vertical-align: middle;\n",
       "    }\n",
       "\n",
       "    .dataframe tbody tr th {\n",
       "        vertical-align: top;\n",
       "    }\n",
       "\n",
       "    .dataframe thead th {\n",
       "        text-align: right;\n",
       "    }\n",
       "</style>\n",
       "<table border=\"1\" class=\"dataframe\">\n",
       "  <thead>\n",
       "    <tr style=\"text-align: right;\">\n",
       "      <th></th>\n",
       "      <th>review_id</th>\n",
       "      <th>book_id</th>\n",
       "      <th>username</th>\n",
       "      <th>text</th>\n",
       "    </tr>\n",
       "  </thead>\n",
       "  <tbody>\n",
       "    <tr>\n",
       "      <th>0</th>\n",
       "      <td>1</td>\n",
       "      <td>1</td>\n",
       "      <td>brandtandrea</td>\n",
       "      <td>Mention society tell send professor analysis. ...</td>\n",
       "    </tr>\n",
       "    <tr>\n",
       "      <th>1</th>\n",
       "      <td>2</td>\n",
       "      <td>1</td>\n",
       "      <td>ryanfranco</td>\n",
       "      <td>Foot glass pretty audience hit themselves. Amo...</td>\n",
       "    </tr>\n",
       "    <tr>\n",
       "      <th>2</th>\n",
       "      <td>3</td>\n",
       "      <td>2</td>\n",
       "      <td>lorichen</td>\n",
       "      <td>Listen treat keep worry. Miss husband tax but ...</td>\n",
       "    </tr>\n",
       "    <tr>\n",
       "      <th>3</th>\n",
       "      <td>4</td>\n",
       "      <td>3</td>\n",
       "      <td>johnsonamanda</td>\n",
       "      <td>Finally month interesting blue could nature cu...</td>\n",
       "    </tr>\n",
       "    <tr>\n",
       "      <th>4</th>\n",
       "      <td>5</td>\n",
       "      <td>3</td>\n",
       "      <td>scotttamara</td>\n",
       "      <td>Nation purpose heavy give wait song will. List...</td>\n",
       "    </tr>\n",
       "  </tbody>\n",
       "</table>\n",
       "</div>"
      ],
      "text/plain": [
       "   review_id  book_id       username  \\\n",
       "0          1        1   brandtandrea   \n",
       "1          2        1     ryanfranco   \n",
       "2          3        2       lorichen   \n",
       "3          4        3  johnsonamanda   \n",
       "4          5        3    scotttamara   \n",
       "\n",
       "                                                text  \n",
       "0  Mention society tell send professor analysis. ...  \n",
       "1  Foot glass pretty audience hit themselves. Amo...  \n",
       "2  Listen treat keep worry. Miss husband tax but ...  \n",
       "3  Finally month interesting blue could nature cu...  \n",
       "4  Nation purpose heavy give wait song will. List...  "
      ]
     },
     "metadata": {},
     "output_type": "display_data"
    },
    {
     "name": "stdout",
     "output_type": "stream",
     "text": [
      "<class 'pandas.core.frame.DataFrame'>\n",
      "RangeIndex: 5 entries, 0 to 4\n",
      "Data columns (total 4 columns):\n",
      " #   Column     Non-Null Count  Dtype \n",
      "---  ------     --------------  ----- \n",
      " 0   review_id  5 non-null      int64 \n",
      " 1   book_id    5 non-null      int64 \n",
      " 2   username   5 non-null      object\n",
      " 3   text       5 non-null      object\n",
      "dtypes: int64(2), object(2)\n",
      "memory usage: 288.0+ bytes\n"
     ]
    },
    {
     "data": {
      "text/plain": [
       "None"
      ]
     },
     "metadata": {},
     "output_type": "display_data"
    },
    {
     "data": {
      "text/plain": [
       "0"
      ]
     },
     "metadata": {},
     "output_type": "display_data"
    },
    {
     "data": {
      "text/html": [
       "<div>\n",
       "<style scoped>\n",
       "    .dataframe tbody tr th:only-of-type {\n",
       "        vertical-align: middle;\n",
       "    }\n",
       "\n",
       "    .dataframe tbody tr th {\n",
       "        vertical-align: top;\n",
       "    }\n",
       "\n",
       "    .dataframe thead th {\n",
       "        text-align: right;\n",
       "    }\n",
       "</style>\n",
       "<table border=\"1\" class=\"dataframe\">\n",
       "  <thead>\n",
       "    <tr style=\"text-align: right;\">\n",
       "      <th></th>\n",
       "      <th>count</th>\n",
       "    </tr>\n",
       "  </thead>\n",
       "  <tbody>\n",
       "    <tr>\n",
       "      <th>0</th>\n",
       "      <td>2793</td>\n",
       "    </tr>\n",
       "  </tbody>\n",
       "</table>\n",
       "</div>"
      ],
      "text/plain": [
       "   count\n",
       "0   2793"
      ]
     },
     "metadata": {},
     "output_type": "display_data"
    }
   ],
   "source": [
    "# Выведем первые 5 строк таблицы books и всю информацию\n",
    "reviews = '''SELECT * FROM reviews LIMIT 5'''\n",
    "desc_query4 = '''SELECT COUNT (*) FROM reviews'''\n",
    "con = engine.connect()\n",
    "display(pd.io.sql.read_sql(reviews, con=con))\n",
    "display(pd.io.sql.read_sql(reviews, con=con).info())\n",
    "display(pd.io.sql.read_sql(reviews, con=con).duplicated().sum())\n",
    "display(pd.io.sql.read_sql(desc_query4, con=con))"
   ]
  },
  {
   "cell_type": "markdown",
   "metadata": {},
   "source": [
    "Данные выглядят нормально. Дубликатов нет. Имеет 4 столбца. Количество строк - 2793."
   ]
  },
  {
   "cell_type": "markdown",
   "metadata": {},
   "source": [
    "**Вывод.**\n",
    "\n",
    "Мы рассмотрели таблицы, вывели первые строки и информацию о них. Все данные выглядят нормально. Дубликатов нет."
   ]
  },
  {
   "cell_type": "markdown",
   "metadata": {},
   "source": [
    "**Шаг 2.** Выполним задания, сделав запросы."
   ]
  },
  {
   "cell_type": "markdown",
   "metadata": {},
   "source": [
    "1. Посчитайте, сколько книг вышло после 1 января 2000 года."
   ]
  },
  {
   "cell_type": "code",
   "execution_count": 47,
   "metadata": {},
   "outputs": [
    {
     "data": {
      "text/html": [
       "<div>\n",
       "<style scoped>\n",
       "    .dataframe tbody tr th:only-of-type {\n",
       "        vertical-align: middle;\n",
       "    }\n",
       "\n",
       "    .dataframe tbody tr th {\n",
       "        vertical-align: top;\n",
       "    }\n",
       "\n",
       "    .dataframe thead th {\n",
       "        text-align: right;\n",
       "    }\n",
       "</style>\n",
       "<table border=\"1\" class=\"dataframe\">\n",
       "  <thead>\n",
       "    <tr style=\"text-align: right;\">\n",
       "      <th></th>\n",
       "      <th>count</th>\n",
       "    </tr>\n",
       "  </thead>\n",
       "  <tbody>\n",
       "    <tr>\n",
       "      <th>0</th>\n",
       "      <td>819</td>\n",
       "    </tr>\n",
       "  </tbody>\n",
       "</table>\n",
       "</div>"
      ],
      "text/plain": [
       "   count\n",
       "0    819"
      ]
     },
     "execution_count": 47,
     "metadata": {},
     "output_type": "execute_result"
    }
   ],
   "source": [
    "count_books = '''\n",
    "        SELECT COUNT(book_id) \n",
    "        FROM books \n",
    "        WHERE publication_date > '01.01.2000';\n",
    "'''\n",
    "con = engine.connect()\n",
    "pd.io.sql.read_sql(sql = text(count_books), con = con)"
   ]
  },
  {
   "cell_type": "markdown",
   "metadata": {},
   "source": [
    "**Вывод**\n",
    "\n",
    "После 01.01.2000 года вышло **819 книг**."
   ]
  },
  {
   "cell_type": "markdown",
   "metadata": {},
   "source": [
    "2. Для каждой книги посчитайте количество обзоров и среднюю оценку."
   ]
  },
  {
   "cell_type": "code",
   "execution_count": 48,
   "metadata": {},
   "outputs": [
    {
     "data": {
      "text/html": [
       "<div>\n",
       "<style scoped>\n",
       "    .dataframe tbody tr th:only-of-type {\n",
       "        vertical-align: middle;\n",
       "    }\n",
       "\n",
       "    .dataframe tbody tr th {\n",
       "        vertical-align: top;\n",
       "    }\n",
       "\n",
       "    .dataframe thead th {\n",
       "        text-align: right;\n",
       "    }\n",
       "</style>\n",
       "<table border=\"1\" class=\"dataframe\">\n",
       "  <thead>\n",
       "    <tr style=\"text-align: right;\">\n",
       "      <th></th>\n",
       "      <th>title</th>\n",
       "      <th>count</th>\n",
       "      <th>rating</th>\n",
       "    </tr>\n",
       "  </thead>\n",
       "  <tbody>\n",
       "    <tr>\n",
       "      <th>0</th>\n",
       "      <td>Arrows of the Queen (Heralds of Valdemar  #1)</td>\n",
       "      <td>2</td>\n",
       "      <td>5.00</td>\n",
       "    </tr>\n",
       "    <tr>\n",
       "      <th>1</th>\n",
       "      <td>The Walking Dead  Book One (The Walking Dead #...</td>\n",
       "      <td>2</td>\n",
       "      <td>5.00</td>\n",
       "    </tr>\n",
       "    <tr>\n",
       "      <th>2</th>\n",
       "      <td>Light in August</td>\n",
       "      <td>2</td>\n",
       "      <td>5.00</td>\n",
       "    </tr>\n",
       "    <tr>\n",
       "      <th>3</th>\n",
       "      <td>Wherever You Go  There You Are: Mindfulness Me...</td>\n",
       "      <td>2</td>\n",
       "      <td>5.00</td>\n",
       "    </tr>\n",
       "    <tr>\n",
       "      <th>4</th>\n",
       "      <td>Captivating: Unveiling the Mystery of a Woman'...</td>\n",
       "      <td>2</td>\n",
       "      <td>5.00</td>\n",
       "    </tr>\n",
       "    <tr>\n",
       "      <th>...</th>\n",
       "      <td>...</td>\n",
       "      <td>...</td>\n",
       "      <td>...</td>\n",
       "    </tr>\n",
       "    <tr>\n",
       "      <th>995</th>\n",
       "      <td>The World Is Flat: A Brief History of the Twen...</td>\n",
       "      <td>3</td>\n",
       "      <td>2.25</td>\n",
       "    </tr>\n",
       "    <tr>\n",
       "      <th>996</th>\n",
       "      <td>His Excellency: George Washington</td>\n",
       "      <td>2</td>\n",
       "      <td>2.00</td>\n",
       "    </tr>\n",
       "    <tr>\n",
       "      <th>997</th>\n",
       "      <td>Drowning Ruth</td>\n",
       "      <td>3</td>\n",
       "      <td>2.00</td>\n",
       "    </tr>\n",
       "    <tr>\n",
       "      <th>998</th>\n",
       "      <td>Junky</td>\n",
       "      <td>2</td>\n",
       "      <td>2.00</td>\n",
       "    </tr>\n",
       "    <tr>\n",
       "      <th>999</th>\n",
       "      <td>Harvesting the Heart</td>\n",
       "      <td>2</td>\n",
       "      <td>1.50</td>\n",
       "    </tr>\n",
       "  </tbody>\n",
       "</table>\n",
       "<p>1000 rows × 3 columns</p>\n",
       "</div>"
      ],
      "text/plain": [
       "                                                 title  count  rating\n",
       "0        Arrows of the Queen (Heralds of Valdemar  #1)      2    5.00\n",
       "1    The Walking Dead  Book One (The Walking Dead #...      2    5.00\n",
       "2                                      Light in August      2    5.00\n",
       "3    Wherever You Go  There You Are: Mindfulness Me...      2    5.00\n",
       "4    Captivating: Unveiling the Mystery of a Woman'...      2    5.00\n",
       "..                                                 ...    ...     ...\n",
       "995  The World Is Flat: A Brief History of the Twen...      3    2.25\n",
       "996                  His Excellency: George Washington      2    2.00\n",
       "997                                      Drowning Ruth      3    2.00\n",
       "998                                              Junky      2    2.00\n",
       "999                               Harvesting the Heart      2    1.50\n",
       "\n",
       "[1000 rows x 3 columns]"
      ]
     },
     "execution_count": 48,
     "metadata": {},
     "output_type": "execute_result"
    }
   ],
   "source": [
    "count_review = '''\n",
    "       SELECT b.title,\n",
    "       COUNT (DISTINCT rw.review_id), ROUND(avg(r.rating), 2) as rating\n",
    "       FROM reviews AS rw\n",
    "       RIGHT JOIN books AS b ON rw.book_id=b.book_id\n",
    "       LEFT JOIN ratings AS r ON b.book_id = r.book_id\n",
    "       GROUP BY b.book_id\n",
    "       ORDER BY rating DESC\n",
    "'''\n",
    "con = engine.connect()\n",
    "pd.io.sql.read_sql(sql = text(count_review), con = con)"
   ]
  },
  {
   "cell_type": "markdown",
   "metadata": {},
   "source": [
    "**Вывод**.\n",
    "\n",
    "Посчитали количество обзоров и среднюю оценку за каждую книгу."
   ]
  },
  {
   "cell_type": "markdown",
   "metadata": {},
   "source": [
    "3. Определите издательство, которое выпустило наибольшее число книг толще 50 страниц — так вы исключите из анализа брошюры."
   ]
  },
  {
   "cell_type": "code",
   "execution_count": 49,
   "metadata": {},
   "outputs": [
    {
     "data": {
      "text/html": [
       "<div>\n",
       "<style scoped>\n",
       "    .dataframe tbody tr th:only-of-type {\n",
       "        vertical-align: middle;\n",
       "    }\n",
       "\n",
       "    .dataframe tbody tr th {\n",
       "        vertical-align: top;\n",
       "    }\n",
       "\n",
       "    .dataframe thead th {\n",
       "        text-align: right;\n",
       "    }\n",
       "</style>\n",
       "<table border=\"1\" class=\"dataframe\">\n",
       "  <thead>\n",
       "    <tr style=\"text-align: right;\">\n",
       "      <th></th>\n",
       "      <th>publisher</th>\n",
       "      <th>total_books</th>\n",
       "    </tr>\n",
       "  </thead>\n",
       "  <tbody>\n",
       "    <tr>\n",
       "      <th>0</th>\n",
       "      <td>Penguin Books</td>\n",
       "      <td>42</td>\n",
       "    </tr>\n",
       "    <tr>\n",
       "      <th>1</th>\n",
       "      <td>Vintage</td>\n",
       "      <td>31</td>\n",
       "    </tr>\n",
       "    <tr>\n",
       "      <th>2</th>\n",
       "      <td>Grand Central Publishing</td>\n",
       "      <td>25</td>\n",
       "    </tr>\n",
       "    <tr>\n",
       "      <th>3</th>\n",
       "      <td>Penguin Classics</td>\n",
       "      <td>24</td>\n",
       "    </tr>\n",
       "    <tr>\n",
       "      <th>4</th>\n",
       "      <td>Ballantine Books</td>\n",
       "      <td>19</td>\n",
       "    </tr>\n",
       "    <tr>\n",
       "      <th>...</th>\n",
       "      <td>...</td>\n",
       "      <td>...</td>\n",
       "    </tr>\n",
       "    <tr>\n",
       "      <th>329</th>\n",
       "      <td>Turtleback</td>\n",
       "      <td>1</td>\n",
       "    </tr>\n",
       "    <tr>\n",
       "      <th>330</th>\n",
       "      <td>Atheneum Books for Young Readers: Richard Jack...</td>\n",
       "      <td>1</td>\n",
       "    </tr>\n",
       "    <tr>\n",
       "      <th>331</th>\n",
       "      <td>Penguin Signet</td>\n",
       "      <td>1</td>\n",
       "    </tr>\n",
       "    <tr>\n",
       "      <th>332</th>\n",
       "      <td>Victor Gollancz</td>\n",
       "      <td>1</td>\n",
       "    </tr>\n",
       "    <tr>\n",
       "      <th>333</th>\n",
       "      <td>Harvard Business Review Press</td>\n",
       "      <td>1</td>\n",
       "    </tr>\n",
       "  </tbody>\n",
       "</table>\n",
       "<p>334 rows × 2 columns</p>\n",
       "</div>"
      ],
      "text/plain": [
       "                                             publisher  total_books\n",
       "0                                        Penguin Books           42\n",
       "1                                              Vintage           31\n",
       "2                             Grand Central Publishing           25\n",
       "3                                     Penguin Classics           24\n",
       "4                                     Ballantine Books           19\n",
       "..                                                 ...          ...\n",
       "329                                         Turtleback            1\n",
       "330  Atheneum Books for Young Readers: Richard Jack...            1\n",
       "331                                     Penguin Signet            1\n",
       "332                                    Victor Gollancz            1\n",
       "333                      Harvard Business Review Press            1\n",
       "\n",
       "[334 rows x 2 columns]"
      ]
     },
     "execution_count": 49,
     "metadata": {},
     "output_type": "execute_result"
    }
   ],
   "source": [
    "best_public = '''\n",
    "       SELECT p.publisher,\n",
    "       count(b.book_id) AS total_books\n",
    "       FROM publishers AS p\n",
    "       JOIN books AS b ON p.publisher_id = b.publisher_id\n",
    "       WHERE b.num_pages > 50\n",
    "       GROUP BY p.publisher\n",
    "       ORDER BY total_books DESC\n",
    "'''\n",
    "con = engine.connect()\n",
    "pd.io.sql.read_sql(sql = text(best_public), con = con)"
   ]
  },
  {
   "cell_type": "markdown",
   "metadata": {},
   "source": [
    "**Вывод**.\n",
    "\n",
    "Самое большое количество книг выпустило издательство **Penguin Books**."
   ]
  },
  {
   "cell_type": "markdown",
   "metadata": {},
   "source": [
    "4. Определите автора с самой высокой средней оценкой книг — учитывайте только книги с 50 и более оценками."
   ]
  },
  {
   "cell_type": "code",
   "execution_count": 50,
   "metadata": {},
   "outputs": [
    {
     "data": {
      "text/html": [
       "<div>\n",
       "<style scoped>\n",
       "    .dataframe tbody tr th:only-of-type {\n",
       "        vertical-align: middle;\n",
       "    }\n",
       "\n",
       "    .dataframe tbody tr th {\n",
       "        vertical-align: top;\n",
       "    }\n",
       "\n",
       "    .dataframe thead th {\n",
       "        text-align: right;\n",
       "    }\n",
       "</style>\n",
       "<table border=\"1\" class=\"dataframe\">\n",
       "  <thead>\n",
       "    <tr style=\"text-align: right;\">\n",
       "      <th></th>\n",
       "      <th>author</th>\n",
       "      <th>avg_rating</th>\n",
       "    </tr>\n",
       "  </thead>\n",
       "  <tbody>\n",
       "    <tr>\n",
       "      <th>0</th>\n",
       "      <td>J.K. Rowling/Mary GrandPré</td>\n",
       "      <td>4.29</td>\n",
       "    </tr>\n",
       "    <tr>\n",
       "      <th>1</th>\n",
       "      <td>Markus Zusak/Cao Xuân Việt Khương</td>\n",
       "      <td>4.26</td>\n",
       "    </tr>\n",
       "    <tr>\n",
       "      <th>2</th>\n",
       "      <td>J.R.R. Tolkien</td>\n",
       "      <td>4.25</td>\n",
       "    </tr>\n",
       "    <tr>\n",
       "      <th>3</th>\n",
       "      <td>Louisa May Alcott</td>\n",
       "      <td>4.19</td>\n",
       "    </tr>\n",
       "    <tr>\n",
       "      <th>4</th>\n",
       "      <td>Rick Riordan</td>\n",
       "      <td>4.08</td>\n",
       "    </tr>\n",
       "    <tr>\n",
       "      <th>5</th>\n",
       "      <td>William Golding</td>\n",
       "      <td>3.90</td>\n",
       "    </tr>\n",
       "    <tr>\n",
       "      <th>6</th>\n",
       "      <td>J.D. Salinger</td>\n",
       "      <td>3.83</td>\n",
       "    </tr>\n",
       "    <tr>\n",
       "      <th>7</th>\n",
       "      <td>Paulo Coelho/Alan R. Clarke/Özdemir İnce</td>\n",
       "      <td>3.79</td>\n",
       "    </tr>\n",
       "    <tr>\n",
       "      <th>8</th>\n",
       "      <td>William Shakespeare/Paul Werstine/Barbara A. M...</td>\n",
       "      <td>3.79</td>\n",
       "    </tr>\n",
       "    <tr>\n",
       "      <th>9</th>\n",
       "      <td>Lois Lowry</td>\n",
       "      <td>3.75</td>\n",
       "    </tr>\n",
       "    <tr>\n",
       "      <th>10</th>\n",
       "      <td>Dan Brown</td>\n",
       "      <td>3.74</td>\n",
       "    </tr>\n",
       "    <tr>\n",
       "      <th>11</th>\n",
       "      <td>George Orwell/Boris Grabnar/Peter Škerl</td>\n",
       "      <td>3.73</td>\n",
       "    </tr>\n",
       "    <tr>\n",
       "      <th>12</th>\n",
       "      <td>Stephenie Meyer</td>\n",
       "      <td>3.66</td>\n",
       "    </tr>\n",
       "    <tr>\n",
       "      <th>13</th>\n",
       "      <td>John Steinbeck</td>\n",
       "      <td>3.62</td>\n",
       "    </tr>\n",
       "  </tbody>\n",
       "</table>\n",
       "</div>"
      ],
      "text/plain": [
       "                                               author  avg_rating\n",
       "0                          J.K. Rowling/Mary GrandPré        4.29\n",
       "1                   Markus Zusak/Cao Xuân Việt Khương        4.26\n",
       "2                                      J.R.R. Tolkien        4.25\n",
       "3                                   Louisa May Alcott        4.19\n",
       "4                                        Rick Riordan        4.08\n",
       "5                                     William Golding        3.90\n",
       "6                                       J.D. Salinger        3.83\n",
       "7            Paulo Coelho/Alan R. Clarke/Özdemir İnce        3.79\n",
       "8   William Shakespeare/Paul Werstine/Barbara A. M...        3.79\n",
       "9                                          Lois Lowry        3.75\n",
       "10                                          Dan Brown        3.74\n",
       "11            George Orwell/Boris Grabnar/Peter Škerl        3.73\n",
       "12                                    Stephenie Meyer        3.66\n",
       "13                                     John Steinbeck        3.62"
      ]
     },
     "execution_count": 50,
     "metadata": {},
     "output_type": "execute_result"
    }
   ],
   "source": [
    "best_author = '''\n",
    "         SELECT\n",
    "         a.author AS author,\n",
    "         ROUND(AVG(r.rating), 2) AS avg_rating\n",
    "         FROM authors AS a\n",
    "         INNER JOIN books AS b ON b.author_id = a.author_id\n",
    "         INNER JOIN ratings AS r ON r.book_id = b.book_id\n",
    "         WHERE b.book_id IN\n",
    "         (SELECT b.book_id\n",
    "         FROM books AS b\n",
    "         JOIN ratings AS r ON b.book_id = r.book_id\n",
    "         GROUP BY b.book_id\n",
    "         HAVING COUNT(r.rating) >= 50)\n",
    "         GROUP BY a.author_id\n",
    "         ORDER BY avg_rating DESC\n",
    "'''\n",
    "con = engine.connect()\n",
    "pd.io.sql.read_sql(sql = text(best_author), con = con)"
   ]
  },
  {
   "cell_type": "markdown",
   "metadata": {},
   "source": [
    "**Вывод**.\n",
    "\n",
    "Автор с самой высокой средней оценкой **J.K. Rowling/Mary GrandPré - 4.29**."
   ]
  },
  {
   "cell_type": "markdown",
   "metadata": {},
   "source": [
    "5. Посчитайте среднее количество обзоров от пользователей, которые поставили больше 48 оценок."
   ]
  },
  {
   "cell_type": "code",
   "execution_count": 51,
   "metadata": {},
   "outputs": [
    {
     "data": {
      "text/html": [
       "<div>\n",
       "<style scoped>\n",
       "    .dataframe tbody tr th:only-of-type {\n",
       "        vertical-align: middle;\n",
       "    }\n",
       "\n",
       "    .dataframe tbody tr th {\n",
       "        vertical-align: top;\n",
       "    }\n",
       "\n",
       "    .dataframe thead th {\n",
       "        text-align: right;\n",
       "    }\n",
       "</style>\n",
       "<table border=\"1\" class=\"dataframe\">\n",
       "  <thead>\n",
       "    <tr style=\"text-align: right;\">\n",
       "      <th></th>\n",
       "      <th>avg_review</th>\n",
       "    </tr>\n",
       "  </thead>\n",
       "  <tbody>\n",
       "    <tr>\n",
       "      <th>0</th>\n",
       "      <td>24.0</td>\n",
       "    </tr>\n",
       "  </tbody>\n",
       "</table>\n",
       "</div>"
      ],
      "text/plain": [
       "   avg_review\n",
       "0        24.0"
      ]
     },
     "execution_count": 51,
     "metadata": {},
     "output_type": "execute_result"
    }
   ],
   "source": [
    "avg_reviews = '''\n",
    "          SELECT\n",
    "          AVG(count_reviews) AS avg_review\n",
    "          FROM \n",
    "          (SELECT COUNT(review_id) AS count_reviews\n",
    "          FROM reviews AS r\n",
    "          WHERE username IN \n",
    "          (SELECT username\n",
    "          FROM ratings \n",
    "          GROUP BY username \n",
    "          HAVING COUNT(ratings) > 48)\n",
    "          GROUP BY username) AS review;\n",
    "'''\n",
    "con = engine.connect()\n",
    "pd.io.sql.read_sql(sql = text(avg_reviews), con = con)"
   ]
  },
  {
   "cell_type": "markdown",
   "metadata": {},
   "source": [
    "**Вывод**.\n",
    "\n",
    "**24 обзора** - среднее количество обзоров от пользователей, которые поставили больше 48 оценок."
   ]
  },
  {
   "cell_type": "markdown",
   "metadata": {},
   "source": [
    "**Шаг 3.** Напишем общий вывод."
   ]
  },
  {
   "cell_type": "markdown",
   "metadata": {},
   "source": [
    "**Общий вывод**.\n",
    "\n",
    "Мы рассмотрели таблицы **books, authors, publishers, ratings, reviews** - вывели первые строки и информацию о них. Все данные выглядят нормально. Дубликатов нет.\n",
    "\n",
    "Далее провели исследования и ответили на поставленные задачи:\n",
    "1. После 01.01.2000 года вышло **819 книг**.\n",
    "2. Посчитали количество обзоров и среднюю оценку за каждую книгу.\n",
    "3. Определили, что самое большое количество книг выпустило издательство **Penguin Books**.\n",
    "4. Выявили автора с самой высокой средней оценкой, это **J.K. Rowling/Mary GrandPré - 4.29**.\n",
    "5. Узнали, что **24 обзора** - среднее количество обзоров от пользователей, которые поставили больше 48 оценок."
   ]
  }
 ],
 "metadata": {
  "ExecuteTimeLog": [
   {
    "duration": 32774,
    "start_time": "2023-07-21T07:43:28.077Z"
   },
   {
    "duration": 3,
    "start_time": "2023-07-21T07:44:08.493Z"
   },
   {
    "duration": 5,
    "start_time": "2023-07-21T07:48:59.186Z"
   },
   {
    "duration": 3,
    "start_time": "2023-07-21T07:49:17.648Z"
   },
   {
    "duration": 4,
    "start_time": "2023-07-21T07:49:26.240Z"
   },
   {
    "duration": 4,
    "start_time": "2023-07-21T07:49:26.592Z"
   },
   {
    "duration": 903,
    "start_time": "2023-07-21T07:49:31.168Z"
   },
   {
    "duration": 4,
    "start_time": "2023-07-21T07:49:48.316Z"
   },
   {
    "duration": 717,
    "start_time": "2023-07-21T07:49:50.002Z"
   },
   {
    "duration": 4,
    "start_time": "2023-07-21T07:53:01.793Z"
   },
   {
    "duration": 746,
    "start_time": "2023-07-21T07:53:03.022Z"
   },
   {
    "duration": 43,
    "start_time": "2023-07-21T07:55:27.320Z"
   },
   {
    "duration": 218,
    "start_time": "2023-07-21T07:56:18.666Z"
   },
   {
    "duration": 39,
    "start_time": "2023-07-21T07:56:33.850Z"
   },
   {
    "duration": 180,
    "start_time": "2023-07-21T07:57:14.935Z"
   },
   {
    "duration": 41,
    "start_time": "2023-07-21T07:57:31.022Z"
   },
   {
    "duration": 17,
    "start_time": "2023-07-21T07:57:36.967Z"
   },
   {
    "duration": 8,
    "start_time": "2023-07-21T07:57:46.167Z"
   },
   {
    "duration": 167,
    "start_time": "2023-07-21T07:57:53.448Z"
   },
   {
    "duration": 7,
    "start_time": "2023-07-21T07:58:05.840Z"
   },
   {
    "duration": 138,
    "start_time": "2023-07-21T07:58:15.671Z"
   },
   {
    "duration": 149,
    "start_time": "2023-07-21T07:58:23.551Z"
   },
   {
    "duration": 145,
    "start_time": "2023-07-21T07:58:34.918Z"
   },
   {
    "duration": 141,
    "start_time": "2023-07-21T07:58:52.121Z"
   },
   {
    "duration": 143,
    "start_time": "2023-07-21T07:59:21.513Z"
   },
   {
    "duration": 73,
    "start_time": "2023-07-21T08:00:02.143Z"
   },
   {
    "duration": 74,
    "start_time": "2023-07-21T08:00:07.599Z"
   },
   {
    "duration": 72,
    "start_time": "2023-07-21T08:00:20.590Z"
   },
   {
    "duration": 129,
    "start_time": "2023-07-21T08:00:59.551Z"
   },
   {
    "duration": 78,
    "start_time": "2023-07-21T08:01:06.199Z"
   },
   {
    "duration": 74,
    "start_time": "2023-07-21T08:06:36.021Z"
   },
   {
    "duration": 76,
    "start_time": "2023-07-21T08:12:00.509Z"
   },
   {
    "duration": 73,
    "start_time": "2023-07-21T08:12:10.829Z"
   },
   {
    "duration": 72,
    "start_time": "2023-07-21T08:12:15.750Z"
   },
   {
    "duration": 134,
    "start_time": "2023-07-21T08:13:54.566Z"
   },
   {
    "duration": 111,
    "start_time": "2023-07-21T08:15:49.787Z"
   },
   {
    "duration": 150,
    "start_time": "2023-07-21T08:16:01.247Z"
   },
   {
    "duration": 38,
    "start_time": "2023-07-21T08:17:52.402Z"
   },
   {
    "duration": 89,
    "start_time": "2023-07-21T08:21:30.666Z"
   },
   {
    "duration": 74,
    "start_time": "2023-07-21T08:21:36.682Z"
   },
   {
    "duration": 71,
    "start_time": "2023-07-21T08:21:49.890Z"
   },
   {
    "duration": 76,
    "start_time": "2023-07-21T08:22:29.634Z"
   },
   {
    "duration": 79,
    "start_time": "2023-07-21T08:22:38.730Z"
   },
   {
    "duration": 79,
    "start_time": "2023-07-21T08:28:40.979Z"
   },
   {
    "duration": 261,
    "start_time": "2023-07-21T08:28:54.449Z"
   },
   {
    "duration": 168,
    "start_time": "2023-07-21T08:29:36.896Z"
   },
   {
    "duration": 86,
    "start_time": "2023-07-21T08:33:01.488Z"
   },
   {
    "duration": 74,
    "start_time": "2023-07-21T08:33:10.415Z"
   },
   {
    "duration": 52,
    "start_time": "2023-07-21T08:37:09.160Z"
   },
   {
    "duration": 6,
    "start_time": "2023-07-21T08:39:53.566Z"
   },
   {
    "duration": 36,
    "start_time": "2023-07-21T08:40:02.026Z"
   },
   {
    "duration": 67,
    "start_time": "2023-07-21T08:41:03.090Z"
   },
   {
    "duration": 155,
    "start_time": "2023-07-21T08:42:05.414Z"
   },
   {
    "duration": 107,
    "start_time": "2023-07-21T08:42:23.426Z"
   },
   {
    "duration": 107,
    "start_time": "2023-07-21T08:42:34.025Z"
   },
   {
    "duration": 131,
    "start_time": "2023-07-21T08:43:18.657Z"
   },
   {
    "duration": 131,
    "start_time": "2023-07-21T08:44:38.214Z"
   },
   {
    "duration": 134,
    "start_time": "2023-07-21T08:46:41.077Z"
   },
   {
    "duration": 133,
    "start_time": "2023-07-21T08:47:35.836Z"
   },
   {
    "duration": 132,
    "start_time": "2023-07-21T08:47:47.547Z"
   },
   {
    "duration": 132,
    "start_time": "2023-07-21T08:49:03.223Z"
   },
   {
    "duration": 132,
    "start_time": "2023-07-21T08:50:19.606Z"
   },
   {
    "duration": 134,
    "start_time": "2023-07-21T08:51:28.427Z"
   },
   {
    "duration": 4,
    "start_time": "2023-07-21T09:04:24.845Z"
   },
   {
    "duration": 28,
    "start_time": "2023-07-21T09:04:37.997Z"
   },
   {
    "duration": 27,
    "start_time": "2023-07-21T09:05:16.702Z"
   },
   {
    "duration": 49,
    "start_time": "2023-07-21T09:05:27.435Z"
   },
   {
    "duration": 49,
    "start_time": "2023-07-21T09:05:29.199Z"
   },
   {
    "duration": 49,
    "start_time": "2023-07-21T09:05:33.790Z"
   },
   {
    "duration": 87,
    "start_time": "2023-07-21T09:09:33.163Z"
   },
   {
    "duration": 107,
    "start_time": "2023-07-21T09:10:15.435Z"
   },
   {
    "duration": 68,
    "start_time": "2023-07-21T09:11:29.980Z"
   },
   {
    "duration": 74,
    "start_time": "2023-07-21T09:11:55.110Z"
   },
   {
    "duration": 85,
    "start_time": "2023-07-21T09:12:12.147Z"
   },
   {
    "duration": 7,
    "start_time": "2023-07-21T09:16:12.516Z"
   },
   {
    "duration": 84,
    "start_time": "2023-07-21T09:16:48.132Z"
   },
   {
    "duration": 65,
    "start_time": "2023-07-21T09:16:50.729Z"
   },
   {
    "duration": 3,
    "start_time": "2023-07-21T09:17:37.121Z"
   },
   {
    "duration": 71,
    "start_time": "2023-07-21T09:17:46.487Z"
   },
   {
    "duration": 56,
    "start_time": "2023-07-21T09:19:20.667Z"
   },
   {
    "duration": 7,
    "start_time": "2023-07-21T09:20:31.101Z"
   },
   {
    "duration": 161,
    "start_time": "2023-07-21T09:20:37.288Z"
   },
   {
    "duration": 14,
    "start_time": "2023-07-21T09:21:05.167Z"
   },
   {
    "duration": 8,
    "start_time": "2023-07-21T09:21:30.299Z"
   },
   {
    "duration": 58,
    "start_time": "2023-07-21T09:21:37.960Z"
   },
   {
    "duration": 73,
    "start_time": "2023-07-21T09:23:05.563Z"
   },
   {
    "duration": 82,
    "start_time": "2023-07-21T09:23:14.051Z"
   },
   {
    "duration": 84,
    "start_time": "2023-07-21T09:23:21.019Z"
   },
   {
    "duration": 83,
    "start_time": "2023-07-21T09:23:38.842Z"
   },
   {
    "duration": 83,
    "start_time": "2023-07-21T09:23:44.722Z"
   },
   {
    "duration": 107,
    "start_time": "2023-07-21T09:24:19.902Z"
   },
   {
    "duration": 114,
    "start_time": "2023-07-21T09:26:00.965Z"
   },
   {
    "duration": 91,
    "start_time": "2023-07-21T09:27:25.511Z"
   },
   {
    "duration": 89,
    "start_time": "2023-07-21T09:27:38.822Z"
   },
   {
    "duration": 90,
    "start_time": "2023-07-21T09:29:20.998Z"
   },
   {
    "duration": 84,
    "start_time": "2023-07-21T09:29:31.623Z"
   },
   {
    "duration": 85,
    "start_time": "2023-07-21T09:29:47.662Z"
   },
   {
    "duration": 84,
    "start_time": "2023-07-21T09:29:53.064Z"
   },
   {
    "duration": 83,
    "start_time": "2023-07-21T09:30:54.414Z"
   },
   {
    "duration": 67,
    "start_time": "2023-07-21T09:32:13.184Z"
   },
   {
    "duration": 56,
    "start_time": "2023-07-21T09:32:26.081Z"
   },
   {
    "duration": 75,
    "start_time": "2023-07-21T09:32:45.036Z"
   },
   {
    "duration": 67,
    "start_time": "2023-07-21T09:33:13.654Z"
   },
   {
    "duration": 78,
    "start_time": "2023-07-21T09:33:24.045Z"
   },
   {
    "duration": 82,
    "start_time": "2023-07-21T09:33:58.604Z"
   },
   {
    "duration": 54,
    "start_time": "2023-07-21T09:37:42.036Z"
   },
   {
    "duration": 56,
    "start_time": "2023-07-21T09:42:03.804Z"
   },
   {
    "duration": 68,
    "start_time": "2023-07-21T09:44:00.556Z"
   },
   {
    "duration": 56,
    "start_time": "2023-07-21T09:44:26.802Z"
   },
   {
    "duration": 152,
    "start_time": "2023-07-21T09:44:39.617Z"
   },
   {
    "duration": 171,
    "start_time": "2023-07-21T09:45:23.117Z"
   },
   {
    "duration": 70,
    "start_time": "2023-07-21T09:45:58.058Z"
   },
   {
    "duration": 45,
    "start_time": "2023-07-21T09:46:02.516Z"
   },
   {
    "duration": 197,
    "start_time": "2023-07-21T09:46:29.843Z"
   },
   {
    "duration": 48,
    "start_time": "2023-07-21T09:46:35.323Z"
   },
   {
    "duration": 162,
    "start_time": "2023-07-21T09:47:29.234Z"
   },
   {
    "duration": 113,
    "start_time": "2023-07-21T09:48:18.908Z"
   },
   {
    "duration": 11,
    "start_time": "2023-07-21T09:48:31.227Z"
   },
   {
    "duration": 77,
    "start_time": "2023-07-21T09:48:47.322Z"
   },
   {
    "duration": 57,
    "start_time": "2023-07-21T09:49:09.512Z"
   },
   {
    "duration": 57,
    "start_time": "2023-07-21T09:50:08.892Z"
   },
   {
    "duration": 53,
    "start_time": "2023-07-21T09:51:11.038Z"
   },
   {
    "duration": 61,
    "start_time": "2023-07-21T09:51:28.290Z"
   },
   {
    "duration": 63,
    "start_time": "2023-07-21T09:51:45.089Z"
   },
   {
    "duration": 57,
    "start_time": "2023-07-21T09:52:33.661Z"
   },
   {
    "duration": 78,
    "start_time": "2023-07-21T09:56:40.190Z"
   },
   {
    "duration": 47,
    "start_time": "2023-07-21T09:56:50.788Z"
   },
   {
    "duration": 53,
    "start_time": "2023-07-21T09:57:07.632Z"
   },
   {
    "duration": 55,
    "start_time": "2023-07-21T09:57:15.959Z"
   },
   {
    "duration": 69,
    "start_time": "2023-07-21T09:59:49.989Z"
   },
   {
    "duration": 47,
    "start_time": "2023-07-21T10:01:39.144Z"
   },
   {
    "duration": 50,
    "start_time": "2023-07-21T10:03:52.658Z"
   },
   {
    "duration": 86,
    "start_time": "2023-07-21T10:03:52.709Z"
   },
   {
    "duration": 131,
    "start_time": "2023-07-21T10:03:52.797Z"
   },
   {
    "duration": 58,
    "start_time": "2023-07-21T10:03:52.929Z"
   },
   {
    "duration": 53,
    "start_time": "2023-07-21T10:03:52.989Z"
   },
   {
    "duration": 4,
    "start_time": "2023-07-21T10:03:53.044Z"
   },
   {
    "duration": 362,
    "start_time": "2023-07-21T10:03:53.049Z"
   },
   {
    "duration": 214,
    "start_time": "2023-07-21T10:03:53.413Z"
   },
   {
    "duration": 129,
    "start_time": "2023-07-21T10:03:53.629Z"
   },
   {
    "duration": 133,
    "start_time": "2023-07-21T10:03:53.759Z"
   },
   {
    "duration": 135,
    "start_time": "2023-07-21T10:03:53.894Z"
   },
   {
    "duration": 4,
    "start_time": "2023-07-21T10:11:52.275Z"
   },
   {
    "duration": 425,
    "start_time": "2023-07-21T10:11:52.280Z"
   },
   {
    "duration": 253,
    "start_time": "2023-07-21T10:11:52.708Z"
   },
   {
    "duration": 143,
    "start_time": "2023-07-21T10:11:52.964Z"
   },
   {
    "duration": 152,
    "start_time": "2023-07-21T10:11:53.109Z"
   },
   {
    "duration": 139,
    "start_time": "2023-07-21T10:11:53.262Z"
   },
   {
    "duration": 65,
    "start_time": "2023-07-21T10:11:53.403Z"
   },
   {
    "duration": 90,
    "start_time": "2023-07-21T10:11:53.470Z"
   },
   {
    "duration": 54,
    "start_time": "2023-07-21T10:11:53.561Z"
   },
   {
    "duration": 58,
    "start_time": "2023-07-21T10:11:53.616Z"
   },
   {
    "duration": 60,
    "start_time": "2023-07-21T10:11:53.676Z"
   },
   {
    "duration": 69,
    "start_time": "2023-07-21T11:55:41.688Z"
   },
   {
    "duration": 163,
    "start_time": "2023-07-21T11:58:08.794Z"
   },
   {
    "duration": 164,
    "start_time": "2023-07-21T11:58:23.683Z"
   },
   {
    "duration": 147,
    "start_time": "2023-07-21T11:59:05.950Z"
   },
   {
    "duration": 49,
    "start_time": "2023-07-21T11:59:47.044Z"
   },
   {
    "duration": 101,
    "start_time": "2023-07-21T12:00:36.971Z"
   },
   {
    "duration": 66,
    "start_time": "2023-07-21T12:01:06.671Z"
   },
   {
    "duration": 155,
    "start_time": "2023-07-21T12:03:20.714Z"
   },
   {
    "duration": 81,
    "start_time": "2023-07-21T12:03:31.209Z"
   },
   {
    "duration": 181,
    "start_time": "2023-07-21T12:03:34.769Z"
   },
   {
    "duration": 187,
    "start_time": "2023-07-21T12:04:13.608Z"
   },
   {
    "duration": 45,
    "start_time": "2023-07-21T12:04:39.769Z"
   },
   {
    "duration": 55,
    "start_time": "2023-07-21T12:05:35.058Z"
   },
   {
    "duration": 74,
    "start_time": "2023-07-21T12:05:39.288Z"
   },
   {
    "duration": 90,
    "start_time": "2023-07-21T12:07:11.752Z"
   },
   {
    "duration": 57,
    "start_time": "2023-07-21T12:07:23.529Z"
   },
   {
    "duration": 65,
    "start_time": "2023-07-21T12:09:23.883Z"
   },
   {
    "duration": 66,
    "start_time": "2023-07-21T12:10:25.103Z"
   },
   {
    "duration": 9,
    "start_time": "2023-07-21T12:11:58.620Z"
   },
   {
    "duration": 350,
    "start_time": "2023-07-21T12:11:59.532Z"
   },
   {
    "duration": 287,
    "start_time": "2023-07-21T12:12:01.388Z"
   },
   {
    "duration": 138,
    "start_time": "2023-07-21T12:12:02.772Z"
   },
   {
    "duration": 145,
    "start_time": "2023-07-21T12:12:04.364Z"
   },
   {
    "duration": 152,
    "start_time": "2023-07-21T12:12:05.611Z"
   },
   {
    "duration": 51,
    "start_time": "2023-07-21T12:12:08.045Z"
   },
   {
    "duration": 94,
    "start_time": "2023-07-21T12:12:42.260Z"
   },
   {
    "duration": 53,
    "start_time": "2023-07-21T12:12:43.948Z"
   },
   {
    "duration": 60,
    "start_time": "2023-07-21T12:12:45.884Z"
   },
   {
    "duration": 53,
    "start_time": "2023-07-21T12:12:48.060Z"
   }
  ],
  "kernelspec": {
   "display_name": "Python 3 (ipykernel)",
   "language": "python",
   "name": "python3"
  },
  "language_info": {
   "codemirror_mode": {
    "name": "ipython",
    "version": 3
   },
   "file_extension": ".py",
   "mimetype": "text/x-python",
   "name": "python",
   "nbconvert_exporter": "python",
   "pygments_lexer": "ipython3",
   "version": "3.9.5"
  },
  "toc": {
   "base_numbering": 1,
   "nav_menu": {},
   "number_sections": true,
   "sideBar": true,
   "skip_h1_title": true,
   "title_cell": "Table of Contents",
   "title_sidebar": "Contents",
   "toc_cell": false,
   "toc_position": {},
   "toc_section_display": true,
   "toc_window_display": false
  }
 },
 "nbformat": 4,
 "nbformat_minor": 2
}
