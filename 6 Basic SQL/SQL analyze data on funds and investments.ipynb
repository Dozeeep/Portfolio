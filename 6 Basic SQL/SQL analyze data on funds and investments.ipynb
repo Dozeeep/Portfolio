{
  "metadata": {
    "language_info": {
      "name": ""
    },
    "kernelspec": {
      "name": "",
      "display_name": ""
    }
  },
  "nbformat_minor": 4,
  "nbformat": 4,
  "cells": [
    {
      "cell_type": "markdown",
      "source": "**Проанализировать данные о фондах и инвестициях и написать запросы к базе.**",
      "metadata": {}
    },
    {
      "cell_type": "markdown",
      "source": "**База данных, которая хранит информацию о венчурных фондах и инвестициях в компании-стартапы, и основана на датасете Startup Investments https://www.kaggle.com/justinas/startup-investments.**",
      "metadata": {}
    },
    {
      "cell_type": "markdown",
      "source": "**Задача 1.** Посчитайте, сколько компаний закрылось.",
      "metadata": {}
    },
    {
      "cell_type": "code",
      "source": "SELECT COUNT(name)\nFROM company\nWHERE status = 'closed';",
      "metadata": {},
      "execution_count": null,
      "outputs": []
    },
    {
      "cell_type": "markdown",
      "source": "**Задача 2.** Отобразите количество привлечённых средств для новостных компаний США. Используйте данные из таблицы company. Отсортируйте таблицу по убыванию значений в поле funding_total.",
      "metadata": {}
    },
    {
      "cell_type": "code",
      "source": "SELECT funding_total\nFROM company\nWHERE category_code = 'news' AND country_code = 'USA'\nORDER BY funding_total DESC;",
      "metadata": {},
      "execution_count": null,
      "outputs": []
    },
    {
      "cell_type": "markdown",
      "source": "**Задача 3.** Найдите общую сумму сделок по покупке одних компаний другими в долларах. Отберите сделки, которые осуществлялись только за наличные с 2011 по 2013 год включительно.",
      "metadata": {}
    },
    {
      "cell_type": "code",
      "source": "SELECT SUM(price_amount) AS price_cash\nFROM acquisition\nWHERE term_code = 'cash' \n     AND EXTRACT(year FROM CAST(acquired_at AS date)) IN (2011,2012,2013); ",
      "metadata": {},
      "execution_count": null,
      "outputs": []
    },
    {
      "cell_type": "markdown",
      "source": "**Задача 4.** Отобразите имя, фамилию и названия аккаунтов людей в твиттере, у которых названия аккаунтов начинаются на 'Silver'.",
      "metadata": {}
    },
    {
      "cell_type": "code",
      "source": "SELECT first_name,\n       last_name,\n       twitter_username\nFROM people\nWHERE twitter_username LIKE 'Silver%';",
      "metadata": {},
      "execution_count": null,
      "outputs": []
    },
    {
      "cell_type": "markdown",
      "source": "**Задача 5.** Выведите на экран всю информацию о людях, у которых названия аккаунтов в твиттере содержат подстроку 'money', а фамилия начинается на 'K'.",
      "metadata": {}
    },
    {
      "cell_type": "code",
      "source": "SELECT *\nFROM people\nWHERE twitter_username LIKE '%money%'\nAND last_name LIKE 'K%';",
      "metadata": {},
      "execution_count": null,
      "outputs": []
    },
    {
      "cell_type": "markdown",
      "source": "**Задача 6.** Для каждой страны отобразите общую сумму привлечённых инвестиций, которые получили компании, зарегистрированные в этой стране. Страну, в которой зарегистрирована компания, можно определить по коду страны. Отсортируйте данные по убыванию суммы.",
      "metadata": {}
    },
    {
      "cell_type": "code",
      "source": "SELECT country_code,\n       SUM(funding_total)\nFROM company\nGROUP BY country_code\nORDER BY SUM(funding_total) DESC;",
      "metadata": {},
      "execution_count": null,
      "outputs": []
    },
    {
      "cell_type": "markdown",
      "source": "**Задача 7.** Составьте таблицу, в которую войдёт дата проведения раунда, а также минимальное и максимальное значения суммы инвестиций, привлечённых в эту дату.\n\nОставьте в итоговой таблице только те записи, в которых минимальное значение суммы инвестиций не равно нулю и не равно максимальному значению.",
      "metadata": {}
    },
    {
      "cell_type": "code",
      "source": "SELECT funded_at,\n       MIN(raised_amount),\n       MAX(raised_amount)\nFROM funding_round\nGROUP BY funded_at\nHAVING MIN(raised_amount) != 0 AND MIN(raised_amount) != MAX(raised_amount);",
      "metadata": {},
      "execution_count": null,
      "outputs": []
    },
    {
      "cell_type": "markdown",
      "source": "**Задача 8.** Создайте поле с категориями:\n- Для фондов, которые инвестируют в 100 и более компаний, назначьте категорию high_activity.\n- Для фондов, которые инвестируют в 20 и более компаний до 100, назначьте категорию middle_activity.\n- Если количество инвестируемых компаний фонда не достигает 20, назначьте категорию low_activity.\n\nОтобразите все поля таблицы fund и новое поле с категориями.",
      "metadata": {}
    },
    {
      "cell_type": "code",
      "source": "SELECT *,\n      CASE\n      WHEN invested_companies >= 100 THEN 'high_activity'\n      WHEN invested_companies >= 20 AND invested_companies < 100 THEN 'middle_activity'\n      WHEN invested_companies <= 20 THEN 'low_activity'\n      END\nFROM fund;",
      "metadata": {},
      "execution_count": null,
      "outputs": []
    },
    {
      "cell_type": "markdown",
      "source": "**Задача 9.** Для каждой из категорий, назначенных в предыдущем задании, посчитайте округлённое до ближайшего целого числа среднее количество инвестиционных раундов, в которых фонд принимал участие. Выведите на экран категории и среднее число инвестиционных раундов. Отсортируйте таблицу по возрастанию среднего.",
      "metadata": {}
    },
    {
      "cell_type": "code",
      "source": "SELECT \n       CASE\n           WHEN invested_companies>=100 THEN 'high_activity'\n           WHEN invested_companies>=20 THEN 'middle_activity'\n           ELSE 'low_activity'\n       END AS activity,\n       ROUND(AVG(investment_rounds))\nFROM fund\nGROUP BY activity\nORDER BY ROUND(AVG(investment_rounds));",
      "metadata": {},
      "execution_count": null,
      "outputs": []
    },
    {
      "cell_type": "markdown",
      "source": "**Задача 10.** Проанализируйте, в каких странах находятся фонды, которые чаще всего инвестируют в стартапы. \n\nДля каждой страны посчитайте минимальное, максимальное и среднее число компаний, в которые инвестировали фонды этой страны, основанные с 2010 по 2012 год включительно. Исключите страны с фондами, у которых минимальное число компаний, получивших инвестиции, равно нулю. \n\nВыгрузите десять самых активных стран-инвесторов: отсортируйте таблицу по среднему количеству компаний от большего к меньшему. Затем добавьте сортировку по коду страны в лексикографическом порядке.",
      "metadata": {}
    },
    {
      "cell_type": "code",
      "source": "SELECT country_code,\n       MIN(invested_companies),\n       MAX(invested_companies),\n       AVG(invested_companies)\nFROM fund\nWHERE EXTRACT(year FROM CAST(founded_at AS date)) BETWEEN 2010 AND 2012\nGROUP BY country_code\nHAVING MIN(invested_companies) > 0\nORDER BY AVG(invested_companies) DESC\nLIMIT 10;",
      "metadata": {},
      "execution_count": null,
      "outputs": []
    },
    {
      "cell_type": "markdown",
      "source": "**Задача 11.** Отобразите имя и фамилию всех сотрудников стартапов. Добавьте поле с названием учебного заведения, которое окончил сотрудник, если эта информация известна.",
      "metadata": {}
    },
    {
      "cell_type": "code",
      "source": "SELECT first_name,\n       last_name,\n       education. instituition\nFROM people \nLEFT JOIN education ON people.id = education.person_id;",
      "metadata": {},
      "execution_count": null,
      "outputs": []
    },
    {
      "cell_type": "markdown",
      "source": "**Задача 12.** Для каждой компании найдите количество учебных заведений, которые окончили её сотрудники. Выведите название компании и число уникальных названий учебных заведений. Составьте топ-5 компаний по количеству университетов.",
      "metadata": {}
    },
    {
      "cell_type": "code",
      "source": "SELECT c.name,\n       COUNT(DISTINCT education.instituition)\nFROM company AS c\nJOIN people AS p ON c.id = p.company_id\nJOIN education AS education ON p.id = education.person_id\nGROUP BY c.name\nORDER BY COUNT(DISTINCT education.instituition) DESC\nLIMIT 5;",
      "metadata": {},
      "execution_count": null,
      "outputs": []
    },
    {
      "cell_type": "markdown",
      "source": "**Задача 13.** Составьте список с уникальными названиями закрытых компаний, для которых первый раунд финансирования оказался последним.",
      "metadata": {}
    },
    {
      "cell_type": "code",
      "source": "SELECT DISTINCT name\nFROM company\nWHERE status='closed'\n  AND id IN (SELECT company_id\n             FROM funding_round\n             WHERE is_first_round=1 AND is_last_round=1);",
      "metadata": {},
      "execution_count": null,
      "outputs": []
    },
    {
      "cell_type": "markdown",
      "source": "**Задача 14.** Составьте список уникальных номеров сотрудников, которые работают в компаниях, отобранных в предыдущем задании.",
      "metadata": {}
    },
    {
      "cell_type": "code",
      "source": "SELECT id\nFROM people\nWHERE company_id IN (\n                 SELECT id\n                 FROM company\n                 WHERE status='closed'\n                 AND id IN (\n                        SELECT company_id\n                        FROM funding_round\n                        WHERE is_first_round=1 AND is_last_round=1\n                        )\n                    );",
      "metadata": {},
      "execution_count": null,
      "outputs": []
    },
    {
      "cell_type": "markdown",
      "source": "**Задача 15.** Составьте таблицу, куда войдут уникальные пары с номерами сотрудников из предыдущей задачи и учебным заведением, которое окончил сотрудник.",
      "metadata": {}
    },
    {
      "cell_type": "code",
      "source": "SELECT DISTINCT p.id,\n       e.instituition \nFROM people AS p\nINNER JOIN education AS e \nON p.id=e.person_id\nWHERE p.company_id IN (\n                   SELECT id\n                   FROM company\n                   WHERE status='closed'\n                   AND id IN (\n                          SELECT company_id\n                          FROM funding_round\n                          WHERE is_first_round=1 AND is_last_round=1\n                              )\n                      );",
      "metadata": {},
      "execution_count": null,
      "outputs": []
    },
    {
      "cell_type": "markdown",
      "source": "**Задача 16.** Посчитайте количество учебных заведений для каждого сотрудника из предыдущего задания. При подсчёте учитывайте, что некоторые сотрудники могли окончить одно и то же заведение дважды.",
      "metadata": {}
    },
    {
      "cell_type": "code",
      "source": "SELECT p.id,\n       COUNT(e.instituition)\nFROM people AS p\nINNER JOIN education AS e \nON p.id=e.person_id\nWHERE p.company_id IN (\n                   SELECT id\n                   FROM company\n                   WHERE status='closed'\n                   AND id IN (\n                          SELECT company_id\n                          FROM funding_round\n                          WHERE is_first_round=1 AND is_last_round=1\n                             )\n                       )\nGROUP BY p.id;",
      "metadata": {},
      "execution_count": null,
      "outputs": []
    },
    {
      "cell_type": "markdown",
      "source": "**Задача 17.** Дополните предыдущий запрос и выведите среднее число учебных заведений (всех, не только уникальных), которые окончили сотрудники разных компаний. Нужно вывести только одну запись, группировка здесь не понадобится.",
      "metadata": {}
    },
    {
      "cell_type": "code",
      "source": "WITH\ncount_institute AS (\n                    SELECT p.id,\n                           COUNT(e.instituition)\n                    FROM people AS p\n                    INNER JOIN education AS e\n                    ON p.id=e.person_id\n                    WHERE p.company_id IN (\n                                       SELECT id\n                                       FROM company\n                                       WHERE status='closed'\n                                       AND id IN (\n                                              SELECT company_id\n                                              FROM funding_round\n                                              WHERE is_first_round=1 AND is_last_round=1\n                                                 )\n                                          )\n                    GROUP BY p.id\n                    )\n \nSELECT AVG(count)\nFROM (SELECT count FROM count_institute) AS avg_count;",
      "metadata": {},
      "execution_count": null,
      "outputs": []
    },
    {
      "cell_type": "markdown",
      "source": "**Задача 18.** Напишите похожий запрос: выведите среднее число учебных заведений (всех, не только уникальных), которые окончили сотрудники Facebook*.\n*(сервис, запрещённый на территории РФ)",
      "metadata": {}
    },
    {
      "cell_type": "code",
      "source": "WITH\ncount_institute AS (SELECT p.id,\n                           COUNT(e.instituition)\n                    FROM people AS p\n                    INNER JOIN education AS e \n                    ON p.id=e.person_id\n                    WHERE p.company_id IN (\n                                        SELECT id\n                                        FROM company\n                                        WHERE name='Facebook'\n                                          )\n                    GROUP BY p.id)\n \nSELECT AVG(count)\nFROM (SELECT count FROM count_institute) AS avg_count;",
      "metadata": {},
      "execution_count": null,
      "outputs": []
    },
    {
      "cell_type": "markdown",
      "source": "**Задача 19.** Составьте таблицу из полей:\n- name_of_fund — название фонда;\n- name_of_company — название компании;\n- amount — сумма инвестиций, которую привлекла компания в раунде.\n\nВ таблицу войдут данные о компаниях, в истории которых было больше шести важных этапов, а раунды финансирования проходили с 2012 по 2013 год включительно.",
      "metadata": {}
    },
    {
      "cell_type": "code",
      "source": "SELECT f.name AS name_of_fund,\n       c.name AS name_of_company,\n       fr.raised_amount AS amount\nFROM investment AS i\nLEFT JOIN company AS c \nON i.company_id=c.id\nLEFT JOIN fund AS f \nON f.id=i.fund_id\nLEFT JOIN funding_round AS fr \nON i.funding_round_id = fr.id\nWHERE c.milestones>6\nAND EXTRACT(YEAR FROM CAST(funded_at AS date)) BETWEEN 2012 AND 2013",
      "metadata": {},
      "execution_count": null,
      "outputs": []
    },
    {
      "cell_type": "markdown",
      "source": "**Задача 20.** Выгрузите таблицу, в которой будут такие поля:\n- название компании-покупателя;\n- сумма сделки;\n- название компании, которую купили;\n- сумма инвестиций, вложенных в купленную компанию;\n- доля, которая отображает, во сколько раз сумма покупки превысила сумму вложенных в компанию инвестиций, округлённая до ближайшего целого числа.\n\nНе учитывайте те сделки, в которых сумма покупки равна нулю. Если сумма инвестиций в компанию равна нулю, исключите такую компанию из таблицы. \n\nОтсортируйте таблицу по сумме сделки от большей к меньшей, а затем по названию купленной компании в лексикографическом порядке. Ограничьте таблицу первыми десятью записями.",
      "metadata": {}
    },
    {
      "cell_type": "code",
      "source": "SELECT cmp.name AS name_acquiring_company ,\n       acq.price_amount,\n       com.name AS name_acquired_company,\n       com.funding_total,\n       ROUND(acq.price_amount/com.funding_total) AS percent\nFROM acquisition AS acq\nLEFT OUTER JOIN company AS cmp \nON acq.acquiring_company_id=cmp.id\nLEFT OUTER JOIN company AS com \nON acq.acquired_company_id=com.id\nWHERE acq.price_amount > 0\nAND com.funding_total>0\nORDER BY acq.price_amount DESC\nLIMIT 10;",
      "metadata": {},
      "execution_count": null,
      "outputs": []
    },
    {
      "cell_type": "markdown",
      "source": "**Задача 21.** Выгрузите таблицу, в которую войдут названия компаний из категории social, получившие финансирование с 2010 по 2013 год включительно. Проверьте, что сумма инвестиций не равна нулю. Выведите также номер месяца, в котором проходил раунд финансирования.",
      "metadata": {}
    },
    {
      "cell_type": "code",
      "source": "SELECT com.name,\n       EXTRACT(MONTH FROM CAST(fr.funded_at AS date))\nFROM company AS com\nLEFT OUTER JOIN funding_round AS fr ON fr.company_id =com.id\nWHERE com.category_code = 'social'\n  AND  EXTRACT(YEAR FROM CAST(fr.funded_at AS date)) IN (2010, 2011, 2012, 2013) AND fr.raised_amount > 0;",
      "metadata": {},
      "execution_count": null,
      "outputs": []
    },
    {
      "cell_type": "markdown",
      "source": "**Задача 22.** Отберите данные по месяцам с 2010 по 2013 год, когда проходили инвестиционные раунды. Сгруппируйте данные по номеру месяца и получите таблицу, в которой будут поля:\n- номер месяца, в котором проходили раунды;\n- количество уникальных названий фондов из США, которые инвестировали в этом месяце;\n- количество компаний, купленных за этот месяц;\n- общая сумма сделок по покупкам в этом месяце.",
      "metadata": {}
    },
    {
      "cell_type": "code",
      "source": "WITH\nfund_count AS (\n               SELECT EXTRACT(MONTH FROM CAST(fr.funded_at AS date)) AS month_number,\n                      COUNT(DISTINCT f.name) AS fund_count_USA       \n               FROM funding_round AS fr\n               LEFT OUTER JOIN investment AS i \n               ON fr.id=i.funding_round_id\n               LEFT OUTER JOIN fund AS f \n               ON i.fund_id=f.id\n               WHERE f.country_code='USA'\n               AND EXTRACT(YEAR FROM CAST(fr.funded_at AS date)) BETWEEN 2010 AND 2013\n               GROUP BY  EXTRACT(MONTH FROM CAST(fr.funded_at AS date))\n               ),\ncomp_count AS (\n               SELECT EXTRACT(MONTH FROM CAST(acquired_at AS date)) AS month_number,\n                      COUNT(id) AS company_count,\n                      SUM(price_amount) AS total_amount\n               FROM  acquisition\n               WHERE EXTRACT(YEAR FROM CAST(acquired_at AS date)) BETWEEN 2010 AND 2013\n               GROUP BY EXTRACT(MONTH FROM CAST(acquired_at AS date)) \n               )\n                            \n                             \nSELECT fund_count.month_number,\n       fund_count_USA,\n       company_count, \n       total_amount\nFROM fund_count \nLEFT JOIN comp_count \nON fund_count.month_number=comp_count.month_number;",
      "metadata": {},
      "execution_count": null,
      "outputs": []
    },
    {
      "cell_type": "markdown",
      "source": "**Задача 23.** Составьте сводную таблицу и выведите среднюю сумму инвестиций для стран, в которых есть стартапы, зарегистрированные в 2011, 2012 и 2013 годах. Данные за каждый год должны быть в отдельном поле. Отсортируйте таблицу по среднему значению инвестиций за 2011 год от большего к меньшему.",
      "metadata": {}
    },
    {
      "cell_type": "code",
      "source": "WITH\ny_2011 AS (\n           SELECT country_code,\n                  AVG(funding_total) AS year_2011\n           FROM company\n           WHERE EXTRACT(YEAR FROM CAST(founded_at AS date)) = 2011\n           GROUP BY country_code\n           ),\ny_2012 AS (\n           SELECT country_code,\n                  AVG(funding_total) AS  year_2012\n           FROM company\n           WHERE EXTRACT(YEAR FROM CAST(founded_at AS date)) = 2012\n           GROUP BY country_code\n           ), \ny_2013 AS (\n           SELECT country_code,\n                 AVG(funding_total) AS year_2013\n           FROM company\n           WHERE EXTRACT(YEAR FROM CAST(founded_at AS date)) = 2013\n           GROUP BY country_code\n           )\n\nSELECT y_2011.country_code,\n       year_2011,\n       year_2012,\n       year_2013\nFROM  y_2011 JOIN y_2012  \nON y_2011.country_code=y_2012.country_code\nINNER JOIN y_2013 \nON y_2011.country_code=y_2013.country_code\nORDER BY year_2011 DESC;",
      "metadata": {},
      "execution_count": null,
      "outputs": []
    }
  ]
}