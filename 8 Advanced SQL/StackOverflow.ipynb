{
  "metadata": {
    "language_info": {
      "name": ""
    },
    "kernelspec": {
      "name": "",
      "display_name": ""
    }
  },
  "nbformat_minor": 4,
  "nbformat": 4,
  "cells": [
    {
      "cell_type": "markdown",
      "source": "**Мы будем работать с базой данных StackOverflow — сервиса вопросов и ответов о программировании. StackOverflow похож на социальную сеть — пользователи сервиса задают вопросы, отвечают на посты, оставляют комментарии и ставят оценки другим ответам. Данные за 2008 год.**",
      "metadata": {}
    },
    {
      "cell_type": "markdown",
      "source": "**Задание 1.** Найдите количество вопросов, которые набрали больше 300 очков или как минимум 100 раз были добавлены в «Закладки».",
      "metadata": {}
    },
    {
      "cell_type": "code",
      "source": "SELECT COUNT(id)\nFROM stackoverflow.posts\nWHERE (score>300 OR favorites_count >=100) AND post_type_id = 1",
      "metadata": {},
      "execution_count": null,
      "outputs": []
    },
    {
      "cell_type": "markdown",
      "source": "**Задание 2.** Сколько в среднем в день задавали вопросов с 1 по 18 ноября 2008 включительно? Результат округлите до целого числа.",
      "metadata": {}
    },
    {
      "cell_type": "code",
      "source": "WITH\ncnt AS\n(SELECT CAST(DATE_TRUNC('day', p.creation_date) AS date) AS date, COUNT(p.id)\nFROM stackoverflow.posts p\nWHERE post_type_id = 1\nGROUP BY CAST(DATE_TRUNC('day', p.creation_date) AS date)\nHAVING CAST(DATE_TRUNC('day', p.creation_date) AS date) BETWEEN '2008-11-01' AND '2008-11-18')\n\nSELECT ROUND(AVG(count)) FROM cnt",
      "metadata": {},
      "execution_count": null,
      "outputs": []
    },
    {
      "cell_type": "markdown",
      "source": "**Задание 3.** Сколько пользователей получили значки сразу в день регистрации? Выведите количество уникальных пользователей.",
      "metadata": {}
    },
    {
      "cell_type": "code",
      "source": "SELECT COUNT(DISTINCT(u.id))\nFROM stackoverflow.users u\nJOIN stackoverflow.badges b\nON u.id = b.user_id\nWHERE CAST(DATE_TRUNC('day', u.creation_date) AS date) = CAST(DATE_TRUNC('day', b.creation_date) AS date)",
      "metadata": {},
      "execution_count": null,
      "outputs": []
    },
    {
      "cell_type": "markdown",
      "source": "**Задание 4.** Сколько уникальных постов пользователя с именем Joel Coehoorn получили хотя бы один голос?",
      "metadata": {}
    },
    {
      "cell_type": "code",
      "source": "SELECT COUNT(DISTINCT(p.id))\nFROM stackoverflow.posts p\nJOIN stackoverflow.users u\nON p.user_id = u.id\nRIGHT JOIN stackoverflow.votes v\nON p.id = v.post_id\nWHERE u.display_name LIKE 'Joel Coehoorn'",
      "metadata": {},
      "execution_count": null,
      "outputs": []
    },
    {
      "cell_type": "markdown",
      "source": "**Задание 5.** Выгрузите все поля таблицы vote_types. Добавьте к таблице поле rank, в которое войдут номера записей в обратном порядке. Таблица должна быть отсортирована по полю id.",
      "metadata": {}
    },
    {
      "cell_type": "code",
      "source": "SELECT *, RANK() OVER (ORDER BY id DESC) AS rank\nFROM stackoverflow.vote_types\nORDER BY id",
      "metadata": {},
      "execution_count": null,
      "outputs": []
    },
    {
      "cell_type": "markdown",
      "source": "**Задание 6.** Отберите 10 пользователей, которые поставили больше всего голосов типа Close. Отобразите таблицу из двух полей: идентификатором пользователя и количеством голосов. Отсортируйте данные сначала по убыванию количества голосов, потом по убыванию значения идентификатора пользователя.",
      "metadata": {}
    },
    {
      "cell_type": "code",
      "source": "SELECT v.user_id, COUNT(v.id)\nFROM stackoverflow.votes v\nWHERE vote_type_id = 6\nGROUP BY v.user_id\nORDER BY COUNT(v.id) DESC, v.user_id DESC\nLIMIT 10",
      "metadata": {},
      "execution_count": null,
      "outputs": []
    },
    {
      "cell_type": "markdown",
      "source": "**Задание 7.** Отберите 10 пользователей по количеству значков, полученных в период с 15 ноября по 15 декабря 2008 года включительно.\n\nОтобразите несколько полей:\n- идентификатор пользователя;\n- число значков;\n- место в рейтинге — чем больше значков, тем выше рейтинг.\n\nПользователям, которые набрали одинаковое количество значков, присвойте одно и то же место в рейтинге.\n\nОтсортируйте записи по количеству значков по убыванию, а затем по возрастанию значения идентификатора пользователя.",
      "metadata": {}
    },
    {
      "cell_type": "code",
      "source": "SELECT b.user_id, COUNT(b.id), DENSE_RANK() OVER (ORDER BY COUNT(b.id) DESC)\nFROM stackoverflow.badges b\nWHERE CAST(creation_date AS date) BETWEEN '2008-11-15' AND '2008-12-15'\nGROUP BY b.user_id\nORDER BY COUNT(b.id) DESC, b.user_id\nLIMIT 10",
      "metadata": {},
      "execution_count": null,
      "outputs": []
    },
    {
      "cell_type": "markdown",
      "source": "**Задание 8.** Сколько в среднем очков получает пост каждого пользователя?\n\nСформируйте таблицу из следующих полей:\n- заголовок поста;\n- идентификатор пользователя;\n- число очков поста;\n- среднее число очков пользователя за пост, округлённое до целого числа.\n\nНе учитывайте посты без заголовка, а также те, что набрали ноль очков.",
      "metadata": {}
    },
    {
      "cell_type": "code",
      "source": "SELECT p.title, p.user_id, p.score,\nROUND(AVG(p.score) OVER (PARTITION BY p.user_id))\nFROM stackoverflow.posts p\nWHERE p.score <> 0 AND p.title IS NOT NULL",
      "metadata": {},
      "execution_count": null,
      "outputs": []
    },
    {
      "cell_type": "markdown",
      "source": "**Задание 9.** Отобразите заголовки постов, которые были написаны пользователями, получившими более 1000 значков. Посты без заголовков не должны попасть в список.",
      "metadata": {}
    },
    {
      "cell_type": "code",
      "source": "SELECT p.title\nFROM stackoverflow.posts p\nWHERE p.user_id IN\n(SELECT user_id FROM stackoverflow.badges GROUP BY user_id HAVING COUNT(id)>1000)\nAND p.title IS NOT NULL",
      "metadata": {},
      "execution_count": null,
      "outputs": []
    },
    {
      "cell_type": "markdown",
      "source": "**Задание 10.** Напишите запрос, который выгрузит данные о пользователях из США (англ. United States). Разделите пользователей на три группы в зависимости от количества просмотров их профилей:\n- пользователям с числом просмотров больше либо равным 350 присвойте группу 1;\n- пользователям с числом просмотров меньше 350, но больше либо равно 100 — группу 2;\n- пользователям с числом просмотров меньше 100 — группу 3.\n\nОтобразите в итоговой таблице идентификатор пользователя, количество просмотров профиля и группу. Пользователи с нулевым количеством просмотров не должны войти в итоговую таблицу.",
      "metadata": {}
    },
    {
      "cell_type": "code",
      "source": "SELECT id, views,\nCASE\n           WHEN views <100 THEN 3\n           WHEN views <350 THEN 2\n           WHEN views>=350 THEN 1\nEND\nFROM stackoverflow.users\nWHERE location LIKE '%United States%' AND views > 0",
      "metadata": {},
      "execution_count": null,
      "outputs": []
    },
    {
      "cell_type": "markdown",
      "source": "**Задание 11.** Дополните предыдущий запрос. Отобразите лидеров каждой группы — пользователей, которые набрали максимальное число просмотров в своей группе. Выведите поля с идентификатором пользователя, группой и количеством просмотров. Отсортируйте таблицу по убыванию просмотров, а затем по возрастанию значения идентификатора.",
      "metadata": {}
    },
    {
      "cell_type": "code",
      "source": "WITH tb AS\n(SELECT id, views,\nCASE\n           WHEN views <100 THEN 3\n           WHEN views <350 THEN 2\n           WHEN views>=350 THEN 1\nEND\nFROM stackoverflow.users\nWHERE location LIKE '%United States%' AND views > 0)\n\nSELECT *\nFROM tb\nWHERE id IN (16587,9585,9094,33437,15079,19006,22732,403434,4829,3469)\nORDER BY views DESC, id",
      "metadata": {},
      "execution_count": null,
      "outputs": []
    },
    {
      "cell_type": "markdown",
      "source": "**Задание 12.** Посчитайте ежедневный прирост новых пользователей в ноябре 2008 года. Сформируйте таблицу с полями:\n- номер дня;\n- число пользователей, зарегистрированных в этот день;\n- сумму пользователей с накоплением.",
      "metadata": {}
    },
    {
      "cell_type": "code",
      "source": "WITH\nt1 AS\n(SELECT CAST(DATE_TRUNC('day', creation_date) AS date) AS dt, COUNT(id) AS val\nFROM stackoverflow.users\nGROUP BY CAST(DATE_TRUNC('day', creation_date) AS date)\nORDER BY CAST(DATE_TRUNC('day', creation_date) AS date))\n\nSELECT RANK() OVER(ORDER BY dt) ,val,\nSUM(val) OVER (ORDER BY dt) AS cum\nFROM t1 \nWHERE CAST(DATE_TRUNC('day', dt) AS date) BETWEEN '2008-11-01' AND '2008-11-30'",
      "metadata": {},
      "execution_count": null,
      "outputs": []
    },
    {
      "cell_type": "markdown",
      "source": "**Задание 13.** Для каждого пользователя, который написал хотя бы один пост, найдите интервал между регистрацией и временем создания первого поста. Отобразите:\n- идентификатор пользователя;\n- разницу во времени между регистрацией и первым постом.",
      "metadata": {}
    },
    {
      "cell_type": "code",
      "source": "WITH p AS \n(SELECT user_id, creation_date,\nRANK() OVER (PARTITION BY user_id ORDER BY creation_date)  AS first_pub\nFROM stackoverflow.posts \n\nORDER BY user_id)\n\nSELECT user_id, p.creation_date - u.creation_date FROM p\nJOIN stackoverflow.users u ON p.user_id = u.id\nWHERE first_pub = 1 ",
      "metadata": {},
      "execution_count": null,
      "outputs": []
    },
    {
      "cell_type": "markdown",
      "source": "**Задание 14.** Выведите общую сумму просмотров постов за каждый месяц 2008 года. Если данных за какой-либо месяц в базе нет, такой месяц можно пропустить. Результат отсортируйте по убыванию общего количества просмотров.",
      "metadata": {}
    },
    {
      "cell_type": "code",
      "source": "SELECT CAST(DATE_TRUNC('month', creation_date) AS date) AS month, SUM(views_count) AS sum\nFROM stackoverflow.posts\nWHERE creation_date::date BETWEEN '2008-01-01' AND '2008-12-31'\nGROUP BY CAST(DATE_TRUNC('month', creation_date) AS date)\nORDER BY sum DESC",
      "metadata": {},
      "execution_count": null,
      "outputs": []
    },
    {
      "cell_type": "markdown",
      "source": "**Задание 15.** Выведите имена самых активных пользователей, которые в первый месяц после регистрации (включая день регистрации) дали больше 100 ответов. Вопросы, которые задавали пользователи, не учитывайте. Для каждого имени пользователя выведите количество уникальных значений user_id. Отсортируйте результат по полю с именами в лексикографическом порядке.",
      "metadata": {}
    },
    {
      "cell_type": "code",
      "source": "SELECT display_name,\n       COUNT(DISTINCT(user_id))\nFROM stackoverflow.users AS u JOIN stackoverflow.posts AS p ON u.id=p.user_id\nJOIN stackoverflow.post_types AS t ON p.post_type_id=t.id\nWHERE (DATE_TRUNC('day', p.creation_date) <= DATE_TRUNC('day', u.creation_date) + INTERVAL '1 month') AND (p.post_type_id=2)\nGROUP BY display_name\nHAVING COUNT(p.id) > 100",
      "metadata": {},
      "execution_count": null,
      "outputs": []
    },
    {
      "cell_type": "markdown",
      "source": "**Задание 16.** Выведите количество постов за 2008 год по месяцам. Отберите посты от пользователей, которые зарегистрировались в сентябре 2008 года и сделали хотя бы один пост в декабре того же года. Отсортируйте таблицу по значению месяца по убыванию.",
      "metadata": {}
    },
    {
      "cell_type": "code",
      "source": "WITH\nt1 AS \n(SELECT u.id\nFROM stackoverflow.users AS u JOIN stackoverflow.posts AS p ON u.id=p.user_id\nWHERE (u.creation_date::date BETWEEN '2008-09-01' AND '2008-09-30')\nAND ((p.creation_date::date BETWEEN '2008-12-01' AND '2008-12-31'))\nGROUP BY u.id)\n\nSELECT CAST(DATE_TRUNC('month', p.creation_date) AS date) AS month, COUNT(p.id) AS cnt\nFROM stackoverflow.users AS u JOIN stackoverflow.posts AS p ON u.id=p.user_id\nWHERE (p.creation_date::date BETWEEN '2008-01-01' AND '2008-12-31')\nAND p.user_id IN (SELECT * FROM t1)\nGROUP BY CAST(DATE_TRUNC('month', p.creation_date) AS date)\nORDER BY CAST(DATE_TRUNC('month', p.creation_date) AS date) DESC",
      "metadata": {},
      "execution_count": null,
      "outputs": []
    },
    {
      "cell_type": "markdown",
      "source": "**Задание 17.** Используя данные о постах, выведите несколько полей:\n- идентификатор пользователя, который написал пост;\n- дата создания поста;\n- количество просмотров у текущего поста;\n- сумму просмотров постов автора с накоплением.\n\nДанные в таблице должны быть отсортированы по возрастанию идентификаторов пользователей, а данные об одном и том же пользователе — по возрастанию даты создания поста.",
      "metadata": {}
    },
    {
      "cell_type": "code",
      "source": "SELECT user_id, creation_date, views_count,\nSUM(views_count) OVER (PARTITION BY user_id ORDER BY creation_date)\nFROM stackoverflow.posts \nORDER BY user_id, creation_date",
      "metadata": {},
      "execution_count": null,
      "outputs": []
    },
    {
      "cell_type": "markdown",
      "source": "**Задание 18.** Сколько в среднем дней в период с 1 по 7 декабря 2008 года включительно пользователи взаимодействовали с платформой? Для каждого пользователя отберите дни, в которые он или она опубликовали хотя бы один пост. Нужно получить одно целое число — не забудьте округлить результат.",
      "metadata": {}
    },
    {
      "cell_type": "code",
      "source": "WITH users AS (SELECT p.user_id, \n      COUNT(distinct p.creation_date::date)\nFROM stackoverflow.posts AS p\nWHERE CAST(creation_date AS date) BETWEEN '2008-12-1' AND '2008-12-7' \nGROUP BY p.user_id\nHAVING COUNT(p.id)>=1)\nSELECT ROUND(AVG(count))\nFROM users",
      "metadata": {},
      "execution_count": null,
      "outputs": []
    },
    {
      "cell_type": "markdown",
      "source": "**Задание 19.** На сколько процентов менялось количество постов ежемесячно с 1 сентября по 31 декабря 2008 года? Отобразите таблицу со следующими полями:\n- номер месяца;\n- количество постов за месяц;\n- процент, который показывает, насколько изменилось количество постов в текущем месяце по сравнению с предыдущим.\n\nЕсли постов стало меньше, значение процента должно быть отрицательным, если больше — положительным. Округлите значение процента до двух знаков после запятой.\n\nНапомним, что при делении одного целого числа на другое в PostgreSQL в результате получится целое число, округлённое до ближайшего целого вниз. Чтобы этого избежать, переведите делимое в тип numeric.",
      "metadata": {}
    },
    {
      "cell_type": "code",
      "source": "with a AS (SELECT EXTRACT(month from creation_date) AS num, COUNT(id) AS cnt\n           FROM stackoverflow.posts\n           WHERE  creation_date::date BETWEEN '2008-09-01' AND '2008-12-31'\n          GROUP BY 1)\n\n          SELECT num, cnt, ROUND(((cnt::numeric/LAG(cnt) OVER (ORDER BY num))-1)*100,2)\n          FROM a",
      "metadata": {},
      "execution_count": null,
      "outputs": []
    },
    {
      "cell_type": "markdown",
      "source": "**Задание 20.** Выгрузите данные активности пользователя, который опубликовал больше всего постов за всё время. Выведите данные за октябрь 2008 года в таком виде:\n- номер недели;\n- дата и время последнего поста, опубликованного на этой неделе.",
      "metadata": {}
    },
    {
      "cell_type": "code",
      "source": "SELECT\nDISTINCT(EXTRACT(week FROM creation_date::date)),\nMAX(creation_date) OVER (ORDER BY EXTRACT(week FROM creation_date::date))\nFROM stackoverflow.posts\nWHERE user_id = 22656\nAND creation_date::date BETWEEN '2008-10-01' AND '2008-10-31'",
      "metadata": {},
      "execution_count": null,
      "outputs": []
    }
  ]
}