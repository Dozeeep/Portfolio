{
 "cells": [
  {
   "cell_type": "markdown",
   "metadata": {},
   "source": [
    "**Проект: Принятие решений в бизнесе на основе данных**"
   ]
  },
  {
   "cell_type": "markdown",
   "metadata": {},
   "source": [
    "**Описание проекта**\n",
    "\n",
    "Вы — аналитик крупного интернет-магазина. Вместе с отделом маркетинга вы подготовили список гипотез для увеличения выручки.\n",
    "Приоритизируйте гипотезы, запустите A/B-тест и проанализируйте результаты. \n",
    "\n",
    "**Шаг 1. Загрузка библиотек и предобработка данных.**\n",
    "1. Загрузим библиотеки.\n",
    "2. Предобработаем датасет hypothesis.\n",
    "3. Предобработаем датасет orders.\n",
    "4. Предобработаем датасет visitors.\n",
    "\n",
    "**Шаг 2. Приоритизация гипотез.**\n",
    "1. Применим фреймворк ICE для приоритизации гипотез. Отсортируем их по убыванию приоритета.\n",
    "2. Применим фреймворк RICE для приоритизации гипотез. Отсортируем их по убыванию приоритета.\n",
    "3. Укажем, как изменилась приоритизация гипотез при применении RICE вместо ICE. Объясним, почему так произошло.\n",
    "\n",
    "**Шаг 3. Анализ А/В-теста**\n",
    "1. Постройте график кумулятивной выручки по группам. Сделайте выводы и предположения.\n",
    "2. Постройте график кумулятивного среднего чека по группам. Сделайте выводы и предположения.\n",
    "3. Постройте график относительного изменения кумулятивного среднего чека группы B к группе A. Сделайте выводы и предположения.\n",
    "4. Постройте график кумулятивного среднего количества заказов на посетителя по группам. Сделайте выводы и предположения.\n",
    "5. Постройте график относительного изменения кумулятивного среднего количества заказов на посетителя группы B к группе A. Сделайте выводы и предположения.\n",
    "6. Постройте точечный график количества заказов по пользователям. Сделайте выводы и предположения.\n",
    "7. Посчитайте 95-й и 99-й перцентили количества заказов на пользователя. Выберите границу для определения аномальных пользователей.\n",
    "8. Постройте точечный график стоимостей заказов. Сделайте выводы и предположения.\n",
    "9. Посчитайте 95-й и 99-й перцентили стоимости заказов. Выберите границу для определения аномальных заказов.\n",
    "10. Посчитайте статистическую значимость различий в среднем количестве заказов на посетителя между группами по «сырым» данным. Сделайте выводы и предположения.\n",
    "11. Посчитайте статистическую значимость различий в среднем чеке заказа между группами по «сырым» данным. Сделайте выводы и предположения.\n",
    "12. Посчитайте статистическую значимость различий в среднем количестве заказов на посетителя между группами по «очищенным» данным. Сделайте выводы и предположения.\n",
    "13. Посчитайте статистическую значимость различий в среднем чеке заказа между группами по «очищенным» данным. Сделайте выводы и предположения.\n",
    "14. Примите решение по результатам теста и объясните его:\n",
    "- остановить тест, зафиксировать победу одной из групп;\n",
    "- остановить тест, зафиксировать отсутствие различий между группами;\n",
    "- продолжить тест.\n"
   ]
  },
  {
   "cell_type": "markdown",
   "metadata": {},
   "source": [
    "**Шаг 1. Загрузка библиотек и предобработка данных.**"
   ]
  },
  {
   "cell_type": "code",
   "execution_count": 1,
   "metadata": {},
   "outputs": [],
   "source": [
    "# Импортируем библиотеки\n",
    "import pandas as pd\n",
    "import matplotlib.pyplot as plt\n",
    "import numpy as np\n",
    "import seaborn as sns\n",
    "import datetime as dt\n",
    "import scipy.stats as stats\n",
    "from scipy import stats as st\n",
    "import math as mth"
   ]
  },
  {
   "cell_type": "markdown",
   "metadata": {},
   "source": [
    "Предобработаем датасет hypothesis."
   ]
  },
  {
   "cell_type": "code",
   "execution_count": 2,
   "metadata": {},
   "outputs": [
    {
     "name": "stdout",
     "output_type": "stream",
     "text": [
      "<class 'pandas.core.frame.DataFrame'>\n",
      "RangeIndex: 9 entries, 0 to 8\n",
      "Data columns (total 5 columns):\n",
      " #   Column      Non-Null Count  Dtype \n",
      "---  ------      --------------  ----- \n",
      " 0   Hypothesis  9 non-null      object\n",
      " 1   Reach       9 non-null      int64 \n",
      " 2   Impact      9 non-null      int64 \n",
      " 3   Confidence  9 non-null      int64 \n",
      " 4   Efforts     9 non-null      int64 \n",
      "dtypes: int64(4), object(1)\n",
      "memory usage: 488.0+ bytes\n"
     ]
    },
    {
     "data": {
      "text/html": [
       "<div>\n",
       "<style scoped>\n",
       "    .dataframe tbody tr th:only-of-type {\n",
       "        vertical-align: middle;\n",
       "    }\n",
       "\n",
       "    .dataframe tbody tr th {\n",
       "        vertical-align: top;\n",
       "    }\n",
       "\n",
       "    .dataframe thead th {\n",
       "        text-align: right;\n",
       "    }\n",
       "</style>\n",
       "<table border=\"1\" class=\"dataframe\">\n",
       "  <thead>\n",
       "    <tr style=\"text-align: right;\">\n",
       "      <th></th>\n",
       "      <th>Hypothesis</th>\n",
       "      <th>Reach</th>\n",
       "      <th>Impact</th>\n",
       "      <th>Confidence</th>\n",
       "      <th>Efforts</th>\n",
       "    </tr>\n",
       "  </thead>\n",
       "  <tbody>\n",
       "    <tr>\n",
       "      <th>0</th>\n",
       "      <td>Добавить два новых канала привлечения трафика,...</td>\n",
       "      <td>3</td>\n",
       "      <td>10</td>\n",
       "      <td>8</td>\n",
       "      <td>6</td>\n",
       "    </tr>\n",
       "    <tr>\n",
       "      <th>1</th>\n",
       "      <td>Запустить собственную службу доставки, что сок...</td>\n",
       "      <td>2</td>\n",
       "      <td>5</td>\n",
       "      <td>4</td>\n",
       "      <td>10</td>\n",
       "    </tr>\n",
       "    <tr>\n",
       "      <th>2</th>\n",
       "      <td>Добавить блоки рекомендаций товаров на сайт ин...</td>\n",
       "      <td>8</td>\n",
       "      <td>3</td>\n",
       "      <td>7</td>\n",
       "      <td>3</td>\n",
       "    </tr>\n",
       "    <tr>\n",
       "      <th>3</th>\n",
       "      <td>Изменить структура категорий, что увеличит кон...</td>\n",
       "      <td>8</td>\n",
       "      <td>3</td>\n",
       "      <td>3</td>\n",
       "      <td>8</td>\n",
       "    </tr>\n",
       "    <tr>\n",
       "      <th>4</th>\n",
       "      <td>Изменить цвет фона главной страницы, чтобы уве...</td>\n",
       "      <td>3</td>\n",
       "      <td>1</td>\n",
       "      <td>1</td>\n",
       "      <td>1</td>\n",
       "    </tr>\n",
       "  </tbody>\n",
       "</table>\n",
       "</div>"
      ],
      "text/plain": [
       "                                          Hypothesis  Reach  Impact  \\\n",
       "0  Добавить два новых канала привлечения трафика,...      3      10   \n",
       "1  Запустить собственную службу доставки, что сок...      2       5   \n",
       "2  Добавить блоки рекомендаций товаров на сайт ин...      8       3   \n",
       "3  Изменить структура категорий, что увеличит кон...      8       3   \n",
       "4  Изменить цвет фона главной страницы, чтобы уве...      3       1   \n",
       "\n",
       "   Confidence  Efforts  \n",
       "0           8        6  \n",
       "1           4       10  \n",
       "2           7        3  \n",
       "3           3        8  \n",
       "4           1        1  "
      ]
     },
     "execution_count": 2,
     "metadata": {},
     "output_type": "execute_result"
    }
   ],
   "source": [
    "# Загрузим датасет hypothesis и узнаем информацию о нем\n",
    "hypothesis = pd.read_csv('/datasets/hypothesis.csv')\n",
    "hypothesis.info()\n",
    "hypothesis.head(5)"
   ]
  },
  {
   "cell_type": "code",
   "execution_count": 3,
   "metadata": {},
   "outputs": [
    {
     "data": {
      "text/plain": [
       "0"
      ]
     },
     "execution_count": 3,
     "metadata": {},
     "output_type": "execute_result"
    }
   ],
   "source": [
    "# Проверим дубликаты\n",
    "hypothesis.duplicated().sum()"
   ]
  },
  {
   "cell_type": "markdown",
   "metadata": {},
   "source": [
    "Предобработаем датасет orders."
   ]
  },
  {
   "cell_type": "code",
   "execution_count": 4,
   "metadata": {},
   "outputs": [
    {
     "name": "stdout",
     "output_type": "stream",
     "text": [
      "<class 'pandas.core.frame.DataFrame'>\n",
      "RangeIndex: 1197 entries, 0 to 1196\n",
      "Data columns (total 5 columns):\n",
      " #   Column         Non-Null Count  Dtype \n",
      "---  ------         --------------  ----- \n",
      " 0   transactionId  1197 non-null   int64 \n",
      " 1   visitorId      1197 non-null   int64 \n",
      " 2   date           1197 non-null   object\n",
      " 3   revenue        1197 non-null   int64 \n",
      " 4   group          1197 non-null   object\n",
      "dtypes: int64(3), object(2)\n",
      "memory usage: 46.9+ KB\n"
     ]
    },
    {
     "data": {
      "text/html": [
       "<div>\n",
       "<style scoped>\n",
       "    .dataframe tbody tr th:only-of-type {\n",
       "        vertical-align: middle;\n",
       "    }\n",
       "\n",
       "    .dataframe tbody tr th {\n",
       "        vertical-align: top;\n",
       "    }\n",
       "\n",
       "    .dataframe thead th {\n",
       "        text-align: right;\n",
       "    }\n",
       "</style>\n",
       "<table border=\"1\" class=\"dataframe\">\n",
       "  <thead>\n",
       "    <tr style=\"text-align: right;\">\n",
       "      <th></th>\n",
       "      <th>transactionId</th>\n",
       "      <th>visitorId</th>\n",
       "      <th>date</th>\n",
       "      <th>revenue</th>\n",
       "      <th>group</th>\n",
       "    </tr>\n",
       "  </thead>\n",
       "  <tbody>\n",
       "    <tr>\n",
       "      <th>0</th>\n",
       "      <td>3667963787</td>\n",
       "      <td>3312258926</td>\n",
       "      <td>2019-08-15</td>\n",
       "      <td>1650</td>\n",
       "      <td>B</td>\n",
       "    </tr>\n",
       "    <tr>\n",
       "      <th>1</th>\n",
       "      <td>2804400009</td>\n",
       "      <td>3642806036</td>\n",
       "      <td>2019-08-15</td>\n",
       "      <td>730</td>\n",
       "      <td>B</td>\n",
       "    </tr>\n",
       "    <tr>\n",
       "      <th>2</th>\n",
       "      <td>2961555356</td>\n",
       "      <td>4069496402</td>\n",
       "      <td>2019-08-15</td>\n",
       "      <td>400</td>\n",
       "      <td>A</td>\n",
       "    </tr>\n",
       "    <tr>\n",
       "      <th>3</th>\n",
       "      <td>3797467345</td>\n",
       "      <td>1196621759</td>\n",
       "      <td>2019-08-15</td>\n",
       "      <td>9759</td>\n",
       "      <td>B</td>\n",
       "    </tr>\n",
       "    <tr>\n",
       "      <th>4</th>\n",
       "      <td>2282983706</td>\n",
       "      <td>2322279887</td>\n",
       "      <td>2019-08-15</td>\n",
       "      <td>2308</td>\n",
       "      <td>B</td>\n",
       "    </tr>\n",
       "  </tbody>\n",
       "</table>\n",
       "</div>"
      ],
      "text/plain": [
       "   transactionId   visitorId        date  revenue group\n",
       "0     3667963787  3312258926  2019-08-15     1650     B\n",
       "1     2804400009  3642806036  2019-08-15      730     B\n",
       "2     2961555356  4069496402  2019-08-15      400     A\n",
       "3     3797467345  1196621759  2019-08-15     9759     B\n",
       "4     2282983706  2322279887  2019-08-15     2308     B"
      ]
     },
     "execution_count": 4,
     "metadata": {},
     "output_type": "execute_result"
    }
   ],
   "source": [
    "# Загрузим датасет orders и узнаем информацию о нем\n",
    "orders = pd.read_csv('/datasets/orders.csv')\n",
    "orders.info()\n",
    "orders.head(5)"
   ]
  },
  {
   "cell_type": "code",
   "execution_count": 5,
   "metadata": {},
   "outputs": [
    {
     "data": {
      "text/plain": [
       "0"
      ]
     },
     "execution_count": 5,
     "metadata": {},
     "output_type": "execute_result"
    }
   ],
   "source": [
    "# Проверим дубликаты\n",
    "orders.duplicated().sum()"
   ]
  },
  {
   "cell_type": "code",
   "execution_count": 6,
   "metadata": {},
   "outputs": [],
   "source": [
    "# Поменяем тип данных столбца date на datetime64\n",
    "orders['date'] = pd.to_datetime(orders['date'])"
   ]
  },
  {
   "cell_type": "code",
   "execution_count": 7,
   "metadata": {},
   "outputs": [
    {
     "name": "stdout",
     "output_type": "stream",
     "text": [
      "<class 'pandas.core.frame.DataFrame'>\n",
      "RangeIndex: 1197 entries, 0 to 1196\n",
      "Data columns (total 5 columns):\n",
      " #   Column         Non-Null Count  Dtype         \n",
      "---  ------         --------------  -----         \n",
      " 0   transactionId  1197 non-null   int64         \n",
      " 1   visitorId      1197 non-null   int64         \n",
      " 2   date           1197 non-null   datetime64[ns]\n",
      " 3   revenue        1197 non-null   int64         \n",
      " 4   group          1197 non-null   object        \n",
      "dtypes: datetime64[ns](1), int64(3), object(1)\n",
      "memory usage: 46.9+ KB\n"
     ]
    }
   ],
   "source": [
    "# Проверим изменение\n",
    "orders.info()"
   ]
  },
  {
   "cell_type": "markdown",
   "metadata": {},
   "source": [
    "Предобработаем датасет visitors."
   ]
  },
  {
   "cell_type": "code",
   "execution_count": 8,
   "metadata": {},
   "outputs": [
    {
     "name": "stdout",
     "output_type": "stream",
     "text": [
      "<class 'pandas.core.frame.DataFrame'>\n",
      "RangeIndex: 62 entries, 0 to 61\n",
      "Data columns (total 3 columns):\n",
      " #   Column    Non-Null Count  Dtype \n",
      "---  ------    --------------  ----- \n",
      " 0   date      62 non-null     object\n",
      " 1   group     62 non-null     object\n",
      " 2   visitors  62 non-null     int64 \n",
      "dtypes: int64(1), object(2)\n",
      "memory usage: 1.6+ KB\n"
     ]
    },
    {
     "data": {
      "text/html": [
       "<div>\n",
       "<style scoped>\n",
       "    .dataframe tbody tr th:only-of-type {\n",
       "        vertical-align: middle;\n",
       "    }\n",
       "\n",
       "    .dataframe tbody tr th {\n",
       "        vertical-align: top;\n",
       "    }\n",
       "\n",
       "    .dataframe thead th {\n",
       "        text-align: right;\n",
       "    }\n",
       "</style>\n",
       "<table border=\"1\" class=\"dataframe\">\n",
       "  <thead>\n",
       "    <tr style=\"text-align: right;\">\n",
       "      <th></th>\n",
       "      <th>date</th>\n",
       "      <th>group</th>\n",
       "      <th>visitors</th>\n",
       "    </tr>\n",
       "  </thead>\n",
       "  <tbody>\n",
       "    <tr>\n",
       "      <th>0</th>\n",
       "      <td>2019-08-01</td>\n",
       "      <td>A</td>\n",
       "      <td>719</td>\n",
       "    </tr>\n",
       "    <tr>\n",
       "      <th>1</th>\n",
       "      <td>2019-08-02</td>\n",
       "      <td>A</td>\n",
       "      <td>619</td>\n",
       "    </tr>\n",
       "    <tr>\n",
       "      <th>2</th>\n",
       "      <td>2019-08-03</td>\n",
       "      <td>A</td>\n",
       "      <td>507</td>\n",
       "    </tr>\n",
       "    <tr>\n",
       "      <th>3</th>\n",
       "      <td>2019-08-04</td>\n",
       "      <td>A</td>\n",
       "      <td>717</td>\n",
       "    </tr>\n",
       "    <tr>\n",
       "      <th>4</th>\n",
       "      <td>2019-08-05</td>\n",
       "      <td>A</td>\n",
       "      <td>756</td>\n",
       "    </tr>\n",
       "  </tbody>\n",
       "</table>\n",
       "</div>"
      ],
      "text/plain": [
       "         date group  visitors\n",
       "0  2019-08-01     A       719\n",
       "1  2019-08-02     A       619\n",
       "2  2019-08-03     A       507\n",
       "3  2019-08-04     A       717\n",
       "4  2019-08-05     A       756"
      ]
     },
     "execution_count": 8,
     "metadata": {},
     "output_type": "execute_result"
    }
   ],
   "source": [
    "# Загрузим датасет visitors и узнаем информацию о нем\n",
    "visitors = pd.read_csv('/datasets/visitors.csv')\n",
    "visitors.info()\n",
    "visitors.head(5)"
   ]
  },
  {
   "cell_type": "code",
   "execution_count": 9,
   "metadata": {},
   "outputs": [
    {
     "data": {
      "text/plain": [
       "0"
      ]
     },
     "execution_count": 9,
     "metadata": {},
     "output_type": "execute_result"
    }
   ],
   "source": [
    "# Проверим дубликаты\n",
    "visitors.duplicated().sum()"
   ]
  },
  {
   "cell_type": "code",
   "execution_count": 10,
   "metadata": {},
   "outputs": [],
   "source": [
    "# Поменяем тип данных столбца date на datetime64\n",
    "visitors['date'] = pd.to_datetime(visitors['date'])"
   ]
  },
  {
   "cell_type": "code",
   "execution_count": 11,
   "metadata": {
    "scrolled": true
   },
   "outputs": [
    {
     "name": "stdout",
     "output_type": "stream",
     "text": [
      "<class 'pandas.core.frame.DataFrame'>\n",
      "RangeIndex: 62 entries, 0 to 61\n",
      "Data columns (total 3 columns):\n",
      " #   Column    Non-Null Count  Dtype         \n",
      "---  ------    --------------  -----         \n",
      " 0   date      62 non-null     datetime64[ns]\n",
      " 1   group     62 non-null     object        \n",
      " 2   visitors  62 non-null     int64         \n",
      "dtypes: datetime64[ns](1), int64(1), object(1)\n",
      "memory usage: 1.6+ KB\n"
     ]
    }
   ],
   "source": [
    "# Проверим изменение\n",
    "visitors.info()"
   ]
  },
  {
   "cell_type": "markdown",
   "metadata": {},
   "source": [
    "**Вывод**\n",
    "\n",
    "Изучили данные. Изменили тип данных столбца date с object на datetime64 в датасетах **orders** и **visitors**. Дубликатов и пропусков нет."
   ]
  },
  {
   "cell_type": "code",
   "execution_count": 12,
   "metadata": {},
   "outputs": [
    {
     "data": {
      "text/plain": [
       "1031"
      ]
     },
     "execution_count": 12,
     "metadata": {},
     "output_type": "execute_result"
    }
   ],
   "source": [
    "# Считаем количество уникальных пользователей участвующих в тесте\n",
    "orders['visitorId'].nunique()"
   ]
  },
  {
   "cell_type": "code",
   "execution_count": 13,
   "metadata": {},
   "outputs": [
    {
     "data": {
      "text/plain": [
       "group\n",
       "A    503\n",
       "B    586\n",
       "Name: visitorId, dtype: int64"
      ]
     },
     "execution_count": 13,
     "metadata": {},
     "output_type": "execute_result"
    }
   ],
   "source": [
    "# Считаем как разбиты по группам пользователи\n",
    "orders.groupby('group')['visitorId'].nunique()"
   ]
  },
  {
   "cell_type": "markdown",
   "metadata": {},
   "source": [
    "Посчитали количество пользователей, участвующих в тесте и как они разбиты по группам. Группы распределены не равномерно. Так же видим, что разбив пользователей по группам, сумма пользователей вышла больше, чем посчитано уникальных пользователей. Значит есть пользователи, которые входят в обе группы."
   ]
  },
  {
   "cell_type": "code",
   "execution_count": 14,
   "metadata": {},
   "outputs": [
    {
     "data": {
      "text/plain": [
       "58"
      ]
     },
     "execution_count": 14,
     "metadata": {},
     "output_type": "execute_result"
    }
   ],
   "source": [
    "# Проверим есть ли пользователи которые входят в обе группы\n",
    "orders_a = orders[orders['group'] == 'A']['visitorId']\n",
    "orders_b = orders[orders['group'] == 'B']['visitorId']\n",
    "orders_ab = orders.query('visitorId in @orders_a and visitorId in @orders_b')\n",
    "orders_ab['visitorId'].nunique()"
   ]
  },
  {
   "cell_type": "markdown",
   "metadata": {},
   "source": [
    "Видим, что есть пользователи, которые входят в обе группы. Обычно, таких пользователей вычищают при анализе."
   ]
  },
  {
   "cell_type": "markdown",
   "metadata": {},
   "source": [
    "**Шаг 2. Приоритизация гипотез.**"
   ]
  },
  {
   "cell_type": "markdown",
   "metadata": {},
   "source": [
    "1. Применим фреймворк ICE для приоритизации гипотез. Отсортируем их по убыванию приоритета."
   ]
  },
  {
   "cell_type": "code",
   "execution_count": 15,
   "metadata": {},
   "outputs": [
    {
     "data": {
      "text/html": [
       "<div>\n",
       "<style scoped>\n",
       "    .dataframe tbody tr th:only-of-type {\n",
       "        vertical-align: middle;\n",
       "    }\n",
       "\n",
       "    .dataframe tbody tr th {\n",
       "        vertical-align: top;\n",
       "    }\n",
       "\n",
       "    .dataframe thead th {\n",
       "        text-align: right;\n",
       "    }\n",
       "</style>\n",
       "<table border=\"1\" class=\"dataframe\">\n",
       "  <thead>\n",
       "    <tr style=\"text-align: right;\">\n",
       "      <th></th>\n",
       "      <th>Hypothesis</th>\n",
       "      <th>Reach</th>\n",
       "      <th>Impact</th>\n",
       "      <th>Confidence</th>\n",
       "      <th>Efforts</th>\n",
       "      <th>Ice</th>\n",
       "    </tr>\n",
       "  </thead>\n",
       "  <tbody>\n",
       "    <tr>\n",
       "      <th>8</th>\n",
       "      <td>Запустить акцию, дающую скидку на товар в день рождения</td>\n",
       "      <td>1</td>\n",
       "      <td>9</td>\n",
       "      <td>9</td>\n",
       "      <td>5</td>\n",
       "      <td>16.2</td>\n",
       "    </tr>\n",
       "    <tr>\n",
       "      <th>0</th>\n",
       "      <td>Добавить два новых канала привлечения трафика, что позволит привлекать на 30% больше пользователей</td>\n",
       "      <td>3</td>\n",
       "      <td>10</td>\n",
       "      <td>8</td>\n",
       "      <td>6</td>\n",
       "      <td>13.3</td>\n",
       "    </tr>\n",
       "    <tr>\n",
       "      <th>7</th>\n",
       "      <td>Добавить форму подписки на все основные страницы, чтобы собрать базу клиентов для email-рассылок</td>\n",
       "      <td>10</td>\n",
       "      <td>7</td>\n",
       "      <td>8</td>\n",
       "      <td>5</td>\n",
       "      <td>11.2</td>\n",
       "    </tr>\n",
       "    <tr>\n",
       "      <th>6</th>\n",
       "      <td>Показать на главной странице баннеры с актуальными акциями и распродажами, чтобы увеличить конверсию</td>\n",
       "      <td>5</td>\n",
       "      <td>3</td>\n",
       "      <td>8</td>\n",
       "      <td>3</td>\n",
       "      <td>8.0</td>\n",
       "    </tr>\n",
       "    <tr>\n",
       "      <th>2</th>\n",
       "      <td>Добавить блоки рекомендаций товаров на сайт интернет магазина, чтобы повысить конверсию и средний чек заказа</td>\n",
       "      <td>8</td>\n",
       "      <td>3</td>\n",
       "      <td>7</td>\n",
       "      <td>3</td>\n",
       "      <td>7.0</td>\n",
       "    </tr>\n",
       "    <tr>\n",
       "      <th>1</th>\n",
       "      <td>Запустить собственную службу доставки, что сократит срок доставки заказов</td>\n",
       "      <td>2</td>\n",
       "      <td>5</td>\n",
       "      <td>4</td>\n",
       "      <td>10</td>\n",
       "      <td>2.0</td>\n",
       "    </tr>\n",
       "    <tr>\n",
       "      <th>5</th>\n",
       "      <td>Добавить страницу отзывов клиентов о магазине, что позволит увеличить количество заказов</td>\n",
       "      <td>3</td>\n",
       "      <td>2</td>\n",
       "      <td>2</td>\n",
       "      <td>3</td>\n",
       "      <td>1.3</td>\n",
       "    </tr>\n",
       "    <tr>\n",
       "      <th>3</th>\n",
       "      <td>Изменить структура категорий, что увеличит конверсию, т.к. пользователи быстрее найдут нужный товар</td>\n",
       "      <td>8</td>\n",
       "      <td>3</td>\n",
       "      <td>3</td>\n",
       "      <td>8</td>\n",
       "      <td>1.1</td>\n",
       "    </tr>\n",
       "    <tr>\n",
       "      <th>4</th>\n",
       "      <td>Изменить цвет фона главной страницы, чтобы увеличить вовлеченность пользователей</td>\n",
       "      <td>3</td>\n",
       "      <td>1</td>\n",
       "      <td>1</td>\n",
       "      <td>1</td>\n",
       "      <td>1.0</td>\n",
       "    </tr>\n",
       "  </tbody>\n",
       "</table>\n",
       "</div>"
      ],
      "text/plain": [
       "                                                                                                     Hypothesis  \\\n",
       "8  Запустить акцию, дающую скидку на товар в день рождения                                                        \n",
       "0  Добавить два новых канала привлечения трафика, что позволит привлекать на 30% больше пользователей             \n",
       "7  Добавить форму подписки на все основные страницы, чтобы собрать базу клиентов для email-рассылок               \n",
       "6  Показать на главной странице баннеры с актуальными акциями и распродажами, чтобы увеличить конверсию           \n",
       "2  Добавить блоки рекомендаций товаров на сайт интернет магазина, чтобы повысить конверсию и средний чек заказа   \n",
       "1  Запустить собственную службу доставки, что сократит срок доставки заказов                                      \n",
       "5  Добавить страницу отзывов клиентов о магазине, что позволит увеличить количество заказов                       \n",
       "3  Изменить структура категорий, что увеличит конверсию, т.к. пользователи быстрее найдут нужный товар            \n",
       "4  Изменить цвет фона главной страницы, чтобы увеличить вовлеченность пользователей                               \n",
       "\n",
       "   Reach  Impact  Confidence  Efforts   Ice  \n",
       "8  1      9       9           5        16.2  \n",
       "0  3      10      8           6        13.3  \n",
       "7  10     7       8           5        11.2  \n",
       "6  5      3       8           3        8.0   \n",
       "2  8      3       7           3        7.0   \n",
       "1  2      5       4           10       2.0   \n",
       "5  3      2       2           3        1.3   \n",
       "3  8      3       3           8        1.1   \n",
       "4  3      1       1           1        1.0   "
      ]
     },
     "execution_count": 15,
     "metadata": {},
     "output_type": "execute_result"
    }
   ],
   "source": [
    "pd.set_option('display.max_colwidth', 0)\n",
    "hypothesis['Ice'] = (hypothesis['Impact'] * hypothesis['Confidence'] / hypothesis['Efforts']).round(1)\n",
    "hypothesis.sort_values(by='Ice', ascending =False)"
   ]
  },
  {
   "cell_type": "markdown",
   "metadata": {},
   "source": [
    "**Вывод:**\n",
    "\n",
    "Приоритетными гипотезы по ICE оказались:\n",
    "- Запустить акцию, дающую скидку на товар в день рождения.\n",
    "- Добавить два новых канала привлечения трафика, что позволит привлекать на 30% больше пользователей.\n",
    "- Добавить форму подписки на все основные страницы, чтобы собрать базу клиентов для email-рассылок."
   ]
  },
  {
   "cell_type": "markdown",
   "metadata": {},
   "source": [
    "2. Применим фреймворк RICE для приоритизации гипотез. Отсортируем их по убыванию приоритета."
   ]
  },
  {
   "cell_type": "code",
   "execution_count": 16,
   "metadata": {},
   "outputs": [
    {
     "data": {
      "text/html": [
       "<div>\n",
       "<style scoped>\n",
       "    .dataframe tbody tr th:only-of-type {\n",
       "        vertical-align: middle;\n",
       "    }\n",
       "\n",
       "    .dataframe tbody tr th {\n",
       "        vertical-align: top;\n",
       "    }\n",
       "\n",
       "    .dataframe thead th {\n",
       "        text-align: right;\n",
       "    }\n",
       "</style>\n",
       "<table border=\"1\" class=\"dataframe\">\n",
       "  <thead>\n",
       "    <tr style=\"text-align: right;\">\n",
       "      <th></th>\n",
       "      <th>Hypothesis</th>\n",
       "      <th>Reach</th>\n",
       "      <th>Impact</th>\n",
       "      <th>Confidence</th>\n",
       "      <th>Efforts</th>\n",
       "      <th>Ice</th>\n",
       "      <th>Rice</th>\n",
       "    </tr>\n",
       "  </thead>\n",
       "  <tbody>\n",
       "    <tr>\n",
       "      <th>7</th>\n",
       "      <td>Добавить форму подписки на все основные страницы, чтобы собрать базу клиентов для email-рассылок</td>\n",
       "      <td>10</td>\n",
       "      <td>7</td>\n",
       "      <td>8</td>\n",
       "      <td>5</td>\n",
       "      <td>11.2</td>\n",
       "      <td>112.0</td>\n",
       "    </tr>\n",
       "    <tr>\n",
       "      <th>2</th>\n",
       "      <td>Добавить блоки рекомендаций товаров на сайт интернет магазина, чтобы повысить конверсию и средний чек заказа</td>\n",
       "      <td>8</td>\n",
       "      <td>3</td>\n",
       "      <td>7</td>\n",
       "      <td>3</td>\n",
       "      <td>7.0</td>\n",
       "      <td>56.0</td>\n",
       "    </tr>\n",
       "    <tr>\n",
       "      <th>0</th>\n",
       "      <td>Добавить два новых канала привлечения трафика, что позволит привлекать на 30% больше пользователей</td>\n",
       "      <td>3</td>\n",
       "      <td>10</td>\n",
       "      <td>8</td>\n",
       "      <td>6</td>\n",
       "      <td>13.3</td>\n",
       "      <td>40.0</td>\n",
       "    </tr>\n",
       "    <tr>\n",
       "      <th>6</th>\n",
       "      <td>Показать на главной странице баннеры с актуальными акциями и распродажами, чтобы увеличить конверсию</td>\n",
       "      <td>5</td>\n",
       "      <td>3</td>\n",
       "      <td>8</td>\n",
       "      <td>3</td>\n",
       "      <td>8.0</td>\n",
       "      <td>40.0</td>\n",
       "    </tr>\n",
       "    <tr>\n",
       "      <th>8</th>\n",
       "      <td>Запустить акцию, дающую скидку на товар в день рождения</td>\n",
       "      <td>1</td>\n",
       "      <td>9</td>\n",
       "      <td>9</td>\n",
       "      <td>5</td>\n",
       "      <td>16.2</td>\n",
       "      <td>16.2</td>\n",
       "    </tr>\n",
       "    <tr>\n",
       "      <th>3</th>\n",
       "      <td>Изменить структура категорий, что увеличит конверсию, т.к. пользователи быстрее найдут нужный товар</td>\n",
       "      <td>8</td>\n",
       "      <td>3</td>\n",
       "      <td>3</td>\n",
       "      <td>8</td>\n",
       "      <td>1.1</td>\n",
       "      <td>9.0</td>\n",
       "    </tr>\n",
       "    <tr>\n",
       "      <th>1</th>\n",
       "      <td>Запустить собственную службу доставки, что сократит срок доставки заказов</td>\n",
       "      <td>2</td>\n",
       "      <td>5</td>\n",
       "      <td>4</td>\n",
       "      <td>10</td>\n",
       "      <td>2.0</td>\n",
       "      <td>4.0</td>\n",
       "    </tr>\n",
       "    <tr>\n",
       "      <th>5</th>\n",
       "      <td>Добавить страницу отзывов клиентов о магазине, что позволит увеличить количество заказов</td>\n",
       "      <td>3</td>\n",
       "      <td>2</td>\n",
       "      <td>2</td>\n",
       "      <td>3</td>\n",
       "      <td>1.3</td>\n",
       "      <td>4.0</td>\n",
       "    </tr>\n",
       "    <tr>\n",
       "      <th>4</th>\n",
       "      <td>Изменить цвет фона главной страницы, чтобы увеличить вовлеченность пользователей</td>\n",
       "      <td>3</td>\n",
       "      <td>1</td>\n",
       "      <td>1</td>\n",
       "      <td>1</td>\n",
       "      <td>1.0</td>\n",
       "      <td>3.0</td>\n",
       "    </tr>\n",
       "  </tbody>\n",
       "</table>\n",
       "</div>"
      ],
      "text/plain": [
       "                                                                                                     Hypothesis  \\\n",
       "7  Добавить форму подписки на все основные страницы, чтобы собрать базу клиентов для email-рассылок               \n",
       "2  Добавить блоки рекомендаций товаров на сайт интернет магазина, чтобы повысить конверсию и средний чек заказа   \n",
       "0  Добавить два новых канала привлечения трафика, что позволит привлекать на 30% больше пользователей             \n",
       "6  Показать на главной странице баннеры с актуальными акциями и распродажами, чтобы увеличить конверсию           \n",
       "8  Запустить акцию, дающую скидку на товар в день рождения                                                        \n",
       "3  Изменить структура категорий, что увеличит конверсию, т.к. пользователи быстрее найдут нужный товар            \n",
       "1  Запустить собственную службу доставки, что сократит срок доставки заказов                                      \n",
       "5  Добавить страницу отзывов клиентов о магазине, что позволит увеличить количество заказов                       \n",
       "4  Изменить цвет фона главной страницы, чтобы увеличить вовлеченность пользователей                               \n",
       "\n",
       "   Reach  Impact  Confidence  Efforts   Ice   Rice  \n",
       "7  10     7       8           5        11.2  112.0  \n",
       "2  8      3       7           3        7.0   56.0   \n",
       "0  3      10      8           6        13.3  40.0   \n",
       "6  5      3       8           3        8.0   40.0   \n",
       "8  1      9       9           5        16.2  16.2   \n",
       "3  8      3       3           8        1.1   9.0    \n",
       "1  2      5       4           10       2.0   4.0    \n",
       "5  3      2       2           3        1.3   4.0    \n",
       "4  3      1       1           1        1.0   3.0    "
      ]
     },
     "execution_count": 16,
     "metadata": {},
     "output_type": "execute_result"
    }
   ],
   "source": [
    "hypothesis['Rice'] = ((hypothesis['Reach'] * hypothesis['Impact'] * hypothesis['Confidence']) / hypothesis['Efforts']).round(1)\n",
    "hypothesis.sort_values(by='Rice', ascending=False)"
   ]
  },
  {
   "cell_type": "markdown",
   "metadata": {},
   "source": [
    "**Вывод:**\n",
    "\n",
    "Приоритетными гипотезы по RICE оказались:\n",
    "- Добавить форму подписки на все основные страницы, чтобы собрать базу клиентов для email-рассылок.\n",
    "- Добавить блоки рекомендаций товаров на сайт интернет магазина, чтобы повысить конверсию и средний чек заказа.\n",
    "- Добавить два новых канала привлечения трафика, что позволит привлекать на 30% больше пользователей."
   ]
  },
  {
   "cell_type": "markdown",
   "metadata": {},
   "source": [
    "3. Укажем, как изменилась приоритизация гипотез при применении RICE вместо ICE. Объясним, почему так произошло."
   ]
  },
  {
   "cell_type": "markdown",
   "metadata": {},
   "source": [
    "**Приоритетными гипотезы по ICE оказались:**\n",
    "- Запустить акцию, дающую скидку на товар в день рождения.\n",
    "- Добавить два новых канала привлечения трафика, что позволит привлекать на 30% больше пользователей.\n",
    "- Добавить форму подписки на все основные страницы, чтобы собрать базу клиентов для email-рассылок.\n",
    "\n",
    "**Приоритетными гипотезы по RICE оказались:**\n",
    "\n",
    "- Добавить форму подписки на все основные страницы, чтобы собрать базу клиентов для email-рассылок.\n",
    "- Добавить блоки рекомендаций товаров на сайт интернет магазина, чтобы повысить конверсию и средний чек заказа.\n",
    "- Добавить два новых канала привлечения трафика, что позволит привлекать на 30% больше пользователей.\n",
    "\n",
    "Приоритетные гипотезы по применимым фреймворкам ICE и RICE разные из-за того, что фреймворк RICE учитывает охват пользователей по 10-балльной шкале (параметр Reach), он повлиял на приоритетность гипотез."
   ]
  },
  {
   "cell_type": "markdown",
   "metadata": {},
   "source": [
    "**Шаг 3. Анализ А/В-теста**"
   ]
  },
  {
   "cell_type": "code",
   "execution_count": 17,
   "metadata": {
    "scrolled": true
   },
   "outputs": [],
   "source": [
    "# Сделаем массив уникальных пар значений даты и группы\n",
    "ordersGroups = orders[['date', 'group']].drop_duplicates()\n",
    "\n",
    "# Получаем агрегированные кумулятивные по дням данные о заказах\n",
    "ordersAggregated = ordersGroups.apply(lambda x: orders[np.logical_and(orders['date'] <= x['date'], orders['group'] == x['group'])]\n",
    ".agg({'date' : 'max', 'group' : 'max', 'transactionId' : pd.Series.nunique, 'visitorId' : pd.Series.nunique, 'revenue' : 'sum'}), axis = 1).sort_values(by=['date','group'])\n",
    "\n",
    "# Получаем агрегированные кумулятивные по дням данные о посетителях\n",
    "visitorsAggregated = ordersGroups.apply(lambda x: visitors[np.logical_and(visitors['date'] <= x['date'], visitors['group'] == x['group'])]\n",
    ".agg({'date' : 'max', 'group' : 'max', 'visitors' : 'sum'}), axis = 1).sort_values(by=['date', 'group'])\n",
    "\n",
    "# Объединяем кумулятивные данных\n",
    "\n",
    "cummulativeDate = ordersAggregated.merge(visitorsAggregated, left_on = ['date', 'group'], right_on=['date', 'group'])\n",
    "cummulativeDate.columns = ['date', 'group', 'orders', 'buyers', 'revenue', 'visitors']"
   ]
  },
  {
   "cell_type": "code",
   "execution_count": 18,
   "metadata": {
    "scrolled": true
   },
   "outputs": [
    {
     "data": {
      "text/html": [
       "<div>\n",
       "<style scoped>\n",
       "    .dataframe tbody tr th:only-of-type {\n",
       "        vertical-align: middle;\n",
       "    }\n",
       "\n",
       "    .dataframe tbody tr th {\n",
       "        vertical-align: top;\n",
       "    }\n",
       "\n",
       "    .dataframe thead th {\n",
       "        text-align: right;\n",
       "    }\n",
       "</style>\n",
       "<table border=\"1\" class=\"dataframe\">\n",
       "  <thead>\n",
       "    <tr style=\"text-align: right;\">\n",
       "      <th></th>\n",
       "      <th>date</th>\n",
       "      <th>group</th>\n",
       "      <th>orders</th>\n",
       "      <th>buyers</th>\n",
       "      <th>revenue</th>\n",
       "      <th>visitors</th>\n",
       "    </tr>\n",
       "  </thead>\n",
       "  <tbody>\n",
       "    <tr>\n",
       "      <th>0</th>\n",
       "      <td>2019-08-01</td>\n",
       "      <td>A</td>\n",
       "      <td>24</td>\n",
       "      <td>20</td>\n",
       "      <td>148579</td>\n",
       "      <td>719</td>\n",
       "    </tr>\n",
       "    <tr>\n",
       "      <th>1</th>\n",
       "      <td>2019-08-01</td>\n",
       "      <td>B</td>\n",
       "      <td>21</td>\n",
       "      <td>20</td>\n",
       "      <td>101217</td>\n",
       "      <td>713</td>\n",
       "    </tr>\n",
       "    <tr>\n",
       "      <th>2</th>\n",
       "      <td>2019-08-02</td>\n",
       "      <td>A</td>\n",
       "      <td>44</td>\n",
       "      <td>38</td>\n",
       "      <td>242401</td>\n",
       "      <td>1338</td>\n",
       "    </tr>\n",
       "    <tr>\n",
       "      <th>3</th>\n",
       "      <td>2019-08-02</td>\n",
       "      <td>B</td>\n",
       "      <td>45</td>\n",
       "      <td>43</td>\n",
       "      <td>266748</td>\n",
       "      <td>1294</td>\n",
       "    </tr>\n",
       "    <tr>\n",
       "      <th>4</th>\n",
       "      <td>2019-08-03</td>\n",
       "      <td>A</td>\n",
       "      <td>68</td>\n",
       "      <td>62</td>\n",
       "      <td>354874</td>\n",
       "      <td>1845</td>\n",
       "    </tr>\n",
       "  </tbody>\n",
       "</table>\n",
       "</div>"
      ],
      "text/plain": [
       "        date group  orders  buyers  revenue  visitors\n",
       "0 2019-08-01  A     24      20      148579   719     \n",
       "1 2019-08-01  B     21      20      101217   713     \n",
       "2 2019-08-02  A     44      38      242401   1338    \n",
       "3 2019-08-02  B     45      43      266748   1294    \n",
       "4 2019-08-03  A     68      62      354874   1845    "
      ]
     },
     "execution_count": 18,
     "metadata": {},
     "output_type": "execute_result"
    }
   ],
   "source": [
    "# Посмотрим что получилось\n",
    "cummulativeDate.head()"
   ]
  },
  {
   "cell_type": "markdown",
   "metadata": {},
   "source": [
    "**1. Построим график кумулятивной выручки по группам. Сделаем выводы и предположения.**"
   ]
  },
  {
   "cell_type": "code",
   "execution_count": 19,
   "metadata": {},
   "outputs": [
    {
     "data": {
      "text/plain": [
       "<matplotlib.legend.Legend at 0x7fa01814a1f0>"
      ]
     },
     "execution_count": 19,
     "metadata": {},
     "output_type": "execute_result"
    },
    {
     "data": {
      "image/png": "[encoded data removed]",
      "text/plain": [
       "<Figure size 1080x720 with 1 Axes>"
      ]
     },
     "metadata": {
      "needs_background": "light"
     },
     "output_type": "display_data"
    }
   ],
   "source": [
    "# Датафрейм с кумулятивным количеством заказов и кумулятивной выручки по дням в группе А\n",
    "cummulativeRevenueA = cummulativeDate[cummulativeDate['group'] == 'A'][['date', 'revenue', 'orders']]\n",
    "\n",
    "# Датафрейм с кумулятивным количеством заказов и кумулятивной выручки по дням в группе B\n",
    "cummulativeRevenueB = cummulativeDate[cummulativeDate['group'] == 'B'][['date', 'revenue', 'orders']]\n",
    "\n",
    "# Настроим график\n",
    "plt.figure(figsize = (15,10))\n",
    "plt.xlabel('Дата')\n",
    "plt.ylabel('Выручка')\n",
    "plt.title('График кумулятивной выручки по группам А и В')\n",
    "# Построим график выручки группы А\n",
    "plt.plot(cummulativeRevenueA['date'], cummulativeRevenueA['revenue'], label = 'A')\n",
    "\n",
    "# Построим график выручки группы B\n",
    "plt.plot(cummulativeRevenueB['date'], cummulativeRevenueB['revenue'], label = 'B')\n",
    "\n",
    "plt.legend()"
   ]
  },
  {
   "cell_type": "markdown",
   "metadata": {},
   "source": [
    "**Вывод**\n",
    "\n",
    "В обоих группах выручка растет. В группе В выручки чуть больше, чем в группе А. Но, в группе В замечен сильный скачок между 18 и 20 августа. Возможно, в эти даты произошли очень дорогие заказы."
   ]
  },
  {
   "cell_type": "markdown",
   "metadata": {},
   "source": [
    "**2. Постром график кумулятивного среднего чека по группам. Сделаем выводы и предположения.**"
   ]
  },
  {
   "cell_type": "code",
   "execution_count": 20,
   "metadata": {},
   "outputs": [
    {
     "data": {
      "text/plain": [
       "<matplotlib.legend.Legend at 0x7fa01765a430>"
      ]
     },
     "execution_count": 20,
     "metadata": {},
     "output_type": "execute_result"
    },
    {
     "data": {
      "image/png": "[encoded data removed]",
      "text/plain": [
       "<Figure size 1080x720 with 1 Axes>"
      ]
     },
     "metadata": {
      "needs_background": "light"
     },
     "output_type": "display_data"
    }
   ],
   "source": [
    "# Настроим график\n",
    "plt.figure(figsize = (15,10))\n",
    "plt.xlabel('Дата')\n",
    "plt.ylabel('Средний чек')\n",
    "plt.title('График кумулятивного среднего чека по группам А и В')\n",
    "\n",
    "# Построим график среднего чека по группам\n",
    "plt.plot(cummulativeRevenueA['date'], cummulativeRevenueA['revenue'] / cummulativeRevenueA['orders'], label = 'A')\n",
    "plt.plot(cummulativeRevenueB['date'], cummulativeRevenueB['revenue'] / cummulativeRevenueB['orders'], label = 'B')\n",
    "plt.legend()"
   ]
  },
  {
   "cell_type": "markdown",
   "metadata": {},
   "source": [
    "**Вывод**\n",
    "\n",
    "График похож на график кумулятивной выручки. В первой половине месяца чек группы В был выше чем группы А. В районе 13 августа чек группы А был выше чека группы В, и в последующие даты чек группы А почти стабильно держался на одном уровне. На чек группы В сильно повлияли выброс, замеченный в графике кумулятивной выручки. Но потом, средний чек группы В начал снижаться. Есть предположение, что в итоге средний чек группы В продолжит снижение, но в итоге стабилизируется в районе среднего чека группы А."
   ]
  },
  {
   "cell_type": "markdown",
   "metadata": {},
   "source": [
    "**3. Построим график относительного изменения кумулятивного среднего чека группы B к группе A. Сделаем выводы и предположения.**"
   ]
  },
  {
   "cell_type": "code",
   "execution_count": 21,
   "metadata": {},
   "outputs": [
    {
     "data": {
      "text/plain": [
       "<matplotlib.lines.Line2D at 0x7fa017d738e0>"
      ]
     },
     "execution_count": 21,
     "metadata": {},
     "output_type": "execute_result"
    },
    {
     "data": {
      "image/png": "[encoded data removed]",
      "text/plain": [
       "<Figure size 1080x720 with 1 Axes>"
      ]
     },
     "metadata": {
      "needs_background": "light"
     },
     "output_type": "display_data"
    }
   ],
   "source": [
    "# Соберем данные в одном датафрейме\n",
    "mergedcummulativeRevenue = cummulativeRevenueA.merge(cummulativeRevenueB, left_on = 'date', right_on = 'date', how = 'left', suffixes = ['A', 'B'])\n",
    "\n",
    "# Настроим график\n",
    "plt.figure(figsize = (15,10))\n",
    "plt.xlabel('Дата')\n",
    "plt.ylabel('Средний чек')\n",
    "plt.title('График относительного изменения кумулятивного среднего чека группы В к А')\n",
    "\n",
    "# Построим график отношения средних чеков\n",
    "plt.plot(mergedcummulativeRevenue['date'], (mergedcummulativeRevenue['revenueB'] / mergedcummulativeRevenue['ordersB']) / (mergedcummulativeRevenue['revenueA'] / mergedcummulativeRevenue['ordersA']) - 1)\n",
    "\n",
    "# Добавляем ось Х\n",
    "plt.axhline(y = 0, color = 'black', linestyle = '--')\n"
   ]
  },
  {
   "cell_type": "markdown",
   "metadata": {},
   "source": [
    "**Вывод**\n",
    "\n",
    "Вывод по сути аналогичный с выводами п.1 и п.2.\n",
    "Средний чек группы В уже со 2 августа превысил средний чек группы А, и вплодь до 10 августа был выше, хотя и имел тенденцию к снижению, причем резкую, начная с 8 августа. Потом был резкий рост как раз с 18 по 20 августа. После имеет тенденцию к не резкому, но снижению. В период с 18 по 20 августа явно есть аномалии."
   ]
  },
  {
   "cell_type": "markdown",
   "metadata": {},
   "source": [
    "**4. Построим график кумулятивного среднего количества заказов на посетителя по группам. Сделаем выводы и предположения.**"
   ]
  },
  {
   "cell_type": "code",
   "execution_count": 22,
   "metadata": {},
   "outputs": [
    {
     "data": {
      "text/plain": [
       "<matplotlib.legend.Legend at 0x7fa017cf6760>"
      ]
     },
     "execution_count": 22,
     "metadata": {},
     "output_type": "execute_result"
    },
    {
     "data": {
      "image/png": "[encoded data removed]",
      "text/plain": [
       "<Figure size 1080x720 with 1 Axes>"
      ]
     },
     "metadata": {
      "needs_background": "light"
     },
     "output_type": "display_data"
    }
   ],
   "source": [
    "# Добавляем колонку и считаем среднее количество заказов на посетителя по группам\n",
    "cummulativeDate['conversion'] = cummulativeDate['orders'] / cummulativeDate['visitors']\n",
    "\n",
    "# Датафрейм с кумулятивным средним количеством заказов на посетителя в группе А\n",
    "cummulativeConversionA = cummulativeDate[cummulativeDate['group'] == 'A']\n",
    "\n",
    "# Датафрейм с кумулятивным средним количеством заказов на посетителя в группе А\n",
    "cummulativeConversionB = cummulativeDate[cummulativeDate['group'] == 'B']\n",
    "\n",
    "# Настроим график\n",
    "plt.figure(figsize = (15,10))\n",
    "plt.xlabel('Дата')\n",
    "plt.ylabel('Среднее количество заказов на посетителя')\n",
    "plt.title('График кумулятивного среднего количества заказов на посетителя по группам А и В')\n",
    "\n",
    "# Построим график группы А\n",
    "plt.plot(cummulativeConversionA['date'], cummulativeConversionA['conversion'], label = 'A')\n",
    "\n",
    "# Построим график группы B\n",
    "plt.plot(cummulativeConversionB['date'], cummulativeConversionB['conversion'], label = 'B')\n",
    "\n",
    "plt.legend()"
   ]
  },
  {
   "cell_type": "markdown",
   "metadata": {},
   "source": [
    "**Вывод**\n",
    "\n",
    "В начале месяца количество заказов на посетителя группы А была больше, чем группы В, но они обе росли. Примерно с 3 августа количество заказов на посетителя обоих групп резко упало. Но если группа А продолжила падать, то количество заказов на посетителя группы В с 5 августа начала расти и примерно стабилизировалась к 13 августа и до конца месяца было значительно больше, чем количество заказов на посетителя группы А."
   ]
  },
  {
   "cell_type": "markdown",
   "metadata": {},
   "source": [
    "**5. Построим график относительного изменения кумулятивного среднего количества заказов на посетителя группы B к группе A. Сделаем выводы и предположения.**"
   ]
  },
  {
   "cell_type": "code",
   "execution_count": 23,
   "metadata": {},
   "outputs": [
    {
     "data": {
      "text/plain": [
       "<matplotlib.lines.Line2D at 0x7fa017cd9f70>"
      ]
     },
     "execution_count": 23,
     "metadata": {},
     "output_type": "execute_result"
    },
    {
     "data": {
      "image/png": "[encoded data removed]",
      "text/plain": [
       "<Figure size 1080x720 with 1 Axes>"
      ]
     },
     "metadata": {
      "needs_background": "light"
     },
     "output_type": "display_data"
    }
   ],
   "source": [
    "# Соберем данные в одном датафрейме\n",
    "mergedcummulativeConversion = cummulativeConversionA[['date', 'conversion']].merge(cummulativeConversionB[['date', 'conversion']], left_on = 'date', right_on = 'date', how = 'left', suffixes = ['A', 'B'])\n",
    "\n",
    "# Настроим график\n",
    "plt.figure(figsize = (15,10))\n",
    "plt.xlabel('Дата')\n",
    "plt.ylabel('Среднее количество заказов на посетителя')\n",
    "plt.title('График относительного изменения кумулятивного среднего количества заказов на посетителя группы В к А')\n",
    "\n",
    "# Построим график отношения средних чеков\n",
    "plt.plot(mergedcummulativeConversion['date'], (mergedcummulativeConversion['conversionB'] / mergedcummulativeConversion['conversionA']) - 1)\n",
    "\n",
    "# Добавляем ось Х\n",
    "plt.axhline(y = 0, color = 'black', linestyle = '--')"
   ]
  },
  {
   "cell_type": "markdown",
   "metadata": {},
   "source": [
    "**Вывод**\n",
    "\n",
    "В целом, почти весь месяц среднее количество заказов на посетителя группы В выше, чем среднее количество заказов на посетителя группы А. Начиная с 9 августа и до конца месяца среднее количество заказов на посетителя группы В колебается в районе 10-15%. Пока сложно сделать вывод, потому что мы видели что скорее всего, существует аномалия в группе В."
   ]
  },
  {
   "cell_type": "markdown",
   "metadata": {},
   "source": [
    "**6. Построим точечный график количества заказов по пользователям. Сделаем выводы и предположения.**"
   ]
  },
  {
   "cell_type": "code",
   "execution_count": 24,
   "metadata": {},
   "outputs": [
    {
     "data": {
      "text/plain": [
       "Text(0.5, 1.0, 'График количества заказов по пользователям')"
      ]
     },
     "execution_count": 24,
     "metadata": {},
     "output_type": "execute_result"
    },
    {
     "data": {
      "image/png": "[encoded data removed]",
      "text/plain": [
       "<Figure size 1080x720 with 1 Axes>"
      ]
     },
     "metadata": {
      "needs_background": "light"
     },
     "output_type": "display_data"
    }
   ],
   "source": [
    "# Сгруппируем данные\n",
    "ordersVisitor = orders.groupby(['group', 'visitorId'], as_index = False).agg({'transactionId': 'nunique'})\n",
    "ordersVisitor.columns = ['visitorId', 'group', 'orders']\n",
    "x_values = pd.Series(range(0,len(ordersVisitor)))\n",
    "# Настроим график\n",
    "plt.figure(figsize = (15,10))\n",
    "plt.scatter(x_values, ordersVisitor['orders'])\n",
    "plt.xlabel('Посетители')\n",
    "plt.ylabel('Заказы')\n",
    "plt.grid()\n",
    "plt.title('График количества заказов по пользователям')"
   ]
  },
  {
   "cell_type": "markdown",
   "metadata": {},
   "source": [
    "**Вывод**\n",
    "\n",
    "Самое большое количество пользователей совершили по 1-2 заказа. Мы видим явные аномалии которые идут от 3 заказов и выше. Будем разбираться. Посчитаем процентили."
   ]
  },
  {
   "cell_type": "markdown",
   "metadata": {},
   "source": [
    "**7. Посчитаем 95-й и 99-й перцентили количества заказов на пользователя. Выберем границу для определения аномальных пользователей.**"
   ]
  },
  {
   "cell_type": "code",
   "execution_count": 25,
   "metadata": {},
   "outputs": [
    {
     "name": "stdout",
     "output_type": "stream",
     "text": [
      "Pencentile:\n",
      "95: 2.0 \n",
      "99: 4.0\n"
     ]
    }
   ],
   "source": [
    "percentileorders = np.percentile(ordersVisitor['orders'], [95, 99])\n",
    "print('Pencentile:\\n95: {} \\n99: {}'.format(percentileorders[0], percentileorders[1]))"
   ]
  },
  {
   "cell_type": "markdown",
   "metadata": {},
   "source": [
    "**Вывод**\n",
    "\n",
    "Можно сделать вывод что не больше 5% пользователей совершает больше 2 заказов, и не больше 1% совершают больше 4 заказов.\n",
    "\n",
    "Выберем 2 заказа как верхнюю границу, и будем отсеивать аномалии по ней."
   ]
  },
  {
   "cell_type": "markdown",
   "metadata": {},
   "source": [
    "**8. Постройте точечный график стоимостей заказов. Сделайте выводы и предположения.**"
   ]
  },
  {
   "cell_type": "code",
   "execution_count": 26,
   "metadata": {},
   "outputs": [
    {
     "data": {
      "text/plain": [
       "Text(0.5, 1.0, 'График количества заказов по пользователям')"
      ]
     },
     "execution_count": 26,
     "metadata": {},
     "output_type": "execute_result"
    },
    {
     "data": {
      "image/png": "[encoded data removed]",
      "text/plain": [
       "<Figure size 1080x720 with 1 Axes>"
      ]
     },
     "metadata": {
      "needs_background": "light"
     },
     "output_type": "display_data"
    }
   ],
   "source": [
    "x_values = pd.Series(range(0,len(orders['revenue'])))\n",
    "# Настроим график\n",
    "plt.figure(figsize = (15,10))\n",
    "plt.scatter(x_values, orders['revenue'])\n",
    "plt.xlabel('Заказы')\n",
    "plt.ylabel('Выручка')\n",
    "plt.grid()\n",
    "plt.title('График количества заказов по пользователям')"
   ]
  },
  {
   "cell_type": "markdown",
   "metadata": {},
   "source": [
    "Построим тот же график, убрав выбросы."
   ]
  },
  {
   "cell_type": "code",
   "execution_count": 27,
   "metadata": {},
   "outputs": [
    {
     "data": {
      "text/plain": [
       "Text(0.5, 1.0, 'График количества заказов по пользователям')"
      ]
     },
     "execution_count": 27,
     "metadata": {},
     "output_type": "execute_result"
    },
    {
     "data": {
      "image/png": "[encoded data removed]",
      "text/plain": [
       "<Figure size 1080x720 with 1 Axes>"
      ]
     },
     "metadata": {
      "needs_background": "light"
     },
     "output_type": "display_data"
    }
   ],
   "source": [
    "order_filter = orders[orders['revenue'] <= 200000]['revenue']\n",
    "x_values_filter = pd.Series(range(0,len(order_filter)))\n",
    "# Настроим график\n",
    "plt.figure(figsize = (15,10))\n",
    "plt.scatter(x_values_filter, order_filter)\n",
    "plt.xlabel('Заказы')\n",
    "plt.ylabel('Выручка')\n",
    "plt.grid()\n",
    "plt.title('График количества заказов по пользователям')"
   ]
  },
  {
   "cell_type": "markdown",
   "metadata": {},
   "source": [
    "**Вывод**\n",
    "\n",
    "Почти все заказы не превышают 20000, но как мы и предполагали есть аномалии, даже свыше 1200000."
   ]
  },
  {
   "cell_type": "markdown",
   "metadata": {},
   "source": [
    "**9. Посчитайте 95-й и 99-й перцентили стоимости заказов. Выберите границу для определения аномальных заказов.**"
   ]
  },
  {
   "cell_type": "code",
   "execution_count": 28,
   "metadata": {},
   "outputs": [
    {
     "name": "stdout",
     "output_type": "stream",
     "text": [
      "Pencentile:\n",
      "95: 28000.000000000004 \n",
      "99: 58233.19999999999\n"
     ]
    }
   ],
   "source": [
    "percentilerevenue = np.percentile(orders['revenue'], [95, 99])\n",
    "print('Pencentile:\\n95: {} \\n99: {}'.format(percentilerevenue[0], percentilerevenue[1]))"
   ]
  },
  {
   "cell_type": "markdown",
   "metadata": {},
   "source": [
    "**Вывод**\n",
    "\n",
    "Можно сделать вывод что не больше 5% заказов дороже 28000, и не больше 1% дороже 55233.\n",
    "\n",
    "Выберем стоимость заказов 28000 как верхнюю границу, и будем отсеивать аномалии по ней."
   ]
  },
  {
   "cell_type": "markdown",
   "metadata": {},
   "source": [
    "**10. Посчитайте статистическую значимость различий в среднем количестве заказов на посетителя между группами по «сырым» данным. Сделайте выводы и предположения.**"
   ]
  },
  {
   "cell_type": "markdown",
   "metadata": {},
   "source": [
    "Сформируем гипотезы.\n",
    "\n",
    "- **Нулевая гипотеза:** Статистически значимых различий в среднем количестве заказов на посетителя между группами A и B по \"сырым\" данным нет.\n",
    "- **Альтернативная гипотеза:** Статистически значимые различия в средних количествах заказов на посетителя между группами A и B по \"сырым\" данным есть.\n",
    "\n",
    "Тест будем проводить статистическим критерием Уилкоксона-Манна-Уитни.\n",
    "\n",
    "Установим критический уровень статистической значимости: alpha = .05."
   ]
  },
  {
   "cell_type": "code",
   "execution_count": 29,
   "metadata": {},
   "outputs": [
    {
     "name": "stdout",
     "output_type": "stream",
     "text": [
      "p-значение: 0.016792355056752608\n",
      "Отвергаем нулевую гипотезу: разница статистически значима\n",
      "Сравнение средних значений группы B и A: 1.1380788465532015\n"
     ]
    }
   ],
   "source": [
    "# Создадим переменные для теста, сделав срез из таблицы visitors по группам\n",
    "visitorsA = visitors.query('group == \"A\"').reset_index(drop = True)\n",
    "visitorsB = visitors.query('group == \"B\"').reset_index(drop = True)\n",
    "\n",
    "# Сгруппируем группу А по идентификатору пользователя, совершившего заказ и агрегируем уникальным идентификаторами заказа\n",
    "ordersUsersA = (orders[orders['group'] == 'A'].groupby('visitorId', as_index=False).agg({'transactionId': pd.Series.nunique}))\n",
    "ordersUsersA.columns = ['visitorId', 'orders']\n",
    "\n",
    "# Сгруппируем группу B по идентификатору пользователя, совершившего заказ и агрегируем уникальным идентификаторами заказа\n",
    "ordersUsersB = (orders[orders['group'] == 'B'].groupby('visitorId', as_index=False).agg({'transactionId': pd.Series.nunique}))\n",
    "ordersUsersB.columns = ['visitorId', 'orders']\n",
    "\n",
    "# Создадим датасеты для проведения теста\n",
    "sampleA_con = pd.concat([ordersUsersA['orders'],pd.Series(0, index=np.arange(visitorsA['visitors'].sum() - len(ordersUsersA['orders'])), name = 'orders')], axis=0)\n",
    "sampleB_con = pd.concat([ordersUsersB['orders'], pd.Series(0, index=np.arange(visitorsB['visitors'].sum() - len(ordersUsersB['orders'])), name = 'orders')], axis=0)\n",
    "\n",
    "alpha = .05\n",
    "results = st.mannwhitneyu(sampleA_con, sampleB_con)\n",
    "print('p-значение:', results.pvalue)\n",
    "if results.pvalue < alpha:\n",
    "    print('Отвергаем нулевую гипотезу: разница статистически значима')\n",
    "else:\n",
    "    print('Не получилось отвергнуть нулевую гипотезу: вывод о различии сделать нельзя')\n",
    "    \n",
    "# Сравним среднее двух групп\n",
    "print('Сравнение средних значений группы B и A:', (sampleB_con.mean()/sampleA_con.mean()))"
   ]
  },
  {
   "cell_type": "markdown",
   "metadata": {},
   "source": [
    "**Вывод**\n",
    "\n",
    "Отвергаем нулевую гипотезу. Проведя тест по \"сырым\" данным, делаем вывод что разница в среднем количестве заказов на посетителя статистически значима. \n",
    "\n",
    "По средним значениям группа B превосходит группу A примерно на 14%."
   ]
  },
  {
   "cell_type": "markdown",
   "metadata": {},
   "source": [
    "**11. Посчитайте статистическую значимость различий в среднем чеке заказа между группами по «сырым» данным. Сделайте выводы и предположения.**"
   ]
  },
  {
   "cell_type": "markdown",
   "metadata": {},
   "source": [
    "Сформируем гипотезы.\n",
    "\n",
    "- **Нулевая гипотеза:** Статистически значимых различий в среднем чеке заказа между группами A и B по \"сырым\" данным нет.\n",
    "- **Альтернативная гипотеза:** Статистически значимые различия в средних чеках заказов между группами A и B по \"сырым\" данным есть.\n",
    "\n",
    "Тест будем проводить статистическим критерием Уилкоксона-Манна-Уитни.\n",
    "\n",
    "Установим критический уровень статистической значимости: alpha = .05."
   ]
  },
  {
   "cell_type": "code",
   "execution_count": 30,
   "metadata": {},
   "outputs": [
    {
     "name": "stdout",
     "output_type": "stream",
     "text": [
      "p-значение: 0.7292909855432458\n",
      "Не получилось отвергнуть нулевую гипотезу: вывод о различии сделать нельзя\n"
     ]
    }
   ],
   "source": [
    "# Создадим датасеты для проведения теста и проведем тест\n",
    "sampleA = orders[orders['group'] == 'A']['revenue']\n",
    "sampleB = orders[orders['group'] == 'B']['revenue']\n",
    "alpha = .05\n",
    "results = st.mannwhitneyu(sampleA, sampleB)\n",
    "print('p-значение:', results.pvalue)\n",
    "if results.pvalue < alpha:\n",
    "    print('Отвергаем нулевую гипотезу: разница статистически значима')\n",
    "else:\n",
    "    print('Не получилось отвергнуть нулевую гипотезу: вывод о различии сделать нельзя')"
   ]
  },
  {
   "cell_type": "markdown",
   "metadata": {},
   "source": [
    "**Вывод**\n",
    "\n",
    "Мы не можем отвергнуть нулевую гипотезу. Проведя тест по \"сырым\" данным, делаем вывод что различий в среднем чеке заказа между группами нет."
   ]
  },
  {
   "cell_type": "markdown",
   "metadata": {},
   "source": [
    "**12. Посчитайте статистическую значимость различий в среднем количестве заказов на посетителя между группами по «очищенным» данным. Сделайте выводы и предположения.**"
   ]
  },
  {
   "cell_type": "markdown",
   "metadata": {},
   "source": [
    "Сформируем гипотезы.\n",
    "\n",
    "- **Нулевая гипотеза:** Статистически значимых различий в среднем количестве заказов на посетителя между группами A и B по \"очищенным\" данным нет.\n",
    "- **Альтернативная гипотеза:** Статистически значимые различия в средних количествах заказов на посетителя между группами A и B по \"очищенным\" данным есть.\n",
    "\n",
    "Тест будем проводить статистическим критерием Уилкоксона-Манна-Уитни.\n",
    "\n",
    "Установим критический уровень статистической значимости: alpha = .05."
   ]
  },
  {
   "cell_type": "code",
   "execution_count": 31,
   "metadata": {},
   "outputs": [],
   "source": [
    "# Создадим переменные с данными по выбранным верхним границам\n",
    "query_orders = 2\n",
    "query_revenue = 28000\n",
    "\n",
    "# Создадим датасеты с удаленными аномалиями по выбранным верхним границам и объеденим их в один датасет\n",
    "orders_query = pd.concat([ordersUsersA[ordersUsersA['orders'] > query_orders]['visitorId'],\n",
    "                          ordersUsersB[ordersUsersB['orders'] > query_orders]['visitorId']], axis = 0)\n",
    "revenue_query = orders[orders['revenue'] > query_revenue]['visitorId']\n",
    "abnormalUsers = (pd.concat([orders_query, revenue_query], axis = 0).drop_duplicates().sort_values())"
   ]
  },
  {
   "cell_type": "code",
   "execution_count": 32,
   "metadata": {
    "scrolled": true
   },
   "outputs": [
    {
     "name": "stdout",
     "output_type": "stream",
     "text": [
      "p-значение: 0.013042592743036745\n",
      "Отвергаем нулевую гипотезу: разница статистически значима\n",
      "Сравнение средних значений группы B и A: 1.1727010207352642\n"
     ]
    }
   ],
   "source": [
    "# Создадим датасеты, уберем аномалии и проведем тест\n",
    "sampleA_conFilter = pd.concat([ordersUsersA[np.logical_not(ordersUsersA['visitorId'].isin(abnormalUsers))]['orders'], pd.Series(0, index=np.arange(visitorsA['visitors'].sum() - len(ordersUsersA['orders'])), name='orders')],axis=0)\n",
    "sampleB_conFilter = pd.concat([ordersUsersB[np.logical_not(ordersUsersB['visitorId'].isin(abnormalUsers))]['orders'], pd.Series(0, index=np.arange(visitorsB['visitors'].sum() - len(ordersUsersB['orders'])), name='orders')],axis=0)\n",
    "alpha = .05\n",
    "results = st.mannwhitneyu(sampleA_conFilter, sampleB_conFilter)\n",
    "print('p-значение:', results.pvalue)\n",
    "if results.pvalue < alpha:\n",
    "    print('Отвергаем нулевую гипотезу: разница статистически значима')\n",
    "else:\n",
    "    print('Не получилось отвергнуть нулевую гипотезу: вывод о различии сделать нельзя')\n",
    "print('Сравнение средних значений группы B и A:', (sampleB_conFilter.mean()/sampleA_conFilter.mean()))"
   ]
  },
  {
   "cell_type": "markdown",
   "metadata": {},
   "source": [
    "**Вывод**\n",
    "\n",
    "Отвергаем нулевую гипотезу. Также как и с \"сырыми\" данными, мы делаем вывод что разница в среднем количестве заказов на посетителя статистически значима.\n",
    "\n",
    "По средним значениям после \"очистки\" данных, группа B превосходит группу A примерно на 17%."
   ]
  },
  {
   "cell_type": "markdown",
   "metadata": {},
   "source": [
    "**13. Посчитайте статистическую значимость различий в среднем чеке заказа между группами по «очищенным» данным. Сделайте выводы и предположения.**"
   ]
  },
  {
   "cell_type": "markdown",
   "metadata": {},
   "source": [
    "Сформируем гипотезы.\n",
    "\n",
    "- **Нулевая гипотеза:** Статистически значимых различий в среднем чеке заказа между группами A и B по \"очищенным\" данным нет.\n",
    "- **Альтернативная гипотеза:** Статистически значимые различия в средних чеках заказов между группами A и B по \"очищенным\" данным есть.\n",
    "\n",
    "Тест будем проводить статистическим критерием Уилкоксона-Манна-Уитни.\n",
    "\n",
    "Установим критический уровень статистической значимости: alpha = .05."
   ]
  },
  {
   "cell_type": "code",
   "execution_count": 33,
   "metadata": {},
   "outputs": [
    {
     "name": "stdout",
     "output_type": "stream",
     "text": [
      "p-значение: 0.738481751314565\n",
      "Не получилось отвергнуть нулевую гипотезу: вывод о различии сделать нельзя\n"
     ]
    }
   ],
   "source": [
    "# Создадим датасеты со срезом по группам\n",
    "orders_sampleA = orders.query('group ==\"A\"').reset_index(drop = True)\n",
    "orders_sampleB = orders.query('group ==\"B\"').reset_index(drop = True)\n",
    "\n",
    "# Создадим датасеты, уберем аномалии и проведем тест\n",
    "sampleAFilter = orders_sampleA[np.logical_not(orders_sampleA['visitorId'].isin(abnormalUsers))]['revenue']\n",
    "sampleBFilter = orders_sampleB[np.logical_not(orders_sampleB['visitorId'].isin(abnormalUsers))]['revenue']\n",
    "alpha = .05\n",
    "results = st.mannwhitneyu(sampleAFilter, sampleBFilter)\n",
    "print('p-значение:', results.pvalue)\n",
    "if results.pvalue < alpha:\n",
    "    print('Отвергаем нулевую гипотезу: разница статистически значима')\n",
    "else:\n",
    "    print('Не получилось отвергнуть нулевую гипотезу: вывод о различии сделать нельзя')"
   ]
  },
  {
   "cell_type": "markdown",
   "metadata": {},
   "source": [
    "**Вывод**\n",
    "\n",
    "Мы не можем отвергнуть нулевую гипотезу. Также как и с \"сырыми\" данными, делаем вывод что различий в среднем чеке заказа между группами нет."
   ]
  },
  {
   "cell_type": "markdown",
   "metadata": {},
   "source": [
    "**14.Примем решение по результатам теста и объясним его. Напишем общий вывод.**"
   ]
  },
  {
   "cell_type": "markdown",
   "metadata": {},
   "source": [
    "Мы провели анализ А/В-теста.\n",
    "1. График кумулятивной выручки по группам А и В показал, что выручка в группах А и В растет. В группе В выручки больше.\n",
    "2. График кумулятивного среднего чека по группам показал, что средний чек у группы В выше, чем у группы А.\n",
    "3. График кумулятивного среднего количества заказов на посетителя по группам показал, что количества заказов группы В выше, чем количества заказов группы А.\n",
    "\n",
    "Все графики были построены с учетом небольших аномалий. \n",
    "\n",
    "Далее мы считали статистическую значимость различий количества заказов и средних чеков по \"сырым\" данным (то есть с аномалиями), и \"очищенным\" данным (без аномалий).\n",
    "\n",
    "Что с \"сырыми\" данными, что с \"очищенными\" данными, статистическая значимость показала, что есть различия количества заказов между группами А и В, но нет различий между средними чеками.\n",
    "\n",
    "**Основываясь на анализе, я бы рекомендовал остановить тест, зафиксировать победу группы В и приступить к тестированию другой гипотезы.**"
   ]
  }
 ],
 "metadata": {
  "ExecuteTimeLog": [
   {
    "duration": 1426,
    "start_time": "2023-05-16T07:38:18.049Z"
   },
   {
    "duration": 86,
    "start_time": "2023-05-16T07:39:35.784Z"
   },
   {
    "duration": 52,
    "start_time": "2023-05-16T07:39:53.043Z"
   },
   {
    "duration": 162,
    "start_time": "2023-05-16T07:41:02.625Z"
   },
   {
    "duration": 37,
    "start_time": "2023-05-16T07:41:28.091Z"
   },
   {
    "duration": 35,
    "start_time": "2023-05-16T07:41:44.491Z"
   },
   {
    "duration": 39,
    "start_time": "2023-05-16T07:41:52.705Z"
   },
   {
    "duration": 8,
    "start_time": "2023-05-16T07:42:31.789Z"
   },
   {
    "duration": 4,
    "start_time": "2023-05-16T07:43:06.129Z"
   },
   {
    "duration": 7,
    "start_time": "2023-05-16T07:43:19.648Z"
   },
   {
    "duration": 108,
    "start_time": "2023-05-16T07:44:06.056Z"
   },
   {
    "duration": 61,
    "start_time": "2023-05-16T07:44:20.148Z"
   },
   {
    "duration": 6,
    "start_time": "2023-05-16T07:45:17.922Z"
   },
   {
    "duration": 7,
    "start_time": "2023-05-16T07:45:28.218Z"
   },
   {
    "duration": 8,
    "start_time": "2023-05-16T07:49:23.079Z"
   },
   {
    "duration": 14,
    "start_time": "2023-05-16T07:49:31.666Z"
   },
   {
    "duration": 7,
    "start_time": "2023-05-16T07:51:36.128Z"
   },
   {
    "duration": 10,
    "start_time": "2023-05-16T07:51:36.599Z"
   },
   {
    "duration": 12,
    "start_time": "2023-05-16T07:51:37.291Z"
   },
   {
    "duration": 78,
    "start_time": "2023-05-16T07:54:32.647Z"
   },
   {
    "duration": 8,
    "start_time": "2023-05-16T07:54:56.159Z"
   },
   {
    "duration": 3,
    "start_time": "2023-05-16T07:55:16.023Z"
   },
   {
    "duration": 19,
    "start_time": "2023-05-16T07:55:27.752Z"
   },
   {
    "duration": 10,
    "start_time": "2023-05-16T08:00:21.110Z"
   },
   {
    "duration": 109,
    "start_time": "2023-05-16T08:00:45.900Z"
   },
   {
    "duration": 2388,
    "start_time": "2023-05-16T08:05:18.538Z"
   },
   {
    "duration": 2224,
    "start_time": "2023-05-16T08:05:27.301Z"
   },
   {
    "duration": 13,
    "start_time": "2023-05-16T08:06:03.017Z"
   },
   {
    "duration": 15,
    "start_time": "2023-05-16T08:06:06.780Z"
   },
   {
    "duration": 4,
    "start_time": "2023-05-16T08:24:55.032Z"
   },
   {
    "duration": 177,
    "start_time": "2023-05-16T08:30:04.502Z"
   },
   {
    "duration": 219,
    "start_time": "2023-05-16T08:32:21.655Z"
   },
   {
    "duration": 3900,
    "start_time": "2023-05-16T08:32:41.621Z"
   },
   {
    "duration": 3915,
    "start_time": "2023-05-16T08:32:49.195Z"
   },
   {
    "duration": 3671,
    "start_time": "2023-05-16T08:33:04.739Z"
   },
   {
    "duration": 2179,
    "start_time": "2023-05-16T08:37:52.582Z"
   },
   {
    "duration": 6031,
    "start_time": "2023-05-16T08:41:46.772Z"
   },
   {
    "duration": 12,
    "start_time": "2023-05-16T08:42:02.358Z"
   },
   {
    "duration": 5912,
    "start_time": "2023-05-16T08:42:14.606Z"
   },
   {
    "duration": 10,
    "start_time": "2023-05-16T08:42:20.520Z"
   },
   {
    "duration": 1444,
    "start_time": "2023-05-16T08:42:56.768Z"
   },
   {
    "duration": 59,
    "start_time": "2023-05-16T08:42:58.214Z"
   },
   {
    "duration": 6,
    "start_time": "2023-05-16T08:42:58.275Z"
   },
   {
    "duration": 78,
    "start_time": "2023-05-16T08:42:58.283Z"
   },
   {
    "duration": 6,
    "start_time": "2023-05-16T08:42:58.365Z"
   },
   {
    "duration": 23,
    "start_time": "2023-05-16T08:42:58.373Z"
   },
   {
    "duration": 35,
    "start_time": "2023-05-16T08:42:58.398Z"
   },
   {
    "duration": 62,
    "start_time": "2023-05-16T08:42:58.435Z"
   },
   {
    "duration": 5,
    "start_time": "2023-05-16T08:42:58.499Z"
   },
   {
    "duration": 20,
    "start_time": "2023-05-16T08:42:58.506Z"
   },
   {
    "duration": 26,
    "start_time": "2023-05-16T08:42:58.528Z"
   },
   {
    "duration": 28,
    "start_time": "2023-05-16T08:42:58.557Z"
   },
   {
    "duration": 23,
    "start_time": "2023-05-16T08:42:58.587Z"
   },
   {
    "duration": 6073,
    "start_time": "2023-05-16T08:42:58.613Z"
   },
   {
    "duration": 9,
    "start_time": "2023-05-16T08:43:04.687Z"
   },
   {
    "duration": 8,
    "start_time": "2023-05-16T08:43:23.531Z"
   },
   {
    "duration": 6410,
    "start_time": "2023-05-16T08:44:09.020Z"
   },
   {
    "duration": 15,
    "start_time": "2023-05-16T08:44:15.432Z"
   },
   {
    "duration": 8,
    "start_time": "2023-05-16T08:44:59.934Z"
   },
   {
    "duration": 343,
    "start_time": "2023-05-16T08:45:00.484Z"
   },
   {
    "duration": 1342,
    "start_time": "2023-05-16T08:45:34.542Z"
   },
   {
    "duration": 45,
    "start_time": "2023-05-16T08:45:35.886Z"
   },
   {
    "duration": 6,
    "start_time": "2023-05-16T08:45:35.932Z"
   },
   {
    "duration": 71,
    "start_time": "2023-05-16T08:45:35.940Z"
   },
   {
    "duration": 5,
    "start_time": "2023-05-16T08:45:36.013Z"
   },
   {
    "duration": 16,
    "start_time": "2023-05-16T08:45:36.020Z"
   },
   {
    "duration": 31,
    "start_time": "2023-05-16T08:45:36.038Z"
   },
   {
    "duration": 55,
    "start_time": "2023-05-16T08:45:36.071Z"
   },
   {
    "duration": 5,
    "start_time": "2023-05-16T08:45:36.128Z"
   },
   {
    "duration": 5,
    "start_time": "2023-05-16T08:45:36.137Z"
   },
   {
    "duration": 37,
    "start_time": "2023-05-16T08:45:36.144Z"
   },
   {
    "duration": 30,
    "start_time": "2023-05-16T08:45:36.183Z"
   },
   {
    "duration": 22,
    "start_time": "2023-05-16T08:45:36.215Z"
   },
   {
    "duration": 350,
    "start_time": "2023-05-16T08:45:36.239Z"
   },
   {
    "duration": 11,
    "start_time": "2023-05-16T08:45:36.591Z"
   },
   {
    "duration": 370,
    "start_time": "2023-05-16T08:45:41.049Z"
   },
   {
    "duration": 9,
    "start_time": "2023-05-16T08:45:41.612Z"
   },
   {
    "duration": 346,
    "start_time": "2023-05-16T08:46:31.468Z"
   },
   {
    "duration": 11,
    "start_time": "2023-05-16T08:46:44.353Z"
   },
   {
    "duration": 291,
    "start_time": "2023-05-16T08:50:08.995Z"
   },
   {
    "duration": 206,
    "start_time": "2023-05-16T08:50:25.893Z"
   },
   {
    "duration": 238,
    "start_time": "2023-05-16T08:50:42.746Z"
   },
   {
    "duration": 222,
    "start_time": "2023-05-16T08:51:01.771Z"
   },
   {
    "duration": 346,
    "start_time": "2023-05-16T08:52:07.345Z"
   },
   {
    "duration": 262,
    "start_time": "2023-05-16T08:52:18.037Z"
   },
   {
    "duration": 313,
    "start_time": "2023-05-16T08:52:24.499Z"
   },
   {
    "duration": 246,
    "start_time": "2023-05-16T08:54:08.644Z"
   },
   {
    "duration": 341,
    "start_time": "2023-05-16T08:54:56.084Z"
   },
   {
    "duration": 5,
    "start_time": "2023-05-16T08:56:52.775Z"
   },
   {
    "duration": 9,
    "start_time": "2023-05-16T08:57:55.544Z"
   },
   {
    "duration": 5,
    "start_time": "2023-05-16T08:58:16.986Z"
   },
   {
    "duration": 8,
    "start_time": "2023-05-16T08:58:31.766Z"
   },
   {
    "duration": 6,
    "start_time": "2023-05-16T08:58:44.767Z"
   },
   {
    "duration": 6,
    "start_time": "2023-05-16T08:58:45.589Z"
   },
   {
    "duration": 9,
    "start_time": "2023-05-16T08:59:19.701Z"
   },
   {
    "duration": 5,
    "start_time": "2023-05-16T08:59:41.400Z"
   },
   {
    "duration": 6,
    "start_time": "2023-05-16T08:59:49.910Z"
   },
   {
    "duration": 5,
    "start_time": "2023-05-16T09:00:06.439Z"
   },
   {
    "duration": 7,
    "start_time": "2023-05-16T09:00:06.939Z"
   },
   {
    "duration": 339,
    "start_time": "2023-05-16T09:09:14.046Z"
   },
   {
    "duration": 8,
    "start_time": "2023-05-16T09:09:14.615Z"
   },
   {
    "duration": 3564,
    "start_time": "2023-05-16T09:11:50.470Z"
   },
   {
    "duration": 7,
    "start_time": "2023-05-16T09:12:22.731Z"
   },
   {
    "duration": 7,
    "start_time": "2023-05-16T09:12:32.773Z"
   },
   {
    "duration": 8,
    "start_time": "2023-05-16T09:15:57.648Z"
   },
   {
    "duration": 2113,
    "start_time": "2023-05-16T09:17:12.296Z"
   },
   {
    "duration": 377,
    "start_time": "2023-05-16T09:19:31.569Z"
   },
   {
    "duration": 16,
    "start_time": "2023-05-16T09:19:33.390Z"
   },
   {
    "duration": 322,
    "start_time": "2023-05-16T09:20:06.109Z"
   },
   {
    "duration": 10,
    "start_time": "2023-05-16T09:20:06.670Z"
   },
   {
    "duration": 8,
    "start_time": "2023-05-16T09:20:18.082Z"
   },
   {
    "duration": 2617,
    "start_time": "2023-05-16T09:20:53.983Z"
   },
   {
    "duration": 4,
    "start_time": "2023-05-16T09:24:25.982Z"
   },
   {
    "duration": 13,
    "start_time": "2023-05-16T09:24:34.693Z"
   },
   {
    "duration": 8,
    "start_time": "2023-05-16T09:24:55.876Z"
   },
   {
    "duration": 12,
    "start_time": "2023-05-16T09:25:11.293Z"
   },
   {
    "duration": 12,
    "start_time": "2023-05-16T09:25:37.276Z"
   },
   {
    "duration": 13,
    "start_time": "2023-05-16T09:28:38.300Z"
   },
   {
    "duration": 4,
    "start_time": "2023-05-16T09:31:18.092Z"
   },
   {
    "duration": 9,
    "start_time": "2023-05-16T09:31:26.039Z"
   },
   {
    "duration": 4,
    "start_time": "2023-05-16T09:31:33.605Z"
   },
   {
    "duration": 18,
    "start_time": "2023-05-16T09:35:18.080Z"
   },
   {
    "duration": 12,
    "start_time": "2023-05-16T09:35:25.390Z"
   },
   {
    "duration": 4,
    "start_time": "2023-05-16T09:40:42.145Z"
   },
   {
    "duration": 9,
    "start_time": "2023-05-16T11:02:17.861Z"
   },
   {
    "duration": 1195,
    "start_time": "2023-05-16T11:02:29.669Z"
   },
   {
    "duration": 44,
    "start_time": "2023-05-16T11:02:30.866Z"
   },
   {
    "duration": 13,
    "start_time": "2023-05-16T11:02:30.911Z"
   },
   {
    "duration": 85,
    "start_time": "2023-05-16T11:02:30.926Z"
   },
   {
    "duration": 6,
    "start_time": "2023-05-16T11:02:31.012Z"
   },
   {
    "duration": 52,
    "start_time": "2023-05-16T11:02:31.019Z"
   },
   {
    "duration": 71,
    "start_time": "2023-05-16T11:02:31.073Z"
   },
   {
    "duration": 76,
    "start_time": "2023-05-16T11:02:31.146Z"
   },
   {
    "duration": 28,
    "start_time": "2023-05-16T11:02:31.223Z"
   },
   {
    "duration": 49,
    "start_time": "2023-05-16T11:02:31.253Z"
   },
   {
    "duration": 64,
    "start_time": "2023-05-16T11:02:31.304Z"
   },
   {
    "duration": 49,
    "start_time": "2023-05-16T11:02:31.370Z"
   },
   {
    "duration": 52,
    "start_time": "2023-05-16T11:02:31.421Z"
   },
   {
    "duration": 398,
    "start_time": "2023-05-16T11:02:31.475Z"
   },
   {
    "duration": 9,
    "start_time": "2023-05-16T11:02:31.875Z"
   },
   {
    "duration": 43,
    "start_time": "2023-05-16T11:02:31.886Z"
   },
   {
    "duration": 45,
    "start_time": "2023-05-16T11:02:31.931Z"
   },
   {
    "duration": 341,
    "start_time": "2023-05-16T11:02:31.978Z"
   },
   {
    "duration": 4,
    "start_time": "2023-05-16T11:02:47.887Z"
   },
   {
    "duration": 4,
    "start_time": "2023-05-16T11:02:53.902Z"
   },
   {
    "duration": 4,
    "start_time": "2023-05-16T11:03:03.487Z"
   },
   {
    "duration": 5,
    "start_time": "2023-05-16T11:03:13.421Z"
   },
   {
    "duration": 7,
    "start_time": "2023-05-16T11:03:37.621Z"
   },
   {
    "duration": 4,
    "start_time": "2023-05-16T11:03:41.055Z"
   },
   {
    "duration": 1138,
    "start_time": "2023-05-16T11:03:47.217Z"
   },
   {
    "duration": 43,
    "start_time": "2023-05-16T11:03:48.357Z"
   },
   {
    "duration": 5,
    "start_time": "2023-05-16T11:03:48.402Z"
   },
   {
    "duration": 52,
    "start_time": "2023-05-16T11:03:48.408Z"
   },
   {
    "duration": 6,
    "start_time": "2023-05-16T11:03:48.462Z"
   },
   {
    "duration": 6,
    "start_time": "2023-05-16T11:03:48.470Z"
   },
   {
    "duration": 22,
    "start_time": "2023-05-16T11:03:48.477Z"
   },
   {
    "duration": 30,
    "start_time": "2023-05-16T11:03:48.500Z"
   },
   {
    "duration": 5,
    "start_time": "2023-05-16T11:03:48.531Z"
   },
   {
    "duration": 15,
    "start_time": "2023-05-16T11:03:48.537Z"
   },
   {
    "duration": 15,
    "start_time": "2023-05-16T11:03:48.554Z"
   },
   {
    "duration": 27,
    "start_time": "2023-05-16T11:03:48.571Z"
   },
   {
    "duration": 14,
    "start_time": "2023-05-16T11:03:48.600Z"
   },
   {
    "duration": 309,
    "start_time": "2023-05-16T11:03:48.617Z"
   },
   {
    "duration": 9,
    "start_time": "2023-05-16T11:03:48.927Z"
   },
   {
    "duration": 25,
    "start_time": "2023-05-16T11:03:48.937Z"
   },
   {
    "duration": 16,
    "start_time": "2023-05-16T11:03:48.964Z"
   },
   {
    "duration": 10,
    "start_time": "2023-05-16T11:03:48.981Z"
   },
   {
    "duration": 297,
    "start_time": "2023-05-16T11:03:48.993Z"
   },
   {
    "duration": 5,
    "start_time": "2023-05-16T11:03:53.057Z"
   },
   {
    "duration": 4,
    "start_time": "2023-05-16T11:04:04.290Z"
   },
   {
    "duration": 7,
    "start_time": "2023-05-16T11:05:27.911Z"
   },
   {
    "duration": 3,
    "start_time": "2023-05-16T11:05:40.489Z"
   },
   {
    "duration": 7,
    "start_time": "2023-05-16T11:05:45.588Z"
   },
   {
    "duration": 4,
    "start_time": "2023-05-16T11:05:46.686Z"
   },
   {
    "duration": 7,
    "start_time": "2023-05-16T11:09:57.867Z"
   },
   {
    "duration": 1256,
    "start_time": "2023-05-16T11:10:05.327Z"
   },
   {
    "duration": 44,
    "start_time": "2023-05-16T11:10:06.586Z"
   },
   {
    "duration": 8,
    "start_time": "2023-05-16T11:10:06.632Z"
   },
   {
    "duration": 68,
    "start_time": "2023-05-16T11:10:06.641Z"
   },
   {
    "duration": 5,
    "start_time": "2023-05-16T11:10:06.711Z"
   },
   {
    "duration": 26,
    "start_time": "2023-05-16T11:10:06.718Z"
   },
   {
    "duration": 41,
    "start_time": "2023-05-16T11:10:06.746Z"
   },
   {
    "duration": 50,
    "start_time": "2023-05-16T11:10:06.789Z"
   },
   {
    "duration": 5,
    "start_time": "2023-05-16T11:10:06.841Z"
   },
   {
    "duration": 32,
    "start_time": "2023-05-16T11:10:06.848Z"
   },
   {
    "duration": 56,
    "start_time": "2023-05-16T11:10:06.882Z"
   },
   {
    "duration": 26,
    "start_time": "2023-05-16T11:10:06.940Z"
   },
   {
    "duration": 28,
    "start_time": "2023-05-16T11:10:06.968Z"
   },
   {
    "duration": 336,
    "start_time": "2023-05-16T11:10:06.999Z"
   },
   {
    "duration": 12,
    "start_time": "2023-05-16T11:10:07.337Z"
   },
   {
    "duration": 34,
    "start_time": "2023-05-16T11:10:07.350Z"
   },
   {
    "duration": 27,
    "start_time": "2023-05-16T11:10:07.386Z"
   },
   {
    "duration": 17,
    "start_time": "2023-05-16T11:10:07.415Z"
   },
   {
    "duration": 347,
    "start_time": "2023-05-16T11:10:07.433Z"
   },
   {
    "duration": 7,
    "start_time": "2023-05-16T11:10:13.164Z"
   },
   {
    "duration": 4,
    "start_time": "2023-05-16T11:10:43.556Z"
   },
   {
    "duration": 6,
    "start_time": "2023-05-16T11:10:54.312Z"
   },
   {
    "duration": 4,
    "start_time": "2023-05-16T11:11:21.566Z"
   },
   {
    "duration": 4,
    "start_time": "2023-05-16T11:11:25.733Z"
   },
   {
    "duration": 4,
    "start_time": "2023-05-16T11:11:34.515Z"
   },
   {
    "duration": 5,
    "start_time": "2023-05-16T11:11:48.283Z"
   },
   {
    "duration": 8,
    "start_time": "2023-05-16T11:11:57.362Z"
   },
   {
    "duration": 3,
    "start_time": "2023-05-16T11:11:58.091Z"
   },
   {
    "duration": 8,
    "start_time": "2023-05-16T11:12:50.060Z"
   },
   {
    "duration": 4,
    "start_time": "2023-05-16T11:12:50.827Z"
   },
   {
    "duration": 8,
    "start_time": "2023-05-16T11:14:01.103Z"
   },
   {
    "duration": 5,
    "start_time": "2023-05-16T11:14:02.413Z"
   },
   {
    "duration": 10,
    "start_time": "2023-05-16T11:15:12.655Z"
   },
   {
    "duration": 13,
    "start_time": "2023-05-16T11:15:51.015Z"
   },
   {
    "duration": 8,
    "start_time": "2023-05-16T11:15:52.124Z"
   },
   {
    "duration": 12,
    "start_time": "2023-05-16T11:24:56.560Z"
   },
   {
    "duration": 7,
    "start_time": "2023-05-16T11:24:57.357Z"
   },
   {
    "duration": 258,
    "start_time": "2023-05-16T11:32:40.222Z"
   },
   {
    "duration": 209,
    "start_time": "2023-05-16T11:35:07.685Z"
   },
   {
    "duration": 236,
    "start_time": "2023-05-16T11:36:09.055Z"
   },
   {
    "duration": 273,
    "start_time": "2023-05-16T11:37:32.074Z"
   },
   {
    "duration": 250,
    "start_time": "2023-05-16T11:37:47.623Z"
   },
   {
    "duration": 4439,
    "start_time": "2023-05-16T11:50:19.526Z"
   },
   {
    "duration": 300,
    "start_time": "2023-05-16T11:51:39.053Z"
   },
   {
    "duration": 387,
    "start_time": "2023-05-16T11:52:18.021Z"
   },
   {
    "duration": 301,
    "start_time": "2023-05-16T12:03:37.999Z"
   },
   {
    "duration": 340,
    "start_time": "2023-05-16T12:12:45.862Z"
   },
   {
    "duration": 412,
    "start_time": "2023-05-16T12:14:22.246Z"
   },
   {
    "duration": 1366,
    "start_time": "2023-05-16T12:18:26.015Z"
   },
   {
    "duration": 45,
    "start_time": "2023-05-16T12:18:27.383Z"
   },
   {
    "duration": 7,
    "start_time": "2023-05-16T12:18:27.430Z"
   },
   {
    "duration": 65,
    "start_time": "2023-05-16T12:18:27.440Z"
   },
   {
    "duration": 6,
    "start_time": "2023-05-16T12:18:27.507Z"
   },
   {
    "duration": 27,
    "start_time": "2023-05-16T12:18:27.515Z"
   },
   {
    "duration": 47,
    "start_time": "2023-05-16T12:18:27.544Z"
   },
   {
    "duration": 41,
    "start_time": "2023-05-16T12:18:27.592Z"
   },
   {
    "duration": 6,
    "start_time": "2023-05-16T12:18:27.636Z"
   },
   {
    "duration": 13,
    "start_time": "2023-05-16T12:18:27.645Z"
   },
   {
    "duration": 29,
    "start_time": "2023-05-16T12:18:27.660Z"
   },
   {
    "duration": 35,
    "start_time": "2023-05-16T12:18:27.692Z"
   },
   {
    "duration": 19,
    "start_time": "2023-05-16T12:18:27.730Z"
   },
   {
    "duration": 352,
    "start_time": "2023-05-16T12:18:27.751Z"
   },
   {
    "duration": 9,
    "start_time": "2023-05-16T12:18:28.105Z"
   },
   {
    "duration": 38,
    "start_time": "2023-05-16T12:18:28.115Z"
   },
   {
    "duration": 22,
    "start_time": "2023-05-16T12:18:28.155Z"
   },
   {
    "duration": 402,
    "start_time": "2023-05-16T12:18:28.179Z"
   },
   {
    "duration": 279,
    "start_time": "2023-05-16T12:18:28.583Z"
   },
   {
    "duration": 376,
    "start_time": "2023-05-16T12:18:28.864Z"
   },
   {
    "duration": 314,
    "start_time": "2023-05-16T12:18:29.242Z"
   },
   {
    "duration": 463,
    "start_time": "2023-05-16T12:18:29.558Z"
   },
   {
    "duration": 187,
    "start_time": "2023-05-16T12:18:30.023Z"
   },
   {
    "duration": 9,
    "start_time": "2023-05-16T12:26:30.257Z"
   },
   {
    "duration": 13,
    "start_time": "2023-05-16T12:26:30.813Z"
   },
   {
    "duration": 174,
    "start_time": "2023-05-16T12:28:25.551Z"
   },
   {
    "duration": 172,
    "start_time": "2023-05-16T12:29:39.652Z"
   },
   {
    "duration": 2610,
    "start_time": "2023-05-16T12:29:52.099Z"
   },
   {
    "duration": 10,
    "start_time": "2023-05-16T12:30:35.675Z"
   },
   {
    "duration": 12,
    "start_time": "2023-05-16T12:30:39.887Z"
   },
   {
    "duration": 268,
    "start_time": "2023-05-16T12:30:53.416Z"
   },
   {
    "duration": 178,
    "start_time": "2023-05-16T12:31:44.358Z"
   },
   {
    "duration": 198,
    "start_time": "2023-05-16T12:32:14.171Z"
   },
   {
    "duration": 196,
    "start_time": "2023-05-16T12:32:54.879Z"
   },
   {
    "duration": 193,
    "start_time": "2023-05-16T12:33:56.449Z"
   },
   {
    "duration": 202,
    "start_time": "2023-05-16T12:34:28.570Z"
   },
   {
    "duration": 6,
    "start_time": "2023-05-16T12:36:59.450Z"
   },
   {
    "duration": 11,
    "start_time": "2023-05-16T12:39:07.472Z"
   },
   {
    "duration": 4,
    "start_time": "2023-05-16T12:39:24.419Z"
   },
   {
    "duration": 5,
    "start_time": "2023-05-16T12:39:29.554Z"
   },
   {
    "duration": 11,
    "start_time": "2023-05-16T12:41:38.865Z"
   },
   {
    "duration": 1221,
    "start_time": "2023-05-16T12:42:40.215Z"
   },
   {
    "duration": 183,
    "start_time": "2023-05-16T12:43:04.107Z"
   },
   {
    "duration": 206,
    "start_time": "2023-05-16T12:43:30.652Z"
   },
   {
    "duration": 1259,
    "start_time": "2023-05-16T12:44:15.612Z"
   },
   {
    "duration": 45,
    "start_time": "2023-05-16T12:44:16.873Z"
   },
   {
    "duration": 6,
    "start_time": "2023-05-16T12:44:16.921Z"
   },
   {
    "duration": 64,
    "start_time": "2023-05-16T12:44:16.929Z"
   },
   {
    "duration": 7,
    "start_time": "2023-05-16T12:44:16.997Z"
   },
   {
    "duration": 23,
    "start_time": "2023-05-16T12:44:17.006Z"
   },
   {
    "duration": 44,
    "start_time": "2023-05-16T12:44:17.031Z"
   },
   {
    "duration": 45,
    "start_time": "2023-05-16T12:44:17.077Z"
   },
   {
    "duration": 5,
    "start_time": "2023-05-16T12:44:17.123Z"
   },
   {
    "duration": 13,
    "start_time": "2023-05-16T12:44:17.130Z"
   },
   {
    "duration": 26,
    "start_time": "2023-05-16T12:44:17.144Z"
   },
   {
    "duration": 32,
    "start_time": "2023-05-16T12:44:17.172Z"
   },
   {
    "duration": 16,
    "start_time": "2023-05-16T12:44:17.206Z"
   },
   {
    "duration": 344,
    "start_time": "2023-05-16T12:44:17.226Z"
   },
   {
    "duration": 12,
    "start_time": "2023-05-16T12:44:17.572Z"
   },
   {
    "duration": 18,
    "start_time": "2023-05-16T12:44:17.587Z"
   },
   {
    "duration": 15,
    "start_time": "2023-05-16T12:44:17.607Z"
   },
   {
    "duration": 387,
    "start_time": "2023-05-16T12:44:17.624Z"
   },
   {
    "duration": 267,
    "start_time": "2023-05-16T12:44:18.013Z"
   },
   {
    "duration": 353,
    "start_time": "2023-05-16T12:44:18.283Z"
   },
   {
    "duration": 327,
    "start_time": "2023-05-16T12:44:18.645Z"
   },
   {
    "duration": 339,
    "start_time": "2023-05-16T12:44:18.974Z"
   },
   {
    "duration": 207,
    "start_time": "2023-05-16T12:44:19.314Z"
   },
   {
    "duration": 4,
    "start_time": "2023-05-16T12:44:19.523Z"
   },
   {
    "duration": 48,
    "start_time": "2023-05-16T12:44:19.528Z"
   },
   {
    "duration": 235,
    "start_time": "2023-05-16T12:44:19.578Z"
   },
   {
    "duration": 301,
    "start_time": "2023-05-16T12:45:13.665Z"
   },
   {
    "duration": 195,
    "start_time": "2023-05-16T12:48:08.499Z"
   },
   {
    "duration": 212,
    "start_time": "2023-05-16T12:48:13.867Z"
   },
   {
    "duration": 1681,
    "start_time": "2023-05-16T12:50:32.253Z"
   },
   {
    "duration": 5,
    "start_time": "2023-05-16T12:50:46.222Z"
   },
   {
    "duration": 102,
    "start_time": "2023-05-16T13:11:52.089Z"
   },
   {
    "duration": 113,
    "start_time": "2023-05-16T13:12:22.408Z"
   },
   {
    "duration": 1370,
    "start_time": "2023-05-16T13:13:29.526Z"
   },
   {
    "duration": 43,
    "start_time": "2023-05-16T13:13:30.898Z"
   },
   {
    "duration": 22,
    "start_time": "2023-05-16T13:13:30.943Z"
   },
   {
    "duration": 90,
    "start_time": "2023-05-16T13:13:30.968Z"
   },
   {
    "duration": 9,
    "start_time": "2023-05-16T13:13:31.065Z"
   },
   {
    "duration": 40,
    "start_time": "2023-05-16T13:13:31.075Z"
   },
   {
    "duration": 59,
    "start_time": "2023-05-16T13:13:31.117Z"
   },
   {
    "duration": 87,
    "start_time": "2023-05-16T13:13:31.178Z"
   },
   {
    "duration": 22,
    "start_time": "2023-05-16T13:13:31.270Z"
   },
   {
    "duration": 53,
    "start_time": "2023-05-16T13:13:31.294Z"
   },
   {
    "duration": 80,
    "start_time": "2023-05-16T13:13:31.349Z"
   },
   {
    "duration": 83,
    "start_time": "2023-05-16T13:13:31.431Z"
   },
   {
    "duration": 63,
    "start_time": "2023-05-16T13:13:31.516Z"
   },
   {
    "duration": 425,
    "start_time": "2023-05-16T13:13:31.583Z"
   },
   {
    "duration": 9,
    "start_time": "2023-05-16T13:13:32.010Z"
   },
   {
    "duration": 29,
    "start_time": "2023-05-16T13:13:32.021Z"
   },
   {
    "duration": 28,
    "start_time": "2023-05-16T13:13:32.055Z"
   },
   {
    "duration": 455,
    "start_time": "2023-05-16T13:13:32.085Z"
   },
   {
    "duration": 345,
    "start_time": "2023-05-16T13:13:32.546Z"
   },
   {
    "duration": 417,
    "start_time": "2023-05-16T13:13:32.893Z"
   },
   {
    "duration": 348,
    "start_time": "2023-05-16T13:13:33.312Z"
   },
   {
    "duration": 379,
    "start_time": "2023-05-16T13:13:33.662Z"
   },
   {
    "duration": 242,
    "start_time": "2023-05-16T13:13:34.046Z"
   },
   {
    "duration": 4,
    "start_time": "2023-05-16T13:13:34.290Z"
   },
   {
    "duration": 256,
    "start_time": "2023-05-16T13:13:34.296Z"
   },
   {
    "duration": 8,
    "start_time": "2023-05-16T13:13:34.554Z"
   },
   {
    "duration": 269,
    "start_time": "2023-05-16T13:13:34.567Z"
   },
   {
    "duration": 0,
    "start_time": "2023-05-16T13:13:34.838Z"
   },
   {
    "duration": 0,
    "start_time": "2023-05-16T13:13:34.840Z"
   },
   {
    "duration": 270,
    "start_time": "2023-05-16T13:14:31.912Z"
   },
   {
    "duration": 1329,
    "start_time": "2023-05-16T13:14:49.981Z"
   },
   {
    "duration": 58,
    "start_time": "2023-05-16T13:14:51.313Z"
   },
   {
    "duration": 6,
    "start_time": "2023-05-16T13:14:51.373Z"
   },
   {
    "duration": 65,
    "start_time": "2023-05-16T13:14:51.382Z"
   },
   {
    "duration": 18,
    "start_time": "2023-05-16T13:14:51.453Z"
   },
   {
    "duration": 25,
    "start_time": "2023-05-16T13:14:51.473Z"
   },
   {
    "duration": 18,
    "start_time": "2023-05-16T13:14:51.500Z"
   },
   {
    "duration": 54,
    "start_time": "2023-05-16T13:14:51.520Z"
   },
   {
    "duration": 6,
    "start_time": "2023-05-16T13:14:51.576Z"
   },
   {
    "duration": 32,
    "start_time": "2023-05-16T13:14:51.584Z"
   },
   {
    "duration": 41,
    "start_time": "2023-05-16T13:14:51.618Z"
   },
   {
    "duration": 37,
    "start_time": "2023-05-16T13:14:51.662Z"
   },
   {
    "duration": 15,
    "start_time": "2023-05-16T13:14:51.702Z"
   },
   {
    "duration": 414,
    "start_time": "2023-05-16T13:14:51.720Z"
   },
   {
    "duration": 22,
    "start_time": "2023-05-16T13:14:52.136Z"
   },
   {
    "duration": 45,
    "start_time": "2023-05-16T13:14:52.160Z"
   },
   {
    "duration": 28,
    "start_time": "2023-05-16T13:14:52.207Z"
   },
   {
    "duration": 555,
    "start_time": "2023-05-16T13:14:52.238Z"
   },
   {
    "duration": 355,
    "start_time": "2023-05-16T13:14:52.795Z"
   },
   {
    "duration": 410,
    "start_time": "2023-05-16T13:14:53.152Z"
   },
   {
    "duration": 397,
    "start_time": "2023-05-16T13:14:53.565Z"
   },
   {
    "duration": 426,
    "start_time": "2023-05-16T13:14:53.964Z"
   },
   {
    "duration": 244,
    "start_time": "2023-05-16T13:14:54.392Z"
   },
   {
    "duration": 16,
    "start_time": "2023-05-16T13:14:54.639Z"
   },
   {
    "duration": 303,
    "start_time": "2023-05-16T13:14:54.658Z"
   },
   {
    "duration": 10,
    "start_time": "2023-05-16T13:14:54.963Z"
   },
   {
    "duration": 360,
    "start_time": "2023-05-16T13:14:54.976Z"
   },
   {
    "duration": 80,
    "start_time": "2023-05-16T13:14:55.338Z"
   },
   {
    "duration": 0,
    "start_time": "2023-05-16T13:14:55.420Z"
   },
   {
    "duration": 261,
    "start_time": "2023-05-16T13:15:20.768Z"
   },
   {
    "duration": 275,
    "start_time": "2023-05-16T13:33:45.855Z"
   },
   {
    "duration": 151,
    "start_time": "2023-05-16T13:33:51.449Z"
   },
   {
    "duration": 190,
    "start_time": "2023-05-16T13:40:19.250Z"
   },
   {
    "duration": 12,
    "start_time": "2023-05-16T13:53:09.923Z"
   },
   {
    "duration": 1549,
    "start_time": "2023-05-16T14:00:16.969Z"
   },
   {
    "duration": 62,
    "start_time": "2023-05-16T14:00:18.520Z"
   },
   {
    "duration": 20,
    "start_time": "2023-05-16T14:00:18.585Z"
   },
   {
    "duration": 104,
    "start_time": "2023-05-16T14:00:18.607Z"
   },
   {
    "duration": 8,
    "start_time": "2023-05-16T14:00:18.714Z"
   },
   {
    "duration": 64,
    "start_time": "2023-05-16T14:00:18.724Z"
   },
   {
    "duration": 211,
    "start_time": "2023-05-16T14:00:18.790Z"
   },
   {
    "duration": 110,
    "start_time": "2023-05-16T14:00:19.003Z"
   },
   {
    "duration": 23,
    "start_time": "2023-05-16T14:00:19.116Z"
   },
   {
    "duration": 62,
    "start_time": "2023-05-16T14:00:19.143Z"
   },
   {
    "duration": 114,
    "start_time": "2023-05-16T14:00:19.207Z"
   },
   {
    "duration": 70,
    "start_time": "2023-05-16T14:00:19.323Z"
   },
   {
    "duration": 40,
    "start_time": "2023-05-16T14:00:19.395Z"
   },
   {
    "duration": 538,
    "start_time": "2023-05-16T14:00:19.440Z"
   },
   {
    "duration": 13,
    "start_time": "2023-05-16T14:00:19.980Z"
   },
   {
    "duration": 29,
    "start_time": "2023-05-16T14:00:19.995Z"
   },
   {
    "duration": 79,
    "start_time": "2023-05-16T14:00:20.027Z"
   },
   {
    "duration": 597,
    "start_time": "2023-05-16T14:00:20.109Z"
   },
   {
    "duration": 376,
    "start_time": "2023-05-16T14:00:20.708Z"
   },
   {
    "duration": 488,
    "start_time": "2023-05-16T14:00:21.086Z"
   },
   {
    "duration": 466,
    "start_time": "2023-05-16T14:00:21.577Z"
   },
   {
    "duration": 470,
    "start_time": "2023-05-16T14:00:22.047Z"
   },
   {
    "duration": 309,
    "start_time": "2023-05-16T14:00:22.519Z"
   },
   {
    "duration": 6,
    "start_time": "2023-05-16T14:00:22.830Z"
   },
   {
    "duration": 379,
    "start_time": "2023-05-16T14:00:22.847Z"
   },
   {
    "duration": 7,
    "start_time": "2023-05-16T14:00:23.228Z"
   },
   {
    "duration": 507,
    "start_time": "2023-05-16T14:00:23.237Z"
   },
   {
    "duration": 329,
    "start_time": "2023-05-16T14:00:23.746Z"
   },
   {
    "duration": 13,
    "start_time": "2023-05-16T14:00:24.078Z"
   },
   {
    "duration": 99,
    "start_time": "2023-05-16T14:00:24.094Z"
   },
   {
    "duration": 181,
    "start_time": "2023-05-16T14:21:25.104Z"
   },
   {
    "duration": 13,
    "start_time": "2023-05-16T14:21:47.958Z"
   },
   {
    "duration": 11,
    "start_time": "2023-05-16T14:22:00.340Z"
   },
   {
    "duration": 5,
    "start_time": "2023-05-16T14:25:00.116Z"
   },
   {
    "duration": 4,
    "start_time": "2023-05-16T14:25:41.278Z"
   },
   {
    "duration": 75,
    "start_time": "2023-05-16T14:25:44.712Z"
   },
   {
    "duration": 95,
    "start_time": "2023-05-16T14:32:16.758Z"
   },
   {
    "duration": 178,
    "start_time": "2023-05-16T14:32:32.311Z"
   },
   {
    "duration": 1183,
    "start_time": "2023-05-16T14:32:40.673Z"
   },
   {
    "duration": 50,
    "start_time": "2023-05-16T14:32:41.859Z"
   },
   {
    "duration": 6,
    "start_time": "2023-05-16T14:32:41.911Z"
   },
   {
    "duration": 54,
    "start_time": "2023-05-16T14:32:41.919Z"
   },
   {
    "duration": 6,
    "start_time": "2023-05-16T14:32:41.975Z"
   },
   {
    "duration": 24,
    "start_time": "2023-05-16T14:32:41.983Z"
   },
   {
    "duration": 27,
    "start_time": "2023-05-16T14:32:42.009Z"
   },
   {
    "duration": 46,
    "start_time": "2023-05-16T14:32:42.039Z"
   },
   {
    "duration": 5,
    "start_time": "2023-05-16T14:32:42.087Z"
   },
   {
    "duration": 13,
    "start_time": "2023-05-16T14:32:42.094Z"
   },
   {
    "duration": 40,
    "start_time": "2023-05-16T14:32:42.109Z"
   },
   {
    "duration": 26,
    "start_time": "2023-05-16T14:32:42.151Z"
   },
   {
    "duration": 14,
    "start_time": "2023-05-16T14:32:42.179Z"
   },
   {
    "duration": 415,
    "start_time": "2023-05-16T14:32:42.196Z"
   },
   {
    "duration": 13,
    "start_time": "2023-05-16T14:32:42.613Z"
   },
   {
    "duration": 32,
    "start_time": "2023-05-16T14:32:42.628Z"
   },
   {
    "duration": 38,
    "start_time": "2023-05-16T14:32:42.662Z"
   },
   {
    "duration": 407,
    "start_time": "2023-05-16T14:32:42.703Z"
   },
   {
    "duration": 298,
    "start_time": "2023-05-16T14:32:43.113Z"
   },
   {
    "duration": 383,
    "start_time": "2023-05-16T14:32:43.414Z"
   },
   {
    "duration": 337,
    "start_time": "2023-05-16T14:32:43.799Z"
   },
   {
    "duration": 396,
    "start_time": "2023-05-16T14:32:44.138Z"
   },
   {
    "duration": 212,
    "start_time": "2023-05-16T14:32:44.536Z"
   },
   {
    "duration": 4,
    "start_time": "2023-05-16T14:32:44.751Z"
   },
   {
    "duration": 229,
    "start_time": "2023-05-16T14:32:44.757Z"
   },
   {
    "duration": 4,
    "start_time": "2023-05-16T14:32:44.988Z"
   },
   {
    "duration": 316,
    "start_time": "2023-05-16T14:32:44.994Z"
   },
   {
    "duration": 137,
    "start_time": "2023-05-16T14:32:45.312Z"
   },
   {
    "duration": 0,
    "start_time": "2023-05-16T14:32:45.451Z"
   },
   {
    "duration": 0,
    "start_time": "2023-05-16T14:32:45.452Z"
   },
   {
    "duration": 0,
    "start_time": "2023-05-16T14:32:45.453Z"
   },
   {
    "duration": 0,
    "start_time": "2023-05-16T14:32:45.454Z"
   },
   {
    "duration": 197,
    "start_time": "2023-05-16T14:33:13.366Z"
   },
   {
    "duration": 662,
    "start_time": "2023-05-16T14:34:02.543Z"
   },
   {
    "duration": 13,
    "start_time": "2023-05-16T14:34:40.977Z"
   },
   {
    "duration": 196,
    "start_time": "2023-05-16T14:38:19.342Z"
   },
   {
    "duration": 1258,
    "start_time": "2023-05-16T14:39:38.040Z"
   },
   {
    "duration": 47,
    "start_time": "2023-05-16T14:39:39.301Z"
   },
   {
    "duration": 6,
    "start_time": "2023-05-16T14:39:39.350Z"
   },
   {
    "duration": 67,
    "start_time": "2023-05-16T14:39:39.358Z"
   },
   {
    "duration": 6,
    "start_time": "2023-05-16T14:39:39.429Z"
   },
   {
    "duration": 22,
    "start_time": "2023-05-16T14:39:39.438Z"
   },
   {
    "duration": 35,
    "start_time": "2023-05-16T14:39:39.462Z"
   },
   {
    "duration": 42,
    "start_time": "2023-05-16T14:39:39.499Z"
   },
   {
    "duration": 7,
    "start_time": "2023-05-16T14:39:39.543Z"
   },
   {
    "duration": 20,
    "start_time": "2023-05-16T14:39:39.552Z"
   },
   {
    "duration": 23,
    "start_time": "2023-05-16T14:39:39.574Z"
   },
   {
    "duration": 20,
    "start_time": "2023-05-16T14:39:39.600Z"
   },
   {
    "duration": 23,
    "start_time": "2023-05-16T14:39:39.623Z"
   },
   {
    "duration": 381,
    "start_time": "2023-05-16T14:39:39.651Z"
   },
   {
    "duration": 16,
    "start_time": "2023-05-16T14:39:40.034Z"
   },
   {
    "duration": 17,
    "start_time": "2023-05-16T14:39:40.052Z"
   },
   {
    "duration": 10,
    "start_time": "2023-05-16T14:39:40.071Z"
   },
   {
    "duration": 595,
    "start_time": "2023-05-16T14:39:40.084Z"
   },
   {
    "duration": 329,
    "start_time": "2023-05-16T14:39:40.681Z"
   },
   {
    "duration": 428,
    "start_time": "2023-05-16T14:39:41.013Z"
   },
   {
    "duration": 305,
    "start_time": "2023-05-16T14:39:41.455Z"
   },
   {
    "duration": 391,
    "start_time": "2023-05-16T14:39:41.763Z"
   },
   {
    "duration": 249,
    "start_time": "2023-05-16T14:39:42.158Z"
   },
   {
    "duration": 6,
    "start_time": "2023-05-16T14:39:42.410Z"
   },
   {
    "duration": 344,
    "start_time": "2023-05-16T14:39:42.424Z"
   },
   {
    "duration": 8,
    "start_time": "2023-05-16T14:39:42.770Z"
   },
   {
    "duration": 435,
    "start_time": "2023-05-16T14:39:42.780Z"
   },
   {
    "duration": 12,
    "start_time": "2023-05-16T14:39:43.217Z"
   },
   {
    "duration": 185,
    "start_time": "2023-05-16T14:39:43.231Z"
   },
   {
    "duration": 0,
    "start_time": "2023-05-16T14:39:43.419Z"
   },
   {
    "duration": 0,
    "start_time": "2023-05-16T14:39:43.421Z"
   },
   {
    "duration": 0,
    "start_time": "2023-05-16T14:39:43.423Z"
   },
   {
    "duration": 2359,
    "start_time": "2023-05-16T14:47:00.403Z"
   },
   {
    "duration": 45,
    "start_time": "2023-05-16T14:48:13.542Z"
   },
   {
    "duration": 16,
    "start_time": "2023-05-16T14:48:34.247Z"
   },
   {
    "duration": 315,
    "start_time": "2023-05-16T14:49:10.368Z"
   },
   {
    "duration": 16,
    "start_time": "2023-05-16T14:49:31.857Z"
   },
   {
    "duration": 13,
    "start_time": "2023-05-16T14:50:58.300Z"
   },
   {
    "duration": 15,
    "start_time": "2023-05-16T14:51:12.502Z"
   },
   {
    "duration": 12,
    "start_time": "2023-05-16T14:59:31.449Z"
   },
   {
    "duration": 228,
    "start_time": "2023-05-16T14:59:50.448Z"
   },
   {
    "duration": 13,
    "start_time": "2023-05-16T14:59:54.541Z"
   },
   {
    "duration": 11,
    "start_time": "2023-05-16T14:59:58.560Z"
   },
   {
    "duration": 5,
    "start_time": "2023-05-16T15:00:25.883Z"
   },
   {
    "duration": 10,
    "start_time": "2023-05-16T15:00:29.686Z"
   },
   {
    "duration": 17,
    "start_time": "2023-05-16T15:01:25.699Z"
   },
   {
    "duration": 17,
    "start_time": "2023-05-16T15:02:17.764Z"
   },
   {
    "duration": 4533,
    "start_time": "2023-05-16T15:05:34.552Z"
   },
   {
    "duration": 14,
    "start_time": "2023-05-16T15:05:55.946Z"
   },
   {
    "duration": 6,
    "start_time": "2023-05-16T15:06:05.251Z"
   },
   {
    "duration": 7,
    "start_time": "2023-05-16T15:06:30.719Z"
   },
   {
    "duration": 4,
    "start_time": "2023-05-16T15:06:59.680Z"
   },
   {
    "duration": 11,
    "start_time": "2023-05-16T15:07:05.049Z"
   },
   {
    "duration": 5,
    "start_time": "2023-05-16T15:07:23.970Z"
   },
   {
    "duration": 10,
    "start_time": "2023-05-16T15:07:27.554Z"
   },
   {
    "duration": 6,
    "start_time": "2023-05-16T15:08:38.654Z"
   },
   {
    "duration": 14,
    "start_time": "2023-05-16T15:08:39.810Z"
   },
   {
    "duration": 9,
    "start_time": "2023-05-16T15:10:16.098Z"
   },
   {
    "duration": 208,
    "start_time": "2023-05-16T15:10:34.452Z"
   },
   {
    "duration": 6,
    "start_time": "2023-05-16T15:10:35.354Z"
   },
   {
    "duration": 10,
    "start_time": "2023-05-16T15:11:37.690Z"
   },
   {
    "duration": 13,
    "start_time": "2023-05-16T15:12:34.203Z"
   },
   {
    "duration": 20,
    "start_time": "2023-05-16T15:14:14.170Z"
   },
   {
    "duration": 11,
    "start_time": "2023-05-16T15:14:28.678Z"
   },
   {
    "duration": 1636,
    "start_time": "2023-05-16T15:15:15.085Z"
   },
   {
    "duration": 58,
    "start_time": "2023-05-16T15:15:16.724Z"
   },
   {
    "duration": 9,
    "start_time": "2023-05-16T15:15:16.785Z"
   },
   {
    "duration": 78,
    "start_time": "2023-05-16T15:15:16.796Z"
   },
   {
    "duration": 8,
    "start_time": "2023-05-16T15:15:16.878Z"
   },
   {
    "duration": 10,
    "start_time": "2023-05-16T15:15:16.888Z"
   },
   {
    "duration": 20,
    "start_time": "2023-05-16T15:15:16.901Z"
   },
   {
    "duration": 58,
    "start_time": "2023-05-16T15:15:16.924Z"
   },
   {
    "duration": 6,
    "start_time": "2023-05-16T15:15:16.984Z"
   },
   {
    "duration": 16,
    "start_time": "2023-05-16T15:15:16.991Z"
   },
   {
    "duration": 21,
    "start_time": "2023-05-16T15:15:17.009Z"
   },
   {
    "duration": 123,
    "start_time": "2023-05-16T15:15:17.032Z"
   },
   {
    "duration": 19,
    "start_time": "2023-05-16T15:15:17.157Z"
   },
   {
    "duration": 498,
    "start_time": "2023-05-16T15:15:17.181Z"
   },
   {
    "duration": 13,
    "start_time": "2023-05-16T15:15:17.681Z"
   },
   {
    "duration": 33,
    "start_time": "2023-05-16T15:15:17.696Z"
   },
   {
    "duration": 10,
    "start_time": "2023-05-16T15:15:17.731Z"
   },
   {
    "duration": 450,
    "start_time": "2023-05-16T15:15:17.742Z"
   },
   {
    "duration": 393,
    "start_time": "2023-05-16T15:15:18.194Z"
   },
   {
    "duration": 520,
    "start_time": "2023-05-16T15:15:18.589Z"
   },
   {
    "duration": 452,
    "start_time": "2023-05-16T15:15:19.112Z"
   },
   {
    "duration": 461,
    "start_time": "2023-05-16T15:15:19.566Z"
   },
   {
    "duration": 285,
    "start_time": "2023-05-16T15:15:20.030Z"
   },
   {
    "duration": 5,
    "start_time": "2023-05-16T15:15:20.317Z"
   },
   {
    "duration": 233,
    "start_time": "2023-05-16T15:15:20.325Z"
   },
   {
    "duration": 6,
    "start_time": "2023-05-16T15:15:20.561Z"
   },
   {
    "duration": 406,
    "start_time": "2023-05-16T15:15:20.569Z"
   },
   {
    "duration": 16,
    "start_time": "2023-05-16T15:15:20.977Z"
   },
   {
    "duration": 37,
    "start_time": "2023-05-16T15:15:20.995Z"
   },
   {
    "duration": 160,
    "start_time": "2023-05-16T15:15:21.034Z"
   },
   {
    "duration": 0,
    "start_time": "2023-05-16T15:15:21.196Z"
   },
   {
    "duration": 0,
    "start_time": "2023-05-16T15:15:21.197Z"
   },
   {
    "duration": 9,
    "start_time": "2023-05-16T15:19:07.090Z"
   },
   {
    "duration": 6,
    "start_time": "2023-05-16T15:19:13.641Z"
   },
   {
    "duration": 6,
    "start_time": "2023-05-16T15:19:43.933Z"
   },
   {
    "duration": 13,
    "start_time": "2023-05-16T15:21:02.091Z"
   },
   {
    "duration": 9,
    "start_time": "2023-05-16T15:21:38.582Z"
   },
   {
    "duration": 6,
    "start_time": "2023-05-16T15:23:04.433Z"
   },
   {
    "duration": 14,
    "start_time": "2023-05-16T15:24:18.321Z"
   },
   {
    "duration": 13,
    "start_time": "2023-05-16T15:24:24.962Z"
   },
   {
    "duration": 14,
    "start_time": "2023-05-16T15:24:32.736Z"
   },
   {
    "duration": 242,
    "start_time": "2023-05-16T15:25:24.439Z"
   },
   {
    "duration": 447,
    "start_time": "2023-05-16T15:26:00.299Z"
   },
   {
    "duration": 10,
    "start_time": "2023-05-16T15:28:41.549Z"
   },
   {
    "duration": 8,
    "start_time": "2023-05-16T15:28:42.449Z"
   },
   {
    "duration": 12,
    "start_time": "2023-05-16T15:28:43.229Z"
   },
   {
    "duration": 16,
    "start_time": "2023-05-16T15:28:57.278Z"
   },
   {
    "duration": 15,
    "start_time": "2023-05-16T15:29:14.335Z"
   },
   {
    "duration": 7,
    "start_time": "2023-05-16T15:38:01.782Z"
   },
   {
    "duration": 9,
    "start_time": "2023-05-16T15:43:33.151Z"
   },
   {
    "duration": 6,
    "start_time": "2023-05-16T15:43:51.350Z"
   },
   {
    "duration": 662,
    "start_time": "2023-05-16T15:46:53.615Z"
   },
   {
    "duration": 431,
    "start_time": "2023-05-16T15:48:09.452Z"
   },
   {
    "duration": 150,
    "start_time": "2023-05-16T15:48:15.747Z"
   },
   {
    "duration": 2416,
    "start_time": "2023-05-16T15:49:13.933Z"
   },
   {
    "duration": 4516,
    "start_time": "2023-05-16T15:50:01.813Z"
   },
   {
    "duration": 1262,
    "start_time": "2023-05-16T15:50:21.407Z"
   },
   {
    "duration": 51,
    "start_time": "2023-05-16T15:50:22.672Z"
   },
   {
    "duration": 6,
    "start_time": "2023-05-16T15:50:22.725Z"
   },
   {
    "duration": 73,
    "start_time": "2023-05-16T15:50:22.733Z"
   },
   {
    "duration": 6,
    "start_time": "2023-05-16T15:50:22.808Z"
   },
   {
    "duration": 27,
    "start_time": "2023-05-16T15:50:22.816Z"
   },
   {
    "duration": 41,
    "start_time": "2023-05-16T15:50:22.844Z"
   },
   {
    "duration": 53,
    "start_time": "2023-05-16T15:50:22.887Z"
   },
   {
    "duration": 11,
    "start_time": "2023-05-16T15:50:22.942Z"
   },
   {
    "duration": 68,
    "start_time": "2023-05-16T15:50:22.955Z"
   },
   {
    "duration": 70,
    "start_time": "2023-05-16T15:50:23.025Z"
   },
   {
    "duration": 36,
    "start_time": "2023-05-16T15:50:23.097Z"
   },
   {
    "duration": 50,
    "start_time": "2023-05-16T15:50:23.135Z"
   },
   {
    "duration": 371,
    "start_time": "2023-05-16T15:50:23.189Z"
   },
   {
    "duration": 10,
    "start_time": "2023-05-16T15:50:23.562Z"
   },
   {
    "duration": 50,
    "start_time": "2023-05-16T15:50:23.574Z"
   },
   {
    "duration": 69,
    "start_time": "2023-05-16T15:50:23.626Z"
   },
   {
    "duration": 400,
    "start_time": "2023-05-16T15:50:23.696Z"
   },
   {
    "duration": 279,
    "start_time": "2023-05-16T15:50:24.098Z"
   },
   {
    "duration": 362,
    "start_time": "2023-05-16T15:50:24.379Z"
   },
   {
    "duration": 318,
    "start_time": "2023-05-16T15:50:24.746Z"
   },
   {
    "duration": 347,
    "start_time": "2023-05-16T15:50:25.066Z"
   },
   {
    "duration": 203,
    "start_time": "2023-05-16T15:50:25.415Z"
   },
   {
    "duration": 5,
    "start_time": "2023-05-16T15:50:25.620Z"
   },
   {
    "duration": 228,
    "start_time": "2023-05-16T15:50:25.627Z"
   },
   {
    "duration": 4,
    "start_time": "2023-05-16T15:50:25.857Z"
   },
   {
    "duration": 273,
    "start_time": "2023-05-16T15:50:25.863Z"
   },
   {
    "duration": 10,
    "start_time": "2023-05-16T15:50:26.145Z"
   },
   {
    "duration": 14,
    "start_time": "2023-05-16T15:50:26.157Z"
   },
   {
    "duration": 2755,
    "start_time": "2023-05-16T15:50:26.173Z"
   },
   {
    "duration": 0,
    "start_time": "2023-05-16T15:50:28.931Z"
   },
   {
    "duration": 0,
    "start_time": "2023-05-16T15:50:28.932Z"
   },
   {
    "duration": 0,
    "start_time": "2023-05-16T15:50:28.934Z"
   },
   {
    "duration": 15,
    "start_time": "2023-05-16T15:52:12.395Z"
   },
   {
    "duration": 167,
    "start_time": "2023-05-16T15:52:55.290Z"
   },
   {
    "duration": 180,
    "start_time": "2023-05-16T15:55:18.605Z"
   },
   {
    "duration": 30,
    "start_time": "2023-05-16T15:56:20.941Z"
   },
   {
    "duration": 49,
    "start_time": "2023-05-16T15:57:06.982Z"
   },
   {
    "duration": 6,
    "start_time": "2023-05-16T16:03:47.990Z"
   },
   {
    "duration": 6,
    "start_time": "2023-05-16T16:03:48.551Z"
   },
   {
    "duration": 16,
    "start_time": "2023-05-16T16:03:57.719Z"
   },
   {
    "duration": 1410,
    "start_time": "2023-05-16T16:06:18.613Z"
   },
   {
    "duration": 2879,
    "start_time": "2023-05-16T16:07:36.148Z"
   },
   {
    "duration": 11,
    "start_time": "2023-05-16T16:09:18.711Z"
   },
   {
    "duration": 5,
    "start_time": "2023-05-16T16:09:29.286Z"
   },
   {
    "duration": 18,
    "start_time": "2023-05-16T16:10:44.847Z"
   },
   {
    "duration": 9,
    "start_time": "2023-05-17T06:35:43.197Z"
   },
   {
    "duration": 8,
    "start_time": "2023-05-17T06:36:07.494Z"
   },
   {
    "duration": 6,
    "start_time": "2023-05-17T06:36:39.972Z"
   },
   {
    "duration": 216,
    "start_time": "2023-05-17T06:37:02.948Z"
   },
   {
    "duration": 1342,
    "start_time": "2023-05-17T07:11:36.163Z"
   },
   {
    "duration": 48,
    "start_time": "2023-05-17T07:11:37.507Z"
   },
   {
    "duration": 7,
    "start_time": "2023-05-17T07:11:37.557Z"
   },
   {
    "duration": 71,
    "start_time": "2023-05-17T07:11:37.567Z"
   },
   {
    "duration": 6,
    "start_time": "2023-05-17T07:11:37.639Z"
   },
   {
    "duration": 41,
    "start_time": "2023-05-17T07:11:37.647Z"
   },
   {
    "duration": 15,
    "start_time": "2023-05-17T07:11:37.690Z"
   },
   {
    "duration": 35,
    "start_time": "2023-05-17T07:11:37.707Z"
   },
   {
    "duration": 18,
    "start_time": "2023-05-17T07:11:37.744Z"
   },
   {
    "duration": 27,
    "start_time": "2023-05-17T07:11:37.765Z"
   },
   {
    "duration": 17,
    "start_time": "2023-05-17T07:11:37.794Z"
   },
   {
    "duration": 29,
    "start_time": "2023-05-17T07:11:37.813Z"
   },
   {
    "duration": 29,
    "start_time": "2023-05-17T07:11:37.844Z"
   },
   {
    "duration": 350,
    "start_time": "2023-05-17T07:11:37.879Z"
   },
   {
    "duration": 9,
    "start_time": "2023-05-17T07:11:38.231Z"
   },
   {
    "duration": 41,
    "start_time": "2023-05-17T07:11:38.246Z"
   },
   {
    "duration": 15,
    "start_time": "2023-05-17T07:11:38.289Z"
   },
   {
    "duration": 444,
    "start_time": "2023-05-17T07:11:38.306Z"
   },
   {
    "duration": 295,
    "start_time": "2023-05-17T07:11:38.757Z"
   },
   {
    "duration": 368,
    "start_time": "2023-05-17T07:11:39.058Z"
   },
   {
    "duration": 388,
    "start_time": "2023-05-17T07:11:39.428Z"
   },
   {
    "duration": 424,
    "start_time": "2023-05-17T07:11:39.818Z"
   },
   {
    "duration": 234,
    "start_time": "2023-05-17T07:11:40.246Z"
   },
   {
    "duration": 6,
    "start_time": "2023-05-17T07:11:40.482Z"
   },
   {
    "duration": 244,
    "start_time": "2023-05-17T07:11:40.490Z"
   },
   {
    "duration": 10,
    "start_time": "2023-05-17T07:11:40.736Z"
   },
   {
    "duration": 285,
    "start_time": "2023-05-17T07:11:40.750Z"
   },
   {
    "duration": 11,
    "start_time": "2023-05-17T07:11:41.049Z"
   },
   {
    "duration": 36,
    "start_time": "2023-05-17T07:11:41.066Z"
   },
   {
    "duration": 52,
    "start_time": "2023-05-17T07:11:41.104Z"
   },
   {
    "duration": 48,
    "start_time": "2023-05-17T07:11:41.158Z"
   },
   {
    "duration": 1034,
    "start_time": "2023-05-17T18:04:08.351Z"
   },
   {
    "duration": 47,
    "start_time": "2023-05-17T18:04:09.387Z"
   },
   {
    "duration": 73,
    "start_time": "2023-05-17T18:04:09.435Z"
   },
   {
    "duration": 73,
    "start_time": "2023-05-17T18:04:09.510Z"
   },
   {
    "duration": 7,
    "start_time": "2023-05-17T18:04:09.584Z"
   },
   {
    "duration": 39,
    "start_time": "2023-05-17T18:04:09.592Z"
   },
   {
    "duration": 17,
    "start_time": "2023-05-17T18:04:09.633Z"
   },
   {
    "duration": 34,
    "start_time": "2023-05-17T18:04:09.652Z"
   },
   {
    "duration": 12,
    "start_time": "2023-05-17T18:04:09.687Z"
   },
   {
    "duration": 33,
    "start_time": "2023-05-17T18:04:09.701Z"
   },
   {
    "duration": 10,
    "start_time": "2023-05-17T18:04:09.736Z"
   },
   {
    "duration": 11,
    "start_time": "2023-05-17T18:04:09.747Z"
   },
   {
    "duration": 11,
    "start_time": "2023-05-17T18:04:09.759Z"
   },
   {
    "duration": 332,
    "start_time": "2023-05-17T18:04:09.771Z"
   },
   {
    "duration": 8,
    "start_time": "2023-05-17T18:04:10.104Z"
   },
   {
    "duration": 42,
    "start_time": "2023-05-17T18:04:10.114Z"
   },
   {
    "duration": 15,
    "start_time": "2023-05-17T18:04:10.158Z"
   },
   {
    "duration": 401,
    "start_time": "2023-05-17T18:04:10.175Z"
   },
   {
    "duration": 269,
    "start_time": "2023-05-17T18:04:10.578Z"
   },
   {
    "duration": 365,
    "start_time": "2023-05-17T18:04:10.848Z"
   },
   {
    "duration": 253,
    "start_time": "2023-05-17T18:04:11.215Z"
   },
   {
    "duration": 376,
    "start_time": "2023-05-17T18:04:11.470Z"
   },
   {
    "duration": 172,
    "start_time": "2023-05-17T18:04:11.847Z"
   },
   {
    "duration": 4,
    "start_time": "2023-05-17T18:04:12.021Z"
   },
   {
    "duration": 177,
    "start_time": "2023-05-17T18:04:12.026Z"
   },
   {
    "duration": 4,
    "start_time": "2023-05-17T18:04:12.204Z"
   },
   {
    "duration": 212,
    "start_time": "2023-05-17T18:04:12.209Z"
   },
   {
    "duration": 9,
    "start_time": "2023-05-17T18:04:12.425Z"
   },
   {
    "duration": 23,
    "start_time": "2023-05-17T18:04:12.435Z"
   },
   {
    "duration": 30,
    "start_time": "2023-05-17T18:04:12.459Z"
   },
   {
    "duration": 17,
    "start_time": "2023-05-17T18:04:12.491Z"
   },
   {
    "duration": 103,
    "start_time": "2023-05-18T02:49:34.969Z"
   },
   {
    "duration": 8,
    "start_time": "2023-05-18T02:50:17.334Z"
   },
   {
    "duration": 13,
    "start_time": "2023-05-18T02:50:20.628Z"
   },
   {
    "duration": 23,
    "start_time": "2023-05-18T02:50:54.300Z"
   },
   {
    "duration": 7,
    "start_time": "2023-05-18T02:51:20.876Z"
   },
   {
    "duration": 22,
    "start_time": "2023-05-18T02:51:22.917Z"
   },
   {
    "duration": 6,
    "start_time": "2023-05-18T02:51:46.116Z"
   },
   {
    "duration": 24,
    "start_time": "2023-05-18T02:51:48.116Z"
   },
   {
    "duration": 7,
    "start_time": "2023-05-18T02:53:44.459Z"
   },
   {
    "duration": 69,
    "start_time": "2023-05-18T07:00:38.689Z"
   },
   {
    "duration": 1654,
    "start_time": "2023-05-18T07:00:52.968Z"
   },
   {
    "duration": 139,
    "start_time": "2023-05-18T07:00:54.629Z"
   },
   {
    "duration": 14,
    "start_time": "2023-05-18T07:00:54.777Z"
   },
   {
    "duration": 131,
    "start_time": "2023-05-18T07:00:56.171Z"
   },
   {
    "duration": 9,
    "start_time": "2023-05-18T07:00:56.880Z"
   },
   {
    "duration": 10,
    "start_time": "2023-05-18T07:00:57.369Z"
   },
   {
    "duration": 18,
    "start_time": "2023-05-18T07:00:57.876Z"
   },
   {
    "duration": 99,
    "start_time": "2023-05-18T07:00:59.020Z"
   },
   {
    "duration": 6,
    "start_time": "2023-05-18T07:00:59.408Z"
   },
   {
    "duration": 5,
    "start_time": "2023-05-18T07:00:59.919Z"
   },
   {
    "duration": 11,
    "start_time": "2023-05-18T07:01:00.412Z"
   },
   {
    "duration": 4,
    "start_time": "2023-05-18T07:01:03.731Z"
   },
   {
    "duration": 4,
    "start_time": "2023-05-18T07:01:21.759Z"
   },
   {
    "duration": 19,
    "start_time": "2023-05-18T07:02:38.441Z"
   },
   {
    "duration": 78,
    "start_time": "2023-05-18T07:06:34.867Z"
   },
   {
    "duration": 5,
    "start_time": "2023-05-18T07:07:08.504Z"
   },
   {
    "duration": 5,
    "start_time": "2023-05-18T07:07:13.614Z"
   },
   {
    "duration": 84,
    "start_time": "2023-05-18T07:07:18.072Z"
   },
   {
    "duration": 167,
    "start_time": "2023-05-18T07:07:29.981Z"
   },
   {
    "duration": 32,
    "start_time": "2023-05-18T07:07:31.808Z"
   },
   {
    "duration": 28,
    "start_time": "2023-05-18T07:07:43.077Z"
   },
   {
    "duration": 11,
    "start_time": "2023-05-18T07:08:00.067Z"
   },
   {
    "duration": 11,
    "start_time": "2023-05-18T07:08:12.378Z"
   },
   {
    "duration": 16,
    "start_time": "2023-05-18T07:09:36.683Z"
   },
   {
    "duration": 23,
    "start_time": "2023-05-18T07:09:41.575Z"
   },
   {
    "duration": 12,
    "start_time": "2023-05-18T07:09:47.375Z"
   },
   {
    "duration": 8,
    "start_time": "2023-05-18T07:10:20.186Z"
   },
   {
    "duration": 7,
    "start_time": "2023-05-18T07:11:01.272Z"
   },
   {
    "duration": 15,
    "start_time": "2023-05-18T07:11:11.672Z"
   },
   {
    "duration": 11,
    "start_time": "2023-05-18T07:12:17.193Z"
   },
   {
    "duration": 14,
    "start_time": "2023-05-18T07:15:04.864Z"
   },
   {
    "duration": 9,
    "start_time": "2023-05-18T07:15:06.668Z"
   },
   {
    "duration": 21,
    "start_time": "2023-05-18T07:16:04.851Z"
   },
   {
    "duration": 21,
    "start_time": "2023-05-18T07:16:30.123Z"
   },
   {
    "duration": 24,
    "start_time": "2023-05-18T07:16:35.545Z"
   },
   {
    "duration": 1575,
    "start_time": "2023-05-18T07:21:16.381Z"
   },
   {
    "duration": 6,
    "start_time": "2023-05-18T07:21:27.782Z"
   },
   {
    "duration": 16,
    "start_time": "2023-05-18T07:22:03.970Z"
   },
   {
    "duration": 12,
    "start_time": "2023-05-18T07:22:27.390Z"
   },
   {
    "duration": 12,
    "start_time": "2023-05-18T07:23:05.009Z"
   },
   {
    "duration": 9,
    "start_time": "2023-05-18T07:23:16.920Z"
   },
   {
    "duration": 3211,
    "start_time": "2023-05-18T07:25:09.571Z"
   },
   {
    "duration": 39,
    "start_time": "2023-05-18T07:25:20.380Z"
   },
   {
    "duration": 25,
    "start_time": "2023-05-18T07:25:31.587Z"
   },
   {
    "duration": 26,
    "start_time": "2023-05-18T07:25:32.160Z"
   },
   {
    "duration": 42,
    "start_time": "2023-05-18T07:25:34.416Z"
   },
   {
    "duration": 6,
    "start_time": "2023-05-18T07:27:11.165Z"
   },
   {
    "duration": 32,
    "start_time": "2023-05-18T07:27:28.740Z"
   },
   {
    "duration": 20,
    "start_time": "2023-05-18T07:28:30.326Z"
   },
   {
    "duration": 40,
    "start_time": "2023-05-18T07:28:46.510Z"
   },
   {
    "duration": 30,
    "start_time": "2023-05-18T07:29:03.772Z"
   },
   {
    "duration": 23,
    "start_time": "2023-05-18T07:29:09.391Z"
   },
   {
    "duration": 32,
    "start_time": "2023-05-18T07:29:11.188Z"
   },
   {
    "duration": 1897,
    "start_time": "2023-05-18T07:29:18.137Z"
   },
   {
    "duration": 103,
    "start_time": "2023-05-18T07:29:20.037Z"
   },
   {
    "duration": 11,
    "start_time": "2023-05-18T07:29:20.146Z"
   },
   {
    "duration": 139,
    "start_time": "2023-05-18T07:29:20.163Z"
   },
   {
    "duration": 35,
    "start_time": "2023-05-18T07:29:20.311Z"
   },
   {
    "duration": 22,
    "start_time": "2023-05-18T07:29:20.356Z"
   },
   {
    "duration": 29,
    "start_time": "2023-05-18T07:29:20.384Z"
   },
   {
    "duration": 62,
    "start_time": "2023-05-18T07:29:20.419Z"
   },
   {
    "duration": 17,
    "start_time": "2023-05-18T07:29:20.490Z"
   },
   {
    "duration": 7,
    "start_time": "2023-05-18T07:29:20.514Z"
   },
   {
    "duration": 28,
    "start_time": "2023-05-18T07:29:20.527Z"
   },
   {
    "duration": 10,
    "start_time": "2023-05-18T07:29:20.567Z"
   },
   {
    "duration": 14,
    "start_time": "2023-05-18T07:29:20.584Z"
   },
   {
    "duration": 29,
    "start_time": "2023-05-18T07:29:20.607Z"
   },
   {
    "duration": 190,
    "start_time": "2023-05-18T07:29:20.644Z"
   },
   {
    "duration": 0,
    "start_time": "2023-05-18T07:29:20.840Z"
   },
   {
    "duration": 0,
    "start_time": "2023-05-18T07:29:20.846Z"
   },
   {
    "duration": 0,
    "start_time": "2023-05-18T07:29:20.853Z"
   },
   {
    "duration": 0,
    "start_time": "2023-05-18T07:29:20.859Z"
   },
   {
    "duration": 0,
    "start_time": "2023-05-18T07:29:20.865Z"
   },
   {
    "duration": 0,
    "start_time": "2023-05-18T07:29:20.870Z"
   },
   {
    "duration": 0,
    "start_time": "2023-05-18T07:29:20.875Z"
   },
   {
    "duration": 0,
    "start_time": "2023-05-18T07:29:20.877Z"
   },
   {
    "duration": 0,
    "start_time": "2023-05-18T07:29:20.878Z"
   },
   {
    "duration": 0,
    "start_time": "2023-05-18T07:29:20.889Z"
   },
   {
    "duration": 0,
    "start_time": "2023-05-18T07:29:20.891Z"
   },
   {
    "duration": 0,
    "start_time": "2023-05-18T07:29:20.892Z"
   },
   {
    "duration": 0,
    "start_time": "2023-05-18T07:29:20.894Z"
   },
   {
    "duration": 0,
    "start_time": "2023-05-18T07:29:20.895Z"
   },
   {
    "duration": 0,
    "start_time": "2023-05-18T07:29:20.897Z"
   },
   {
    "duration": 0,
    "start_time": "2023-05-18T07:29:20.898Z"
   },
   {
    "duration": 1,
    "start_time": "2023-05-18T07:29:20.899Z"
   },
   {
    "duration": 0,
    "start_time": "2023-05-18T07:29:20.901Z"
   },
   {
    "duration": 0,
    "start_time": "2023-05-18T07:29:20.903Z"
   },
   {
    "duration": 14,
    "start_time": "2023-05-18T07:31:45.109Z"
   },
   {
    "duration": 1672,
    "start_time": "2023-05-18T07:32:06.857Z"
   },
   {
    "duration": 100,
    "start_time": "2023-05-18T07:32:08.536Z"
   },
   {
    "duration": 7,
    "start_time": "2023-05-18T07:32:08.638Z"
   },
   {
    "duration": 99,
    "start_time": "2023-05-18T07:32:08.648Z"
   },
   {
    "duration": 14,
    "start_time": "2023-05-18T07:32:08.749Z"
   },
   {
    "duration": 7,
    "start_time": "2023-05-18T07:32:08.765Z"
   },
   {
    "duration": 31,
    "start_time": "2023-05-18T07:32:08.775Z"
   },
   {
    "duration": 56,
    "start_time": "2023-05-18T07:32:08.814Z"
   },
   {
    "duration": 14,
    "start_time": "2023-05-18T07:32:08.904Z"
   },
   {
    "duration": 8,
    "start_time": "2023-05-18T07:32:08.923Z"
   },
   {
    "duration": 33,
    "start_time": "2023-05-18T07:32:08.933Z"
   },
   {
    "duration": 12,
    "start_time": "2023-05-18T07:32:08.970Z"
   },
   {
    "duration": 18,
    "start_time": "2023-05-18T07:32:08.987Z"
   },
   {
    "duration": 26,
    "start_time": "2023-05-18T07:32:09.009Z"
   },
   {
    "duration": 38,
    "start_time": "2023-05-18T07:32:09.037Z"
   },
   {
    "duration": 27,
    "start_time": "2023-05-18T07:32:09.081Z"
   },
   {
    "duration": 412,
    "start_time": "2023-05-18T07:32:09.114Z"
   },
   {
    "duration": 34,
    "start_time": "2023-05-18T07:32:09.528Z"
   },
   {
    "duration": 49,
    "start_time": "2023-05-18T07:32:09.585Z"
   },
   {
    "duration": 13,
    "start_time": "2023-05-18T07:32:09.639Z"
   },
   {
    "duration": 538,
    "start_time": "2023-05-18T07:32:09.658Z"
   },
   {
    "duration": 389,
    "start_time": "2023-05-18T07:32:10.201Z"
   },
   {
    "duration": 538,
    "start_time": "2023-05-18T07:32:10.596Z"
   },
   {
    "duration": 446,
    "start_time": "2023-05-18T07:32:11.140Z"
   },
   {
    "duration": 435,
    "start_time": "2023-05-18T07:32:11.595Z"
   },
   {
    "duration": 311,
    "start_time": "2023-05-18T07:32:12.035Z"
   },
   {
    "duration": 18,
    "start_time": "2023-05-18T07:32:12.348Z"
   },
   {
    "duration": 398,
    "start_time": "2023-05-18T07:32:12.370Z"
   },
   {
    "duration": 7,
    "start_time": "2023-05-18T07:32:12.770Z"
   },
   {
    "duration": 442,
    "start_time": "2023-05-18T07:32:12.787Z"
   },
   {
    "duration": 31,
    "start_time": "2023-05-18T07:32:13.231Z"
   },
   {
    "duration": 18,
    "start_time": "2023-05-18T07:32:13.266Z"
   },
   {
    "duration": 73,
    "start_time": "2023-05-18T07:32:13.300Z"
   },
   {
    "duration": 29,
    "start_time": "2023-05-18T07:32:13.379Z"
   },
   {
    "duration": 49,
    "start_time": "2023-05-18T07:32:30.799Z"
   },
   {
    "duration": 1582,
    "start_time": "2023-05-18T07:33:04.808Z"
   },
   {
    "duration": 87,
    "start_time": "2023-05-18T07:33:06.402Z"
   },
   {
    "duration": 14,
    "start_time": "2023-05-18T07:33:06.495Z"
   },
   {
    "duration": 119,
    "start_time": "2023-05-18T07:33:06.518Z"
   },
   {
    "duration": 9,
    "start_time": "2023-05-18T07:33:06.646Z"
   },
   {
    "duration": 16,
    "start_time": "2023-05-18T07:33:06.663Z"
   },
   {
    "duration": 18,
    "start_time": "2023-05-18T07:33:06.682Z"
   },
   {
    "duration": 78,
    "start_time": "2023-05-18T07:33:06.704Z"
   },
   {
    "duration": 8,
    "start_time": "2023-05-18T07:33:06.790Z"
   },
   {
    "duration": 20,
    "start_time": "2023-05-18T07:33:06.801Z"
   },
   {
    "duration": 40,
    "start_time": "2023-05-18T07:33:06.823Z"
   },
   {
    "duration": 7,
    "start_time": "2023-05-18T07:33:06.865Z"
   },
   {
    "duration": 17,
    "start_time": "2023-05-18T07:33:06.874Z"
   },
   {
    "duration": 30,
    "start_time": "2023-05-18T07:33:06.895Z"
   },
   {
    "duration": 20,
    "start_time": "2023-05-18T07:33:06.928Z"
   },
   {
    "duration": 23,
    "start_time": "2023-05-18T07:33:06.950Z"
   },
   {
    "duration": 407,
    "start_time": "2023-05-18T07:33:06.975Z"
   },
   {
    "duration": 14,
    "start_time": "2023-05-18T07:33:07.384Z"
   },
   {
    "duration": 17,
    "start_time": "2023-05-18T07:33:07.400Z"
   },
   {
    "duration": 17,
    "start_time": "2023-05-18T07:33:07.424Z"
   },
   {
    "duration": 462,
    "start_time": "2023-05-18T07:33:07.446Z"
   },
   {
    "duration": 321,
    "start_time": "2023-05-18T07:33:07.910Z"
   },
   {
    "duration": 502,
    "start_time": "2023-05-18T07:33:08.236Z"
   },
   {
    "duration": 414,
    "start_time": "2023-05-18T07:33:08.739Z"
   },
   {
    "duration": 444,
    "start_time": "2023-05-18T07:33:09.155Z"
   },
   {
    "duration": 437,
    "start_time": "2023-05-18T07:33:09.601Z"
   },
   {
    "duration": 7,
    "start_time": "2023-05-18T07:33:10.039Z"
   },
   {
    "duration": 402,
    "start_time": "2023-05-18T07:33:10.048Z"
   },
   {
    "duration": 29,
    "start_time": "2023-05-18T07:33:10.460Z"
   },
   {
    "duration": 523,
    "start_time": "2023-05-18T07:33:10.511Z"
   },
   {
    "duration": 20,
    "start_time": "2023-05-18T07:33:11.036Z"
   },
   {
    "duration": 14,
    "start_time": "2023-05-18T07:33:11.063Z"
   },
   {
    "duration": 70,
    "start_time": "2023-05-18T07:33:11.080Z"
   },
   {
    "duration": 47,
    "start_time": "2023-05-18T07:33:11.152Z"
   },
   {
    "duration": 35,
    "start_time": "2023-05-18T07:33:32.119Z"
   },
   {
    "duration": 37,
    "start_time": "2023-05-18T07:33:51.980Z"
   },
   {
    "duration": 1603,
    "start_time": "2023-05-18T07:33:58.277Z"
   },
   {
    "duration": 73,
    "start_time": "2023-05-18T07:33:59.889Z"
   },
   {
    "duration": 12,
    "start_time": "2023-05-18T07:33:59.966Z"
   },
   {
    "duration": 69,
    "start_time": "2023-05-18T07:33:59.979Z"
   },
   {
    "duration": 15,
    "start_time": "2023-05-18T07:34:00.051Z"
   },
   {
    "duration": 21,
    "start_time": "2023-05-18T07:34:00.068Z"
   },
   {
    "duration": 33,
    "start_time": "2023-05-18T07:34:00.092Z"
   },
   {
    "duration": 75,
    "start_time": "2023-05-18T07:34:00.128Z"
   },
   {
    "duration": 13,
    "start_time": "2023-05-18T07:34:00.208Z"
   },
   {
    "duration": 46,
    "start_time": "2023-05-18T07:34:00.226Z"
   },
   {
    "duration": 43,
    "start_time": "2023-05-18T07:34:00.278Z"
   },
   {
    "duration": 28,
    "start_time": "2023-05-18T07:34:00.331Z"
   },
   {
    "duration": 25,
    "start_time": "2023-05-18T07:34:00.365Z"
   },
   {
    "duration": 93,
    "start_time": "2023-05-18T07:34:00.397Z"
   },
   {
    "duration": 44,
    "start_time": "2023-05-18T07:34:00.503Z"
   },
   {
    "duration": 27,
    "start_time": "2023-05-18T07:34:00.553Z"
   },
   {
    "duration": 386,
    "start_time": "2023-05-18T07:34:00.586Z"
   },
   {
    "duration": 13,
    "start_time": "2023-05-18T07:34:00.978Z"
   },
   {
    "duration": 30,
    "start_time": "2023-05-18T07:34:00.997Z"
   },
   {
    "duration": 21,
    "start_time": "2023-05-18T07:34:01.032Z"
   },
   {
    "duration": 483,
    "start_time": "2023-05-18T07:34:01.059Z"
   },
   {
    "duration": 377,
    "start_time": "2023-05-18T07:34:01.547Z"
   },
   {
    "duration": 440,
    "start_time": "2023-05-18T07:34:01.930Z"
   },
   {
    "duration": 395,
    "start_time": "2023-05-18T07:34:02.382Z"
   },
   {
    "duration": 466,
    "start_time": "2023-05-18T07:34:02.778Z"
   },
   {
    "duration": 257,
    "start_time": "2023-05-18T07:34:03.255Z"
   },
   {
    "duration": 8,
    "start_time": "2023-05-18T07:34:03.517Z"
   },
   {
    "duration": 243,
    "start_time": "2023-05-18T07:34:03.531Z"
   },
   {
    "duration": 9,
    "start_time": "2023-05-18T07:34:03.780Z"
   },
   {
    "duration": 321,
    "start_time": "2023-05-18T07:34:03.795Z"
   },
   {
    "duration": 18,
    "start_time": "2023-05-18T07:34:04.124Z"
   },
   {
    "duration": 12,
    "start_time": "2023-05-18T07:34:04.150Z"
   },
   {
    "duration": 90,
    "start_time": "2023-05-18T07:34:04.174Z"
   },
   {
    "duration": 56,
    "start_time": "2023-05-18T07:34:04.278Z"
   },
   {
    "duration": 40,
    "start_time": "2023-05-18T07:34:28.076Z"
   },
   {
    "duration": 35,
    "start_time": "2023-05-18T07:34:35.484Z"
   },
   {
    "duration": 1421,
    "start_time": "2023-05-18T07:35:05.989Z"
   },
   {
    "duration": 54,
    "start_time": "2023-05-18T07:35:07.415Z"
   },
   {
    "duration": 11,
    "start_time": "2023-05-18T07:35:07.484Z"
   },
   {
    "duration": 88,
    "start_time": "2023-05-18T07:35:07.500Z"
   },
   {
    "duration": 10,
    "start_time": "2023-05-18T07:35:07.591Z"
   },
   {
    "duration": 5,
    "start_time": "2023-05-18T07:35:07.605Z"
   },
   {
    "duration": 16,
    "start_time": "2023-05-18T07:35:07.612Z"
   },
   {
    "duration": 44,
    "start_time": "2023-05-18T07:35:07.630Z"
   },
   {
    "duration": 12,
    "start_time": "2023-05-18T07:35:07.676Z"
   },
   {
    "duration": 6,
    "start_time": "2023-05-18T07:35:07.702Z"
   },
   {
    "duration": 13,
    "start_time": "2023-05-18T07:35:07.712Z"
   },
   {
    "duration": 6,
    "start_time": "2023-05-18T07:35:07.727Z"
   },
   {
    "duration": 6,
    "start_time": "2023-05-18T07:35:07.735Z"
   },
   {
    "duration": 31,
    "start_time": "2023-05-18T07:35:07.743Z"
   },
   {
    "duration": 27,
    "start_time": "2023-05-18T07:35:07.779Z"
   },
   {
    "duration": 20,
    "start_time": "2023-05-18T07:35:07.813Z"
   },
   {
    "duration": 407,
    "start_time": "2023-05-18T07:35:07.835Z"
   },
   {
    "duration": 20,
    "start_time": "2023-05-18T07:35:08.244Z"
   },
   {
    "duration": 15,
    "start_time": "2023-05-18T07:35:08.266Z"
   },
   {
    "duration": 10,
    "start_time": "2023-05-18T07:35:08.283Z"
   },
   {
    "duration": 466,
    "start_time": "2023-05-18T07:35:08.297Z"
   },
   {
    "duration": 288,
    "start_time": "2023-05-18T07:35:08.766Z"
   },
   {
    "duration": 414,
    "start_time": "2023-05-18T07:35:09.059Z"
   },
   {
    "duration": 417,
    "start_time": "2023-05-18T07:35:09.475Z"
   },
   {
    "duration": 386,
    "start_time": "2023-05-18T07:35:09.893Z"
   },
   {
    "duration": 303,
    "start_time": "2023-05-18T07:35:10.281Z"
   },
   {
    "duration": 9,
    "start_time": "2023-05-18T07:35:10.596Z"
   },
   {
    "duration": 286,
    "start_time": "2023-05-18T07:35:10.612Z"
   },
   {
    "duration": 10,
    "start_time": "2023-05-18T07:35:10.905Z"
   },
   {
    "duration": 349,
    "start_time": "2023-05-18T07:35:10.917Z"
   },
   {
    "duration": 20,
    "start_time": "2023-05-18T07:35:11.268Z"
   },
   {
    "duration": 30,
    "start_time": "2023-05-18T07:35:11.292Z"
   },
   {
    "duration": 52,
    "start_time": "2023-05-18T07:35:11.330Z"
   },
   {
    "duration": 21,
    "start_time": "2023-05-18T07:35:11.390Z"
   },
   {
    "duration": 1725,
    "start_time": "2023-05-18T07:35:58.298Z"
   },
   {
    "duration": 72,
    "start_time": "2023-05-18T07:36:00.026Z"
   },
   {
    "duration": 9,
    "start_time": "2023-05-18T07:36:00.100Z"
   },
   {
    "duration": 138,
    "start_time": "2023-05-18T07:36:00.111Z"
   },
   {
    "duration": 11,
    "start_time": "2023-05-18T07:36:00.272Z"
   },
   {
    "duration": 58,
    "start_time": "2023-05-18T07:36:00.288Z"
   },
   {
    "duration": 46,
    "start_time": "2023-05-18T07:36:00.348Z"
   },
   {
    "duration": 67,
    "start_time": "2023-05-18T07:36:00.398Z"
   },
   {
    "duration": 11,
    "start_time": "2023-05-18T07:36:00.472Z"
   },
   {
    "duration": 23,
    "start_time": "2023-05-18T07:36:00.490Z"
   },
   {
    "duration": 105,
    "start_time": "2023-05-18T07:36:00.520Z"
   },
   {
    "duration": 15,
    "start_time": "2023-05-18T07:36:00.637Z"
   },
   {
    "duration": 56,
    "start_time": "2023-05-18T07:36:00.662Z"
   },
   {
    "duration": 75,
    "start_time": "2023-05-18T07:36:00.727Z"
   },
   {
    "duration": 61,
    "start_time": "2023-05-18T07:36:00.809Z"
   },
   {
    "duration": 56,
    "start_time": "2023-05-18T07:36:00.873Z"
   },
   {
    "duration": 699,
    "start_time": "2023-05-18T07:36:00.937Z"
   },
   {
    "duration": 14,
    "start_time": "2023-05-18T07:36:01.642Z"
   },
   {
    "duration": 24,
    "start_time": "2023-05-18T07:36:01.661Z"
   },
   {
    "duration": 15,
    "start_time": "2023-05-18T07:36:01.695Z"
   },
   {
    "duration": 584,
    "start_time": "2023-05-18T07:36:01.721Z"
   },
   {
    "duration": 385,
    "start_time": "2023-05-18T07:36:02.311Z"
   },
   {
    "duration": 551,
    "start_time": "2023-05-18T07:36:02.706Z"
   },
   {
    "duration": 400,
    "start_time": "2023-05-18T07:36:03.262Z"
   },
   {
    "duration": 676,
    "start_time": "2023-05-18T07:36:03.671Z"
   },
   {
    "duration": 373,
    "start_time": "2023-05-18T07:36:04.349Z"
   },
   {
    "duration": 4,
    "start_time": "2023-05-18T07:36:04.723Z"
   },
   {
    "duration": 321,
    "start_time": "2023-05-18T07:36:04.729Z"
   },
   {
    "duration": 7,
    "start_time": "2023-05-18T07:36:05.052Z"
   },
   {
    "duration": 419,
    "start_time": "2023-05-18T07:36:05.061Z"
   },
   {
    "duration": 21,
    "start_time": "2023-05-18T07:36:05.490Z"
   },
   {
    "duration": 11,
    "start_time": "2023-05-18T07:36:05.513Z"
   },
   {
    "duration": 82,
    "start_time": "2023-05-18T07:36:05.526Z"
   },
   {
    "duration": 20,
    "start_time": "2023-05-18T07:36:05.610Z"
   },
   {
    "duration": 183,
    "start_time": "2023-05-18T07:43:53.189Z"
   },
   {
    "duration": 39,
    "start_time": "2023-05-18T07:44:06.975Z"
   },
   {
    "duration": 31,
    "start_time": "2023-05-18T07:44:21.583Z"
   },
   {
    "duration": 10,
    "start_time": "2023-05-18T07:44:28.507Z"
   },
   {
    "duration": 19,
    "start_time": "2023-05-18T07:44:30.122Z"
   },
   {
    "duration": 26,
    "start_time": "2023-05-18T07:44:52.080Z"
   },
   {
    "duration": 15,
    "start_time": "2023-05-18T07:45:09.981Z"
   },
   {
    "duration": 14,
    "start_time": "2023-05-18T07:45:18.030Z"
   },
   {
    "duration": 22,
    "start_time": "2023-05-18T07:45:26.278Z"
   },
   {
    "duration": 14,
    "start_time": "2023-05-18T07:45:49.178Z"
   },
   {
    "duration": 7,
    "start_time": "2023-05-18T07:45:54.128Z"
   },
   {
    "duration": 18,
    "start_time": "2023-05-18T07:45:54.989Z"
   },
   {
    "duration": 7,
    "start_time": "2023-05-18T07:46:44.286Z"
   },
   {
    "duration": 12,
    "start_time": "2023-05-18T07:46:48.082Z"
   },
   {
    "duration": 11,
    "start_time": "2023-05-18T07:47:22.692Z"
   },
   {
    "duration": 9,
    "start_time": "2023-05-18T07:47:28.707Z"
   },
   {
    "duration": 7,
    "start_time": "2023-05-18T07:51:00.975Z"
   },
   {
    "duration": 1413,
    "start_time": "2023-05-18T07:51:14.619Z"
   },
   {
    "duration": 1545,
    "start_time": "2023-05-18T07:53:34.965Z"
   },
   {
    "duration": 87,
    "start_time": "2023-05-18T07:53:36.512Z"
   },
   {
    "duration": 13,
    "start_time": "2023-05-18T07:53:36.619Z"
   },
   {
    "duration": 161,
    "start_time": "2023-05-18T07:53:36.638Z"
   },
   {
    "duration": 20,
    "start_time": "2023-05-18T07:53:36.807Z"
   },
   {
    "duration": 18,
    "start_time": "2023-05-18T07:53:36.834Z"
   },
   {
    "duration": 37,
    "start_time": "2023-05-18T07:53:36.863Z"
   },
   {
    "duration": 44,
    "start_time": "2023-05-18T07:53:36.903Z"
   },
   {
    "duration": 6,
    "start_time": "2023-05-18T07:53:36.949Z"
   },
   {
    "duration": 4,
    "start_time": "2023-05-18T07:53:36.957Z"
   },
   {
    "duration": 16,
    "start_time": "2023-05-18T07:53:36.963Z"
   },
   {
    "duration": 14,
    "start_time": "2023-05-18T07:53:36.981Z"
   },
   {
    "duration": 8,
    "start_time": "2023-05-18T07:53:36.998Z"
   },
   {
    "duration": 15,
    "start_time": "2023-05-18T07:53:37.010Z"
   },
   {
    "duration": 1173,
    "start_time": "2023-05-18T07:53:37.028Z"
   },
   {
    "duration": 0,
    "start_time": "2023-05-18T07:53:38.204Z"
   },
   {
    "duration": 1,
    "start_time": "2023-05-18T07:53:38.205Z"
   },
   {
    "duration": 0,
    "start_time": "2023-05-18T07:53:38.206Z"
   },
   {
    "duration": 0,
    "start_time": "2023-05-18T07:53:38.207Z"
   },
   {
    "duration": 0,
    "start_time": "2023-05-18T07:53:38.208Z"
   },
   {
    "duration": 0,
    "start_time": "2023-05-18T07:53:38.208Z"
   },
   {
    "duration": 0,
    "start_time": "2023-05-18T07:53:38.209Z"
   },
   {
    "duration": 0,
    "start_time": "2023-05-18T07:53:38.210Z"
   },
   {
    "duration": 0,
    "start_time": "2023-05-18T07:53:38.210Z"
   },
   {
    "duration": 0,
    "start_time": "2023-05-18T07:53:38.211Z"
   },
   {
    "duration": 0,
    "start_time": "2023-05-18T07:53:38.212Z"
   },
   {
    "duration": 0,
    "start_time": "2023-05-18T07:53:38.212Z"
   },
   {
    "duration": 0,
    "start_time": "2023-05-18T07:53:38.213Z"
   },
   {
    "duration": 0,
    "start_time": "2023-05-18T07:53:38.214Z"
   },
   {
    "duration": 1,
    "start_time": "2023-05-18T07:53:38.214Z"
   },
   {
    "duration": 0,
    "start_time": "2023-05-18T07:53:38.215Z"
   },
   {
    "duration": 0,
    "start_time": "2023-05-18T07:53:38.216Z"
   },
   {
    "duration": 0,
    "start_time": "2023-05-18T07:53:38.217Z"
   },
   {
    "duration": 0,
    "start_time": "2023-05-18T07:53:38.220Z"
   },
   {
    "duration": 0,
    "start_time": "2023-05-18T07:53:38.221Z"
   },
   {
    "duration": 19,
    "start_time": "2023-05-18T07:54:28.268Z"
   },
   {
    "duration": 16,
    "start_time": "2023-05-18T07:54:41.486Z"
   },
   {
    "duration": 1054,
    "start_time": "2023-05-18T07:54:44.977Z"
   },
   {
    "duration": 14,
    "start_time": "2023-05-18T07:55:12.067Z"
   },
   {
    "duration": 15,
    "start_time": "2023-05-18T07:55:13.477Z"
   },
   {
    "duration": 11,
    "start_time": "2023-05-18T07:56:01.281Z"
   },
   {
    "duration": 1364,
    "start_time": "2023-05-18T07:56:22.369Z"
   },
   {
    "duration": 50,
    "start_time": "2023-05-18T07:56:23.735Z"
   },
   {
    "duration": 7,
    "start_time": "2023-05-18T07:56:23.787Z"
   },
   {
    "duration": 79,
    "start_time": "2023-05-18T07:56:23.796Z"
   },
   {
    "duration": 13,
    "start_time": "2023-05-18T07:56:23.879Z"
   },
   {
    "duration": 11,
    "start_time": "2023-05-18T07:56:23.897Z"
   },
   {
    "duration": 20,
    "start_time": "2023-05-18T07:56:23.911Z"
   },
   {
    "duration": 44,
    "start_time": "2023-05-18T07:56:23.934Z"
   },
   {
    "duration": 15,
    "start_time": "2023-05-18T07:56:23.983Z"
   },
   {
    "duration": 9,
    "start_time": "2023-05-18T07:56:24.015Z"
   },
   {
    "duration": 23,
    "start_time": "2023-05-18T07:56:24.026Z"
   },
   {
    "duration": 13,
    "start_time": "2023-05-18T07:56:24.055Z"
   },
   {
    "duration": 16,
    "start_time": "2023-05-18T07:56:24.073Z"
   },
   {
    "duration": 17,
    "start_time": "2023-05-18T07:56:24.094Z"
   },
   {
    "duration": 19,
    "start_time": "2023-05-18T07:56:24.113Z"
   },
   {
    "duration": 49,
    "start_time": "2023-05-18T07:56:24.134Z"
   },
   {
    "duration": 450,
    "start_time": "2023-05-18T07:56:24.189Z"
   },
   {
    "duration": 18,
    "start_time": "2023-05-18T07:56:24.642Z"
   },
   {
    "duration": 470,
    "start_time": "2023-05-18T07:56:24.666Z"
   },
   {
    "duration": 358,
    "start_time": "2023-05-18T07:56:25.139Z"
   },
   {
    "duration": 576,
    "start_time": "2023-05-18T07:56:25.499Z"
   },
   {
    "duration": 426,
    "start_time": "2023-05-18T07:56:26.086Z"
   },
   {
    "duration": 429,
    "start_time": "2023-05-18T07:56:26.514Z"
   },
   {
    "duration": 281,
    "start_time": "2023-05-18T07:56:26.951Z"
   },
   {
    "duration": 24,
    "start_time": "2023-05-18T07:56:27.234Z"
   },
   {
    "duration": 329,
    "start_time": "2023-05-18T07:56:27.264Z"
   },
   {
    "duration": 6,
    "start_time": "2023-05-18T07:56:27.596Z"
   },
   {
    "duration": 435,
    "start_time": "2023-05-18T07:56:27.605Z"
   },
   {
    "duration": 13,
    "start_time": "2023-05-18T07:56:28.050Z"
   },
   {
    "duration": 16,
    "start_time": "2023-05-18T07:56:28.066Z"
   },
   {
    "duration": 38,
    "start_time": "2023-05-18T07:56:28.084Z"
   },
   {
    "duration": 41,
    "start_time": "2023-05-18T07:56:28.125Z"
   },
   {
    "duration": 352,
    "start_time": "2023-05-18T07:57:09.214Z"
   },
   {
    "duration": 952,
    "start_time": "2023-05-18T08:02:31.364Z"
   },
   {
    "duration": 819,
    "start_time": "2023-05-18T08:03:07.015Z"
   },
   {
    "duration": 551,
    "start_time": "2023-05-18T08:06:11.236Z"
   },
   {
    "duration": 483,
    "start_time": "2023-05-18T08:07:16.998Z"
   },
   {
    "duration": 386,
    "start_time": "2023-05-18T08:17:03.080Z"
   },
   {
    "duration": 265,
    "start_time": "2023-05-18T08:19:31.325Z"
   },
   {
    "duration": 232,
    "start_time": "2023-05-18T08:20:37.508Z"
   },
   {
    "duration": 285,
    "start_time": "2023-05-18T08:20:50.280Z"
   },
   {
    "duration": 9,
    "start_time": "2023-05-18T08:24:34.216Z"
   },
   {
    "duration": 10,
    "start_time": "2023-05-18T08:25:24.410Z"
   },
   {
    "duration": 4,
    "start_time": "2023-05-18T08:25:27.584Z"
   },
   {
    "duration": 7,
    "start_time": "2023-05-18T08:25:35.513Z"
   },
   {
    "duration": 19,
    "start_time": "2023-05-18T08:26:01.979Z"
   },
   {
    "duration": 206,
    "start_time": "2023-05-18T08:28:39.795Z"
   },
   {
    "duration": 199,
    "start_time": "2023-05-18T08:28:47.512Z"
   },
   {
    "duration": 240,
    "start_time": "2023-05-18T08:29:01.180Z"
   },
   {
    "duration": 1176,
    "start_time": "2023-05-18T08:53:01.908Z"
   },
   {
    "duration": 995,
    "start_time": "2023-05-18T08:53:32.099Z"
   },
   {
    "duration": 10,
    "start_time": "2023-05-18T08:53:39.533Z"
   },
   {
    "duration": 12,
    "start_time": "2023-05-18T08:56:55.002Z"
   },
   {
    "duration": 8,
    "start_time": "2023-05-18T08:57:00.723Z"
   },
   {
    "duration": 14,
    "start_time": "2023-05-18T08:57:01.908Z"
   },
   {
    "duration": 28,
    "start_time": "2023-05-18T08:57:37.400Z"
   },
   {
    "duration": 38,
    "start_time": "2023-05-18T08:57:58.331Z"
   },
   {
    "duration": 8,
    "start_time": "2023-05-18T08:58:31.104Z"
   },
   {
    "duration": 51,
    "start_time": "2023-05-18T08:58:58.436Z"
   },
   {
    "duration": 26,
    "start_time": "2023-05-18T09:02:55.315Z"
   },
   {
    "duration": 1810,
    "start_time": "2023-05-18T09:06:19.982Z"
   },
   {
    "duration": 84,
    "start_time": "2023-05-18T09:06:21.794Z"
   },
   {
    "duration": 26,
    "start_time": "2023-05-18T09:06:21.884Z"
   },
   {
    "duration": 117,
    "start_time": "2023-05-18T09:06:21.913Z"
   },
   {
    "duration": 17,
    "start_time": "2023-05-18T09:06:22.037Z"
   },
   {
    "duration": 11,
    "start_time": "2023-05-18T09:06:22.063Z"
   },
   {
    "duration": 31,
    "start_time": "2023-05-18T09:06:22.083Z"
   },
   {
    "duration": 54,
    "start_time": "2023-05-18T09:06:22.120Z"
   },
   {
    "duration": 18,
    "start_time": "2023-05-18T09:06:22.180Z"
   },
   {
    "duration": 22,
    "start_time": "2023-05-18T09:06:22.206Z"
   },
   {
    "duration": 21,
    "start_time": "2023-05-18T09:06:22.237Z"
   },
   {
    "duration": 18,
    "start_time": "2023-05-18T09:06:22.264Z"
   },
   {
    "duration": 13,
    "start_time": "2023-05-18T09:06:22.287Z"
   },
   {
    "duration": 20,
    "start_time": "2023-05-18T09:06:22.306Z"
   },
   {
    "duration": 16,
    "start_time": "2023-05-18T09:06:22.331Z"
   },
   {
    "duration": 39,
    "start_time": "2023-05-18T09:06:22.350Z"
   },
   {
    "duration": 680,
    "start_time": "2023-05-18T09:06:22.391Z"
   },
   {
    "duration": 16,
    "start_time": "2023-05-18T09:06:23.074Z"
   },
   {
    "duration": 507,
    "start_time": "2023-05-18T09:06:23.094Z"
   },
   {
    "duration": 414,
    "start_time": "2023-05-18T09:06:23.608Z"
   },
   {
    "duration": 467,
    "start_time": "2023-05-18T09:06:24.025Z"
   },
   {
    "duration": 504,
    "start_time": "2023-05-18T09:06:24.498Z"
   },
   {
    "duration": 516,
    "start_time": "2023-05-18T09:06:25.009Z"
   },
   {
    "duration": 418,
    "start_time": "2023-05-18T09:06:25.531Z"
   },
   {
    "duration": 20,
    "start_time": "2023-05-18T09:06:25.982Z"
   },
   {
    "duration": 300,
    "start_time": "2023-05-18T09:06:26.011Z"
   },
   {
    "duration": 372,
    "start_time": "2023-05-18T09:06:26.320Z"
   },
   {
    "duration": 17,
    "start_time": "2023-05-18T09:06:26.699Z"
   },
   {
    "duration": 283,
    "start_time": "2023-05-18T09:06:26.721Z"
   },
   {
    "duration": 14,
    "start_time": "2023-05-18T09:06:27.010Z"
   },
   {
    "duration": 13,
    "start_time": "2023-05-18T09:06:27.030Z"
   },
   {
    "duration": 44,
    "start_time": "2023-05-18T09:06:27.048Z"
   },
   {
    "duration": 22,
    "start_time": "2023-05-18T09:06:27.098Z"
   },
   {
    "duration": 1180,
    "start_time": "2023-05-19T09:34:34.002Z"
   },
   {
    "duration": 76,
    "start_time": "2023-05-19T09:34:35.184Z"
   },
   {
    "duration": 5,
    "start_time": "2023-05-19T09:34:35.261Z"
   },
   {
    "duration": 75,
    "start_time": "2023-05-19T09:34:35.268Z"
   },
   {
    "duration": 4,
    "start_time": "2023-05-19T09:34:35.345Z"
   },
   {
    "duration": 18,
    "start_time": "2023-05-19T09:34:35.350Z"
   },
   {
    "duration": 20,
    "start_time": "2023-05-19T09:34:35.370Z"
   },
   {
    "duration": 64,
    "start_time": "2023-05-19T09:34:35.392Z"
   },
   {
    "duration": 4,
    "start_time": "2023-05-19T09:34:35.457Z"
   },
   {
    "duration": 4,
    "start_time": "2023-05-19T09:34:35.464Z"
   },
   {
    "duration": 11,
    "start_time": "2023-05-19T09:34:35.469Z"
   },
   {
    "duration": 9,
    "start_time": "2023-05-19T09:34:35.481Z"
   },
   {
    "duration": 7,
    "start_time": "2023-05-19T09:34:35.492Z"
   },
   {
    "duration": 9,
    "start_time": "2023-05-19T09:34:35.500Z"
   },
   {
    "duration": 16,
    "start_time": "2023-05-19T09:34:35.511Z"
   },
   {
    "duration": 10,
    "start_time": "2023-05-19T09:34:35.528Z"
   },
   {
    "duration": 269,
    "start_time": "2023-05-19T09:34:35.540Z"
   },
   {
    "duration": 7,
    "start_time": "2023-05-19T09:34:35.810Z"
   },
   {
    "duration": 284,
    "start_time": "2023-05-19T09:34:35.819Z"
   },
   {
    "duration": 213,
    "start_time": "2023-05-19T09:34:36.107Z"
   },
   {
    "duration": 346,
    "start_time": "2023-05-19T09:34:36.322Z"
   },
   {
    "duration": 243,
    "start_time": "2023-05-19T09:34:36.669Z"
   },
   {
    "duration": 310,
    "start_time": "2023-05-19T09:34:36.914Z"
   },
   {
    "duration": 164,
    "start_time": "2023-05-19T09:34:37.226Z"
   },
   {
    "duration": 4,
    "start_time": "2023-05-19T09:34:37.392Z"
   },
   {
    "duration": 177,
    "start_time": "2023-05-19T09:34:37.397Z"
   },
   {
    "duration": 240,
    "start_time": "2023-05-19T09:34:37.575Z"
   },
   {
    "duration": 4,
    "start_time": "2023-05-19T09:34:37.819Z"
   },
   {
    "duration": 183,
    "start_time": "2023-05-19T09:34:37.825Z"
   },
   {
    "duration": 8,
    "start_time": "2023-05-19T09:34:38.009Z"
   },
   {
    "duration": 8,
    "start_time": "2023-05-19T09:34:38.019Z"
   },
   {
    "duration": 32,
    "start_time": "2023-05-19T09:34:38.028Z"
   },
   {
    "duration": 13,
    "start_time": "2023-05-19T09:34:38.061Z"
   }
  ],
  "kernelspec": {
   "display_name": "Python 3 (ipykernel)",
   "language": "python",
   "name": "python3"
  },
  "language_info": {
   "codemirror_mode": {
    "name": "ipython",
    "version": 3
   },
   "file_extension": ".py",
   "mimetype": "text/x-python",
   "name": "python",
   "nbconvert_exporter": "python",
   "pygments_lexer": "ipython3",
   "version": "3.9.5"
  },
  "toc": {
   "base_numbering": 1,
   "nav_menu": {},
   "number_sections": true,
   "sideBar": true,
   "skip_h1_title": true,
   "title_cell": "Table of Contents",
   "title_sidebar": "Contents",
   "toc_cell": false,
   "toc_position": {},
   "toc_section_display": true,
   "toc_window_display": false
  }
 },
 "nbformat": 4,
 "nbformat_minor": 2
}
